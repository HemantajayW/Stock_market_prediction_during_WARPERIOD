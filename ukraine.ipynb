{
  "nbformat": 4,
  "nbformat_minor": 0,
  "metadata": {
    "colab": {
      "name": "ukraine.ipynb",
      "provenance": [],
      "collapsed_sections": [],
      "include_colab_link": true
    },
    "kernelspec": {
      "name": "python3",
      "display_name": "Python 3"
    },
    "accelerator": "GPU",
    "widgets": {
      "application/vnd.jupyter.widget-state+json": {
        "cba78714b400401e9e8612cef8e99e07": {
          "model_module": "@jupyter-widgets/controls",
          "model_name": "HBoxModel",
          "model_module_version": "1.5.0",
          "state": {
            "_dom_classes": [],
            "_model_module": "@jupyter-widgets/controls",
            "_model_module_version": "1.5.0",
            "_model_name": "HBoxModel",
            "_view_count": null,
            "_view_module": "@jupyter-widgets/controls",
            "_view_module_version": "1.5.0",
            "_view_name": "HBoxView",
            "box_style": "",
            "children": [
              "IPY_MODEL_3200ceb188d843c389eb08050de8023a",
              "IPY_MODEL_19558ce565bb428187b99cf552e17950",
              "IPY_MODEL_e9e50bd4ae414b90bd868916e0d0a560"
            ],
            "layout": "IPY_MODEL_fd0d7d936f5b462daec63aebe5b6a997"
          }
        },
        "3200ceb188d843c389eb08050de8023a": {
          "model_module": "@jupyter-widgets/controls",
          "model_name": "HTMLModel",
          "model_module_version": "1.5.0",
          "state": {
            "_dom_classes": [],
            "_model_module": "@jupyter-widgets/controls",
            "_model_module_version": "1.5.0",
            "_model_name": "HTMLModel",
            "_view_count": null,
            "_view_module": "@jupyter-widgets/controls",
            "_view_module_version": "1.5.0",
            "_view_name": "HTMLView",
            "description": "",
            "description_tooltip": null,
            "layout": "IPY_MODEL_ab67ee6bb3b64717a8b5066e618cbed5",
            "placeholder": "​",
            "style": "IPY_MODEL_b6e1f678cf9240eb96adfefbcd78696c",
            "value": "100%"
          }
        },
        "19558ce565bb428187b99cf552e17950": {
          "model_module": "@jupyter-widgets/controls",
          "model_name": "FloatProgressModel",
          "model_module_version": "1.5.0",
          "state": {
            "_dom_classes": [],
            "_model_module": "@jupyter-widgets/controls",
            "_model_module_version": "1.5.0",
            "_model_name": "FloatProgressModel",
            "_view_count": null,
            "_view_module": "@jupyter-widgets/controls",
            "_view_module_version": "1.5.0",
            "_view_name": "ProgressView",
            "bar_style": "success",
            "description": "",
            "description_tooltip": null,
            "layout": "IPY_MODEL_6af5c46af8f24d6c96f01b99d3b89aad",
            "max": 1067,
            "min": 0,
            "orientation": "horizontal",
            "style": "IPY_MODEL_339d9eacecd54d6da060f59d16152449",
            "value": 1067
          }
        },
        "e9e50bd4ae414b90bd868916e0d0a560": {
          "model_module": "@jupyter-widgets/controls",
          "model_name": "HTMLModel",
          "model_module_version": "1.5.0",
          "state": {
            "_dom_classes": [],
            "_model_module": "@jupyter-widgets/controls",
            "_model_module_version": "1.5.0",
            "_model_name": "HTMLModel",
            "_view_count": null,
            "_view_module": "@jupyter-widgets/controls",
            "_view_module_version": "1.5.0",
            "_view_name": "HTMLView",
            "description": "",
            "description_tooltip": null,
            "layout": "IPY_MODEL_bfbaf3a4e7ed4a3e8985e54b355bbf35",
            "placeholder": "​",
            "style": "IPY_MODEL_23c31c0f704344e28ae04b76a02b7c75",
            "value": " 1067/1067 [00:00&lt;00:00, 5320.65it/s]"
          }
        },
        "fd0d7d936f5b462daec63aebe5b6a997": {
          "model_module": "@jupyter-widgets/base",
          "model_name": "LayoutModel",
          "model_module_version": "1.2.0",
          "state": {
            "_model_module": "@jupyter-widgets/base",
            "_model_module_version": "1.2.0",
            "_model_name": "LayoutModel",
            "_view_count": null,
            "_view_module": "@jupyter-widgets/base",
            "_view_module_version": "1.2.0",
            "_view_name": "LayoutView",
            "align_content": null,
            "align_items": null,
            "align_self": null,
            "border": null,
            "bottom": null,
            "display": null,
            "flex": null,
            "flex_flow": null,
            "grid_area": null,
            "grid_auto_columns": null,
            "grid_auto_flow": null,
            "grid_auto_rows": null,
            "grid_column": null,
            "grid_gap": null,
            "grid_row": null,
            "grid_template_areas": null,
            "grid_template_columns": null,
            "grid_template_rows": null,
            "height": null,
            "justify_content": null,
            "justify_items": null,
            "left": null,
            "margin": null,
            "max_height": null,
            "max_width": null,
            "min_height": null,
            "min_width": null,
            "object_fit": null,
            "object_position": null,
            "order": null,
            "overflow": null,
            "overflow_x": null,
            "overflow_y": null,
            "padding": null,
            "right": null,
            "top": null,
            "visibility": null,
            "width": null
          }
        },
        "ab67ee6bb3b64717a8b5066e618cbed5": {
          "model_module": "@jupyter-widgets/base",
          "model_name": "LayoutModel",
          "model_module_version": "1.2.0",
          "state": {
            "_model_module": "@jupyter-widgets/base",
            "_model_module_version": "1.2.0",
            "_model_name": "LayoutModel",
            "_view_count": null,
            "_view_module": "@jupyter-widgets/base",
            "_view_module_version": "1.2.0",
            "_view_name": "LayoutView",
            "align_content": null,
            "align_items": null,
            "align_self": null,
            "border": null,
            "bottom": null,
            "display": null,
            "flex": null,
            "flex_flow": null,
            "grid_area": null,
            "grid_auto_columns": null,
            "grid_auto_flow": null,
            "grid_auto_rows": null,
            "grid_column": null,
            "grid_gap": null,
            "grid_row": null,
            "grid_template_areas": null,
            "grid_template_columns": null,
            "grid_template_rows": null,
            "height": null,
            "justify_content": null,
            "justify_items": null,
            "left": null,
            "margin": null,
            "max_height": null,
            "max_width": null,
            "min_height": null,
            "min_width": null,
            "object_fit": null,
            "object_position": null,
            "order": null,
            "overflow": null,
            "overflow_x": null,
            "overflow_y": null,
            "padding": null,
            "right": null,
            "top": null,
            "visibility": null,
            "width": null
          }
        },
        "b6e1f678cf9240eb96adfefbcd78696c": {
          "model_module": "@jupyter-widgets/controls",
          "model_name": "DescriptionStyleModel",
          "model_module_version": "1.5.0",
          "state": {
            "_model_module": "@jupyter-widgets/controls",
            "_model_module_version": "1.5.0",
            "_model_name": "DescriptionStyleModel",
            "_view_count": null,
            "_view_module": "@jupyter-widgets/base",
            "_view_module_version": "1.2.0",
            "_view_name": "StyleView",
            "description_width": ""
          }
        },
        "6af5c46af8f24d6c96f01b99d3b89aad": {
          "model_module": "@jupyter-widgets/base",
          "model_name": "LayoutModel",
          "model_module_version": "1.2.0",
          "state": {
            "_model_module": "@jupyter-widgets/base",
            "_model_module_version": "1.2.0",
            "_model_name": "LayoutModel",
            "_view_count": null,
            "_view_module": "@jupyter-widgets/base",
            "_view_module_version": "1.2.0",
            "_view_name": "LayoutView",
            "align_content": null,
            "align_items": null,
            "align_self": null,
            "border": null,
            "bottom": null,
            "display": null,
            "flex": null,
            "flex_flow": null,
            "grid_area": null,
            "grid_auto_columns": null,
            "grid_auto_flow": null,
            "grid_auto_rows": null,
            "grid_column": null,
            "grid_gap": null,
            "grid_row": null,
            "grid_template_areas": null,
            "grid_template_columns": null,
            "grid_template_rows": null,
            "height": null,
            "justify_content": null,
            "justify_items": null,
            "left": null,
            "margin": null,
            "max_height": null,
            "max_width": null,
            "min_height": null,
            "min_width": null,
            "object_fit": null,
            "object_position": null,
            "order": null,
            "overflow": null,
            "overflow_x": null,
            "overflow_y": null,
            "padding": null,
            "right": null,
            "top": null,
            "visibility": null,
            "width": null
          }
        },
        "339d9eacecd54d6da060f59d16152449": {
          "model_module": "@jupyter-widgets/controls",
          "model_name": "ProgressStyleModel",
          "model_module_version": "1.5.0",
          "state": {
            "_model_module": "@jupyter-widgets/controls",
            "_model_module_version": "1.5.0",
            "_model_name": "ProgressStyleModel",
            "_view_count": null,
            "_view_module": "@jupyter-widgets/base",
            "_view_module_version": "1.2.0",
            "_view_name": "StyleView",
            "bar_color": null,
            "description_width": ""
          }
        },
        "bfbaf3a4e7ed4a3e8985e54b355bbf35": {
          "model_module": "@jupyter-widgets/base",
          "model_name": "LayoutModel",
          "model_module_version": "1.2.0",
          "state": {
            "_model_module": "@jupyter-widgets/base",
            "_model_module_version": "1.2.0",
            "_model_name": "LayoutModel",
            "_view_count": null,
            "_view_module": "@jupyter-widgets/base",
            "_view_module_version": "1.2.0",
            "_view_name": "LayoutView",
            "align_content": null,
            "align_items": null,
            "align_self": null,
            "border": null,
            "bottom": null,
            "display": null,
            "flex": null,
            "flex_flow": null,
            "grid_area": null,
            "grid_auto_columns": null,
            "grid_auto_flow": null,
            "grid_auto_rows": null,
            "grid_column": null,
            "grid_gap": null,
            "grid_row": null,
            "grid_template_areas": null,
            "grid_template_columns": null,
            "grid_template_rows": null,
            "height": null,
            "justify_content": null,
            "justify_items": null,
            "left": null,
            "margin": null,
            "max_height": null,
            "max_width": null,
            "min_height": null,
            "min_width": null,
            "object_fit": null,
            "object_position": null,
            "order": null,
            "overflow": null,
            "overflow_x": null,
            "overflow_y": null,
            "padding": null,
            "right": null,
            "top": null,
            "visibility": null,
            "width": null
          }
        },
        "23c31c0f704344e28ae04b76a02b7c75": {
          "model_module": "@jupyter-widgets/controls",
          "model_name": "DescriptionStyleModel",
          "model_module_version": "1.5.0",
          "state": {
            "_model_module": "@jupyter-widgets/controls",
            "_model_module_version": "1.5.0",
            "_model_name": "DescriptionStyleModel",
            "_view_count": null,
            "_view_module": "@jupyter-widgets/base",
            "_view_module_version": "1.2.0",
            "_view_name": "StyleView",
            "description_width": ""
          }
        }
      }
    }
  },
  "cells": [
    {
      "cell_type": "markdown",
      "metadata": {
        "id": "view-in-github",
        "colab_type": "text"
      },
      "source": [
        "<a href=\"https://colab.research.google.com/github/HemantajayW/Stock_market_prediction_during_WARPERIOD/blob/main/ukraine.ipynb\" target=\"_parent\"><img src=\"https://colab.research.google.com/assets/colab-badge.svg\" alt=\"Open In Colab\"/></a>"
      ]
    },
    {
      "cell_type": "code",
      "metadata": {
        "id": "9-XIpD76Ca2J",
        "colab": {
          "base_uri": "https://localhost:8080/"
        },
        "outputId": "f1645865-20a3-4e40-f431-8f00fb3b7646"
      },
      "source": [
        "!pip install yfinance"
      ],
      "execution_count": null,
      "outputs": [
        {
          "output_type": "stream",
          "name": "stdout",
          "text": [
            "Requirement already satisfied: yfinance in /usr/local/lib/python3.7/dist-packages (0.1.70)\n",
            "Requirement already satisfied: pandas>=0.24.0 in /usr/local/lib/python3.7/dist-packages (from yfinance) (1.3.5)\n",
            "Requirement already satisfied: numpy>=1.15 in /usr/local/lib/python3.7/dist-packages (from yfinance) (1.21.6)\n",
            "Requirement already satisfied: lxml>=4.5.1 in /usr/local/lib/python3.7/dist-packages (from yfinance) (4.8.0)\n",
            "Requirement already satisfied: multitasking>=0.0.7 in /usr/local/lib/python3.7/dist-packages (from yfinance) (0.0.10)\n",
            "Requirement already satisfied: requests>=2.26 in /usr/local/lib/python3.7/dist-packages (from yfinance) (2.27.1)\n",
            "Requirement already satisfied: python-dateutil>=2.7.3 in /usr/local/lib/python3.7/dist-packages (from pandas>=0.24.0->yfinance) (2.8.2)\n",
            "Requirement already satisfied: pytz>=2017.3 in /usr/local/lib/python3.7/dist-packages (from pandas>=0.24.0->yfinance) (2022.1)\n",
            "Requirement already satisfied: six>=1.5 in /usr/local/lib/python3.7/dist-packages (from python-dateutil>=2.7.3->pandas>=0.24.0->yfinance) (1.15.0)\n",
            "Requirement already satisfied: charset-normalizer~=2.0.0 in /usr/local/lib/python3.7/dist-packages (from requests>=2.26->yfinance) (2.0.12)\n",
            "Requirement already satisfied: idna<4,>=2.5 in /usr/local/lib/python3.7/dist-packages (from requests>=2.26->yfinance) (2.10)\n",
            "Requirement already satisfied: urllib3<1.27,>=1.21.1 in /usr/local/lib/python3.7/dist-packages (from requests>=2.26->yfinance) (1.24.3)\n",
            "Requirement already satisfied: certifi>=2017.4.17 in /usr/local/lib/python3.7/dist-packages (from requests>=2.26->yfinance) (2021.10.8)\n"
          ]
        }
      ]
    },
    {
      "cell_type": "markdown",
      "metadata": {
        "id": "wg90H37yTpbJ"
      },
      "source": [
        "Loading main data"
      ]
    },
    {
      "cell_type": "code",
      "metadata": {
        "id": "Sg0nlOuvCj64"
      },
      "source": [
        "import yfinance as yf\n",
        "import numpy as np\n",
        "import pandas as pd\n",
        "import tensorflow as tf"
      ],
      "execution_count": null,
      "outputs": []
    },
    {
      "cell_type": "code",
      "metadata": {
        "id": "lB8BRr-8CmN2",
        "colab": {
          "base_uri": "https://localhost:8080/"
        },
        "outputId": "158c3a68-b29c-4523-e49a-6e4ab83b3e0c"
      },
      "source": [
        "data = yf.download(\"BG\" , start = \"2018-01-01\" , interval = '1d')"
      ],
      "execution_count": null,
      "outputs": [
        {
          "output_type": "stream",
          "name": "stdout",
          "text": [
            "\r[*********************100%***********************]  1 of 1 completed\n"
          ]
        }
      ]
    },
    {
      "cell_type": "code",
      "metadata": {
        "id": "2EAzLks81dNl"
      },
      "source": [
        "data.head(3)\n",
        "data.index=data.index.strftime('%Y-%m-%d')\n"
      ],
      "execution_count": null,
      "outputs": []
    },
    {
      "cell_type": "code",
      "metadata": {
        "id": "Jl1C9ZS32DvC"
      },
      "source": [
        "data.sort_index(inplace = True)"
      ],
      "execution_count": null,
      "outputs": []
    },
    {
      "cell_type": "code",
      "metadata": {
        "id": "Lsg27AhR2y4p"
      },
      "source": [
        "data = data.loc[~data.index.duplicated(keep='first')]"
      ],
      "execution_count": null,
      "outputs": []
    },
    {
      "cell_type": "code",
      "metadata": {
        "id": "Tam2xuzp2Gi3",
        "colab": {
          "base_uri": "https://localhost:8080/",
          "height": 175
        },
        "outputId": "4ee50962-eb47-4b3a-8edd-52b4e82fcebb"
      },
      "source": [
        "data.tail(3)"
      ],
      "execution_count": null,
      "outputs": [
        {
          "output_type": "execute_result",
          "data": {
            "text/plain": [
              "                  Open        High         Low       Close   Adj Close  \\\n",
              "Date                                                                     \n",
              "2022-05-10  108.739998  111.099998  108.300003  110.330002  110.330002   \n",
              "2022-05-11  110.500000  113.010002  109.080002  109.769997  109.769997   \n",
              "2022-05-12  109.620003  110.514999  106.589996  108.650002  108.650002   \n",
              "\n",
              "             Volume  \n",
              "Date                 \n",
              "2022-05-10  1703000  \n",
              "2022-05-11  1909900  \n",
              "2022-05-12   710970  "
            ],
            "text/html": [
              "\n",
              "  <div id=\"df-df9f1865-8364-4d1f-b97e-e5f3bbaa9c38\">\n",
              "    <div class=\"colab-df-container\">\n",
              "      <div>\n",
              "<style scoped>\n",
              "    .dataframe tbody tr th:only-of-type {\n",
              "        vertical-align: middle;\n",
              "    }\n",
              "\n",
              "    .dataframe tbody tr th {\n",
              "        vertical-align: top;\n",
              "    }\n",
              "\n",
              "    .dataframe thead th {\n",
              "        text-align: right;\n",
              "    }\n",
              "</style>\n",
              "<table border=\"1\" class=\"dataframe\">\n",
              "  <thead>\n",
              "    <tr style=\"text-align: right;\">\n",
              "      <th></th>\n",
              "      <th>Open</th>\n",
              "      <th>High</th>\n",
              "      <th>Low</th>\n",
              "      <th>Close</th>\n",
              "      <th>Adj Close</th>\n",
              "      <th>Volume</th>\n",
              "    </tr>\n",
              "    <tr>\n",
              "      <th>Date</th>\n",
              "      <th></th>\n",
              "      <th></th>\n",
              "      <th></th>\n",
              "      <th></th>\n",
              "      <th></th>\n",
              "      <th></th>\n",
              "    </tr>\n",
              "  </thead>\n",
              "  <tbody>\n",
              "    <tr>\n",
              "      <th>2022-05-10</th>\n",
              "      <td>108.739998</td>\n",
              "      <td>111.099998</td>\n",
              "      <td>108.300003</td>\n",
              "      <td>110.330002</td>\n",
              "      <td>110.330002</td>\n",
              "      <td>1703000</td>\n",
              "    </tr>\n",
              "    <tr>\n",
              "      <th>2022-05-11</th>\n",
              "      <td>110.500000</td>\n",
              "      <td>113.010002</td>\n",
              "      <td>109.080002</td>\n",
              "      <td>109.769997</td>\n",
              "      <td>109.769997</td>\n",
              "      <td>1909900</td>\n",
              "    </tr>\n",
              "    <tr>\n",
              "      <th>2022-05-12</th>\n",
              "      <td>109.620003</td>\n",
              "      <td>110.514999</td>\n",
              "      <td>106.589996</td>\n",
              "      <td>108.650002</td>\n",
              "      <td>108.650002</td>\n",
              "      <td>710970</td>\n",
              "    </tr>\n",
              "  </tbody>\n",
              "</table>\n",
              "</div>\n",
              "      <button class=\"colab-df-convert\" onclick=\"convertToInteractive('df-df9f1865-8364-4d1f-b97e-e5f3bbaa9c38')\"\n",
              "              title=\"Convert this dataframe to an interactive table.\"\n",
              "              style=\"display:none;\">\n",
              "        \n",
              "  <svg xmlns=\"http://www.w3.org/2000/svg\" height=\"24px\"viewBox=\"0 0 24 24\"\n",
              "       width=\"24px\">\n",
              "    <path d=\"M0 0h24v24H0V0z\" fill=\"none\"/>\n",
              "    <path d=\"M18.56 5.44l.94 2.06.94-2.06 2.06-.94-2.06-.94-.94-2.06-.94 2.06-2.06.94zm-11 1L8.5 8.5l.94-2.06 2.06-.94-2.06-.94L8.5 2.5l-.94 2.06-2.06.94zm10 10l.94 2.06.94-2.06 2.06-.94-2.06-.94-.94-2.06-.94 2.06-2.06.94z\"/><path d=\"M17.41 7.96l-1.37-1.37c-.4-.4-.92-.59-1.43-.59-.52 0-1.04.2-1.43.59L10.3 9.45l-7.72 7.72c-.78.78-.78 2.05 0 2.83L4 21.41c.39.39.9.59 1.41.59.51 0 1.02-.2 1.41-.59l7.78-7.78 2.81-2.81c.8-.78.8-2.07 0-2.86zM5.41 20L4 18.59l7.72-7.72 1.47 1.35L5.41 20z\"/>\n",
              "  </svg>\n",
              "      </button>\n",
              "      \n",
              "  <style>\n",
              "    .colab-df-container {\n",
              "      display:flex;\n",
              "      flex-wrap:wrap;\n",
              "      gap: 12px;\n",
              "    }\n",
              "\n",
              "    .colab-df-convert {\n",
              "      background-color: #E8F0FE;\n",
              "      border: none;\n",
              "      border-radius: 50%;\n",
              "      cursor: pointer;\n",
              "      display: none;\n",
              "      fill: #1967D2;\n",
              "      height: 32px;\n",
              "      padding: 0 0 0 0;\n",
              "      width: 32px;\n",
              "    }\n",
              "\n",
              "    .colab-df-convert:hover {\n",
              "      background-color: #E2EBFA;\n",
              "      box-shadow: 0px 1px 2px rgba(60, 64, 67, 0.3), 0px 1px 3px 1px rgba(60, 64, 67, 0.15);\n",
              "      fill: #174EA6;\n",
              "    }\n",
              "\n",
              "    [theme=dark] .colab-df-convert {\n",
              "      background-color: #3B4455;\n",
              "      fill: #D2E3FC;\n",
              "    }\n",
              "\n",
              "    [theme=dark] .colab-df-convert:hover {\n",
              "      background-color: #434B5C;\n",
              "      box-shadow: 0px 1px 3px 1px rgba(0, 0, 0, 0.15);\n",
              "      filter: drop-shadow(0px 1px 2px rgba(0, 0, 0, 0.3));\n",
              "      fill: #FFFFFF;\n",
              "    }\n",
              "  </style>\n",
              "\n",
              "      <script>\n",
              "        const buttonEl =\n",
              "          document.querySelector('#df-df9f1865-8364-4d1f-b97e-e5f3bbaa9c38 button.colab-df-convert');\n",
              "        buttonEl.style.display =\n",
              "          google.colab.kernel.accessAllowed ? 'block' : 'none';\n",
              "\n",
              "        async function convertToInteractive(key) {\n",
              "          const element = document.querySelector('#df-df9f1865-8364-4d1f-b97e-e5f3bbaa9c38');\n",
              "          const dataTable =\n",
              "            await google.colab.kernel.invokeFunction('convertToInteractive',\n",
              "                                                     [key], {});\n",
              "          if (!dataTable) return;\n",
              "\n",
              "          const docLinkHtml = 'Like what you see? Visit the ' +\n",
              "            '<a target=\"_blank\" href=https://colab.research.google.com/notebooks/data_table.ipynb>data table notebook</a>'\n",
              "            + ' to learn more about interactive tables.';\n",
              "          element.innerHTML = '';\n",
              "          dataTable['output_type'] = 'display_data';\n",
              "          await google.colab.output.renderOutput(dataTable, element);\n",
              "          const docLink = document.createElement('div');\n",
              "          docLink.innerHTML = docLinkHtml;\n",
              "          element.appendChild(docLink);\n",
              "        }\n",
              "      </script>\n",
              "    </div>\n",
              "  </div>\n",
              "  "
            ]
          },
          "metadata": {},
          "execution_count": 73
        }
      ]
    },
    {
      "cell_type": "code",
      "metadata": {
        "id": "F6zi0XT9Ywwv",
        "colab": {
          "base_uri": "https://localhost:8080/",
          "height": 237
        },
        "outputId": "1c9f11b1-d299-4d30-de4e-ad64c3babce4"
      },
      "source": [
        "data.head()"
      ],
      "execution_count": null,
      "outputs": [
        {
          "output_type": "execute_result",
          "data": {
            "text/plain": [
              "                 Open       High        Low      Close  Adj Close   Volume\n",
              "Date                                                                      \n",
              "2018-01-02  67.230003  68.029999  66.449997  67.989998  59.197887   944500\n",
              "2018-01-03  68.379997  70.209999  68.059998  69.449997  60.469097  2124600\n",
              "2018-01-04  69.779999  71.209999  69.750000  70.470001  61.357189  2026900\n",
              "2018-01-05  70.500000  70.989998  69.550003  69.940002  60.895721   795500\n",
              "2018-01-08  69.750000  69.769997  68.239998  68.930000  60.016331  1041200"
            ],
            "text/html": [
              "\n",
              "  <div id=\"df-b47fdc6f-2a63-4ad4-bf5f-4496add270b9\">\n",
              "    <div class=\"colab-df-container\">\n",
              "      <div>\n",
              "<style scoped>\n",
              "    .dataframe tbody tr th:only-of-type {\n",
              "        vertical-align: middle;\n",
              "    }\n",
              "\n",
              "    .dataframe tbody tr th {\n",
              "        vertical-align: top;\n",
              "    }\n",
              "\n",
              "    .dataframe thead th {\n",
              "        text-align: right;\n",
              "    }\n",
              "</style>\n",
              "<table border=\"1\" class=\"dataframe\">\n",
              "  <thead>\n",
              "    <tr style=\"text-align: right;\">\n",
              "      <th></th>\n",
              "      <th>Open</th>\n",
              "      <th>High</th>\n",
              "      <th>Low</th>\n",
              "      <th>Close</th>\n",
              "      <th>Adj Close</th>\n",
              "      <th>Volume</th>\n",
              "    </tr>\n",
              "    <tr>\n",
              "      <th>Date</th>\n",
              "      <th></th>\n",
              "      <th></th>\n",
              "      <th></th>\n",
              "      <th></th>\n",
              "      <th></th>\n",
              "      <th></th>\n",
              "    </tr>\n",
              "  </thead>\n",
              "  <tbody>\n",
              "    <tr>\n",
              "      <th>2018-01-02</th>\n",
              "      <td>67.230003</td>\n",
              "      <td>68.029999</td>\n",
              "      <td>66.449997</td>\n",
              "      <td>67.989998</td>\n",
              "      <td>59.197887</td>\n",
              "      <td>944500</td>\n",
              "    </tr>\n",
              "    <tr>\n",
              "      <th>2018-01-03</th>\n",
              "      <td>68.379997</td>\n",
              "      <td>70.209999</td>\n",
              "      <td>68.059998</td>\n",
              "      <td>69.449997</td>\n",
              "      <td>60.469097</td>\n",
              "      <td>2124600</td>\n",
              "    </tr>\n",
              "    <tr>\n",
              "      <th>2018-01-04</th>\n",
              "      <td>69.779999</td>\n",
              "      <td>71.209999</td>\n",
              "      <td>69.750000</td>\n",
              "      <td>70.470001</td>\n",
              "      <td>61.357189</td>\n",
              "      <td>2026900</td>\n",
              "    </tr>\n",
              "    <tr>\n",
              "      <th>2018-01-05</th>\n",
              "      <td>70.500000</td>\n",
              "      <td>70.989998</td>\n",
              "      <td>69.550003</td>\n",
              "      <td>69.940002</td>\n",
              "      <td>60.895721</td>\n",
              "      <td>795500</td>\n",
              "    </tr>\n",
              "    <tr>\n",
              "      <th>2018-01-08</th>\n",
              "      <td>69.750000</td>\n",
              "      <td>69.769997</td>\n",
              "      <td>68.239998</td>\n",
              "      <td>68.930000</td>\n",
              "      <td>60.016331</td>\n",
              "      <td>1041200</td>\n",
              "    </tr>\n",
              "  </tbody>\n",
              "</table>\n",
              "</div>\n",
              "      <button class=\"colab-df-convert\" onclick=\"convertToInteractive('df-b47fdc6f-2a63-4ad4-bf5f-4496add270b9')\"\n",
              "              title=\"Convert this dataframe to an interactive table.\"\n",
              "              style=\"display:none;\">\n",
              "        \n",
              "  <svg xmlns=\"http://www.w3.org/2000/svg\" height=\"24px\"viewBox=\"0 0 24 24\"\n",
              "       width=\"24px\">\n",
              "    <path d=\"M0 0h24v24H0V0z\" fill=\"none\"/>\n",
              "    <path d=\"M18.56 5.44l.94 2.06.94-2.06 2.06-.94-2.06-.94-.94-2.06-.94 2.06-2.06.94zm-11 1L8.5 8.5l.94-2.06 2.06-.94-2.06-.94L8.5 2.5l-.94 2.06-2.06.94zm10 10l.94 2.06.94-2.06 2.06-.94-2.06-.94-.94-2.06-.94 2.06-2.06.94z\"/><path d=\"M17.41 7.96l-1.37-1.37c-.4-.4-.92-.59-1.43-.59-.52 0-1.04.2-1.43.59L10.3 9.45l-7.72 7.72c-.78.78-.78 2.05 0 2.83L4 21.41c.39.39.9.59 1.41.59.51 0 1.02-.2 1.41-.59l7.78-7.78 2.81-2.81c.8-.78.8-2.07 0-2.86zM5.41 20L4 18.59l7.72-7.72 1.47 1.35L5.41 20z\"/>\n",
              "  </svg>\n",
              "      </button>\n",
              "      \n",
              "  <style>\n",
              "    .colab-df-container {\n",
              "      display:flex;\n",
              "      flex-wrap:wrap;\n",
              "      gap: 12px;\n",
              "    }\n",
              "\n",
              "    .colab-df-convert {\n",
              "      background-color: #E8F0FE;\n",
              "      border: none;\n",
              "      border-radius: 50%;\n",
              "      cursor: pointer;\n",
              "      display: none;\n",
              "      fill: #1967D2;\n",
              "      height: 32px;\n",
              "      padding: 0 0 0 0;\n",
              "      width: 32px;\n",
              "    }\n",
              "\n",
              "    .colab-df-convert:hover {\n",
              "      background-color: #E2EBFA;\n",
              "      box-shadow: 0px 1px 2px rgba(60, 64, 67, 0.3), 0px 1px 3px 1px rgba(60, 64, 67, 0.15);\n",
              "      fill: #174EA6;\n",
              "    }\n",
              "\n",
              "    [theme=dark] .colab-df-convert {\n",
              "      background-color: #3B4455;\n",
              "      fill: #D2E3FC;\n",
              "    }\n",
              "\n",
              "    [theme=dark] .colab-df-convert:hover {\n",
              "      background-color: #434B5C;\n",
              "      box-shadow: 0px 1px 3px 1px rgba(0, 0, 0, 0.15);\n",
              "      filter: drop-shadow(0px 1px 2px rgba(0, 0, 0, 0.3));\n",
              "      fill: #FFFFFF;\n",
              "    }\n",
              "  </style>\n",
              "\n",
              "      <script>\n",
              "        const buttonEl =\n",
              "          document.querySelector('#df-b47fdc6f-2a63-4ad4-bf5f-4496add270b9 button.colab-df-convert');\n",
              "        buttonEl.style.display =\n",
              "          google.colab.kernel.accessAllowed ? 'block' : 'none';\n",
              "\n",
              "        async function convertToInteractive(key) {\n",
              "          const element = document.querySelector('#df-b47fdc6f-2a63-4ad4-bf5f-4496add270b9');\n",
              "          const dataTable =\n",
              "            await google.colab.kernel.invokeFunction('convertToInteractive',\n",
              "                                                     [key], {});\n",
              "          if (!dataTable) return;\n",
              "\n",
              "          const docLinkHtml = 'Like what you see? Visit the ' +\n",
              "            '<a target=\"_blank\" href=https://colab.research.google.com/notebooks/data_table.ipynb>data table notebook</a>'\n",
              "            + ' to learn more about interactive tables.';\n",
              "          element.innerHTML = '';\n",
              "          dataTable['output_type'] = 'display_data';\n",
              "          await google.colab.output.renderOutput(dataTable, element);\n",
              "          const docLink = document.createElement('div');\n",
              "          docLink.innerHTML = docLinkHtml;\n",
              "          element.appendChild(docLink);\n",
              "        }\n",
              "      </script>\n",
              "    </div>\n",
              "  </div>\n",
              "  "
            ]
          },
          "metadata": {},
          "execution_count": 74
        }
      ]
    },
    {
      "cell_type": "code",
      "metadata": {
        "id": "F3mCAb7x2ii0",
        "colab": {
          "base_uri": "https://localhost:8080/"
        },
        "outputId": "7084536c-cb56-40b4-ebb6-1e9c1752c974"
      },
      "source": [
        "data.isnull().sum()"
      ],
      "execution_count": null,
      "outputs": [
        {
          "output_type": "execute_result",
          "data": {
            "text/plain": [
              "Open         0\n",
              "High         0\n",
              "Low          0\n",
              "Close        0\n",
              "Adj Close    0\n",
              "Volume       0\n",
              "dtype: int64"
            ]
          },
          "metadata": {},
          "execution_count": 75
        }
      ]
    },
    {
      "cell_type": "code",
      "metadata": {
        "id": "Luf4vpM-2w9I",
        "colab": {
          "base_uri": "https://localhost:8080/",
          "height": 300
        },
        "outputId": "835d9842-0339-4983-c254-3832f713adc1"
      },
      "source": [
        "data.describe()"
      ],
      "execution_count": null,
      "outputs": [
        {
          "output_type": "execute_result",
          "data": {
            "text/plain": [
              "              Open         High          Low        Close    Adj Close  \\\n",
              "count  1099.000000  1099.000000  1099.000000  1099.000000  1099.000000   \n",
              "mean     66.680118    67.505200    65.798444    66.654113    62.876990   \n",
              "std      18.631073    18.845220    18.393017    18.639382    19.521213   \n",
              "min      30.000000    33.500000    29.000000    30.250000    28.398466   \n",
              "25%      53.435001    54.025000    52.945000    53.439999    48.976200   \n",
              "50%      64.000000    64.559998    63.259998    63.880001    57.982380   \n",
              "75%      77.945000    78.919998    76.794998    77.760002    75.900669   \n",
              "max     127.349998   128.399994   123.510002   126.760002   126.760002   \n",
              "\n",
              "             Volume  \n",
              "count  1.099000e+03  \n",
              "mean   1.360471e+06  \n",
              "std    7.477176e+05  \n",
              "min    1.777000e+05  \n",
              "25%    9.017000e+05  \n",
              "50%    1.176900e+06  \n",
              "75%    1.616900e+06  \n",
              "max    8.434300e+06  "
            ],
            "text/html": [
              "\n",
              "  <div id=\"df-bcb9e035-335c-49aa-8668-fd72c04e8062\">\n",
              "    <div class=\"colab-df-container\">\n",
              "      <div>\n",
              "<style scoped>\n",
              "    .dataframe tbody tr th:only-of-type {\n",
              "        vertical-align: middle;\n",
              "    }\n",
              "\n",
              "    .dataframe tbody tr th {\n",
              "        vertical-align: top;\n",
              "    }\n",
              "\n",
              "    .dataframe thead th {\n",
              "        text-align: right;\n",
              "    }\n",
              "</style>\n",
              "<table border=\"1\" class=\"dataframe\">\n",
              "  <thead>\n",
              "    <tr style=\"text-align: right;\">\n",
              "      <th></th>\n",
              "      <th>Open</th>\n",
              "      <th>High</th>\n",
              "      <th>Low</th>\n",
              "      <th>Close</th>\n",
              "      <th>Adj Close</th>\n",
              "      <th>Volume</th>\n",
              "    </tr>\n",
              "  </thead>\n",
              "  <tbody>\n",
              "    <tr>\n",
              "      <th>count</th>\n",
              "      <td>1099.000000</td>\n",
              "      <td>1099.000000</td>\n",
              "      <td>1099.000000</td>\n",
              "      <td>1099.000000</td>\n",
              "      <td>1099.000000</td>\n",
              "      <td>1.099000e+03</td>\n",
              "    </tr>\n",
              "    <tr>\n",
              "      <th>mean</th>\n",
              "      <td>66.680118</td>\n",
              "      <td>67.505200</td>\n",
              "      <td>65.798444</td>\n",
              "      <td>66.654113</td>\n",
              "      <td>62.876990</td>\n",
              "      <td>1.360471e+06</td>\n",
              "    </tr>\n",
              "    <tr>\n",
              "      <th>std</th>\n",
              "      <td>18.631073</td>\n",
              "      <td>18.845220</td>\n",
              "      <td>18.393017</td>\n",
              "      <td>18.639382</td>\n",
              "      <td>19.521213</td>\n",
              "      <td>7.477176e+05</td>\n",
              "    </tr>\n",
              "    <tr>\n",
              "      <th>min</th>\n",
              "      <td>30.000000</td>\n",
              "      <td>33.500000</td>\n",
              "      <td>29.000000</td>\n",
              "      <td>30.250000</td>\n",
              "      <td>28.398466</td>\n",
              "      <td>1.777000e+05</td>\n",
              "    </tr>\n",
              "    <tr>\n",
              "      <th>25%</th>\n",
              "      <td>53.435001</td>\n",
              "      <td>54.025000</td>\n",
              "      <td>52.945000</td>\n",
              "      <td>53.439999</td>\n",
              "      <td>48.976200</td>\n",
              "      <td>9.017000e+05</td>\n",
              "    </tr>\n",
              "    <tr>\n",
              "      <th>50%</th>\n",
              "      <td>64.000000</td>\n",
              "      <td>64.559998</td>\n",
              "      <td>63.259998</td>\n",
              "      <td>63.880001</td>\n",
              "      <td>57.982380</td>\n",
              "      <td>1.176900e+06</td>\n",
              "    </tr>\n",
              "    <tr>\n",
              "      <th>75%</th>\n",
              "      <td>77.945000</td>\n",
              "      <td>78.919998</td>\n",
              "      <td>76.794998</td>\n",
              "      <td>77.760002</td>\n",
              "      <td>75.900669</td>\n",
              "      <td>1.616900e+06</td>\n",
              "    </tr>\n",
              "    <tr>\n",
              "      <th>max</th>\n",
              "      <td>127.349998</td>\n",
              "      <td>128.399994</td>\n",
              "      <td>123.510002</td>\n",
              "      <td>126.760002</td>\n",
              "      <td>126.760002</td>\n",
              "      <td>8.434300e+06</td>\n",
              "    </tr>\n",
              "  </tbody>\n",
              "</table>\n",
              "</div>\n",
              "      <button class=\"colab-df-convert\" onclick=\"convertToInteractive('df-bcb9e035-335c-49aa-8668-fd72c04e8062')\"\n",
              "              title=\"Convert this dataframe to an interactive table.\"\n",
              "              style=\"display:none;\">\n",
              "        \n",
              "  <svg xmlns=\"http://www.w3.org/2000/svg\" height=\"24px\"viewBox=\"0 0 24 24\"\n",
              "       width=\"24px\">\n",
              "    <path d=\"M0 0h24v24H0V0z\" fill=\"none\"/>\n",
              "    <path d=\"M18.56 5.44l.94 2.06.94-2.06 2.06-.94-2.06-.94-.94-2.06-.94 2.06-2.06.94zm-11 1L8.5 8.5l.94-2.06 2.06-.94-2.06-.94L8.5 2.5l-.94 2.06-2.06.94zm10 10l.94 2.06.94-2.06 2.06-.94-2.06-.94-.94-2.06-.94 2.06-2.06.94z\"/><path d=\"M17.41 7.96l-1.37-1.37c-.4-.4-.92-.59-1.43-.59-.52 0-1.04.2-1.43.59L10.3 9.45l-7.72 7.72c-.78.78-.78 2.05 0 2.83L4 21.41c.39.39.9.59 1.41.59.51 0 1.02-.2 1.41-.59l7.78-7.78 2.81-2.81c.8-.78.8-2.07 0-2.86zM5.41 20L4 18.59l7.72-7.72 1.47 1.35L5.41 20z\"/>\n",
              "  </svg>\n",
              "      </button>\n",
              "      \n",
              "  <style>\n",
              "    .colab-df-container {\n",
              "      display:flex;\n",
              "      flex-wrap:wrap;\n",
              "      gap: 12px;\n",
              "    }\n",
              "\n",
              "    .colab-df-convert {\n",
              "      background-color: #E8F0FE;\n",
              "      border: none;\n",
              "      border-radius: 50%;\n",
              "      cursor: pointer;\n",
              "      display: none;\n",
              "      fill: #1967D2;\n",
              "      height: 32px;\n",
              "      padding: 0 0 0 0;\n",
              "      width: 32px;\n",
              "    }\n",
              "\n",
              "    .colab-df-convert:hover {\n",
              "      background-color: #E2EBFA;\n",
              "      box-shadow: 0px 1px 2px rgba(60, 64, 67, 0.3), 0px 1px 3px 1px rgba(60, 64, 67, 0.15);\n",
              "      fill: #174EA6;\n",
              "    }\n",
              "\n",
              "    [theme=dark] .colab-df-convert {\n",
              "      background-color: #3B4455;\n",
              "      fill: #D2E3FC;\n",
              "    }\n",
              "\n",
              "    [theme=dark] .colab-df-convert:hover {\n",
              "      background-color: #434B5C;\n",
              "      box-shadow: 0px 1px 3px 1px rgba(0, 0, 0, 0.15);\n",
              "      filter: drop-shadow(0px 1px 2px rgba(0, 0, 0, 0.3));\n",
              "      fill: #FFFFFF;\n",
              "    }\n",
              "  </style>\n",
              "\n",
              "      <script>\n",
              "        const buttonEl =\n",
              "          document.querySelector('#df-bcb9e035-335c-49aa-8668-fd72c04e8062 button.colab-df-convert');\n",
              "        buttonEl.style.display =\n",
              "          google.colab.kernel.accessAllowed ? 'block' : 'none';\n",
              "\n",
              "        async function convertToInteractive(key) {\n",
              "          const element = document.querySelector('#df-bcb9e035-335c-49aa-8668-fd72c04e8062');\n",
              "          const dataTable =\n",
              "            await google.colab.kernel.invokeFunction('convertToInteractive',\n",
              "                                                     [key], {});\n",
              "          if (!dataTable) return;\n",
              "\n",
              "          const docLinkHtml = 'Like what you see? Visit the ' +\n",
              "            '<a target=\"_blank\" href=https://colab.research.google.com/notebooks/data_table.ipynb>data table notebook</a>'\n",
              "            + ' to learn more about interactive tables.';\n",
              "          element.innerHTML = '';\n",
              "          dataTable['output_type'] = 'display_data';\n",
              "          await google.colab.output.renderOutput(dataTable, element);\n",
              "          const docLink = document.createElement('div');\n",
              "          docLink.innerHTML = docLinkHtml;\n",
              "          element.appendChild(docLink);\n",
              "        }\n",
              "      </script>\n",
              "    </div>\n",
              "  </div>\n",
              "  "
            ]
          },
          "metadata": {},
          "execution_count": 76
        }
      ]
    },
    {
      "cell_type": "markdown",
      "metadata": {
        "id": "ULgWVmd73rqJ"
      },
      "source": [
        "Understanding Trends with in the Data"
      ]
    },
    {
      "cell_type": "code",
      "metadata": {
        "id": "_KmuZPgU3ixZ"
      },
      "source": [
        "import plotly.graph_objects as go"
      ],
      "execution_count": null,
      "outputs": []
    },
    {
      "cell_type": "code",
      "metadata": {
        "id": "lRRJ43U336Sz",
        "colab": {
          "base_uri": "https://localhost:8080/",
          "height": 517
        },
        "outputId": "b54ec0af-4e25-4bf5-9caa-766f987fe484"
      },
      "source": [
        "fig = go.Figure()\n",
        "\n",
        "fig.add_trace(go.Scatter(x = data.index , y = data['High'] , mode = 'lines',name='High'))\n",
        "fig.add_trace(go.Scatter(x = data.index , y = data['Low'] , mode = 'lines',name='Low'))\n",
        "fig.add_trace(go.Scatter(x = data.index , y = data['Open'] , mode = 'lines',name='Open'))\n",
        "fig.add_trace(go.Scatter(x = data.index , y = data['Close'] , mode = 'lines',name='Close'))\n",
        "\n",
        "\n",
        "\n",
        "\n",
        "fig.update_layout(height = 500 , width = 900, \n",
        "                  xaxis_title='Date' , yaxis_title='Price')\n",
        "fig.show()"
      ],
      "execution_count": null,
      "outputs": [
        {
          "output_type": "display_data",
          "data": {
            "text/html": [
              "<html>\n",
              "<head><meta charset=\"utf-8\" /></head>\n",
              "<body>\n",
              "    <div>            <script src=\"https://cdnjs.cloudflare.com/ajax/libs/mathjax/2.7.5/MathJax.js?config=TeX-AMS-MML_SVG\"></script><script type=\"text/javascript\">if (window.MathJax) {MathJax.Hub.Config({SVG: {font: \"STIX-Web\"}});}</script>                <script type=\"text/javascript\">window.PlotlyConfig = {MathJaxConfig: 'local'};</script>\n",
              "        <script src=\"https://cdn.plot.ly/plotly-2.8.3.min.js\"></script>                <div id=\"085b5b05-ddff-425b-8d46-a06ddfd1a06b\" class=\"plotly-graph-div\" style=\"height:500px; width:900px;\"></div>            <script type=\"text/javascript\">                                    window.PLOTLYENV=window.PLOTLYENV || {};                                    if (document.getElementById(\"085b5b05-ddff-425b-8d46-a06ddfd1a06b\")) {                    Plotly.newPlot(                        \"085b5b05-ddff-425b-8d46-a06ddfd1a06b\",                        [{\"mode\":\"lines\",\"name\":\"High\",\"x\":[\"2018-01-02\",\"2018-01-03\",\"2018-01-04\",\"2018-01-05\",\"2018-01-08\",\"2018-01-09\",\"2018-01-10\",\"2018-01-11\",\"2018-01-12\",\"2018-01-16\",\"2018-01-17\",\"2018-01-18\",\"2018-01-19\",\"2018-01-22\",\"2018-01-23\",\"2018-01-24\",\"2018-01-25\",\"2018-01-26\",\"2018-01-29\",\"2018-01-30\",\"2018-01-31\",\"2018-02-01\",\"2018-02-02\",\"2018-02-05\",\"2018-02-06\",\"2018-02-07\",\"2018-02-08\",\"2018-02-09\",\"2018-02-12\",\"2018-02-13\",\"2018-02-14\",\"2018-02-15\",\"2018-02-16\",\"2018-02-20\",\"2018-02-21\",\"2018-02-22\",\"2018-02-23\",\"2018-02-26\",\"2018-02-27\",\"2018-02-28\",\"2018-03-01\",\"2018-03-02\",\"2018-03-05\",\"2018-03-06\",\"2018-03-07\",\"2018-03-08\",\"2018-03-09\",\"2018-03-12\",\"2018-03-13\",\"2018-03-14\",\"2018-03-15\",\"2018-03-16\",\"2018-03-19\",\"2018-03-20\",\"2018-03-21\",\"2018-03-22\",\"2018-03-23\",\"2018-03-26\",\"2018-03-27\",\"2018-03-28\",\"2018-03-29\",\"2018-04-02\",\"2018-04-03\",\"2018-04-04\",\"2018-04-05\",\"2018-04-06\",\"2018-04-09\",\"2018-04-10\",\"2018-04-11\",\"2018-04-12\",\"2018-04-13\",\"2018-04-16\",\"2018-04-17\",\"2018-04-18\",\"2018-04-19\",\"2018-04-20\",\"2018-04-23\",\"2018-04-24\",\"2018-04-25\",\"2018-04-26\",\"2018-04-27\",\"2018-04-30\",\"2018-05-01\",\"2018-05-02\",\"2018-05-03\",\"2018-05-04\",\"2018-05-07\",\"2018-05-08\",\"2018-05-09\",\"2018-05-10\",\"2018-05-11\",\"2018-05-14\",\"2018-05-15\",\"2018-05-16\",\"2018-05-17\",\"2018-05-18\",\"2018-05-21\",\"2018-05-22\",\"2018-05-23\",\"2018-05-24\",\"2018-05-25\",\"2018-05-29\",\"2018-05-30\",\"2018-05-31\",\"2018-06-01\",\"2018-06-04\",\"2018-06-05\",\"2018-06-06\",\"2018-06-07\",\"2018-06-08\",\"2018-06-11\",\"2018-06-12\",\"2018-06-13\",\"2018-06-14\",\"2018-06-15\",\"2018-06-18\",\"2018-06-19\",\"2018-06-20\",\"2018-06-21\",\"2018-06-22\",\"2018-06-25\",\"2018-06-26\",\"2018-06-27\",\"2018-06-28\",\"2018-06-29\",\"2018-07-02\",\"2018-07-03\",\"2018-07-05\",\"2018-07-06\",\"2018-07-09\",\"2018-07-10\",\"2018-07-11\",\"2018-07-12\",\"2018-07-13\",\"2018-07-16\",\"2018-07-17\",\"2018-07-18\",\"2018-07-19\",\"2018-07-20\",\"2018-07-23\",\"2018-07-24\",\"2018-07-25\",\"2018-07-26\",\"2018-07-27\",\"2018-07-30\",\"2018-07-31\",\"2018-08-01\",\"2018-08-02\",\"2018-08-03\",\"2018-08-06\",\"2018-08-07\",\"2018-08-08\",\"2018-08-09\",\"2018-08-10\",\"2018-08-13\",\"2018-08-14\",\"2018-08-15\",\"2018-08-16\",\"2018-08-17\",\"2018-08-20\",\"2018-08-21\",\"2018-08-22\",\"2018-08-23\",\"2018-08-24\",\"2018-08-27\",\"2018-08-28\",\"2018-08-29\",\"2018-08-30\",\"2018-08-31\",\"2018-09-04\",\"2018-09-05\",\"2018-09-06\",\"2018-09-07\",\"2018-09-10\",\"2018-09-11\",\"2018-09-12\",\"2018-09-13\",\"2018-09-14\",\"2018-09-17\",\"2018-09-18\",\"2018-09-19\",\"2018-09-20\",\"2018-09-21\",\"2018-09-24\",\"2018-09-25\",\"2018-09-26\",\"2018-09-27\",\"2018-09-28\",\"2018-10-01\",\"2018-10-02\",\"2018-10-03\",\"2018-10-04\",\"2018-10-05\",\"2018-10-08\",\"2018-10-09\",\"2018-10-10\",\"2018-10-11\",\"2018-10-12\",\"2018-10-15\",\"2018-10-16\",\"2018-10-17\",\"2018-10-18\",\"2018-10-19\",\"2018-10-22\",\"2018-10-23\",\"2018-10-24\",\"2018-10-25\",\"2018-10-26\",\"2018-10-29\",\"2018-10-30\",\"2018-10-31\",\"2018-11-01\",\"2018-11-02\",\"2018-11-05\",\"2018-11-06\",\"2018-11-07\",\"2018-11-08\",\"2018-11-09\",\"2018-11-12\",\"2018-11-13\",\"2018-11-14\",\"2018-11-15\",\"2018-11-16\",\"2018-11-19\",\"2018-11-20\",\"2018-11-21\",\"2018-11-23\",\"2018-11-26\",\"2018-11-27\",\"2018-11-28\",\"2018-11-29\",\"2018-11-30\",\"2018-12-03\",\"2018-12-04\",\"2018-12-06\",\"2018-12-07\",\"2018-12-10\",\"2018-12-11\",\"2018-12-12\",\"2018-12-13\",\"2018-12-14\",\"2018-12-17\",\"2018-12-18\",\"2018-12-19\",\"2018-12-20\",\"2018-12-21\",\"2018-12-24\",\"2018-12-26\",\"2018-12-27\",\"2018-12-28\",\"2018-12-31\",\"2019-01-02\",\"2019-01-03\",\"2019-01-04\",\"2019-01-07\",\"2019-01-08\",\"2019-01-09\",\"2019-01-10\",\"2019-01-11\",\"2019-01-14\",\"2019-01-15\",\"2019-01-16\",\"2019-01-17\",\"2019-01-18\",\"2019-01-22\",\"2019-01-23\",\"2019-01-24\",\"2019-01-25\",\"2019-01-28\",\"2019-01-29\",\"2019-01-30\",\"2019-01-31\",\"2019-02-01\",\"2019-02-04\",\"2019-02-05\",\"2019-02-06\",\"2019-02-07\",\"2019-02-08\",\"2019-02-11\",\"2019-02-12\",\"2019-02-13\",\"2019-02-14\",\"2019-02-15\",\"2019-02-19\",\"2019-02-20\",\"2019-02-21\",\"2019-02-22\",\"2019-02-25\",\"2019-02-26\",\"2019-02-27\",\"2019-02-28\",\"2019-03-01\",\"2019-03-04\",\"2019-03-05\",\"2019-03-06\",\"2019-03-07\",\"2019-03-08\",\"2019-03-11\",\"2019-03-12\",\"2019-03-13\",\"2019-03-14\",\"2019-03-15\",\"2019-03-18\",\"2019-03-19\",\"2019-03-20\",\"2019-03-21\",\"2019-03-22\",\"2019-03-25\",\"2019-03-26\",\"2019-03-27\",\"2019-03-28\",\"2019-03-29\",\"2019-04-01\",\"2019-04-02\",\"2019-04-03\",\"2019-04-04\",\"2019-04-05\",\"2019-04-08\",\"2019-04-09\",\"2019-04-10\",\"2019-04-11\",\"2019-04-12\",\"2019-04-15\",\"2019-04-16\",\"2019-04-17\",\"2019-04-18\",\"2019-04-22\",\"2019-04-23\",\"2019-04-24\",\"2019-04-25\",\"2019-04-26\",\"2019-04-29\",\"2019-04-30\",\"2019-05-01\",\"2019-05-02\",\"2019-05-03\",\"2019-05-06\",\"2019-05-07\",\"2019-05-08\",\"2019-05-09\",\"2019-05-10\",\"2019-05-13\",\"2019-05-14\",\"2019-05-15\",\"2019-05-16\",\"2019-05-17\",\"2019-05-20\",\"2019-05-21\",\"2019-05-22\",\"2019-05-23\",\"2019-05-24\",\"2019-05-28\",\"2019-05-29\",\"2019-05-30\",\"2019-05-31\",\"2019-06-03\",\"2019-06-04\",\"2019-06-05\",\"2019-06-06\",\"2019-06-07\",\"2019-06-10\",\"2019-06-11\",\"2019-06-12\",\"2019-06-13\",\"2019-06-14\",\"2019-06-17\",\"2019-06-18\",\"2019-06-19\",\"2019-06-20\",\"2019-06-21\",\"2019-06-24\",\"2019-06-25\",\"2019-06-26\",\"2019-06-27\",\"2019-06-28\",\"2019-07-01\",\"2019-07-02\",\"2019-07-03\",\"2019-07-05\",\"2019-07-08\",\"2019-07-09\",\"2019-07-10\",\"2019-07-11\",\"2019-07-12\",\"2019-07-15\",\"2019-07-16\",\"2019-07-17\",\"2019-07-18\",\"2019-07-19\",\"2019-07-22\",\"2019-07-23\",\"2019-07-24\",\"2019-07-25\",\"2019-07-26\",\"2019-07-29\",\"2019-07-30\",\"2019-07-31\",\"2019-08-01\",\"2019-08-02\",\"2019-08-05\",\"2019-08-06\",\"2019-08-07\",\"2019-08-08\",\"2019-08-09\",\"2019-08-12\",\"2019-08-13\",\"2019-08-14\",\"2019-08-15\",\"2019-08-16\",\"2019-08-19\",\"2019-08-20\",\"2019-08-21\",\"2019-08-22\",\"2019-08-23\",\"2019-08-26\",\"2019-08-27\",\"2019-08-28\",\"2019-08-29\",\"2019-08-30\",\"2019-09-03\",\"2019-09-04\",\"2019-09-05\",\"2019-09-06\",\"2019-09-09\",\"2019-09-10\",\"2019-09-11\",\"2019-09-12\",\"2019-09-13\",\"2019-09-16\",\"2019-09-17\",\"2019-09-18\",\"2019-09-19\",\"2019-09-20\",\"2019-09-23\",\"2019-09-24\",\"2019-09-25\",\"2019-09-26\",\"2019-09-27\",\"2019-09-30\",\"2019-10-01\",\"2019-10-02\",\"2019-10-03\",\"2019-10-04\",\"2019-10-07\",\"2019-10-08\",\"2019-10-09\",\"2019-10-10\",\"2019-10-11\",\"2019-10-14\",\"2019-10-15\",\"2019-10-16\",\"2019-10-17\",\"2019-10-18\",\"2019-10-21\",\"2019-10-22\",\"2019-10-23\",\"2019-10-24\",\"2019-10-25\",\"2019-10-28\",\"2019-10-29\",\"2019-10-30\",\"2019-10-31\",\"2019-11-01\",\"2019-11-04\",\"2019-11-05\",\"2019-11-06\",\"2019-11-07\",\"2019-11-08\",\"2019-11-11\",\"2019-11-12\",\"2019-11-13\",\"2019-11-14\",\"2019-11-15\",\"2019-11-18\",\"2019-11-19\",\"2019-11-20\",\"2019-11-21\",\"2019-11-22\",\"2019-11-25\",\"2019-11-26\",\"2019-11-27\",\"2019-11-29\",\"2019-12-02\",\"2019-12-03\",\"2019-12-04\",\"2019-12-05\",\"2019-12-06\",\"2019-12-09\",\"2019-12-10\",\"2019-12-11\",\"2019-12-12\",\"2019-12-13\",\"2019-12-16\",\"2019-12-17\",\"2019-12-18\",\"2019-12-19\",\"2019-12-20\",\"2019-12-23\",\"2019-12-24\",\"2019-12-26\",\"2019-12-27\",\"2019-12-30\",\"2019-12-31\",\"2020-01-02\",\"2020-01-03\",\"2020-01-06\",\"2020-01-07\",\"2020-01-08\",\"2020-01-09\",\"2020-01-10\",\"2020-01-13\",\"2020-01-14\",\"2020-01-15\",\"2020-01-16\",\"2020-01-17\",\"2020-01-21\",\"2020-01-22\",\"2020-01-23\",\"2020-01-24\",\"2020-01-27\",\"2020-01-28\",\"2020-01-29\",\"2020-01-30\",\"2020-01-31\",\"2020-02-03\",\"2020-02-04\",\"2020-02-05\",\"2020-02-06\",\"2020-02-07\",\"2020-02-10\",\"2020-02-11\",\"2020-02-12\",\"2020-02-13\",\"2020-02-14\",\"2020-02-18\",\"2020-02-19\",\"2020-02-20\",\"2020-02-21\",\"2020-02-24\",\"2020-02-25\",\"2020-02-26\",\"2020-02-27\",\"2020-02-28\",\"2020-03-02\",\"2020-03-03\",\"2020-03-04\",\"2020-03-05\",\"2020-03-06\",\"2020-03-09\",\"2020-03-10\",\"2020-03-11\",\"2020-03-12\",\"2020-03-13\",\"2020-03-16\",\"2020-03-17\",\"2020-03-18\",\"2020-03-19\",\"2020-03-20\",\"2020-03-23\",\"2020-03-24\",\"2020-03-25\",\"2020-03-26\",\"2020-03-27\",\"2020-03-30\",\"2020-03-31\",\"2020-04-01\",\"2020-04-02\",\"2020-04-03\",\"2020-04-06\",\"2020-04-07\",\"2020-04-08\",\"2020-04-09\",\"2020-04-13\",\"2020-04-14\",\"2020-04-15\",\"2020-04-16\",\"2020-04-17\",\"2020-04-20\",\"2020-04-21\",\"2020-04-22\",\"2020-04-23\",\"2020-04-24\",\"2020-04-27\",\"2020-04-28\",\"2020-04-29\",\"2020-04-30\",\"2020-05-01\",\"2020-05-04\",\"2020-05-05\",\"2020-05-06\",\"2020-05-07\",\"2020-05-08\",\"2020-05-11\",\"2020-05-12\",\"2020-05-13\",\"2020-05-14\",\"2020-05-15\",\"2020-05-18\",\"2020-05-19\",\"2020-05-20\",\"2020-05-21\",\"2020-05-22\",\"2020-05-26\",\"2020-05-27\",\"2020-05-28\",\"2020-05-29\",\"2020-06-01\",\"2020-06-02\",\"2020-06-03\",\"2020-06-04\",\"2020-06-05\",\"2020-06-08\",\"2020-06-09\",\"2020-06-10\",\"2020-06-11\",\"2020-06-12\",\"2020-06-15\",\"2020-06-16\",\"2020-06-17\",\"2020-06-18\",\"2020-06-19\",\"2020-06-22\",\"2020-06-23\",\"2020-06-24\",\"2020-06-25\",\"2020-06-26\",\"2020-06-29\",\"2020-06-30\",\"2020-07-01\",\"2020-07-02\",\"2020-07-06\",\"2020-07-07\",\"2020-07-08\",\"2020-07-09\",\"2020-07-10\",\"2020-07-13\",\"2020-07-14\",\"2020-07-15\",\"2020-07-16\",\"2020-07-17\",\"2020-07-20\",\"2020-07-21\",\"2020-07-22\",\"2020-07-23\",\"2020-07-24\",\"2020-07-27\",\"2020-07-28\",\"2020-07-29\",\"2020-07-30\",\"2020-07-31\",\"2020-08-03\",\"2020-08-04\",\"2020-08-05\",\"2020-08-06\",\"2020-08-07\",\"2020-08-10\",\"2020-08-11\",\"2020-08-12\",\"2020-08-13\",\"2020-08-14\",\"2020-08-17\",\"2020-08-18\",\"2020-08-19\",\"2020-08-20\",\"2020-08-21\",\"2020-08-24\",\"2020-08-25\",\"2020-08-26\",\"2020-08-27\",\"2020-08-28\",\"2020-08-31\",\"2020-09-01\",\"2020-09-02\",\"2020-09-03\",\"2020-09-04\",\"2020-09-08\",\"2020-09-09\",\"2020-09-10\",\"2020-09-11\",\"2020-09-14\",\"2020-09-15\",\"2020-09-16\",\"2020-09-17\",\"2020-09-18\",\"2020-09-21\",\"2020-09-22\",\"2020-09-23\",\"2020-09-24\",\"2020-09-25\",\"2020-09-28\",\"2020-09-29\",\"2020-09-30\",\"2020-10-01\",\"2020-10-02\",\"2020-10-05\",\"2020-10-06\",\"2020-10-07\",\"2020-10-08\",\"2020-10-09\",\"2020-10-12\",\"2020-10-13\",\"2020-10-14\",\"2020-10-15\",\"2020-10-16\",\"2020-10-19\",\"2020-10-20\",\"2020-10-21\",\"2020-10-22\",\"2020-10-23\",\"2020-10-26\",\"2020-10-27\",\"2020-10-28\",\"2020-10-29\",\"2020-10-30\",\"2020-11-02\",\"2020-11-03\",\"2020-11-04\",\"2020-11-05\",\"2020-11-06\",\"2020-11-09\",\"2020-11-10\",\"2020-11-11\",\"2020-11-12\",\"2020-11-13\",\"2020-11-16\",\"2020-11-17\",\"2020-11-18\",\"2020-11-19\",\"2020-11-20\",\"2020-11-23\",\"2020-11-24\",\"2020-11-25\",\"2020-11-27\",\"2020-11-30\",\"2020-12-01\",\"2020-12-02\",\"2020-12-03\",\"2020-12-04\",\"2020-12-07\",\"2020-12-08\",\"2020-12-09\",\"2020-12-10\",\"2020-12-11\",\"2020-12-14\",\"2020-12-15\",\"2020-12-16\",\"2020-12-17\",\"2020-12-18\",\"2020-12-21\",\"2020-12-22\",\"2020-12-23\",\"2020-12-24\",\"2020-12-28\",\"2020-12-29\",\"2020-12-30\",\"2020-12-31\",\"2021-01-04\",\"2021-01-05\",\"2021-01-06\",\"2021-01-07\",\"2021-01-08\",\"2021-01-11\",\"2021-01-12\",\"2021-01-13\",\"2021-01-14\",\"2021-01-15\",\"2021-01-19\",\"2021-01-20\",\"2021-01-21\",\"2021-01-22\",\"2021-01-25\",\"2021-01-26\",\"2021-01-27\",\"2021-01-28\",\"2021-01-29\",\"2021-02-01\",\"2021-02-02\",\"2021-02-03\",\"2021-02-04\",\"2021-02-05\",\"2021-02-08\",\"2021-02-09\",\"2021-02-10\",\"2021-02-11\",\"2021-02-12\",\"2021-02-16\",\"2021-02-17\",\"2021-02-18\",\"2021-02-19\",\"2021-02-22\",\"2021-02-23\",\"2021-02-24\",\"2021-02-25\",\"2021-02-26\",\"2021-03-01\",\"2021-03-02\",\"2021-03-03\",\"2021-03-04\",\"2021-03-05\",\"2021-03-08\",\"2021-03-09\",\"2021-03-10\",\"2021-03-11\",\"2021-03-12\",\"2021-03-15\",\"2021-03-16\",\"2021-03-17\",\"2021-03-18\",\"2021-03-19\",\"2021-03-22\",\"2021-03-23\",\"2021-03-24\",\"2021-03-25\",\"2021-03-26\",\"2021-03-29\",\"2021-03-30\",\"2021-03-31\",\"2021-04-01\",\"2021-04-05\",\"2021-04-06\",\"2021-04-07\",\"2021-04-08\",\"2021-04-09\",\"2021-04-12\",\"2021-04-13\",\"2021-04-14\",\"2021-04-15\",\"2021-04-16\",\"2021-04-19\",\"2021-04-20\",\"2021-04-21\",\"2021-04-22\",\"2021-04-23\",\"2021-04-26\",\"2021-04-27\",\"2021-04-28\",\"2021-04-29\",\"2021-04-30\",\"2021-05-03\",\"2021-05-04\",\"2021-05-05\",\"2021-05-06\",\"2021-05-07\",\"2021-05-10\",\"2021-05-11\",\"2021-05-12\",\"2021-05-13\",\"2021-05-14\",\"2021-05-17\",\"2021-05-18\",\"2021-05-19\",\"2021-05-20\",\"2021-05-21\",\"2021-05-24\",\"2021-05-25\",\"2021-05-26\",\"2021-05-27\",\"2021-05-28\",\"2021-06-01\",\"2021-06-02\",\"2021-06-03\",\"2021-06-04\",\"2021-06-07\",\"2021-06-08\",\"2021-06-09\",\"2021-06-10\",\"2021-06-11\",\"2021-06-14\",\"2021-06-15\",\"2021-06-16\",\"2021-06-17\",\"2021-06-18\",\"2021-06-21\",\"2021-06-22\",\"2021-06-23\",\"2021-06-24\",\"2021-06-25\",\"2021-06-28\",\"2021-06-29\",\"2021-06-30\",\"2021-07-01\",\"2021-07-02\",\"2021-07-06\",\"2021-07-07\",\"2021-07-08\",\"2021-07-09\",\"2021-07-12\",\"2021-07-13\",\"2021-07-14\",\"2021-07-15\",\"2021-07-16\",\"2021-07-19\",\"2021-07-20\",\"2021-07-21\",\"2021-07-22\",\"2021-07-23\",\"2021-07-26\",\"2021-07-27\",\"2021-07-28\",\"2021-07-29\",\"2021-07-30\",\"2021-08-02\",\"2021-08-03\",\"2021-08-04\",\"2021-08-05\",\"2021-08-06\",\"2021-08-09\",\"2021-08-10\",\"2021-08-11\",\"2021-08-12\",\"2021-08-13\",\"2021-08-16\",\"2021-08-17\",\"2021-08-18\",\"2021-08-19\",\"2021-08-20\",\"2021-08-23\",\"2021-08-24\",\"2021-08-25\",\"2021-08-26\",\"2021-08-27\",\"2021-08-30\",\"2021-08-31\",\"2021-09-01\",\"2021-09-02\",\"2021-09-03\",\"2021-09-07\",\"2021-09-08\",\"2021-09-09\",\"2021-09-10\",\"2021-09-13\",\"2021-09-14\",\"2021-09-15\",\"2021-09-16\",\"2021-09-17\",\"2021-09-20\",\"2021-09-21\",\"2021-09-22\",\"2021-09-23\",\"2021-09-24\",\"2021-09-27\",\"2021-09-28\",\"2021-09-29\",\"2021-09-30\",\"2021-10-01\",\"2021-10-04\",\"2021-10-05\",\"2021-10-06\",\"2021-10-07\",\"2021-10-08\",\"2021-10-11\",\"2021-10-12\",\"2021-10-13\",\"2021-10-14\",\"2021-10-15\",\"2021-10-18\",\"2021-10-19\",\"2021-10-20\",\"2021-10-21\",\"2021-10-22\",\"2021-10-25\",\"2021-10-26\",\"2021-10-27\",\"2021-10-28\",\"2021-10-29\",\"2021-11-01\",\"2021-11-02\",\"2021-11-03\",\"2021-11-04\",\"2021-11-05\",\"2021-11-08\",\"2021-11-09\",\"2021-11-10\",\"2021-11-11\",\"2021-11-12\",\"2021-11-15\",\"2021-11-16\",\"2021-11-17\",\"2021-11-18\",\"2021-11-19\",\"2021-11-22\",\"2021-11-23\",\"2021-11-24\",\"2021-11-26\",\"2021-11-29\",\"2021-11-30\",\"2021-12-01\",\"2021-12-02\",\"2021-12-03\",\"2021-12-06\",\"2021-12-07\",\"2021-12-08\",\"2021-12-09\",\"2021-12-10\",\"2021-12-13\",\"2021-12-14\",\"2021-12-15\",\"2021-12-16\",\"2021-12-17\",\"2021-12-20\",\"2021-12-21\",\"2021-12-22\",\"2021-12-23\",\"2021-12-27\",\"2021-12-28\",\"2021-12-29\",\"2021-12-30\",\"2021-12-31\",\"2022-01-03\",\"2022-01-04\",\"2022-01-05\",\"2022-01-06\",\"2022-01-07\",\"2022-01-10\",\"2022-01-11\",\"2022-01-12\",\"2022-01-13\",\"2022-01-14\",\"2022-01-18\",\"2022-01-19\",\"2022-01-20\",\"2022-01-21\",\"2022-01-24\",\"2022-01-25\",\"2022-01-26\",\"2022-01-27\",\"2022-01-28\",\"2022-01-31\",\"2022-02-01\",\"2022-02-02\",\"2022-02-03\",\"2022-02-04\",\"2022-02-07\",\"2022-02-08\",\"2022-02-09\",\"2022-02-10\",\"2022-02-11\",\"2022-02-14\",\"2022-02-15\",\"2022-02-16\",\"2022-02-17\",\"2022-02-18\",\"2022-02-22\",\"2022-02-23\",\"2022-02-24\",\"2022-02-25\",\"2022-02-28\",\"2022-03-01\",\"2022-03-02\",\"2022-03-03\",\"2022-03-04\",\"2022-03-07\",\"2022-03-08\",\"2022-03-09\",\"2022-03-10\",\"2022-03-11\",\"2022-03-14\",\"2022-03-15\",\"2022-03-16\",\"2022-03-17\",\"2022-03-18\",\"2022-03-21\",\"2022-03-22\",\"2022-03-23\",\"2022-03-24\",\"2022-03-25\",\"2022-03-28\",\"2022-03-29\",\"2022-03-30\",\"2022-03-31\",\"2022-04-01\",\"2022-04-04\",\"2022-04-05\",\"2022-04-06\",\"2022-04-07\",\"2022-04-08\",\"2022-04-11\",\"2022-04-12\",\"2022-04-13\",\"2022-04-14\",\"2022-04-18\",\"2022-04-19\",\"2022-04-20\",\"2022-04-21\",\"2022-04-22\",\"2022-04-25\",\"2022-04-26\",\"2022-04-27\",\"2022-04-28\",\"2022-04-29\",\"2022-05-02\",\"2022-05-03\",\"2022-05-04\",\"2022-05-05\",\"2022-05-06\",\"2022-05-09\",\"2022-05-10\",\"2022-05-11\",\"2022-05-12\"],\"y\":[68.02999877929688,70.20999908447266,71.20999908447266,70.98999786376953,69.7699966430664,69.95999908447266,69.52999877929688,70.76000213623047,70.7300033569336,70.9800033569336,70.88999938964844,70.26000213623047,77.83000183105469,82.44000244140625,81.8499984741211,81.61000061035156,80.51000213623047,82.22000122070312,81.7300033569336,80.5,80.5,82.0,79.43000030517578,83.19999694824219,82.86000061035156,83.0,82.55999755859375,81.44999694824219,81.0,79.98999786376953,77.7699966430664,77.54000091552734,79.94000244140625,78.7300033569336,76.58000183105469,76.68000030517578,77.0,76.5999984741211,76.47000122070312,76.69000244140625,76.80999755859375,75.77999877929688,78.97000122070312,79.08999633789062,79.0999984741211,77.75,77.2300033569336,76.37999725341797,76.30999755859375,76.20999908447266,75.27999877929688,74.45999908447266,73.7300033569336,74.0,73.88999938964844,73.69000244140625,74.56999969482422,73.23999786376953,73.66000366210938,73.54000091552734,74.77999877929688,73.75,74.70999908447266,75.86000061035156,76.6500015258789,75.87999725341797,76.37000274658203,75.47000122070312,74.86000061035156,75.29000091552734,75.97000122070312,75.4800033569336,75.37000274658203,74.94999694824219,76.94999694824219,75.98999786376953,73.83000183105469,73.87000274658203,73.19999694824219,73.05000305175781,73.01000213623047,73.13999938964844,72.70999908447266,74.69000244140625,73.37999725341797,71.0999984741211,70.68000030517578,69.97000122070312,70.20999908447266,71.2300033569336,71.6500015258789,71.4800033569336,71.44000244140625,71.23999786376953,71.08000183105469,70.4800033569336,70.04000091552734,70.63999938964844,70.08999633789062,70.51000213623047,70.69000244140625,69.95999908447266,70.48999786376953,70.27999877929688,70.3499984741211,70.41000366210938,70.73999786376953,70.68000030517578,70.2300033569336,69.5999984741211,70.0999984741211,70.0,71.29000091552734,71.5999984741211,70.2300033569336,71.44000244140625,73.12999725341797,71.9000015258789,71.58000183105469,71.66000366210938,72.27999877929688,72.19000244140625,71.0,70.05999755859375,70.41999816894531,69.70999908447266,69.33999633789062,69.4800033569336,70.20999908447266,70.23999786376953,70.4800033569336,70.9000015258789,70.18000030517578,69.08000183105469,68.69999694824219,68.77999877929688,68.94999694824219,68.9800033569336,68.0999984741211,68.30999755859375,68.69999694824219,68.41000366210938,69.05999755859375,68.63999938964844,68.36000061035156,69.5,68.26000213623047,66.41999816894531,66.5999984741211,66.4800033569336,67.51000213623047,66.91000366210938,65.91000366210938,65.16000366210938,63.2599983215332,62.119998931884766,62.0,63.099998474121094,63.209999084472656,64.08999633789062,64.29000091552734,64.23999786376953,62.90999984741211,64.44999694824219,64.98999786376953,64.91000366210938,65.44999694824219,65.44999694824219,65.23999786376953,64.97000122070312,64.16000366210938,64.25,63.7599983215332,64.41999816894531,63.810001373291016,64.45999908447266,64.45999908447266,64.55999755859375,65.16999816894531,65.0,65.44999694824219,66.4000015258789,66.98999786376953,67.30000305175781,67.6500015258789,67.95999908447266,69.05999755859375,69.1500015258789,68.88999938964844,69.13999938964844,70.05999755859375,68.9800033569336,69.33999633789062,72.3499984741211,70.88999938964844,69.94000244140625,67.5999984741211,67.56999969482422,68.5999984741211,69.29000091552734,68.66000366210938,68.51000213623047,68.0,67.86000061035156,67.25,67.5199966430664,66.58999633789062,66.08000183105469,66.77999877929688,69.30000305175781,68.75,63.38999938964844,63.75,63.279998779296875,63.630001068115234,64.18000030517578,63.400001525878906,63.5,63.7599983215332,62.97999954223633,61.65999984741211,60.2599983215332,59.22999954223633,58.81999969482422,58.86000061035156,58.90999984741211,58.25,58.65999984741211,58.9900016784668,58.75,58.849998474121094,58.16999816894531,59.599998474121094,59.4900016784668,58.689998626708984,59.90999984741211,62.91999816894531,60.47999954223633,60.650001525878906,60.119998931884766,60.20000076293945,58.90999984741211,58.4900016784668,57.790000915527344,56.22999954223633,55.33000183105469,53.029998779296875,53.619998931884766,53.310001373291016,53.84000015258789,53.459999084472656,54.619998931884766,54.029998779296875,54.970001220703125,56.31999969482422,56.119998931884766,57.34000015258789,57.34000015258789,56.63999938964844,55.65999984741211,54.650001525878906,54.060001373291016,52.84000015258789,53.77000045776367,53.09000015258789,52.66999816894531,53.83000183105469,53.54999923706055,54.02000045776367,54.11000061035156,54.68000030517578,55.11000061035156,55.34000015258789,54.959999084472656,54.630001068115234,54.2599983215332,54.02000045776367,53.9900016784668,52.9900016784668,53.09000015258789,53.560001373291016,53.220001220703125,53.209999084472656,52.91999816894531,53.290000915527344,54.0,54.0,54.040000915527344,53.75,53.29999923706055,53.34000015258789,53.4900016784668,53.36000061035156,52.93000030517578,52.2599983215332,51.150001525878906,50.68000030517578,52.0,52.25,52.56999969482422,52.439998626708984,52.91999816894531,53.38999938964844,52.959999084472656,52.220001220703125,52.529998779296875,52.349998474121094,52.09000015258789,51.97999954223633,51.88999938964844,52.2599983215332,53.220001220703125,53.5,53.29999923706055,52.380001068115234,53.45000076293945,53.31999969482422,53.66999816894531,53.959999084472656,53.560001373291016,53.5,53.43000030517578,52.83000183105469,52.939998626708984,52.2599983215332,51.86000061035156,51.41999816894531,51.97999954223633,51.41999816894531,50.970001220703125,49.060001373291016,50.43000030517578,52.45000076293945,53.029998779296875,52.27000045776367,51.4900016784668,50.93000030517578,50.529998779296875,53.790000915527344,54.119998931884766,53.84000015258789,53.54999923706055,53.27000045776367,53.650001525878906,53.77000045776367,53.27000045776367,52.38999938964844,52.20000076293945,51.9900016784668,51.599998474121094,51.75,51.13999938964844,52.81999969482422,52.41999816894531,52.36000061035156,54.650001525878906,55.25,55.0099983215332,55.2400016784668,55.38999938964844,56.52000045776367,56.650001525878906,57.33000183105469,57.95000076293945,58.09000015258789,58.099998474121094,58.130001068115234,58.189998626708984,57.84000015258789,57.81999969482422,57.619998931884766,57.47999954223633,56.2400016784668,55.619998931884766,56.25,56.810001373291016,57.150001525878906,57.09000015258789,56.83000183105469,57.2400016784668,57.5,57.83000183105469,57.7599983215332,57.43000030517578,57.060001373291016,56.63999938964844,55.970001220703125,56.189998626708984,56.209999084472656,57.2400016784668,57.18000030517578,57.06999969482422,57.22999954223633,57.04999923706055,57.25,56.790000915527344,59.369998931884766,59.650001525878906,57.900001525878906,56.65999984741211,56.400001525878906,56.33000183105469,58.119998931884766,57.83000183105469,56.81999969482422,55.02000045776367,53.70000076293945,53.970001220703125,54.91999816894531,55.099998474121094,54.790000915527344,54.81999969482422,55.099998474121094,54.560001373291016,53.75,53.650001525878906,52.79999923706055,52.849998474121094,53.90999984741211,53.529998779296875,54.189998626708984,55.72999954223633,55.970001220703125,57.11000061035156,57.5099983215332,58.0,58.060001373291016,57.70000076293945,58.0,57.58000183105469,57.16999816894531,57.099998474121094,56.5099983215332,56.34000015258789,56.310001373291016,56.45000076293945,57.16999816894531,56.880001068115234,57.040000915527344,57.16999816894531,56.45000076293945,55.849998474121094,56.290000915527344,56.150001525878906,55.65999984741211,54.93000030517578,55.560001373291016,56.97999954223633,56.689998626708984,57.34000015258789,57.130001068115234,55.34000015258789,55.63999938964844,55.540000915527344,55.45000076293945,55.45000076293945,55.45000076293945,55.349998474121094,55.849998474121094,56.529998779296875,55.9900016784668,54.220001220703125,54.619998931884766,56.41999816894531,56.7599983215332,55.91999816894531,56.349998474121094,55.959999084472656,55.93000030517578,56.630001068115234,55.619998931884766,55.75,56.22999954223633,55.9900016784668,55.869998931884766,55.66999816894531,55.18000030517578,55.31999969482422,54.619998931884766,54.150001525878906,53.88999938964844,53.7599983215332,54.09000015258789,53.2599983215332,53.52000045776367,53.650001525878906,54.470001220703125,53.849998474121094,55.13999938964844,55.66999816894531,56.13999938964844,56.20000076293945,56.220001220703125,56.0,56.189998626708984,56.31999969482422,57.939998626708984,57.7599983215332,57.310001373291016,57.709999084472656,57.849998474121094,57.29999923706055,57.75,58.189998626708984,57.97999954223633,57.790000915527344,57.810001373291016,57.130001068115234,56.540000915527344,56.34000015258789,56.38999938964844,56.15999984741211,56.0,56.540000915527344,56.58000183105469,56.560001373291016,56.4900016784668,55.84000015258789,55.56999969482422,53.65999984741211,52.380001068115234,51.77000045776367,52.5,52.43000030517578,53.439998626708984,54.31999969482422,54.650001525878906,55.0,54.43000030517578,55.15999984741211,56.310001373291016,57.5,56.790000915527344,55.720001220703125,54.0,54.20000076293945,54.040000915527344,53.86000061035156,53.18000030517578,52.970001220703125,51.939998626708984,49.9900016784668,47.54999923706055,49.189998626708984,49.88999938964844,50.29999923706055,49.099998474121094,47.540000915527344,45.66999816894531,44.779998779296875,42.400001525878906,38.529998779296875,39.38999938964844,37.619998931884766,36.5099983215332,33.5,33.95000076293945,35.060001373291016,33.790000915527344,35.61000061035156,38.95000076293945,38.79999923706055,37.33000183105469,40.189998626708984,41.459999084472656,40.439998626708984,39.790000915527344,39.08000183105469,39.290000915527344,41.2599983215332,39.79999923706055,41.40999984741211,41.150001525878906,40.720001220703125,38.529998779296875,38.38999938964844,40.11000061035156,40.130001068115234,38.29999923706055,38.11000061035156,39.36000061035156,39.83000183105469,40.0,40.709999084472656,42.06999969482422,41.43000030517578,39.439998626708984,38.09000015258789,38.599998474121094,35.41999816894531,36.75,37.439998626708984,36.41999816894531,35.619998931884766,35.2400016784668,34.849998474121094,34.79999923706055,35.900001525878906,35.970001220703125,35.95000076293945,35.709999084472656,35.599998474121094,38.099998474121094,39.86000061035156,39.88999938964844,39.33000183105469,39.81999969482422,39.9900016784668,41.66999816894531,41.86000061035156,44.86000061035156,44.369998931884766,43.290000915527344,43.09000015258789,39.970001220703125,40.2400016784668,40.099998474121094,41.470001220703125,41.11000061035156,41.36000061035156,42.0,40.90999984741211,41.56999969482422,42.16999816894531,42.599998474121094,42.380001068115234,41.36000061035156,41.369998931884766,41.2599983215332,41.529998779296875,40.7400016784668,40.040000915527344,40.06999969482422,39.0,40.029998779296875,41.13999938964844,41.959999084472656,43.47999954223633,43.88999938964844,43.459999084472656,43.04999923706055,43.290000915527344,43.61000061035156,45.13999938964844,44.97999954223633,45.02000045776367,45.560001373291016,46.689998626708984,45.63999938964844,44.939998626708984,44.65999984741211,44.34000015258789,44.9900016784668,45.150001525878906,45.59000015258789,47.040000915527344,47.779998779296875,47.38999938964844,47.0,46.38999938964844,46.939998626708984,46.400001525878906,47.06999969482422,46.7599983215332,47.0099983215332,47.560001373291016,47.36000061035156,47.04999923706055,46.900001525878906,46.720001220703125,46.63999938964844,46.08000183105469,46.529998779296875,47.220001220703125,46.66999816894531,46.29999923706055,46.2599983215332,46.38999938964844,45.810001373291016,46.31999969482422,46.869998931884766,46.86000061035156,47.41999816894531,49.47999954223633,46.47999954223633,46.349998474121094,46.849998474121094,45.220001220703125,46.20000076293945,47.560001373291016,46.349998474121094,46.099998474121094,46.08000183105469,46.47999954223633,47.52000045776367,48.90999984741211,49.220001220703125,49.43000030517578,51.209999084472656,51.720001220703125,51.27000045776367,52.220001220703125,54.9900016784668,54.900001525878906,56.09000015258789,55.470001220703125,56.13999938964844,57.45000076293945,57.869998931884766,56.060001373291016,56.119998931884766,60.5,58.72999954223633,57.90999984741211,58.5,58.65999984741211,56.70000076293945,58.810001373291016,58.880001068115234,59.5,58.939998626708984,59.68000030517578,58.93000030517578,59.529998779296875,61.08000183105469,59.93000030517578,60.63999938964844,58.65999984741211,58.970001220703125,60.45000076293945,62.72999954223633,62.4900016784668,62.119998931884766,60.9900016784668,60.630001068115234,59.599998474121094,61.22999954223633,61.779998779296875,61.65999984741211,62.029998779296875,63.61000061035156,64.63999938964844,66.70999908447266,66.63999938964844,65.83999633789062,65.16000366210938,64.9800033569336,64.51000213623047,65.0,64.98999786376953,64.91999816894531,64.5999984741211,64.98999786376953,64.29000091552734,65.37999725341797,65.86000061035156,67.38999938964844,68.11000061035156,72.22000122070312,71.47000122070312,70.30999755859375,70.91000366210938,70.27999877929688,72.25,73.48999786376953,71.98999786376953,72.3499984741211,71.80000305175781,71.22000122070312,68.91000366210938,68.66000366210938,68.5999984741211,65.9000015258789,67.06999969482422,66.6500015258789,67.51000213623047,69.77999877929688,71.05000305175781,71.63999938964844,73.76000213623047,75.05000305175781,75.62000274658203,77.43000030517578,76.3499984741211,78.05000305175781,79.44999694824219,78.91999816894531,77.33999633789062,77.38999938964844,78.5,78.79000091552734,78.37000274658203,77.81999969482422,77.08000183105469,79.01000213623047,79.87000274658203,81.0,78.80000305175781,78.55000305175781,80.0,80.08000183105469,80.88999938964844,81.91999816894531,82.33000183105469,80.80000305175781,79.98999786376953,79.36000061035156,80.52999877929688,78.91000366210938,78.61000061035156,77.58000183105469,77.23999786376953,77.4800033569336,79.30000305175781,79.55999755859375,80.22000122070312,80.68000030517578,80.7699966430664,80.5999984741211,80.12000274658203,79.86000061035156,78.72000122070312,79.44999694824219,79.8499984741211,79.18000030517578,80.72000122070312,80.94999694824219,83.72000122070312,83.88999938964844,83.3499984741211,83.02999877929688,83.97000122070312,85.18000030517578,86.48999786376953,88.83999633789062,88.80999755859375,87.16999816894531,85.83999633789062,86.52999877929688,89.2300033569336,90.0,90.37999725341797,91.98999786376953,92.37999725341797,91.05000305175781,91.0,90.30000305175781,91.0,90.48999786376953,89.88999938964844,86.69000244140625,86.31999969482422,87.43000030517578,87.72000122070312,87.83000183105469,87.94999694824219,89.44999694824219,87.30999755859375,89.4800033569336,89.76000213623047,89.0199966430664,89.5999984741211,90.0999984741211,90.04000091552734,89.69999694824219,89.33000183105469,88.33999633789062,84.48999786376953,82.77999877929688,81.37999725341797,80.31999969482422,77.91999816894531,80.26000213623047,80.63999938964844,80.3499984741211,81.56999969482422,80.44000244140625,79.83000183105469,80.41999816894531,79.68000030517578,80.05000305175781,79.93000030517578,79.68000030517578,78.16999816894531,77.08999633789062,77.97000122070312,77.80999755859375,77.6500015258789,77.33000183105469,76.55999755859375,76.4000015258789,73.95999908447266,75.19999694824219,76.4000015258789,75.83000183105469,75.06999969482422,76.12999725341797,75.54000091552734,79.13999938964844,80.41999816894531,80.11000061035156,78.8499984741211,77.7300033569336,76.44999694824219,76.0,76.86000061035156,78.16000366210938,78.80999755859375,79.48999786376953,79.23999786376953,79.91000366210938,79.6500015258789,79.79000091552734,78.6500015258789,77.0199966430664,74.62999725341797,75.29000091552734,76.2699966430664,76.88999938964844,76.48999786376953,77.31999969482422,77.44999694824219,76.22000122070312,76.16999816894531,78.69000244140625,77.47000122070312,78.0,77.0199966430664,76.62000274658203,76.91999816894531,77.76000213623047,78.44000244140625,81.30999755859375,81.76000213623047,81.48999786376953,78.75,77.63999938964844,78.91999816894531,79.5999984741211,79.4000015258789,80.58999633789062,82.30999755859375,81.88999938964844,81.8499984741211,83.08999633789062,83.62000274658203,84.20999908447266,84.33000183105469,85.08999633789062,85.0,85.58000183105469,85.12999725341797,84.75,86.0,86.62999725341797,86.12000274658203,86.73999786376953,88.02999877929688,88.16999816894531,88.61000061035156,89.19000244140625,89.12000274658203,91.1500015258789,92.93000030517578,93.68000030517578,94.0999984741211,91.98999786376953,91.63999938964844,92.80999755859375,93.19999694824219,94.08999633789062,93.69999694824219,93.27999877929688,94.30999755859375,95.31999969482422,96.2300033569336,96.98999786376953,95.79000091552734,96.11000061035156,96.08000183105469,95.4800033569336,94.83000183105469,94.41000366210938,90.94000244140625,92.0,89.9000015258789,88.93000030517578,87.02999877929688,88.2699966430664,88.38999938964844,88.66000366210938,88.73999786376953,86.88999938964844,87.02999877929688,88.41999816894531,88.83999633789062,88.05999755859375,89.29000091552734,88.80999755859375,87.37000274658203,88.91000366210938,89.0,90.4000015258789,91.29000091552734,91.76000213623047,92.44999694824219,93.2300033569336,93.87000274658203,94.33000183105469,95.62999725341797,95.56999969482422,96.55999755859375,97.30000305175781,97.87999725341797,97.7699966430664,99.62000274658203,99.93000030517578,99.4800033569336,98.37999725341797,98.27999877929688,97.94999694824219,95.4800033569336,94.0999984741211,95.0,98.23999786376953,99.62999725341797,98.70999908447266,98.97000122070312,100.05999755859375,101.12999725341797,100.77999877929688,99.47000122070312,99.38999938964844,101.22000122070312,103.58999633789062,102.94000244140625,102.41000366210938,102.05000305175781,102.0999984741211,103.02999877929688,101.44999694824219,100.80000305175781,100.33000183105469,100.88999938964844,102.2699966430664,105.29000091552734,105.69999694824219,107.04000091552734,108.4000015258789,109.83000183105469,109.05000305175781,112.62999725341797,109.83999633789062,108.4000015258789,110.2300033569336,111.16000366210938,110.5,109.48999786376953,108.23999786376953,106.79000091552734,105.44999694824219,110.12999725341797,111.18000030517578,112.29000091552734,114.19999694824219,117.44999694824219,116.54000091552734,110.0,111.25,112.13999938964844,113.5999984741211,113.4000015258789,112.80999755859375,114.97000122070312,117.66999816894531,119.87000274658203,119.94000244140625,121.4800033569336,121.43000030517578,124.37000274658203,127.97000122070312,126.18000030517578,126.63999938964844,128.39999389648438,123.04000091552734,117.16999816894531,120.86000061035156,121.77999877929688,120.86000061035156,117.26000213623047,116.1500015258789,117.66999816894531,118.87999725341797,118.93000030517578,115.5999984741211,113.80000305175781,111.0999984741211,113.01000213623047,110.51499938964844],\"type\":\"scatter\"},{\"mode\":\"lines\",\"name\":\"Low\",\"x\":[\"2018-01-02\",\"2018-01-03\",\"2018-01-04\",\"2018-01-05\",\"2018-01-08\",\"2018-01-09\",\"2018-01-10\",\"2018-01-11\",\"2018-01-12\",\"2018-01-16\",\"2018-01-17\",\"2018-01-18\",\"2018-01-19\",\"2018-01-22\",\"2018-01-23\",\"2018-01-24\",\"2018-01-25\",\"2018-01-26\",\"2018-01-29\",\"2018-01-30\",\"2018-01-31\",\"2018-02-01\",\"2018-02-02\",\"2018-02-05\",\"2018-02-06\",\"2018-02-07\",\"2018-02-08\",\"2018-02-09\",\"2018-02-12\",\"2018-02-13\",\"2018-02-14\",\"2018-02-15\",\"2018-02-16\",\"2018-02-20\",\"2018-02-21\",\"2018-02-22\",\"2018-02-23\",\"2018-02-26\",\"2018-02-27\",\"2018-02-28\",\"2018-03-01\",\"2018-03-02\",\"2018-03-05\",\"2018-03-06\",\"2018-03-07\",\"2018-03-08\",\"2018-03-09\",\"2018-03-12\",\"2018-03-13\",\"2018-03-14\",\"2018-03-15\",\"2018-03-16\",\"2018-03-19\",\"2018-03-20\",\"2018-03-21\",\"2018-03-22\",\"2018-03-23\",\"2018-03-26\",\"2018-03-27\",\"2018-03-28\",\"2018-03-29\",\"2018-04-02\",\"2018-04-03\",\"2018-04-04\",\"2018-04-05\",\"2018-04-06\",\"2018-04-09\",\"2018-04-10\",\"2018-04-11\",\"2018-04-12\",\"2018-04-13\",\"2018-04-16\",\"2018-04-17\",\"2018-04-18\",\"2018-04-19\",\"2018-04-20\",\"2018-04-23\",\"2018-04-24\",\"2018-04-25\",\"2018-04-26\",\"2018-04-27\",\"2018-04-30\",\"2018-05-01\",\"2018-05-02\",\"2018-05-03\",\"2018-05-04\",\"2018-05-07\",\"2018-05-08\",\"2018-05-09\",\"2018-05-10\",\"2018-05-11\",\"2018-05-14\",\"2018-05-15\",\"2018-05-16\",\"2018-05-17\",\"2018-05-18\",\"2018-05-21\",\"2018-05-22\",\"2018-05-23\",\"2018-05-24\",\"2018-05-25\",\"2018-05-29\",\"2018-05-30\",\"2018-05-31\",\"2018-06-01\",\"2018-06-04\",\"2018-06-05\",\"2018-06-06\",\"2018-06-07\",\"2018-06-08\",\"2018-06-11\",\"2018-06-12\",\"2018-06-13\",\"2018-06-14\",\"2018-06-15\",\"2018-06-18\",\"2018-06-19\",\"2018-06-20\",\"2018-06-21\",\"2018-06-22\",\"2018-06-25\",\"2018-06-26\",\"2018-06-27\",\"2018-06-28\",\"2018-06-29\",\"2018-07-02\",\"2018-07-03\",\"2018-07-05\",\"2018-07-06\",\"2018-07-09\",\"2018-07-10\",\"2018-07-11\",\"2018-07-12\",\"2018-07-13\",\"2018-07-16\",\"2018-07-17\",\"2018-07-18\",\"2018-07-19\",\"2018-07-20\",\"2018-07-23\",\"2018-07-24\",\"2018-07-25\",\"2018-07-26\",\"2018-07-27\",\"2018-07-30\",\"2018-07-31\",\"2018-08-01\",\"2018-08-02\",\"2018-08-03\",\"2018-08-06\",\"2018-08-07\",\"2018-08-08\",\"2018-08-09\",\"2018-08-10\",\"2018-08-13\",\"2018-08-14\",\"2018-08-15\",\"2018-08-16\",\"2018-08-17\",\"2018-08-20\",\"2018-08-21\",\"2018-08-22\",\"2018-08-23\",\"2018-08-24\",\"2018-08-27\",\"2018-08-28\",\"2018-08-29\",\"2018-08-30\",\"2018-08-31\",\"2018-09-04\",\"2018-09-05\",\"2018-09-06\",\"2018-09-07\",\"2018-09-10\",\"2018-09-11\",\"2018-09-12\",\"2018-09-13\",\"2018-09-14\",\"2018-09-17\",\"2018-09-18\",\"2018-09-19\",\"2018-09-20\",\"2018-09-21\",\"2018-09-24\",\"2018-09-25\",\"2018-09-26\",\"2018-09-27\",\"2018-09-28\",\"2018-10-01\",\"2018-10-02\",\"2018-10-03\",\"2018-10-04\",\"2018-10-05\",\"2018-10-08\",\"2018-10-09\",\"2018-10-10\",\"2018-10-11\",\"2018-10-12\",\"2018-10-15\",\"2018-10-16\",\"2018-10-17\",\"2018-10-18\",\"2018-10-19\",\"2018-10-22\",\"2018-10-23\",\"2018-10-24\",\"2018-10-25\",\"2018-10-26\",\"2018-10-29\",\"2018-10-30\",\"2018-10-31\",\"2018-11-01\",\"2018-11-02\",\"2018-11-05\",\"2018-11-06\",\"2018-11-07\",\"2018-11-08\",\"2018-11-09\",\"2018-11-12\",\"2018-11-13\",\"2018-11-14\",\"2018-11-15\",\"2018-11-16\",\"2018-11-19\",\"2018-11-20\",\"2018-11-21\",\"2018-11-23\",\"2018-11-26\",\"2018-11-27\",\"2018-11-28\",\"2018-11-29\",\"2018-11-30\",\"2018-12-03\",\"2018-12-04\",\"2018-12-06\",\"2018-12-07\",\"2018-12-10\",\"2018-12-11\",\"2018-12-12\",\"2018-12-13\",\"2018-12-14\",\"2018-12-17\",\"2018-12-18\",\"2018-12-19\",\"2018-12-20\",\"2018-12-21\",\"2018-12-24\",\"2018-12-26\",\"2018-12-27\",\"2018-12-28\",\"2018-12-31\",\"2019-01-02\",\"2019-01-03\",\"2019-01-04\",\"2019-01-07\",\"2019-01-08\",\"2019-01-09\",\"2019-01-10\",\"2019-01-11\",\"2019-01-14\",\"2019-01-15\",\"2019-01-16\",\"2019-01-17\",\"2019-01-18\",\"2019-01-22\",\"2019-01-23\",\"2019-01-24\",\"2019-01-25\",\"2019-01-28\",\"2019-01-29\",\"2019-01-30\",\"2019-01-31\",\"2019-02-01\",\"2019-02-04\",\"2019-02-05\",\"2019-02-06\",\"2019-02-07\",\"2019-02-08\",\"2019-02-11\",\"2019-02-12\",\"2019-02-13\",\"2019-02-14\",\"2019-02-15\",\"2019-02-19\",\"2019-02-20\",\"2019-02-21\",\"2019-02-22\",\"2019-02-25\",\"2019-02-26\",\"2019-02-27\",\"2019-02-28\",\"2019-03-01\",\"2019-03-04\",\"2019-03-05\",\"2019-03-06\",\"2019-03-07\",\"2019-03-08\",\"2019-03-11\",\"2019-03-12\",\"2019-03-13\",\"2019-03-14\",\"2019-03-15\",\"2019-03-18\",\"2019-03-19\",\"2019-03-20\",\"2019-03-21\",\"2019-03-22\",\"2019-03-25\",\"2019-03-26\",\"2019-03-27\",\"2019-03-28\",\"2019-03-29\",\"2019-04-01\",\"2019-04-02\",\"2019-04-03\",\"2019-04-04\",\"2019-04-05\",\"2019-04-08\",\"2019-04-09\",\"2019-04-10\",\"2019-04-11\",\"2019-04-12\",\"2019-04-15\",\"2019-04-16\",\"2019-04-17\",\"2019-04-18\",\"2019-04-22\",\"2019-04-23\",\"2019-04-24\",\"2019-04-25\",\"2019-04-26\",\"2019-04-29\",\"2019-04-30\",\"2019-05-01\",\"2019-05-02\",\"2019-05-03\",\"2019-05-06\",\"2019-05-07\",\"2019-05-08\",\"2019-05-09\",\"2019-05-10\",\"2019-05-13\",\"2019-05-14\",\"2019-05-15\",\"2019-05-16\",\"2019-05-17\",\"2019-05-20\",\"2019-05-21\",\"2019-05-22\",\"2019-05-23\",\"2019-05-24\",\"2019-05-28\",\"2019-05-29\",\"2019-05-30\",\"2019-05-31\",\"2019-06-03\",\"2019-06-04\",\"2019-06-05\",\"2019-06-06\",\"2019-06-07\",\"2019-06-10\",\"2019-06-11\",\"2019-06-12\",\"2019-06-13\",\"2019-06-14\",\"2019-06-17\",\"2019-06-18\",\"2019-06-19\",\"2019-06-20\",\"2019-06-21\",\"2019-06-24\",\"2019-06-25\",\"2019-06-26\",\"2019-06-27\",\"2019-06-28\",\"2019-07-01\",\"2019-07-02\",\"2019-07-03\",\"2019-07-05\",\"2019-07-08\",\"2019-07-09\",\"2019-07-10\",\"2019-07-11\",\"2019-07-12\",\"2019-07-15\",\"2019-07-16\",\"2019-07-17\",\"2019-07-18\",\"2019-07-19\",\"2019-07-22\",\"2019-07-23\",\"2019-07-24\",\"2019-07-25\",\"2019-07-26\",\"2019-07-29\",\"2019-07-30\",\"2019-07-31\",\"2019-08-01\",\"2019-08-02\",\"2019-08-05\",\"2019-08-06\",\"2019-08-07\",\"2019-08-08\",\"2019-08-09\",\"2019-08-12\",\"2019-08-13\",\"2019-08-14\",\"2019-08-15\",\"2019-08-16\",\"2019-08-19\",\"2019-08-20\",\"2019-08-21\",\"2019-08-22\",\"2019-08-23\",\"2019-08-26\",\"2019-08-27\",\"2019-08-28\",\"2019-08-29\",\"2019-08-30\",\"2019-09-03\",\"2019-09-04\",\"2019-09-05\",\"2019-09-06\",\"2019-09-09\",\"2019-09-10\",\"2019-09-11\",\"2019-09-12\",\"2019-09-13\",\"2019-09-16\",\"2019-09-17\",\"2019-09-18\",\"2019-09-19\",\"2019-09-20\",\"2019-09-23\",\"2019-09-24\",\"2019-09-25\",\"2019-09-26\",\"2019-09-27\",\"2019-09-30\",\"2019-10-01\",\"2019-10-02\",\"2019-10-03\",\"2019-10-04\",\"2019-10-07\",\"2019-10-08\",\"2019-10-09\",\"2019-10-10\",\"2019-10-11\",\"2019-10-14\",\"2019-10-15\",\"2019-10-16\",\"2019-10-17\",\"2019-10-18\",\"2019-10-21\",\"2019-10-22\",\"2019-10-23\",\"2019-10-24\",\"2019-10-25\",\"2019-10-28\",\"2019-10-29\",\"2019-10-30\",\"2019-10-31\",\"2019-11-01\",\"2019-11-04\",\"2019-11-05\",\"2019-11-06\",\"2019-11-07\",\"2019-11-08\",\"2019-11-11\",\"2019-11-12\",\"2019-11-13\",\"2019-11-14\",\"2019-11-15\",\"2019-11-18\",\"2019-11-19\",\"2019-11-20\",\"2019-11-21\",\"2019-11-22\",\"2019-11-25\",\"2019-11-26\",\"2019-11-27\",\"2019-11-29\",\"2019-12-02\",\"2019-12-03\",\"2019-12-04\",\"2019-12-05\",\"2019-12-06\",\"2019-12-09\",\"2019-12-10\",\"2019-12-11\",\"2019-12-12\",\"2019-12-13\",\"2019-12-16\",\"2019-12-17\",\"2019-12-18\",\"2019-12-19\",\"2019-12-20\",\"2019-12-23\",\"2019-12-24\",\"2019-12-26\",\"2019-12-27\",\"2019-12-30\",\"2019-12-31\",\"2020-01-02\",\"2020-01-03\",\"2020-01-06\",\"2020-01-07\",\"2020-01-08\",\"2020-01-09\",\"2020-01-10\",\"2020-01-13\",\"2020-01-14\",\"2020-01-15\",\"2020-01-16\",\"2020-01-17\",\"2020-01-21\",\"2020-01-22\",\"2020-01-23\",\"2020-01-24\",\"2020-01-27\",\"2020-01-28\",\"2020-01-29\",\"2020-01-30\",\"2020-01-31\",\"2020-02-03\",\"2020-02-04\",\"2020-02-05\",\"2020-02-06\",\"2020-02-07\",\"2020-02-10\",\"2020-02-11\",\"2020-02-12\",\"2020-02-13\",\"2020-02-14\",\"2020-02-18\",\"2020-02-19\",\"2020-02-20\",\"2020-02-21\",\"2020-02-24\",\"2020-02-25\",\"2020-02-26\",\"2020-02-27\",\"2020-02-28\",\"2020-03-02\",\"2020-03-03\",\"2020-03-04\",\"2020-03-05\",\"2020-03-06\",\"2020-03-09\",\"2020-03-10\",\"2020-03-11\",\"2020-03-12\",\"2020-03-13\",\"2020-03-16\",\"2020-03-17\",\"2020-03-18\",\"2020-03-19\",\"2020-03-20\",\"2020-03-23\",\"2020-03-24\",\"2020-03-25\",\"2020-03-26\",\"2020-03-27\",\"2020-03-30\",\"2020-03-31\",\"2020-04-01\",\"2020-04-02\",\"2020-04-03\",\"2020-04-06\",\"2020-04-07\",\"2020-04-08\",\"2020-04-09\",\"2020-04-13\",\"2020-04-14\",\"2020-04-15\",\"2020-04-16\",\"2020-04-17\",\"2020-04-20\",\"2020-04-21\",\"2020-04-22\",\"2020-04-23\",\"2020-04-24\",\"2020-04-27\",\"2020-04-28\",\"2020-04-29\",\"2020-04-30\",\"2020-05-01\",\"2020-05-04\",\"2020-05-05\",\"2020-05-06\",\"2020-05-07\",\"2020-05-08\",\"2020-05-11\",\"2020-05-12\",\"2020-05-13\",\"2020-05-14\",\"2020-05-15\",\"2020-05-18\",\"2020-05-19\",\"2020-05-20\",\"2020-05-21\",\"2020-05-22\",\"2020-05-26\",\"2020-05-27\",\"2020-05-28\",\"2020-05-29\",\"2020-06-01\",\"2020-06-02\",\"2020-06-03\",\"2020-06-04\",\"2020-06-05\",\"2020-06-08\",\"2020-06-09\",\"2020-06-10\",\"2020-06-11\",\"2020-06-12\",\"2020-06-15\",\"2020-06-16\",\"2020-06-17\",\"2020-06-18\",\"2020-06-19\",\"2020-06-22\",\"2020-06-23\",\"2020-06-24\",\"2020-06-25\",\"2020-06-26\",\"2020-06-29\",\"2020-06-30\",\"2020-07-01\",\"2020-07-02\",\"2020-07-06\",\"2020-07-07\",\"2020-07-08\",\"2020-07-09\",\"2020-07-10\",\"2020-07-13\",\"2020-07-14\",\"2020-07-15\",\"2020-07-16\",\"2020-07-17\",\"2020-07-20\",\"2020-07-21\",\"2020-07-22\",\"2020-07-23\",\"2020-07-24\",\"2020-07-27\",\"2020-07-28\",\"2020-07-29\",\"2020-07-30\",\"2020-07-31\",\"2020-08-03\",\"2020-08-04\",\"2020-08-05\",\"2020-08-06\",\"2020-08-07\",\"2020-08-10\",\"2020-08-11\",\"2020-08-12\",\"2020-08-13\",\"2020-08-14\",\"2020-08-17\",\"2020-08-18\",\"2020-08-19\",\"2020-08-20\",\"2020-08-21\",\"2020-08-24\",\"2020-08-25\",\"2020-08-26\",\"2020-08-27\",\"2020-08-28\",\"2020-08-31\",\"2020-09-01\",\"2020-09-02\",\"2020-09-03\",\"2020-09-04\",\"2020-09-08\",\"2020-09-09\",\"2020-09-10\",\"2020-09-11\",\"2020-09-14\",\"2020-09-15\",\"2020-09-16\",\"2020-09-17\",\"2020-09-18\",\"2020-09-21\",\"2020-09-22\",\"2020-09-23\",\"2020-09-24\",\"2020-09-25\",\"2020-09-28\",\"2020-09-29\",\"2020-09-30\",\"2020-10-01\",\"2020-10-02\",\"2020-10-05\",\"2020-10-06\",\"2020-10-07\",\"2020-10-08\",\"2020-10-09\",\"2020-10-12\",\"2020-10-13\",\"2020-10-14\",\"2020-10-15\",\"2020-10-16\",\"2020-10-19\",\"2020-10-20\",\"2020-10-21\",\"2020-10-22\",\"2020-10-23\",\"2020-10-26\",\"2020-10-27\",\"2020-10-28\",\"2020-10-29\",\"2020-10-30\",\"2020-11-02\",\"2020-11-03\",\"2020-11-04\",\"2020-11-05\",\"2020-11-06\",\"2020-11-09\",\"2020-11-10\",\"2020-11-11\",\"2020-11-12\",\"2020-11-13\",\"2020-11-16\",\"2020-11-17\",\"2020-11-18\",\"2020-11-19\",\"2020-11-20\",\"2020-11-23\",\"2020-11-24\",\"2020-11-25\",\"2020-11-27\",\"2020-11-30\",\"2020-12-01\",\"2020-12-02\",\"2020-12-03\",\"2020-12-04\",\"2020-12-07\",\"2020-12-08\",\"2020-12-09\",\"2020-12-10\",\"2020-12-11\",\"2020-12-14\",\"2020-12-15\",\"2020-12-16\",\"2020-12-17\",\"2020-12-18\",\"2020-12-21\",\"2020-12-22\",\"2020-12-23\",\"2020-12-24\",\"2020-12-28\",\"2020-12-29\",\"2020-12-30\",\"2020-12-31\",\"2021-01-04\",\"2021-01-05\",\"2021-01-06\",\"2021-01-07\",\"2021-01-08\",\"2021-01-11\",\"2021-01-12\",\"2021-01-13\",\"2021-01-14\",\"2021-01-15\",\"2021-01-19\",\"2021-01-20\",\"2021-01-21\",\"2021-01-22\",\"2021-01-25\",\"2021-01-26\",\"2021-01-27\",\"2021-01-28\",\"2021-01-29\",\"2021-02-01\",\"2021-02-02\",\"2021-02-03\",\"2021-02-04\",\"2021-02-05\",\"2021-02-08\",\"2021-02-09\",\"2021-02-10\",\"2021-02-11\",\"2021-02-12\",\"2021-02-16\",\"2021-02-17\",\"2021-02-18\",\"2021-02-19\",\"2021-02-22\",\"2021-02-23\",\"2021-02-24\",\"2021-02-25\",\"2021-02-26\",\"2021-03-01\",\"2021-03-02\",\"2021-03-03\",\"2021-03-04\",\"2021-03-05\",\"2021-03-08\",\"2021-03-09\",\"2021-03-10\",\"2021-03-11\",\"2021-03-12\",\"2021-03-15\",\"2021-03-16\",\"2021-03-17\",\"2021-03-18\",\"2021-03-19\",\"2021-03-22\",\"2021-03-23\",\"2021-03-24\",\"2021-03-25\",\"2021-03-26\",\"2021-03-29\",\"2021-03-30\",\"2021-03-31\",\"2021-04-01\",\"2021-04-05\",\"2021-04-06\",\"2021-04-07\",\"2021-04-08\",\"2021-04-09\",\"2021-04-12\",\"2021-04-13\",\"2021-04-14\",\"2021-04-15\",\"2021-04-16\",\"2021-04-19\",\"2021-04-20\",\"2021-04-21\",\"2021-04-22\",\"2021-04-23\",\"2021-04-26\",\"2021-04-27\",\"2021-04-28\",\"2021-04-29\",\"2021-04-30\",\"2021-05-03\",\"2021-05-04\",\"2021-05-05\",\"2021-05-06\",\"2021-05-07\",\"2021-05-10\",\"2021-05-11\",\"2021-05-12\",\"2021-05-13\",\"2021-05-14\",\"2021-05-17\",\"2021-05-18\",\"2021-05-19\",\"2021-05-20\",\"2021-05-21\",\"2021-05-24\",\"2021-05-25\",\"2021-05-26\",\"2021-05-27\",\"2021-05-28\",\"2021-06-01\",\"2021-06-02\",\"2021-06-03\",\"2021-06-04\",\"2021-06-07\",\"2021-06-08\",\"2021-06-09\",\"2021-06-10\",\"2021-06-11\",\"2021-06-14\",\"2021-06-15\",\"2021-06-16\",\"2021-06-17\",\"2021-06-18\",\"2021-06-21\",\"2021-06-22\",\"2021-06-23\",\"2021-06-24\",\"2021-06-25\",\"2021-06-28\",\"2021-06-29\",\"2021-06-30\",\"2021-07-01\",\"2021-07-02\",\"2021-07-06\",\"2021-07-07\",\"2021-07-08\",\"2021-07-09\",\"2021-07-12\",\"2021-07-13\",\"2021-07-14\",\"2021-07-15\",\"2021-07-16\",\"2021-07-19\",\"2021-07-20\",\"2021-07-21\",\"2021-07-22\",\"2021-07-23\",\"2021-07-26\",\"2021-07-27\",\"2021-07-28\",\"2021-07-29\",\"2021-07-30\",\"2021-08-02\",\"2021-08-03\",\"2021-08-04\",\"2021-08-05\",\"2021-08-06\",\"2021-08-09\",\"2021-08-10\",\"2021-08-11\",\"2021-08-12\",\"2021-08-13\",\"2021-08-16\",\"2021-08-17\",\"2021-08-18\",\"2021-08-19\",\"2021-08-20\",\"2021-08-23\",\"2021-08-24\",\"2021-08-25\",\"2021-08-26\",\"2021-08-27\",\"2021-08-30\",\"2021-08-31\",\"2021-09-01\",\"2021-09-02\",\"2021-09-03\",\"2021-09-07\",\"2021-09-08\",\"2021-09-09\",\"2021-09-10\",\"2021-09-13\",\"2021-09-14\",\"2021-09-15\",\"2021-09-16\",\"2021-09-17\",\"2021-09-20\",\"2021-09-21\",\"2021-09-22\",\"2021-09-23\",\"2021-09-24\",\"2021-09-27\",\"2021-09-28\",\"2021-09-29\",\"2021-09-30\",\"2021-10-01\",\"2021-10-04\",\"2021-10-05\",\"2021-10-06\",\"2021-10-07\",\"2021-10-08\",\"2021-10-11\",\"2021-10-12\",\"2021-10-13\",\"2021-10-14\",\"2021-10-15\",\"2021-10-18\",\"2021-10-19\",\"2021-10-20\",\"2021-10-21\",\"2021-10-22\",\"2021-10-25\",\"2021-10-26\",\"2021-10-27\",\"2021-10-28\",\"2021-10-29\",\"2021-11-01\",\"2021-11-02\",\"2021-11-03\",\"2021-11-04\",\"2021-11-05\",\"2021-11-08\",\"2021-11-09\",\"2021-11-10\",\"2021-11-11\",\"2021-11-12\",\"2021-11-15\",\"2021-11-16\",\"2021-11-17\",\"2021-11-18\",\"2021-11-19\",\"2021-11-22\",\"2021-11-23\",\"2021-11-24\",\"2021-11-26\",\"2021-11-29\",\"2021-11-30\",\"2021-12-01\",\"2021-12-02\",\"2021-12-03\",\"2021-12-06\",\"2021-12-07\",\"2021-12-08\",\"2021-12-09\",\"2021-12-10\",\"2021-12-13\",\"2021-12-14\",\"2021-12-15\",\"2021-12-16\",\"2021-12-17\",\"2021-12-20\",\"2021-12-21\",\"2021-12-22\",\"2021-12-23\",\"2021-12-27\",\"2021-12-28\",\"2021-12-29\",\"2021-12-30\",\"2021-12-31\",\"2022-01-03\",\"2022-01-04\",\"2022-01-05\",\"2022-01-06\",\"2022-01-07\",\"2022-01-10\",\"2022-01-11\",\"2022-01-12\",\"2022-01-13\",\"2022-01-14\",\"2022-01-18\",\"2022-01-19\",\"2022-01-20\",\"2022-01-21\",\"2022-01-24\",\"2022-01-25\",\"2022-01-26\",\"2022-01-27\",\"2022-01-28\",\"2022-01-31\",\"2022-02-01\",\"2022-02-02\",\"2022-02-03\",\"2022-02-04\",\"2022-02-07\",\"2022-02-08\",\"2022-02-09\",\"2022-02-10\",\"2022-02-11\",\"2022-02-14\",\"2022-02-15\",\"2022-02-16\",\"2022-02-17\",\"2022-02-18\",\"2022-02-22\",\"2022-02-23\",\"2022-02-24\",\"2022-02-25\",\"2022-02-28\",\"2022-03-01\",\"2022-03-02\",\"2022-03-03\",\"2022-03-04\",\"2022-03-07\",\"2022-03-08\",\"2022-03-09\",\"2022-03-10\",\"2022-03-11\",\"2022-03-14\",\"2022-03-15\",\"2022-03-16\",\"2022-03-17\",\"2022-03-18\",\"2022-03-21\",\"2022-03-22\",\"2022-03-23\",\"2022-03-24\",\"2022-03-25\",\"2022-03-28\",\"2022-03-29\",\"2022-03-30\",\"2022-03-31\",\"2022-04-01\",\"2022-04-04\",\"2022-04-05\",\"2022-04-06\",\"2022-04-07\",\"2022-04-08\",\"2022-04-11\",\"2022-04-12\",\"2022-04-13\",\"2022-04-14\",\"2022-04-18\",\"2022-04-19\",\"2022-04-20\",\"2022-04-21\",\"2022-04-22\",\"2022-04-25\",\"2022-04-26\",\"2022-04-27\",\"2022-04-28\",\"2022-04-29\",\"2022-05-02\",\"2022-05-03\",\"2022-05-04\",\"2022-05-05\",\"2022-05-06\",\"2022-05-09\",\"2022-05-10\",\"2022-05-11\",\"2022-05-12\"],\"y\":[66.44999694824219,68.05999755859375,69.75,69.55000305175781,68.23999786376953,68.87000274658203,67.81999969482422,69.36000061035156,69.16999816894531,69.41000366210938,69.66000366210938,69.44000244140625,68.6500015258789,78.4000015258789,79.81999969482422,79.37000274658203,79.7699966430664,80.05000305175781,80.19000244140625,79.4000015258789,78.83000183105469,78.91000366210938,78.43000030517578,80.88999938964844,80.33000183105469,81.33999633789062,79.95999908447266,77.69999694824219,78.06999969482422,78.58000183105469,74.0,75.18000030517578,76.8499984741211,75.01000213623047,75.08999633789062,75.1500015258789,75.4800033569336,75.69000244140625,74.83000183105469,75.29000091552734,75.04000091552734,74.33999633789062,75.12000274658203,76.69000244140625,77.16999816894531,76.5999984741211,72.31999969482422,75.47000122070312,75.5199966430664,74.05000305175781,73.30999755859375,72.20999908447266,72.33999633789062,72.66000366210938,72.61000061035156,71.94000244140625,72.4000015258789,71.62000274658203,72.37999725341797,72.4000015258789,73.30999755859375,71.5999984741211,73.16999816894531,73.0,74.75,74.9000015258789,74.9000015258789,73.94999694824219,73.69999694824219,74.11000061035156,74.73999786376953,74.55999755859375,74.69000244140625,74.01000213623047,74.86000061035156,72.58999633789062,72.69999694824219,72.37000274658203,72.11000061035156,71.91999816894531,71.95999908447266,72.06999969482422,71.30000305175781,72.7699966430664,69.97000122070312,69.61000061035156,68.88999938964844,69.11000061035156,69.43000030517578,69.80000305175781,70.76000213623047,70.30000305175781,70.4000015258789,70.30999755859375,70.27999877929688,69.41999816894531,69.04000091552734,69.86000061035156,69.43000030517578,69.41999816894531,69.80000305175781,69.23999786376953,69.51000213623047,68.97000122070312,69.43000030517578,69.61000061035156,69.58999633789062,69.33999633789062,68.95999908447266,69.08999633789062,69.18000030517578,69.44000244140625,69.33000183105469,70.25,68.43000030517578,69.54000091552734,70.80000305175781,70.12999725341797,70.51000213623047,71.08999633789062,71.12999725341797,70.86000061035156,69.94999694824219,68.91000366210938,69.23999786376953,69.08999633789062,67.68000030517578,67.7300033569336,69.16999816894531,69.41000366210938,69.55999755859375,69.61000061035156,68.7300033569336,68.08999633789062,67.36000061035156,67.79000091552734,68.25,67.9000015258789,67.41999816894531,67.58000183105469,67.68000030517578,67.31999969482422,67.8499984741211,67.86000061035156,67.83999633789062,68.66000366210938,65.94000244140625,65.16999816894531,65.98999786376953,66.0,66.0999984741211,65.70999908447266,64.91999816894531,63.029998779296875,61.400001525878906,61.40999984741211,61.279998779296875,61.97999954223633,62.220001220703125,63.04999923706055,63.2599983215332,62.93000030517578,62.5,62.779998779296875,64.16000366210938,64.37000274658203,64.55000305175781,64.30999755859375,64.47000122070312,63.54999923706055,63.529998779296875,62.95000076293945,62.349998474121094,62.880001068115234,61.9900016784668,63.380001068115234,63.47999954223633,63.83000183105469,63.72999954223633,64.08000183105469,65.05000305175781,65.25,65.7300033569336,66.0999984741211,66.37000274658203,66.41000366210938,67.02999877929688,67.66000366210938,67.44999694824219,67.48999786376953,68.77999877929688,67.83000183105469,68.43000030517578,69.0,69.75,67.41999816894531,65.7300033569336,66.41000366210938,67.13999938964844,67.75,67.54000091552734,66.79000091552734,67.19999694824219,66.27999877929688,65.33000183105469,65.55000305175781,65.30000305175781,64.58000183105469,65.18000030517578,65.08999633789062,61.33000183105469,61.2599983215332,62.11000061035156,61.88999938964844,62.27000045776367,62.68000030517578,62.400001525878906,62.20000076293945,61.88999938964844,61.5099983215332,59.560001373291016,58.83000183105469,58.09000015258789,58.11000061035156,57.83000183105469,58.18000030517578,57.15999984741211,57.5099983215332,57.79999923706055,57.630001068115234,57.779998779296875,56.79999923706055,57.58000183105469,57.380001068115234,56.13999938964844,57.630001068115234,59.16999816894531,58.189998626708984,58.529998779296875,58.72999954223633,58.31999969482422,57.65999984741211,56.720001220703125,56.36000061035156,53.650001525878906,53.279998779296875,51.45000076293945,51.130001068115234,51.790000915527344,52.61000061035156,52.02000045776367,52.79999923706055,52.279998779296875,53.529998779296875,54.75,55.08000183105469,55.70000076293945,56.099998474121094,55.66999816894531,54.45000076293945,52.91999816894531,51.720001220703125,51.2400016784668,52.33000183105469,51.20000076293945,51.2599983215332,52.33000183105469,53.04999923706055,52.650001525878906,53.43000030517578,53.709999084472656,54.349998474121094,54.41999816894531,53.58000183105469,53.63999938964844,53.63999938964844,53.11000061035156,52.84000015258789,52.34000015258789,52.310001373291016,52.540000915527344,52.63999938964844,52.2599983215332,52.130001068115234,52.58000183105469,48.88999938964844,51.63999938964844,51.849998474121094,52.630001068115234,52.34000015258789,52.72999954223633,52.290000915527344,52.34000015258789,52.189998626708984,50.970001220703125,50.06999969482422,49.900001525878906,50.25,51.529998779296875,51.86000061035156,51.45000076293945,51.939998626708984,52.06999969482422,51.939998626708984,51.29999923706055,51.38999938964844,51.45000076293945,51.08000183105469,51.060001373291016,51.13999938964844,51.63999938964844,52.380001068115234,52.66999816894531,52.099998474121094,51.650001525878906,51.95000076293945,52.380001068115234,53.06999969482422,52.61000061035156,52.709999084472656,52.77000045776367,52.54999923706055,52.099998474121094,51.709999084472656,51.459999084472656,50.900001525878906,50.79999923706055,51.25,50.959999084472656,48.52000045776367,47.2599983215332,49.099998474121094,50.290000915527344,52.150001525878906,50.869998931884766,50.75,50.20000076293945,49.63999938964844,51.25,53.040000915527344,51.79999923706055,52.220001220703125,52.47999954223633,52.38999938964844,53.08000183105469,52.0,51.61000061035156,51.52000045776367,50.209999084472656,50.5,50.36000061035156,50.470001220703125,50.66999816894531,51.09000015258789,50.83000183105469,51.90999984741211,54.369998931884766,53.650001525878906,54.119998931884766,54.70000076293945,55.06999969482422,55.7400016784668,56.2400016784668,56.97999954223633,57.279998779296875,57.279998779296875,57.599998474121094,57.15999984741211,57.18000030517578,56.790000915527344,56.959999084472656,55.75,55.560001373291016,54.86000061035156,55.040000915527344,56.06999969482422,56.310001373291016,56.59000015258789,56.029998779296875,56.279998779296875,56.560001373291016,57.18000030517578,56.470001220703125,56.61000061035156,56.459999084472656,55.459999084472656,55.119998931884766,55.290000915527344,55.38999938964844,56.040000915527344,56.540000915527344,56.20000076293945,56.349998474121094,56.36000061035156,55.86000061035156,56.04999923706055,57.900001525878906,57.790000915527344,56.4900016784668,55.16999816894531,55.0,54.880001068115234,56.27000045776367,56.869998931884766,53.2599983215332,53.189998626708984,52.33000183105469,53.0099983215332,53.58000183105469,53.0099983215332,53.869998931884766,53.380001068115234,54.220001220703125,53.02000045776367,52.939998626708984,51.65999984741211,51.77000045776367,52.029998779296875,53.15999984741211,52.630001068115234,53.630001068115234,54.189998626708984,55.040000915527344,55.720001220703125,56.540000915527344,56.56999969482422,56.939998626708984,56.599998474121094,56.380001068115234,56.56999969482422,56.27000045776367,56.08000183105469,55.720001220703125,55.25,55.31999969482422,55.59000015258789,56.08000183105469,56.20000076293945,56.290000915527344,55.95000076293945,55.43000030517578,54.81999969482422,55.59000015258789,55.40999984741211,54.400001525878906,54.22999954223633,54.59000015258789,55.77000045776367,55.939998626708984,56.20000076293945,55.22999954223633,54.5099983215332,54.209999084472656,54.65999984741211,54.720001220703125,54.400001525878906,54.29999923706055,54.34000015258789,54.869998931884766,55.040000915527344,52.310001373291016,52.099998474121094,53.720001220703125,54.58000183105469,55.22999954223633,55.15999984741211,55.29999923706055,54.880001068115234,55.20000076293945,55.58000183105469,54.709999084472656,55.029998779296875,55.150001525878906,54.61000061035156,54.650001525878906,54.630001068115234,54.54999923706055,54.08000183105469,53.86000061035156,53.029998779296875,53.15999984741211,52.79999923706055,53.119998931884766,52.47999954223633,52.779998779296875,52.790000915527344,53.61000061035156,53.08000183105469,54.13999938964844,54.58000183105469,55.279998779296875,55.060001373291016,55.61000061035156,55.18000030517578,55.31999969482422,55.7400016784668,55.220001220703125,56.75,56.900001525878906,57.099998474121094,57.13999938964844,56.869998931884766,56.939998626708984,57.099998474121094,57.29999923706055,57.099998474121094,56.93000030517578,56.13999938964844,55.209999084472656,55.54999923706055,55.45000076293945,55.33000183105469,55.189998626708984,55.40999984741211,55.880001068115234,55.720001220703125,55.189998626708984,54.84000015258789,54.119998931884766,51.709999084472656,51.29999923706055,51.0,50.90999984741211,51.81999969482422,52.52000045776367,52.79999923706055,53.290000915527344,53.630001068115234,53.119998931884766,53.619998931884766,54.70000076293945,54.84000015258789,54.65999984741211,54.18000030517578,52.95000076293945,53.56999969482422,53.16999816894531,53.0,52.220001220703125,50.619998931884766,50.52000045776367,47.5099983215332,45.650001525878906,47.06999969482422,48.040000915527344,49.2599983215332,47.90999984741211,45.880001068115234,42.189998626708984,40.75,39.31999969482422,34.11000061035156,36.0,33.31999969482422,33.63999938964844,29.639999389648438,29.0,31.700000762939453,30.739999771118164,34.119998931884766,35.22999954223633,36.31999969482422,35.150001525878906,35.650001525878906,39.689998626708984,37.529998779296875,37.79999923706055,36.630001068115234,37.959999084472656,37.9900016784668,38.18000030517578,39.529998779296875,38.88999938964844,38.779998779296875,36.36000061035156,36.38999938964844,38.61000061035156,38.77000045776367,36.09000015258789,36.45000076293945,38.0,38.7400016784668,39.16999816894531,39.56999969482422,40.88999938964844,39.54999923706055,37.599998474121094,37.15999984741211,37.83000183105469,32.68000030517578,34.5,36.04999923706055,34.619998931884766,34.529998779296875,33.81999969482422,33.08000183105469,33.72999954223633,35.119998931884766,34.970001220703125,35.18000030517578,35.0,34.56999969482422,36.93000030517578,38.310001373291016,38.650001525878906,37.90999984741211,38.66999816894531,38.93000030517578,40.380001068115234,40.61000061035156,42.33000183105469,43.310001373291016,42.099998474121094,40.38999938964844,38.709999084472656,38.63999938964844,37.81999969482422,39.970001220703125,40.08000183105469,39.709999084472656,40.630001068115234,40.029998779296875,40.41999816894531,39.70000076293945,41.209999084472656,40.20000076293945,40.439998626708984,40.29999923706055,40.040000915527344,39.72999954223633,39.939998626708984,39.369998931884766,38.84000015258789,38.0,38.22999954223633,39.7400016784668,40.13999938964844,42.02000045776367,42.619998931884766,42.7599983215332,41.56999969482422,42.060001373291016,42.630001068115234,43.34000015258789,44.0,43.650001525878906,44.11000061035156,43.86000061035156,44.56999969482422,42.849998474121094,43.380001068115234,43.11000061035156,44.29999923706055,44.599998474121094,44.380001068115234,45.439998626708984,46.68000030517578,46.689998626708984,46.310001373291016,45.529998779296875,46.0099983215332,45.86000061035156,46.130001068115234,45.70000076293945,46.029998779296875,46.52000045776367,46.13999938964844,46.29999923706055,45.91999816894531,45.81999969482422,45.58000183105469,45.0099983215332,45.369998931884766,45.59000015258789,45.2400016784668,45.099998474121094,45.33000183105469,45.369998931884766,45.0099983215332,45.400001525878906,45.61000061035156,46.189998626708984,45.4900016784668,47.33000183105469,45.290000915527344,45.619998931884766,44.58000183105469,43.40999984741211,44.40999984741211,46.4900016784668,44.970001220703125,45.220001220703125,45.27000045776367,44.81999969482422,46.560001373291016,47.5099983215332,48.0,48.65999984741211,49.38999938964844,50.34000015258789,50.150001525878906,50.650001525878906,51.25,53.869998931884766,54.18000030517578,54.099998474121094,55.0,55.25,55.83000183105469,54.90999984741211,54.68000030517578,57.04999923706055,57.18000030517578,55.90999984741211,56.880001068115234,56.119998931884766,54.0,56.040000915527344,57.22999954223633,56.79999923706055,56.5,57.43000030517578,57.400001525878906,58.18000030517578,58.650001525878906,58.59000015258789,58.279998779296875,57.36000061035156,58.099998474121094,58.84000015258789,60.04999923706055,60.68000030517578,60.52000045776367,58.810001373291016,58.810001373291016,58.7599983215332,59.709999084472656,61.0,60.310001373291016,60.27000045776367,61.22999954223633,62.84000015258789,64.20999908447266,63.709999084472656,63.79999923706055,63.970001220703125,63.56999969482422,63.209999084472656,63.29999923706055,63.560001373291016,63.61000061035156,63.779998779296875,63.849998474121094,62.84000015258789,63.349998474121094,64.77999877929688,64.38999938964844,65.63999938964844,68.26000213623047,69.30000305175781,68.87000274658203,69.0999984741211,69.31999969482422,69.47000122070312,70.43000030517578,69.75,70.33000183105469,70.37999725341797,68.55000305175781,67.5199966430664,66.33000183105469,66.38999938964844,62.06999969482422,64.01000213623047,64.51000213623047,65.05000305175781,67.62999725341797,69.08000183105469,70.37000274658203,71.68000030517578,73.11000061035156,73.51000213623047,73.81999969482422,74.30000305175781,75.05000305175781,77.16999816894531,76.83000183105469,73.98999786376953,75.01000213623047,75.72000122070312,75.93000030517578,76.4000015258789,74.5,74.0199966430664,76.9000015258789,78.44999694824219,78.2300033569336,73.44999694824219,74.97000122070312,77.2300033569336,78.12000274658203,78.87000274658203,78.83999633789062,80.33999633789062,78.41000366210938,78.29000091552734,77.62999725341797,78.12999725341797,77.16000366210938,76.81999969482422,75.05999755859375,75.41000366210938,74.41999816894531,77.6500015258789,77.58000183105469,77.76000213623047,79.2699966430664,79.51000213623047,78.94000244140625,78.3499984741211,78.30000305175781,77.19999694824219,78.05999755859375,78.66999816894531,77.62000274658203,78.12999725341797,78.80000305175781,81.0,82.29000091552734,80.44999694824219,80.30000305175781,82.0199966430664,83.19999694824219,85.0999984741211,86.19999694824219,85.61000061035156,84.9000015258789,84.23999786376953,84.86000061035156,85.0,86.79000091552734,87.5199966430664,88.5,90.5,88.38999938964844,87.45999908447266,88.27999877929688,89.75,89.27999877929688,87.76000213623047,84.83999633789062,84.4000015258789,86.02999877929688,86.44000244140625,86.33999633789062,85.83000183105469,87.0,86.13999938964844,87.8499984741211,87.77999877929688,87.5999984741211,88.52999877929688,88.91999816894531,88.6500015258789,88.29000091552734,87.48999786376953,84.55000305175781,82.16999816894531,81.05999755859375,80.01000213623047,74.80999755859375,75.88999938964844,77.69999694824219,78.62999725341797,79.37999725341797,80.05000305175781,78.37000274658203,77.80000305175781,79.12000274658203,77.52999877929688,78.52999877929688,78.55000305175781,77.36000061035156,76.51000213623047,74.88999938964844,76.58999633789062,75.88999938964844,75.98999786376953,75.44000244140625,75.25,73.37000274658203,71.7300033569336,73.5199966430664,75.2300033569336,74.41999816894531,74.19000244140625,74.66999816894531,74.19999694824219,75.48999786376953,78.19000244140625,77.2699966430664,76.48999786376953,74.86000061035156,74.66999816894531,74.51000213623047,75.33000183105469,76.0999984741211,77.4000015258789,77.69000244140625,78.37999725341797,78.83000183105469,78.5199966430664,77.86000061035156,77.12999725341797,73.83000183105469,73.1500015258789,73.44999694824219,74.9800033569336,74.91999816894531,75.20999908447266,74.7699966430664,75.62999725341797,75.38999938964844,74.2699966430664,76.55000305175781,76.27999877929688,76.6500015258789,74.62999725341797,75.19000244140625,75.61000061035156,76.55999755859375,76.7699966430664,76.70999908447266,80.37000274658203,79.80000305175781,76.2300033569336,75.80999755859375,76.06999969482422,77.51000213623047,77.94000244140625,78.75,80.44000244140625,80.52999877929688,79.91000366210938,80.7300033569336,82.31999969482422,81.7699966430664,82.05999755859375,83.9000015258789,84.12999725341797,84.4000015258789,84.12999725341797,83.02999877929688,84.19999694824219,85.58000183105469,84.79000091552734,85.62999725341797,86.12999725341797,86.87000274658203,87.44999694824219,87.73999786376953,87.05000305175781,89.02999877929688,90.0,91.95999908447266,91.79000091552734,90.37000274658203,89.08999633789062,91.54000091552734,91.94999694824219,92.33999633789062,91.56999969482422,91.93000030517578,92.12000274658203,93.5,94.76000213623047,95.29000091552734,93.75,94.5199966430664,93.83999633789062,93.63999938964844,93.55000305175781,92.5999984741211,89.38999938964844,89.87999725341797,86.0,84.44999694824219,84.37999725341797,86.04000091552734,86.2699966430664,86.62999725341797,86.94999694824219,84.86000061035156,85.77999877929688,86.5199966430664,87.02999877929688,85.69999694824219,88.0,87.13999938964844,84.12000274658203,86.7699966430664,87.9000015258789,88.80000305175781,89.55999755859375,90.55000305175781,91.41999816894531,91.8499984741211,91.51000213623047,92.61000061035156,94.29000091552734,93.8499984741211,93.97000122070312,94.69999694824219,94.91000366210938,95.37000274658203,97.29000091552734,98.3499984741211,97.12999725341797,96.80999755859375,96.3499984741211,94.52999877929688,92.16999816894531,89.62000274658203,90.43000030517578,94.91000366210938,96.30000305175781,96.18000030517578,97.0199966430664,98.19999694824219,98.62999725341797,98.52999877929688,96.86000061035156,97.66999816894531,99.12000274658203,99.01000213623047,98.37000274658203,100.27999877929688,99.87000274658203,100.01000213623047,101.13999938964844,99.80000305175781,98.72000122070312,97.83999633789062,99.5,96.88999938964844,99.98999786376953,103.33000183105469,103.94000244140625,106.33999633789062,107.54000091552734,106.73999786376953,107.47000122070312,105.5,105.05000305175781,106.5199966430664,109.13999938964844,106.44000244140625,106.06999969482422,102.95999908447266,104.30000305175781,103.16999816894531,106.01000213623047,109.18000030517578,110.44999694824219,112.30000305175781,114.08999633789062,112.97000122070312,104.01000213623047,108.87000274658203,108.55000305175781,111.13999938964844,110.58000183105469,111.4000015258789,111.9000015258789,113.75,116.98999786376953,116.62000274658203,118.5,119.12000274658203,121.98999786376953,123.51000213623047,121.88999938964844,121.68000030517578,122.13999938964844,116.69999694824219,112.47000122070312,114.80999755859375,113.75,115.44999694824219,112.95999908447266,113.12000274658203,114.55999755859375,114.95999908447266,114.3499984741211,113.16000366210938,107.56999969482422,108.30000305175781,109.08000183105469,106.58999633789062],\"type\":\"scatter\"},{\"mode\":\"lines\",\"name\":\"Open\",\"x\":[\"2018-01-02\",\"2018-01-03\",\"2018-01-04\",\"2018-01-05\",\"2018-01-08\",\"2018-01-09\",\"2018-01-10\",\"2018-01-11\",\"2018-01-12\",\"2018-01-16\",\"2018-01-17\",\"2018-01-18\",\"2018-01-19\",\"2018-01-22\",\"2018-01-23\",\"2018-01-24\",\"2018-01-25\",\"2018-01-26\",\"2018-01-29\",\"2018-01-30\",\"2018-01-31\",\"2018-02-01\",\"2018-02-02\",\"2018-02-05\",\"2018-02-06\",\"2018-02-07\",\"2018-02-08\",\"2018-02-09\",\"2018-02-12\",\"2018-02-13\",\"2018-02-14\",\"2018-02-15\",\"2018-02-16\",\"2018-02-20\",\"2018-02-21\",\"2018-02-22\",\"2018-02-23\",\"2018-02-26\",\"2018-02-27\",\"2018-02-28\",\"2018-03-01\",\"2018-03-02\",\"2018-03-05\",\"2018-03-06\",\"2018-03-07\",\"2018-03-08\",\"2018-03-09\",\"2018-03-12\",\"2018-03-13\",\"2018-03-14\",\"2018-03-15\",\"2018-03-16\",\"2018-03-19\",\"2018-03-20\",\"2018-03-21\",\"2018-03-22\",\"2018-03-23\",\"2018-03-26\",\"2018-03-27\",\"2018-03-28\",\"2018-03-29\",\"2018-04-02\",\"2018-04-03\",\"2018-04-04\",\"2018-04-05\",\"2018-04-06\",\"2018-04-09\",\"2018-04-10\",\"2018-04-11\",\"2018-04-12\",\"2018-04-13\",\"2018-04-16\",\"2018-04-17\",\"2018-04-18\",\"2018-04-19\",\"2018-04-20\",\"2018-04-23\",\"2018-04-24\",\"2018-04-25\",\"2018-04-26\",\"2018-04-27\",\"2018-04-30\",\"2018-05-01\",\"2018-05-02\",\"2018-05-03\",\"2018-05-04\",\"2018-05-07\",\"2018-05-08\",\"2018-05-09\",\"2018-05-10\",\"2018-05-11\",\"2018-05-14\",\"2018-05-15\",\"2018-05-16\",\"2018-05-17\",\"2018-05-18\",\"2018-05-21\",\"2018-05-22\",\"2018-05-23\",\"2018-05-24\",\"2018-05-25\",\"2018-05-29\",\"2018-05-30\",\"2018-05-31\",\"2018-06-01\",\"2018-06-04\",\"2018-06-05\",\"2018-06-06\",\"2018-06-07\",\"2018-06-08\",\"2018-06-11\",\"2018-06-12\",\"2018-06-13\",\"2018-06-14\",\"2018-06-15\",\"2018-06-18\",\"2018-06-19\",\"2018-06-20\",\"2018-06-21\",\"2018-06-22\",\"2018-06-25\",\"2018-06-26\",\"2018-06-27\",\"2018-06-28\",\"2018-06-29\",\"2018-07-02\",\"2018-07-03\",\"2018-07-05\",\"2018-07-06\",\"2018-07-09\",\"2018-07-10\",\"2018-07-11\",\"2018-07-12\",\"2018-07-13\",\"2018-07-16\",\"2018-07-17\",\"2018-07-18\",\"2018-07-19\",\"2018-07-20\",\"2018-07-23\",\"2018-07-24\",\"2018-07-25\",\"2018-07-26\",\"2018-07-27\",\"2018-07-30\",\"2018-07-31\",\"2018-08-01\",\"2018-08-02\",\"2018-08-03\",\"2018-08-06\",\"2018-08-07\",\"2018-08-08\",\"2018-08-09\",\"2018-08-10\",\"2018-08-13\",\"2018-08-14\",\"2018-08-15\",\"2018-08-16\",\"2018-08-17\",\"2018-08-20\",\"2018-08-21\",\"2018-08-22\",\"2018-08-23\",\"2018-08-24\",\"2018-08-27\",\"2018-08-28\",\"2018-08-29\",\"2018-08-30\",\"2018-08-31\",\"2018-09-04\",\"2018-09-05\",\"2018-09-06\",\"2018-09-07\",\"2018-09-10\",\"2018-09-11\",\"2018-09-12\",\"2018-09-13\",\"2018-09-14\",\"2018-09-17\",\"2018-09-18\",\"2018-09-19\",\"2018-09-20\",\"2018-09-21\",\"2018-09-24\",\"2018-09-25\",\"2018-09-26\",\"2018-09-27\",\"2018-09-28\",\"2018-10-01\",\"2018-10-02\",\"2018-10-03\",\"2018-10-04\",\"2018-10-05\",\"2018-10-08\",\"2018-10-09\",\"2018-10-10\",\"2018-10-11\",\"2018-10-12\",\"2018-10-15\",\"2018-10-16\",\"2018-10-17\",\"2018-10-18\",\"2018-10-19\",\"2018-10-22\",\"2018-10-23\",\"2018-10-24\",\"2018-10-25\",\"2018-10-26\",\"2018-10-29\",\"2018-10-30\",\"2018-10-31\",\"2018-11-01\",\"2018-11-02\",\"2018-11-05\",\"2018-11-06\",\"2018-11-07\",\"2018-11-08\",\"2018-11-09\",\"2018-11-12\",\"2018-11-13\",\"2018-11-14\",\"2018-11-15\",\"2018-11-16\",\"2018-11-19\",\"2018-11-20\",\"2018-11-21\",\"2018-11-23\",\"2018-11-26\",\"2018-11-27\",\"2018-11-28\",\"2018-11-29\",\"2018-11-30\",\"2018-12-03\",\"2018-12-04\",\"2018-12-06\",\"2018-12-07\",\"2018-12-10\",\"2018-12-11\",\"2018-12-12\",\"2018-12-13\",\"2018-12-14\",\"2018-12-17\",\"2018-12-18\",\"2018-12-19\",\"2018-12-20\",\"2018-12-21\",\"2018-12-24\",\"2018-12-26\",\"2018-12-27\",\"2018-12-28\",\"2018-12-31\",\"2019-01-02\",\"2019-01-03\",\"2019-01-04\",\"2019-01-07\",\"2019-01-08\",\"2019-01-09\",\"2019-01-10\",\"2019-01-11\",\"2019-01-14\",\"2019-01-15\",\"2019-01-16\",\"2019-01-17\",\"2019-01-18\",\"2019-01-22\",\"2019-01-23\",\"2019-01-24\",\"2019-01-25\",\"2019-01-28\",\"2019-01-29\",\"2019-01-30\",\"2019-01-31\",\"2019-02-01\",\"2019-02-04\",\"2019-02-05\",\"2019-02-06\",\"2019-02-07\",\"2019-02-08\",\"2019-02-11\",\"2019-02-12\",\"2019-02-13\",\"2019-02-14\",\"2019-02-15\",\"2019-02-19\",\"2019-02-20\",\"2019-02-21\",\"2019-02-22\",\"2019-02-25\",\"2019-02-26\",\"2019-02-27\",\"2019-02-28\",\"2019-03-01\",\"2019-03-04\",\"2019-03-05\",\"2019-03-06\",\"2019-03-07\",\"2019-03-08\",\"2019-03-11\",\"2019-03-12\",\"2019-03-13\",\"2019-03-14\",\"2019-03-15\",\"2019-03-18\",\"2019-03-19\",\"2019-03-20\",\"2019-03-21\",\"2019-03-22\",\"2019-03-25\",\"2019-03-26\",\"2019-03-27\",\"2019-03-28\",\"2019-03-29\",\"2019-04-01\",\"2019-04-02\",\"2019-04-03\",\"2019-04-04\",\"2019-04-05\",\"2019-04-08\",\"2019-04-09\",\"2019-04-10\",\"2019-04-11\",\"2019-04-12\",\"2019-04-15\",\"2019-04-16\",\"2019-04-17\",\"2019-04-18\",\"2019-04-22\",\"2019-04-23\",\"2019-04-24\",\"2019-04-25\",\"2019-04-26\",\"2019-04-29\",\"2019-04-30\",\"2019-05-01\",\"2019-05-02\",\"2019-05-03\",\"2019-05-06\",\"2019-05-07\",\"2019-05-08\",\"2019-05-09\",\"2019-05-10\",\"2019-05-13\",\"2019-05-14\",\"2019-05-15\",\"2019-05-16\",\"2019-05-17\",\"2019-05-20\",\"2019-05-21\",\"2019-05-22\",\"2019-05-23\",\"2019-05-24\",\"2019-05-28\",\"2019-05-29\",\"2019-05-30\",\"2019-05-31\",\"2019-06-03\",\"2019-06-04\",\"2019-06-05\",\"2019-06-06\",\"2019-06-07\",\"2019-06-10\",\"2019-06-11\",\"2019-06-12\",\"2019-06-13\",\"2019-06-14\",\"2019-06-17\",\"2019-06-18\",\"2019-06-19\",\"2019-06-20\",\"2019-06-21\",\"2019-06-24\",\"2019-06-25\",\"2019-06-26\",\"2019-06-27\",\"2019-06-28\",\"2019-07-01\",\"2019-07-02\",\"2019-07-03\",\"2019-07-05\",\"2019-07-08\",\"2019-07-09\",\"2019-07-10\",\"2019-07-11\",\"2019-07-12\",\"2019-07-15\",\"2019-07-16\",\"2019-07-17\",\"2019-07-18\",\"2019-07-19\",\"2019-07-22\",\"2019-07-23\",\"2019-07-24\",\"2019-07-25\",\"2019-07-26\",\"2019-07-29\",\"2019-07-30\",\"2019-07-31\",\"2019-08-01\",\"2019-08-02\",\"2019-08-05\",\"2019-08-06\",\"2019-08-07\",\"2019-08-08\",\"2019-08-09\",\"2019-08-12\",\"2019-08-13\",\"2019-08-14\",\"2019-08-15\",\"2019-08-16\",\"2019-08-19\",\"2019-08-20\",\"2019-08-21\",\"2019-08-22\",\"2019-08-23\",\"2019-08-26\",\"2019-08-27\",\"2019-08-28\",\"2019-08-29\",\"2019-08-30\",\"2019-09-03\",\"2019-09-04\",\"2019-09-05\",\"2019-09-06\",\"2019-09-09\",\"2019-09-10\",\"2019-09-11\",\"2019-09-12\",\"2019-09-13\",\"2019-09-16\",\"2019-09-17\",\"2019-09-18\",\"2019-09-19\",\"2019-09-20\",\"2019-09-23\",\"2019-09-24\",\"2019-09-25\",\"2019-09-26\",\"2019-09-27\",\"2019-09-30\",\"2019-10-01\",\"2019-10-02\",\"2019-10-03\",\"2019-10-04\",\"2019-10-07\",\"2019-10-08\",\"2019-10-09\",\"2019-10-10\",\"2019-10-11\",\"2019-10-14\",\"2019-10-15\",\"2019-10-16\",\"2019-10-17\",\"2019-10-18\",\"2019-10-21\",\"2019-10-22\",\"2019-10-23\",\"2019-10-24\",\"2019-10-25\",\"2019-10-28\",\"2019-10-29\",\"2019-10-30\",\"2019-10-31\",\"2019-11-01\",\"2019-11-04\",\"2019-11-05\",\"2019-11-06\",\"2019-11-07\",\"2019-11-08\",\"2019-11-11\",\"2019-11-12\",\"2019-11-13\",\"2019-11-14\",\"2019-11-15\",\"2019-11-18\",\"2019-11-19\",\"2019-11-20\",\"2019-11-21\",\"2019-11-22\",\"2019-11-25\",\"2019-11-26\",\"2019-11-27\",\"2019-11-29\",\"2019-12-02\",\"2019-12-03\",\"2019-12-04\",\"2019-12-05\",\"2019-12-06\",\"2019-12-09\",\"2019-12-10\",\"2019-12-11\",\"2019-12-12\",\"2019-12-13\",\"2019-12-16\",\"2019-12-17\",\"2019-12-18\",\"2019-12-19\",\"2019-12-20\",\"2019-12-23\",\"2019-12-24\",\"2019-12-26\",\"2019-12-27\",\"2019-12-30\",\"2019-12-31\",\"2020-01-02\",\"2020-01-03\",\"2020-01-06\",\"2020-01-07\",\"2020-01-08\",\"2020-01-09\",\"2020-01-10\",\"2020-01-13\",\"2020-01-14\",\"2020-01-15\",\"2020-01-16\",\"2020-01-17\",\"2020-01-21\",\"2020-01-22\",\"2020-01-23\",\"2020-01-24\",\"2020-01-27\",\"2020-01-28\",\"2020-01-29\",\"2020-01-30\",\"2020-01-31\",\"2020-02-03\",\"2020-02-04\",\"2020-02-05\",\"2020-02-06\",\"2020-02-07\",\"2020-02-10\",\"2020-02-11\",\"2020-02-12\",\"2020-02-13\",\"2020-02-14\",\"2020-02-18\",\"2020-02-19\",\"2020-02-20\",\"2020-02-21\",\"2020-02-24\",\"2020-02-25\",\"2020-02-26\",\"2020-02-27\",\"2020-02-28\",\"2020-03-02\",\"2020-03-03\",\"2020-03-04\",\"2020-03-05\",\"2020-03-06\",\"2020-03-09\",\"2020-03-10\",\"2020-03-11\",\"2020-03-12\",\"2020-03-13\",\"2020-03-16\",\"2020-03-17\",\"2020-03-18\",\"2020-03-19\",\"2020-03-20\",\"2020-03-23\",\"2020-03-24\",\"2020-03-25\",\"2020-03-26\",\"2020-03-27\",\"2020-03-30\",\"2020-03-31\",\"2020-04-01\",\"2020-04-02\",\"2020-04-03\",\"2020-04-06\",\"2020-04-07\",\"2020-04-08\",\"2020-04-09\",\"2020-04-13\",\"2020-04-14\",\"2020-04-15\",\"2020-04-16\",\"2020-04-17\",\"2020-04-20\",\"2020-04-21\",\"2020-04-22\",\"2020-04-23\",\"2020-04-24\",\"2020-04-27\",\"2020-04-28\",\"2020-04-29\",\"2020-04-30\",\"2020-05-01\",\"2020-05-04\",\"2020-05-05\",\"2020-05-06\",\"2020-05-07\",\"2020-05-08\",\"2020-05-11\",\"2020-05-12\",\"2020-05-13\",\"2020-05-14\",\"2020-05-15\",\"2020-05-18\",\"2020-05-19\",\"2020-05-20\",\"2020-05-21\",\"2020-05-22\",\"2020-05-26\",\"2020-05-27\",\"2020-05-28\",\"2020-05-29\",\"2020-06-01\",\"2020-06-02\",\"2020-06-03\",\"2020-06-04\",\"2020-06-05\",\"2020-06-08\",\"2020-06-09\",\"2020-06-10\",\"2020-06-11\",\"2020-06-12\",\"2020-06-15\",\"2020-06-16\",\"2020-06-17\",\"2020-06-18\",\"2020-06-19\",\"2020-06-22\",\"2020-06-23\",\"2020-06-24\",\"2020-06-25\",\"2020-06-26\",\"2020-06-29\",\"2020-06-30\",\"2020-07-01\",\"2020-07-02\",\"2020-07-06\",\"2020-07-07\",\"2020-07-08\",\"2020-07-09\",\"2020-07-10\",\"2020-07-13\",\"2020-07-14\",\"2020-07-15\",\"2020-07-16\",\"2020-07-17\",\"2020-07-20\",\"2020-07-21\",\"2020-07-22\",\"2020-07-23\",\"2020-07-24\",\"2020-07-27\",\"2020-07-28\",\"2020-07-29\",\"2020-07-30\",\"2020-07-31\",\"2020-08-03\",\"2020-08-04\",\"2020-08-05\",\"2020-08-06\",\"2020-08-07\",\"2020-08-10\",\"2020-08-11\",\"2020-08-12\",\"2020-08-13\",\"2020-08-14\",\"2020-08-17\",\"2020-08-18\",\"2020-08-19\",\"2020-08-20\",\"2020-08-21\",\"2020-08-24\",\"2020-08-25\",\"2020-08-26\",\"2020-08-27\",\"2020-08-28\",\"2020-08-31\",\"2020-09-01\",\"2020-09-02\",\"2020-09-03\",\"2020-09-04\",\"2020-09-08\",\"2020-09-09\",\"2020-09-10\",\"2020-09-11\",\"2020-09-14\",\"2020-09-15\",\"2020-09-16\",\"2020-09-17\",\"2020-09-18\",\"2020-09-21\",\"2020-09-22\",\"2020-09-23\",\"2020-09-24\",\"2020-09-25\",\"2020-09-28\",\"2020-09-29\",\"2020-09-30\",\"2020-10-01\",\"2020-10-02\",\"2020-10-05\",\"2020-10-06\",\"2020-10-07\",\"2020-10-08\",\"2020-10-09\",\"2020-10-12\",\"2020-10-13\",\"2020-10-14\",\"2020-10-15\",\"2020-10-16\",\"2020-10-19\",\"2020-10-20\",\"2020-10-21\",\"2020-10-22\",\"2020-10-23\",\"2020-10-26\",\"2020-10-27\",\"2020-10-28\",\"2020-10-29\",\"2020-10-30\",\"2020-11-02\",\"2020-11-03\",\"2020-11-04\",\"2020-11-05\",\"2020-11-06\",\"2020-11-09\",\"2020-11-10\",\"2020-11-11\",\"2020-11-12\",\"2020-11-13\",\"2020-11-16\",\"2020-11-17\",\"2020-11-18\",\"2020-11-19\",\"2020-11-20\",\"2020-11-23\",\"2020-11-24\",\"2020-11-25\",\"2020-11-27\",\"2020-11-30\",\"2020-12-01\",\"2020-12-02\",\"2020-12-03\",\"2020-12-04\",\"2020-12-07\",\"2020-12-08\",\"2020-12-09\",\"2020-12-10\",\"2020-12-11\",\"2020-12-14\",\"2020-12-15\",\"2020-12-16\",\"2020-12-17\",\"2020-12-18\",\"2020-12-21\",\"2020-12-22\",\"2020-12-23\",\"2020-12-24\",\"2020-12-28\",\"2020-12-29\",\"2020-12-30\",\"2020-12-31\",\"2021-01-04\",\"2021-01-05\",\"2021-01-06\",\"2021-01-07\",\"2021-01-08\",\"2021-01-11\",\"2021-01-12\",\"2021-01-13\",\"2021-01-14\",\"2021-01-15\",\"2021-01-19\",\"2021-01-20\",\"2021-01-21\",\"2021-01-22\",\"2021-01-25\",\"2021-01-26\",\"2021-01-27\",\"2021-01-28\",\"2021-01-29\",\"2021-02-01\",\"2021-02-02\",\"2021-02-03\",\"2021-02-04\",\"2021-02-05\",\"2021-02-08\",\"2021-02-09\",\"2021-02-10\",\"2021-02-11\",\"2021-02-12\",\"2021-02-16\",\"2021-02-17\",\"2021-02-18\",\"2021-02-19\",\"2021-02-22\",\"2021-02-23\",\"2021-02-24\",\"2021-02-25\",\"2021-02-26\",\"2021-03-01\",\"2021-03-02\",\"2021-03-03\",\"2021-03-04\",\"2021-03-05\",\"2021-03-08\",\"2021-03-09\",\"2021-03-10\",\"2021-03-11\",\"2021-03-12\",\"2021-03-15\",\"2021-03-16\",\"2021-03-17\",\"2021-03-18\",\"2021-03-19\",\"2021-03-22\",\"2021-03-23\",\"2021-03-24\",\"2021-03-25\",\"2021-03-26\",\"2021-03-29\",\"2021-03-30\",\"2021-03-31\",\"2021-04-01\",\"2021-04-05\",\"2021-04-06\",\"2021-04-07\",\"2021-04-08\",\"2021-04-09\",\"2021-04-12\",\"2021-04-13\",\"2021-04-14\",\"2021-04-15\",\"2021-04-16\",\"2021-04-19\",\"2021-04-20\",\"2021-04-21\",\"2021-04-22\",\"2021-04-23\",\"2021-04-26\",\"2021-04-27\",\"2021-04-28\",\"2021-04-29\",\"2021-04-30\",\"2021-05-03\",\"2021-05-04\",\"2021-05-05\",\"2021-05-06\",\"2021-05-07\",\"2021-05-10\",\"2021-05-11\",\"2021-05-12\",\"2021-05-13\",\"2021-05-14\",\"2021-05-17\",\"2021-05-18\",\"2021-05-19\",\"2021-05-20\",\"2021-05-21\",\"2021-05-24\",\"2021-05-25\",\"2021-05-26\",\"2021-05-27\",\"2021-05-28\",\"2021-06-01\",\"2021-06-02\",\"2021-06-03\",\"2021-06-04\",\"2021-06-07\",\"2021-06-08\",\"2021-06-09\",\"2021-06-10\",\"2021-06-11\",\"2021-06-14\",\"2021-06-15\",\"2021-06-16\",\"2021-06-17\",\"2021-06-18\",\"2021-06-21\",\"2021-06-22\",\"2021-06-23\",\"2021-06-24\",\"2021-06-25\",\"2021-06-28\",\"2021-06-29\",\"2021-06-30\",\"2021-07-01\",\"2021-07-02\",\"2021-07-06\",\"2021-07-07\",\"2021-07-08\",\"2021-07-09\",\"2021-07-12\",\"2021-07-13\",\"2021-07-14\",\"2021-07-15\",\"2021-07-16\",\"2021-07-19\",\"2021-07-20\",\"2021-07-21\",\"2021-07-22\",\"2021-07-23\",\"2021-07-26\",\"2021-07-27\",\"2021-07-28\",\"2021-07-29\",\"2021-07-30\",\"2021-08-02\",\"2021-08-03\",\"2021-08-04\",\"2021-08-05\",\"2021-08-06\",\"2021-08-09\",\"2021-08-10\",\"2021-08-11\",\"2021-08-12\",\"2021-08-13\",\"2021-08-16\",\"2021-08-17\",\"2021-08-18\",\"2021-08-19\",\"2021-08-20\",\"2021-08-23\",\"2021-08-24\",\"2021-08-25\",\"2021-08-26\",\"2021-08-27\",\"2021-08-30\",\"2021-08-31\",\"2021-09-01\",\"2021-09-02\",\"2021-09-03\",\"2021-09-07\",\"2021-09-08\",\"2021-09-09\",\"2021-09-10\",\"2021-09-13\",\"2021-09-14\",\"2021-09-15\",\"2021-09-16\",\"2021-09-17\",\"2021-09-20\",\"2021-09-21\",\"2021-09-22\",\"2021-09-23\",\"2021-09-24\",\"2021-09-27\",\"2021-09-28\",\"2021-09-29\",\"2021-09-30\",\"2021-10-01\",\"2021-10-04\",\"2021-10-05\",\"2021-10-06\",\"2021-10-07\",\"2021-10-08\",\"2021-10-11\",\"2021-10-12\",\"2021-10-13\",\"2021-10-14\",\"2021-10-15\",\"2021-10-18\",\"2021-10-19\",\"2021-10-20\",\"2021-10-21\",\"2021-10-22\",\"2021-10-25\",\"2021-10-26\",\"2021-10-27\",\"2021-10-28\",\"2021-10-29\",\"2021-11-01\",\"2021-11-02\",\"2021-11-03\",\"2021-11-04\",\"2021-11-05\",\"2021-11-08\",\"2021-11-09\",\"2021-11-10\",\"2021-11-11\",\"2021-11-12\",\"2021-11-15\",\"2021-11-16\",\"2021-11-17\",\"2021-11-18\",\"2021-11-19\",\"2021-11-22\",\"2021-11-23\",\"2021-11-24\",\"2021-11-26\",\"2021-11-29\",\"2021-11-30\",\"2021-12-01\",\"2021-12-02\",\"2021-12-03\",\"2021-12-06\",\"2021-12-07\",\"2021-12-08\",\"2021-12-09\",\"2021-12-10\",\"2021-12-13\",\"2021-12-14\",\"2021-12-15\",\"2021-12-16\",\"2021-12-17\",\"2021-12-20\",\"2021-12-21\",\"2021-12-22\",\"2021-12-23\",\"2021-12-27\",\"2021-12-28\",\"2021-12-29\",\"2021-12-30\",\"2021-12-31\",\"2022-01-03\",\"2022-01-04\",\"2022-01-05\",\"2022-01-06\",\"2022-01-07\",\"2022-01-10\",\"2022-01-11\",\"2022-01-12\",\"2022-01-13\",\"2022-01-14\",\"2022-01-18\",\"2022-01-19\",\"2022-01-20\",\"2022-01-21\",\"2022-01-24\",\"2022-01-25\",\"2022-01-26\",\"2022-01-27\",\"2022-01-28\",\"2022-01-31\",\"2022-02-01\",\"2022-02-02\",\"2022-02-03\",\"2022-02-04\",\"2022-02-07\",\"2022-02-08\",\"2022-02-09\",\"2022-02-10\",\"2022-02-11\",\"2022-02-14\",\"2022-02-15\",\"2022-02-16\",\"2022-02-17\",\"2022-02-18\",\"2022-02-22\",\"2022-02-23\",\"2022-02-24\",\"2022-02-25\",\"2022-02-28\",\"2022-03-01\",\"2022-03-02\",\"2022-03-03\",\"2022-03-04\",\"2022-03-07\",\"2022-03-08\",\"2022-03-09\",\"2022-03-10\",\"2022-03-11\",\"2022-03-14\",\"2022-03-15\",\"2022-03-16\",\"2022-03-17\",\"2022-03-18\",\"2022-03-21\",\"2022-03-22\",\"2022-03-23\",\"2022-03-24\",\"2022-03-25\",\"2022-03-28\",\"2022-03-29\",\"2022-03-30\",\"2022-03-31\",\"2022-04-01\",\"2022-04-04\",\"2022-04-05\",\"2022-04-06\",\"2022-04-07\",\"2022-04-08\",\"2022-04-11\",\"2022-04-12\",\"2022-04-13\",\"2022-04-14\",\"2022-04-18\",\"2022-04-19\",\"2022-04-20\",\"2022-04-21\",\"2022-04-22\",\"2022-04-25\",\"2022-04-26\",\"2022-04-27\",\"2022-04-28\",\"2022-04-29\",\"2022-05-02\",\"2022-05-03\",\"2022-05-04\",\"2022-05-05\",\"2022-05-06\",\"2022-05-09\",\"2022-05-10\",\"2022-05-11\",\"2022-05-12\"],\"y\":[67.2300033569336,68.37999725341797,69.77999877929688,70.5,69.75,69.22000122070312,69.38999938964844,69.68000030517578,70.41999816894531,69.5199966430664,70.37000274658203,69.94999694824219,69.41000366210938,79.58999633789062,81.66999816894531,80.69999694824219,80.13999938964844,80.61000061035156,81.38999938964844,79.9800033569336,80.0,79.20999908447266,78.8499984741211,82.5,80.48999786376953,82.5,81.45999908447266,80.45999908447266,81.0,79.56999969482422,76.19000244140625,76.23999786376953,77.0,78.62000274658203,76.3499984741211,75.38999938964844,75.69999694824219,76.5999984741211,76.47000122070312,75.29000091552734,75.23999786376953,75.22000122070312,75.25,79.08999633789062,77.72000122070312,77.41000366210938,77.12999725341797,75.58000183105469,76.0,76.0,74.55999755859375,74.02999877929688,73.58999633789062,72.95999908447266,73.62999725341797,72.44000244140625,72.62999725341797,73.01000213623047,73.66000366210938,72.97000122070312,73.37000274658203,73.58999633789062,73.16999816894531,73.12000274658203,76.06999969482422,75.06999969482422,75.58999633789062,75.20999908447266,73.93000030517578,74.54000091552734,75.26000213623047,75.41000366210938,75.37000274658203,74.77999877929688,75.3499984741211,75.76000213623047,73.75,73.70999908447266,73.19999694824219,72.52999877929688,72.05000305175781,73.13999938964844,72.4800033569336,74.30000305175781,73.0,70.16000366210938,70.3499984741211,69.44999694824219,69.54000091552734,70.0199966430664,70.7699966430664,71.30000305175781,70.66000366210938,71.01000213623047,70.7699966430664,70.2300033569336,69.80999755859375,70.04000091552734,69.66999816894531,70.13999938964844,69.83999633789062,69.8499984741211,70.12999725341797,70.08999633789062,69.5999984741211,70.16000366210938,69.9800033569336,70.5999984741211,69.87000274658203,69.08999633789062,69.23999786376953,69.69000244140625,69.80000305175781,71.25,70.04000091552734,69.54000091552734,70.88999938964844,71.76000213623047,71.0,71.37000274658203,71.4000015258789,71.16000366210938,70.91999816894531,69.87000274658203,69.63999938964844,69.63999938964844,69.33999633789062,68.0999984741211,69.55000305175781,70.05000305175781,69.55999755859375,70.23999786376953,69.91999816894531,69.0,68.5,67.95999908447266,68.56999969482422,68.52999877929688,67.83999633789062,67.91000366210938,67.75,67.77999877929688,67.94999694824219,68.55999755859375,67.97000122070312,69.06999969482422,68.05000305175781,66.26000213623047,66.26000213623047,66.08000183105469,66.0999984741211,66.76000213623047,65.70999908447266,64.9800033569336,63.189998626708984,61.90999984741211,62.0,62.02000045776367,62.45000076293945,63.13999938964844,63.369998931884766,63.79999923706055,62.77000045776367,62.9900016784668,64.16000366210938,64.4000015258789,64.58999633789062,65.30999755859375,64.47000122070312,64.73999786376953,63.61000061035156,63.79999923706055,63.2599983215332,64.01000213623047,62.59000015258789,63.380001068115234,63.790000915527344,64.45999908447266,64.08000183105469,64.44999694824219,65.36000061035156,65.25,66.08000183105469,66.79000091552734,67.20999908447266,66.69999694824219,67.30999755859375,68.33000183105469,68.88999938964844,67.48999786376953,69.30999755859375,68.7300033569336,68.55000305175781,69.36000061035156,70.51000213623047,69.72000122070312,67.44000244140625,67.25,67.2300033569336,68.5,68.5199966430664,68.51000213623047,67.5999984741211,67.58999633789062,66.1500015258789,66.75,65.62000274658203,65.58000183105469,65.29000091552734,65.66000366210938,68.36000061035156,61.81999969482422,62.7400016784668,62.5,63.06999969482422,63.54999923706055,63.27000045776367,62.380001068115234,63.560001373291016,62.369998931884766,61.52000045776367,60.0,58.290000915527344,58.439998626708984,58.470001220703125,58.209999084472656,58.25,57.52000045776367,58.459999084472656,58.43000030517578,58.5,57.83000183105469,59.599998474121094,59.310001373291016,57.880001068115234,58.43000030517578,61.43000030517578,60.0,58.880001068115234,59.75,58.72999954223633,58.61000061035156,58.0,57.16999816894531,56.13999938964844,54.38999938964844,53.029998779296875,52.16999816894531,52.970001220703125,53.31999969482422,53.04999923706055,53.16999816894531,53.380001068115234,53.95000076293945,54.7599983215332,55.5099983215332,55.83000183105469,57.08000183105469,56.349998474121094,55.5,54.650001525878906,53.349998474121094,52.84000015258789,52.529998779296875,52.04999923706055,51.91999816894531,52.380001068115234,53.099998474121094,53.06999969482422,53.86000061035156,53.93000030517578,54.43000030517578,55.25,54.959999084472656,53.970001220703125,53.849998474121094,53.79999923706055,53.54999923706055,52.810001373291016,52.7599983215332,52.689998626708984,53.16999816894531,52.72999954223633,52.45000076293945,52.7599983215332,51.45000076293945,53.11000061035156,52.0,53.59000015258789,52.77000045776367,53.09000015258789,53.13999938964844,53.0099983215332,52.849998474121094,52.18000030517578,50.939998626708984,50.5099983215332,50.43000030517578,51.75,52.11000061035156,52.04999923706055,52.099998474121094,52.95000076293945,52.25,51.939998626708984,51.459999084472656,52.2599983215332,51.59000015258789,51.65999984741211,51.59000015258789,51.83000183105469,52.41999816894531,53.31999969482422,52.88999938964844,52.150001525878906,51.95000076293945,52.79999923706055,53.279998779296875,53.79999923706055,53.119998931884766,53.02000045776367,52.93000030517578,52.650001525878906,52.4900016784668,51.9900016784668,51.810001373291016,51.130001068115234,51.47999954223633,51.209999084472656,50.959999084472656,48.599998474121094,49.150001525878906,50.290000915527344,52.279998779296875,51.86000061035156,51.130001068115234,50.720001220703125,50.29999923706055,51.25,53.08000183105469,52.84000015258789,52.9900016784668,52.4900016784668,52.4900016784668,53.349998474121094,52.540000915527344,52.029998779296875,51.959999084472656,51.63999938964844,51.599998474121094,51.75,50.52000045776367,51.119998931884766,52.16999816894531,50.83000183105469,52.290000915527344,54.81999969482422,54.58000183105469,54.66999816894531,55.349998474121094,55.220001220703125,56.47999954223633,56.33000183105469,57.400001525878906,57.4900016784668,57.970001220703125,57.720001220703125,58.13999938964844,57.70000076293945,57.4900016784668,57.529998779296875,57.40999984741211,55.86000061035156,55.310001373291016,55.27000045776367,56.279998779296875,56.54999923706055,56.77000045776367,56.56999969482422,56.59000015258789,56.869998931884766,57.45000076293945,57.400001525878906,56.650001525878906,57.0,56.58000183105469,55.939998626708984,55.61000061035156,55.97999954223633,57.04999923706055,56.58000183105469,56.689998626708984,56.83000183105469,56.849998474121094,56.90999984741211,56.45000076293945,58.209999084472656,58.7400016784668,57.79999923706055,56.599998474121094,55.59000015258789,55.59000015258789,56.540000915527344,57.709999084472656,56.65999984741211,53.29999923706055,52.97999954223633,53.5,54.08000183105469,54.779998779296875,54.790000915527344,54.06999969482422,54.59000015258789,54.45000076293945,53.619998931884766,53.650001525878906,52.540000915527344,52.75,53.369998931884766,53.349998474121094,53.95000076293945,54.189998626708984,55.06999969482422,55.790000915527344,56.9900016784668,57.189998626708984,57.70000076293945,57.380001068115234,56.560001373291016,57.54999923706055,56.75,57.099998474121094,56.13999938964844,55.650001525878906,56.18000030517578,55.66999816894531,56.20000076293945,56.65999984741211,56.5099983215332,56.869998931884766,56.29999923706055,55.5,55.720001220703125,55.88999938964844,55.65999984741211,54.560001373291016,54.81999969482422,55.77000045776367,56.2599983215332,56.61000061035156,56.939998626708984,55.22999954223633,54.97999954223633,54.65999984741211,55.209999084472656,55.369998931884766,55.45000076293945,54.58000183105469,55.349998474121094,55.040000915527344,55.040000915527344,53.0,54.150001525878906,54.58000183105469,56.0099983215332,55.560001373291016,55.5,55.220001220703125,55.72999954223633,56.0,55.5,55.08000183105469,55.38999938964844,55.9900016784668,54.650001525878906,55.66999816894531,55.099998474121094,54.47999954223633,54.06999969482422,53.869998931884766,53.34000015258789,53.130001068115234,53.25,52.9900016784668,52.779998779296875,53.209999084472656,53.86000061035156,53.720001220703125,54.529998779296875,54.68000030517578,55.439998626708984,56.15999984741211,55.7400016784668,55.77000045776367,55.66999816894531,56.290000915527344,55.650001525878906,57.709999084472656,57.22999954223633,57.099998474121094,57.47999954223633,57.20000076293945,57.119998931884766,57.91999816894531,57.36000061035156,57.63999938964844,57.54999923706055,57.0099983215332,56.38999938964844,55.90999984741211,55.70000076293945,55.84000015258789,55.54999923706055,55.65999984741211,56.31999969482422,56.150001525878906,56.47999954223633,55.56999969482422,55.54999923706055,53.61000061035156,52.099998474121094,51.66999816894531,51.0,52.2400016784668,52.689998626708984,53.56999969482422,53.29999923706055,54.63999938964844,53.4900016784668,53.81999969482422,54.91999816894531,56.599998474121094,55.150001525878906,55.720001220703125,54.0,53.790000915527344,53.61000061035156,53.630001068115234,52.75,52.91999816894531,51.25,49.900001525878906,46.68000030517578,47.209999084472656,48.90999984741211,49.31999969482422,48.56999969482422,47.290000915527344,43.93000030517578,44.70000076293945,42.15999984741211,37.47999954223633,38.0,35.959999084472656,35.02000045776367,33.0,30.0,33.40999984741211,31.6200008392334,34.689998626708984,35.560001373291016,37.15999984741211,36.310001373291016,36.5099983215332,39.709999084472656,39.59000015258789,38.34000015258789,38.54999923706055,38.66999816894531,39.540000915527344,38.4900016784668,39.849998474121094,40.86000061035156,39.970001220703125,38.47999954223633,36.91999816894531,38.93000030517578,39.5,38.130001068115234,36.810001373291016,38.0,39.77000045776367,39.709999084472656,40.5,41.040000915527344,41.209999084472656,39.09000015258789,37.560001373291016,38.0,35.0,34.5,37.099998474121094,36.15999984741211,35.29999923706055,35.060001373291016,33.93000030517578,34.02000045776367,35.41999816894531,35.5,35.459999084472656,35.349998474121094,35.400001525878906,37.18000030517578,38.380001068115234,39.70000076293945,38.459999084472656,38.88999938964844,39.970001220703125,40.439998626708984,41.189998626708984,42.79999923706055,43.400001525878906,43.0,42.84000015258789,39.88999938964844,40.0099983215332,38.040000915527344,41.0,41.06999969482422,39.970001220703125,42.0,40.65999984741211,40.689998626708984,40.529998779296875,41.290000915527344,42.380001068115234,40.560001373291016,40.849998474121094,41.099998474121094,41.099998474121094,40.349998474121094,40.040000915527344,39.63999938964844,38.93000030517578,38.22999954223633,40.56999969482422,40.310001373291016,42.470001220703125,43.04999923706055,43.09000015258789,42.72999954223633,42.060001373291016,42.790000915527344,43.34000015258789,44.70000076293945,43.900001525878906,44.95000076293945,45.7599983215332,44.619998931884766,44.630001068115234,43.650001525878906,44.029998779296875,44.66999816894531,44.599998474121094,44.41999816894531,45.47999954223633,47.470001220703125,47.25,47.0,45.75,46.02000045776367,46.34000015258789,46.16999816894531,46.25,46.099998474121094,47.09000015258789,47.189998626708984,46.91999816894531,46.65999984741211,46.29999923706055,46.45000076293945,45.52000045776367,45.619998931884766,46.59000015258789,46.22999954223633,46.27000045776367,45.45000076293945,45.88999938964844,45.369998931884766,46.040000915527344,46.36000061035156,46.43000030517578,46.060001373291016,47.5099983215332,46.47999954223633,45.91999816894531,46.349998474121094,44.52000045776367,44.439998626708984,46.970001220703125,46.279998779296875,45.220001220703125,45.84000015258789,45.040000915527344,46.779998779296875,47.88999938964844,48.08000183105469,49.41999816894531,49.5,50.75,50.93000030517578,50.849998474121094,51.43000030517578,54.2400016784668,55.40999984741211,55.16999816894531,55.060001373291016,55.380001068115234,56.91999816894531,55.599998474121094,55.650001525878906,58.0,58.310001373291016,57.58000183105469,57.43000030517578,58.36000061035156,56.2599983215332,56.040000915527344,58.83000183105469,59.0,57.209999084472656,59.0,58.93000030517578,58.27000045776367,59.91999816894531,59.33000183105469,59.5,58.13999938964844,58.4900016784668,59.290000915527344,60.66999816894531,62.20000076293945,61.599998474121094,60.47999954223633,59.970001220703125,59.16999816894531,60.0,61.040000915527344,61.540000915527344,60.7599983215332,62.02000045776367,63.77000045776367,64.20999908447266,66.52999877929688,64.0,65.0,64.62000274658203,64.06999969482422,63.709999084472656,64.80000305175781,64.55000305175781,64.37999725341797,64.6500015258789,64.0199966430664,63.81999969482422,65.13999938964844,65.91999816894531,65.63999938964844,68.4000015258789,70.77999877929688,69.69999694824219,69.0999984741211,70.0,69.97000122070312,70.44999694824219,71.80000305175781,71.0,70.87000274658203,70.93000030517578,68.19999694824219,68.5999984741211,68.3499984741211,65.51000213623047,64.44999694824219,66.29000091552734,65.91000366210938,68.16000366210938,69.55000305175781,70.52999877929688,72.0,73.30999755859375,74.0,75.02999877929688,74.80000305175781,76.05999755859375,78.0,78.70999908447266,77.11000061035156,75.01000213623047,76.33000183105469,78.0,77.5999984741211,76.76000213623047,74.98999786376953,77.62000274658203,78.91999816894531,79.36000061035156,78.0199966430664,77.33999633789062,77.58999633789062,79.05000305175781,79.37999725341797,80.73999786376953,81.11000061035156,80.55000305175781,79.18000030517578,78.94999694824219,79.52999877929688,78.80000305175781,78.33000183105469,77.0,76.3499984741211,75.0,77.97000122070312,78.3499984741211,77.83000183105469,80.25,79.69000244140625,80.41000366210938,79.11000061035156,79.44000244140625,78.52999877929688,78.9000015258789,79.58999633789062,78.94000244140625,78.4000015258789,80.30999755859375,81.0,83.3499984741211,82.69999694824219,81.0,82.86000061035156,83.58000183105469,85.33999633789062,86.4000015258789,88.58000183105469,86.5,85.0999984741211,85.04000091552734,85.83999633789062,87.5,90.0,88.76000213623047,91.87999725341797,88.88999938964844,90.2699966430664,88.5,89.87999725341797,90.27999877929688,89.61000061035156,86.56999969482422,85.95999908447266,86.6500015258789,87.22000122070312,86.86000061035156,87.0199966430664,88.5,87.11000061035156,88.0999984741211,89.76000213623047,88.41999816894531,89.05000305175781,89.25,89.37000274658203,89.43000030517578,89.19000244140625,88.19000244140625,84.20999908447266,82.52999877929688,81.37999725341797,80.16000366210938,77.16000366210938,77.91999816894531,80.26000213623047,79.61000061035156,80.63999938964844,79.76000213623047,79.63999938964844,79.76000213623047,79.29000091552734,79.08000183105469,79.62000274658203,79.48999786376953,77.0,76.0199966430664,77.20999908447266,77.12000274658203,77.6500015258789,76.48999786376953,75.69999694824219,76.0,72.06999969482422,73.91000366210938,75.33999633789062,75.83000183105469,74.91000366210938,75.27999877929688,74.75,78.30000305175781,79.27999877929688,79.72000122070312,77.9800033569336,76.52999877929688,76.44999694824219,75.37999725341797,75.33000183105469,76.3499984741211,77.43000030517578,79.31999969482422,79.0,79.29000091552734,79.02999877929688,79.0199966430664,77.83999633789062,76.08999633789062,74.2699966430664,73.80000305175781,74.9800033569336,75.41000366210938,76.37999725341797,75.30000305175781,77.44999694824219,75.9000015258789,75.7300033569336,76.7699966430664,77.16000366210938,77.0,76.69000244140625,76.37999725341797,75.63999938964844,77.0,77.3499984741211,77.0,81.12000274658203,81.19000244140625,78.26000213623047,77.63999938964844,78.04000091552734,77.72000122070312,78.33000183105469,79.30000305175781,80.94000244140625,81.25,81.0199966430664,81.68000030517578,82.5199966430664,82.94000244140625,83.41999816894531,84.30000305175781,84.75,85.05000305175781,84.43000030517578,84.61000061035156,84.66999816894531,86.44999694824219,85.12000274658203,86.2300033569336,86.5,87.5999984741211,87.5999984741211,88.58999633789062,88.81999969482422,90.0,91.29000091552734,92.94000244140625,93.27999877929688,91.76000213623047,90.5199966430664,91.69999694824219,93.0,93.37000274658203,92.5,92.62999725341797,92.52999877929688,94.0,95.37000274658203,96.1500015258789,94.76000213623047,95.0999984741211,95.16000366210938,94.36000061035156,94.05999755859375,94.2300033569336,90.83999633789062,91.75,89.9000015258789,88.30000305175781,85.01000213623047,86.79000091552734,87.72000122070312,87.43000030517578,87.7300033569336,86.88999938964844,86.25,86.79000091552734,87.88999938964844,86.94999694824219,88.6500015258789,88.25,86.80000305175781,87.05000305175781,88.05000305175781,89.01000213623047,90.2699966430664,90.83999633789062,91.80000305175781,92.51000213623047,91.66999816894531,93.5199966430664,95.0,94.86000061035156,94.98999786376953,95.83000183105469,97.0,96.16000366210938,98.0,99.26000213623047,98.29000091552734,97.93000030517578,98.23999786376953,96.77999877929688,93.86000061035156,91.80999755859375,92.98999786376953,95.0,97.37999725341797,96.41000366210938,97.79000091552734,98.86000061035156,100.05000305175781,99.5,98.66999816894531,98.22000122070312,99.5,100.5,99.5999984741211,102.02999877929688,102.0,100.48999786376953,101.54000091552734,101.33999633789062,99.91000366210938,98.98999786376953,99.86000061035156,97.86000061035156,101.13999938964844,104.19999694824219,104.86000061035156,106.80000305175781,108.75,109.05000305175781,109.5,108.88999938964844,107.0,106.66000366210938,109.63999938964844,110.16000366210938,108.61000061035156,107.86000061035156,104.55999755859375,104.73999786376953,106.45999908447266,110.98999786376953,110.79000091552734,112.5999984741211,114.08999633789062,116.54000091552734,110.0,108.87000274658203,109.33999633789062,111.54000091552734,113.4000015258789,111.86000061035156,112.02999877929688,113.81999969482422,118.0,119.9000015258789,118.9000015258789,119.4800033569336,122.0,123.87000274658203,124.08999633789062,122.83000183105469,127.3499984741211,122.02999877929688,116.38999938964844,120.0,118.0,120.16000366210938,117.26000213623047,113.12999725341797,115.0,117.30000305175781,118.44000244140625,114.55999755859375,113.20999908447266,108.73999786376953,110.5,109.62000274658203],\"type\":\"scatter\"},{\"mode\":\"lines\",\"name\":\"Close\",\"x\":[\"2018-01-02\",\"2018-01-03\",\"2018-01-04\",\"2018-01-05\",\"2018-01-08\",\"2018-01-09\",\"2018-01-10\",\"2018-01-11\",\"2018-01-12\",\"2018-01-16\",\"2018-01-17\",\"2018-01-18\",\"2018-01-19\",\"2018-01-22\",\"2018-01-23\",\"2018-01-24\",\"2018-01-25\",\"2018-01-26\",\"2018-01-29\",\"2018-01-30\",\"2018-01-31\",\"2018-02-01\",\"2018-02-02\",\"2018-02-05\",\"2018-02-06\",\"2018-02-07\",\"2018-02-08\",\"2018-02-09\",\"2018-02-12\",\"2018-02-13\",\"2018-02-14\",\"2018-02-15\",\"2018-02-16\",\"2018-02-20\",\"2018-02-21\",\"2018-02-22\",\"2018-02-23\",\"2018-02-26\",\"2018-02-27\",\"2018-02-28\",\"2018-03-01\",\"2018-03-02\",\"2018-03-05\",\"2018-03-06\",\"2018-03-07\",\"2018-03-08\",\"2018-03-09\",\"2018-03-12\",\"2018-03-13\",\"2018-03-14\",\"2018-03-15\",\"2018-03-16\",\"2018-03-19\",\"2018-03-20\",\"2018-03-21\",\"2018-03-22\",\"2018-03-23\",\"2018-03-26\",\"2018-03-27\",\"2018-03-28\",\"2018-03-29\",\"2018-04-02\",\"2018-04-03\",\"2018-04-04\",\"2018-04-05\",\"2018-04-06\",\"2018-04-09\",\"2018-04-10\",\"2018-04-11\",\"2018-04-12\",\"2018-04-13\",\"2018-04-16\",\"2018-04-17\",\"2018-04-18\",\"2018-04-19\",\"2018-04-20\",\"2018-04-23\",\"2018-04-24\",\"2018-04-25\",\"2018-04-26\",\"2018-04-27\",\"2018-04-30\",\"2018-05-01\",\"2018-05-02\",\"2018-05-03\",\"2018-05-04\",\"2018-05-07\",\"2018-05-08\",\"2018-05-09\",\"2018-05-10\",\"2018-05-11\",\"2018-05-14\",\"2018-05-15\",\"2018-05-16\",\"2018-05-17\",\"2018-05-18\",\"2018-05-21\",\"2018-05-22\",\"2018-05-23\",\"2018-05-24\",\"2018-05-25\",\"2018-05-29\",\"2018-05-30\",\"2018-05-31\",\"2018-06-01\",\"2018-06-04\",\"2018-06-05\",\"2018-06-06\",\"2018-06-07\",\"2018-06-08\",\"2018-06-11\",\"2018-06-12\",\"2018-06-13\",\"2018-06-14\",\"2018-06-15\",\"2018-06-18\",\"2018-06-19\",\"2018-06-20\",\"2018-06-21\",\"2018-06-22\",\"2018-06-25\",\"2018-06-26\",\"2018-06-27\",\"2018-06-28\",\"2018-06-29\",\"2018-07-02\",\"2018-07-03\",\"2018-07-05\",\"2018-07-06\",\"2018-07-09\",\"2018-07-10\",\"2018-07-11\",\"2018-07-12\",\"2018-07-13\",\"2018-07-16\",\"2018-07-17\",\"2018-07-18\",\"2018-07-19\",\"2018-07-20\",\"2018-07-23\",\"2018-07-24\",\"2018-07-25\",\"2018-07-26\",\"2018-07-27\",\"2018-07-30\",\"2018-07-31\",\"2018-08-01\",\"2018-08-02\",\"2018-08-03\",\"2018-08-06\",\"2018-08-07\",\"2018-08-08\",\"2018-08-09\",\"2018-08-10\",\"2018-08-13\",\"2018-08-14\",\"2018-08-15\",\"2018-08-16\",\"2018-08-17\",\"2018-08-20\",\"2018-08-21\",\"2018-08-22\",\"2018-08-23\",\"2018-08-24\",\"2018-08-27\",\"2018-08-28\",\"2018-08-29\",\"2018-08-30\",\"2018-08-31\",\"2018-09-04\",\"2018-09-05\",\"2018-09-06\",\"2018-09-07\",\"2018-09-10\",\"2018-09-11\",\"2018-09-12\",\"2018-09-13\",\"2018-09-14\",\"2018-09-17\",\"2018-09-18\",\"2018-09-19\",\"2018-09-20\",\"2018-09-21\",\"2018-09-24\",\"2018-09-25\",\"2018-09-26\",\"2018-09-27\",\"2018-09-28\",\"2018-10-01\",\"2018-10-02\",\"2018-10-03\",\"2018-10-04\",\"2018-10-05\",\"2018-10-08\",\"2018-10-09\",\"2018-10-10\",\"2018-10-11\",\"2018-10-12\",\"2018-10-15\",\"2018-10-16\",\"2018-10-17\",\"2018-10-18\",\"2018-10-19\",\"2018-10-22\",\"2018-10-23\",\"2018-10-24\",\"2018-10-25\",\"2018-10-26\",\"2018-10-29\",\"2018-10-30\",\"2018-10-31\",\"2018-11-01\",\"2018-11-02\",\"2018-11-05\",\"2018-11-06\",\"2018-11-07\",\"2018-11-08\",\"2018-11-09\",\"2018-11-12\",\"2018-11-13\",\"2018-11-14\",\"2018-11-15\",\"2018-11-16\",\"2018-11-19\",\"2018-11-20\",\"2018-11-21\",\"2018-11-23\",\"2018-11-26\",\"2018-11-27\",\"2018-11-28\",\"2018-11-29\",\"2018-11-30\",\"2018-12-03\",\"2018-12-04\",\"2018-12-06\",\"2018-12-07\",\"2018-12-10\",\"2018-12-11\",\"2018-12-12\",\"2018-12-13\",\"2018-12-14\",\"2018-12-17\",\"2018-12-18\",\"2018-12-19\",\"2018-12-20\",\"2018-12-21\",\"2018-12-24\",\"2018-12-26\",\"2018-12-27\",\"2018-12-28\",\"2018-12-31\",\"2019-01-02\",\"2019-01-03\",\"2019-01-04\",\"2019-01-07\",\"2019-01-08\",\"2019-01-09\",\"2019-01-10\",\"2019-01-11\",\"2019-01-14\",\"2019-01-15\",\"2019-01-16\",\"2019-01-17\",\"2019-01-18\",\"2019-01-22\",\"2019-01-23\",\"2019-01-24\",\"2019-01-25\",\"2019-01-28\",\"2019-01-29\",\"2019-01-30\",\"2019-01-31\",\"2019-02-01\",\"2019-02-04\",\"2019-02-05\",\"2019-02-06\",\"2019-02-07\",\"2019-02-08\",\"2019-02-11\",\"2019-02-12\",\"2019-02-13\",\"2019-02-14\",\"2019-02-15\",\"2019-02-19\",\"2019-02-20\",\"2019-02-21\",\"2019-02-22\",\"2019-02-25\",\"2019-02-26\",\"2019-02-27\",\"2019-02-28\",\"2019-03-01\",\"2019-03-04\",\"2019-03-05\",\"2019-03-06\",\"2019-03-07\",\"2019-03-08\",\"2019-03-11\",\"2019-03-12\",\"2019-03-13\",\"2019-03-14\",\"2019-03-15\",\"2019-03-18\",\"2019-03-19\",\"2019-03-20\",\"2019-03-21\",\"2019-03-22\",\"2019-03-25\",\"2019-03-26\",\"2019-03-27\",\"2019-03-28\",\"2019-03-29\",\"2019-04-01\",\"2019-04-02\",\"2019-04-03\",\"2019-04-04\",\"2019-04-05\",\"2019-04-08\",\"2019-04-09\",\"2019-04-10\",\"2019-04-11\",\"2019-04-12\",\"2019-04-15\",\"2019-04-16\",\"2019-04-17\",\"2019-04-18\",\"2019-04-22\",\"2019-04-23\",\"2019-04-24\",\"2019-04-25\",\"2019-04-26\",\"2019-04-29\",\"2019-04-30\",\"2019-05-01\",\"2019-05-02\",\"2019-05-03\",\"2019-05-06\",\"2019-05-07\",\"2019-05-08\",\"2019-05-09\",\"2019-05-10\",\"2019-05-13\",\"2019-05-14\",\"2019-05-15\",\"2019-05-16\",\"2019-05-17\",\"2019-05-20\",\"2019-05-21\",\"2019-05-22\",\"2019-05-23\",\"2019-05-24\",\"2019-05-28\",\"2019-05-29\",\"2019-05-30\",\"2019-05-31\",\"2019-06-03\",\"2019-06-04\",\"2019-06-05\",\"2019-06-06\",\"2019-06-07\",\"2019-06-10\",\"2019-06-11\",\"2019-06-12\",\"2019-06-13\",\"2019-06-14\",\"2019-06-17\",\"2019-06-18\",\"2019-06-19\",\"2019-06-20\",\"2019-06-21\",\"2019-06-24\",\"2019-06-25\",\"2019-06-26\",\"2019-06-27\",\"2019-06-28\",\"2019-07-01\",\"2019-07-02\",\"2019-07-03\",\"2019-07-05\",\"2019-07-08\",\"2019-07-09\",\"2019-07-10\",\"2019-07-11\",\"2019-07-12\",\"2019-07-15\",\"2019-07-16\",\"2019-07-17\",\"2019-07-18\",\"2019-07-19\",\"2019-07-22\",\"2019-07-23\",\"2019-07-24\",\"2019-07-25\",\"2019-07-26\",\"2019-07-29\",\"2019-07-30\",\"2019-07-31\",\"2019-08-01\",\"2019-08-02\",\"2019-08-05\",\"2019-08-06\",\"2019-08-07\",\"2019-08-08\",\"2019-08-09\",\"2019-08-12\",\"2019-08-13\",\"2019-08-14\",\"2019-08-15\",\"2019-08-16\",\"2019-08-19\",\"2019-08-20\",\"2019-08-21\",\"2019-08-22\",\"2019-08-23\",\"2019-08-26\",\"2019-08-27\",\"2019-08-28\",\"2019-08-29\",\"2019-08-30\",\"2019-09-03\",\"2019-09-04\",\"2019-09-05\",\"2019-09-06\",\"2019-09-09\",\"2019-09-10\",\"2019-09-11\",\"2019-09-12\",\"2019-09-13\",\"2019-09-16\",\"2019-09-17\",\"2019-09-18\",\"2019-09-19\",\"2019-09-20\",\"2019-09-23\",\"2019-09-24\",\"2019-09-25\",\"2019-09-26\",\"2019-09-27\",\"2019-09-30\",\"2019-10-01\",\"2019-10-02\",\"2019-10-03\",\"2019-10-04\",\"2019-10-07\",\"2019-10-08\",\"2019-10-09\",\"2019-10-10\",\"2019-10-11\",\"2019-10-14\",\"2019-10-15\",\"2019-10-16\",\"2019-10-17\",\"2019-10-18\",\"2019-10-21\",\"2019-10-22\",\"2019-10-23\",\"2019-10-24\",\"2019-10-25\",\"2019-10-28\",\"2019-10-29\",\"2019-10-30\",\"2019-10-31\",\"2019-11-01\",\"2019-11-04\",\"2019-11-05\",\"2019-11-06\",\"2019-11-07\",\"2019-11-08\",\"2019-11-11\",\"2019-11-12\",\"2019-11-13\",\"2019-11-14\",\"2019-11-15\",\"2019-11-18\",\"2019-11-19\",\"2019-11-20\",\"2019-11-21\",\"2019-11-22\",\"2019-11-25\",\"2019-11-26\",\"2019-11-27\",\"2019-11-29\",\"2019-12-02\",\"2019-12-03\",\"2019-12-04\",\"2019-12-05\",\"2019-12-06\",\"2019-12-09\",\"2019-12-10\",\"2019-12-11\",\"2019-12-12\",\"2019-12-13\",\"2019-12-16\",\"2019-12-17\",\"2019-12-18\",\"2019-12-19\",\"2019-12-20\",\"2019-12-23\",\"2019-12-24\",\"2019-12-26\",\"2019-12-27\",\"2019-12-30\",\"2019-12-31\",\"2020-01-02\",\"2020-01-03\",\"2020-01-06\",\"2020-01-07\",\"2020-01-08\",\"2020-01-09\",\"2020-01-10\",\"2020-01-13\",\"2020-01-14\",\"2020-01-15\",\"2020-01-16\",\"2020-01-17\",\"2020-01-21\",\"2020-01-22\",\"2020-01-23\",\"2020-01-24\",\"2020-01-27\",\"2020-01-28\",\"2020-01-29\",\"2020-01-30\",\"2020-01-31\",\"2020-02-03\",\"2020-02-04\",\"2020-02-05\",\"2020-02-06\",\"2020-02-07\",\"2020-02-10\",\"2020-02-11\",\"2020-02-12\",\"2020-02-13\",\"2020-02-14\",\"2020-02-18\",\"2020-02-19\",\"2020-02-20\",\"2020-02-21\",\"2020-02-24\",\"2020-02-25\",\"2020-02-26\",\"2020-02-27\",\"2020-02-28\",\"2020-03-02\",\"2020-03-03\",\"2020-03-04\",\"2020-03-05\",\"2020-03-06\",\"2020-03-09\",\"2020-03-10\",\"2020-03-11\",\"2020-03-12\",\"2020-03-13\",\"2020-03-16\",\"2020-03-17\",\"2020-03-18\",\"2020-03-19\",\"2020-03-20\",\"2020-03-23\",\"2020-03-24\",\"2020-03-25\",\"2020-03-26\",\"2020-03-27\",\"2020-03-30\",\"2020-03-31\",\"2020-04-01\",\"2020-04-02\",\"2020-04-03\",\"2020-04-06\",\"2020-04-07\",\"2020-04-08\",\"2020-04-09\",\"2020-04-13\",\"2020-04-14\",\"2020-04-15\",\"2020-04-16\",\"2020-04-17\",\"2020-04-20\",\"2020-04-21\",\"2020-04-22\",\"2020-04-23\",\"2020-04-24\",\"2020-04-27\",\"2020-04-28\",\"2020-04-29\",\"2020-04-30\",\"2020-05-01\",\"2020-05-04\",\"2020-05-05\",\"2020-05-06\",\"2020-05-07\",\"2020-05-08\",\"2020-05-11\",\"2020-05-12\",\"2020-05-13\",\"2020-05-14\",\"2020-05-15\",\"2020-05-18\",\"2020-05-19\",\"2020-05-20\",\"2020-05-21\",\"2020-05-22\",\"2020-05-26\",\"2020-05-27\",\"2020-05-28\",\"2020-05-29\",\"2020-06-01\",\"2020-06-02\",\"2020-06-03\",\"2020-06-04\",\"2020-06-05\",\"2020-06-08\",\"2020-06-09\",\"2020-06-10\",\"2020-06-11\",\"2020-06-12\",\"2020-06-15\",\"2020-06-16\",\"2020-06-17\",\"2020-06-18\",\"2020-06-19\",\"2020-06-22\",\"2020-06-23\",\"2020-06-24\",\"2020-06-25\",\"2020-06-26\",\"2020-06-29\",\"2020-06-30\",\"2020-07-01\",\"2020-07-02\",\"2020-07-06\",\"2020-07-07\",\"2020-07-08\",\"2020-07-09\",\"2020-07-10\",\"2020-07-13\",\"2020-07-14\",\"2020-07-15\",\"2020-07-16\",\"2020-07-17\",\"2020-07-20\",\"2020-07-21\",\"2020-07-22\",\"2020-07-23\",\"2020-07-24\",\"2020-07-27\",\"2020-07-28\",\"2020-07-29\",\"2020-07-30\",\"2020-07-31\",\"2020-08-03\",\"2020-08-04\",\"2020-08-05\",\"2020-08-06\",\"2020-08-07\",\"2020-08-10\",\"2020-08-11\",\"2020-08-12\",\"2020-08-13\",\"2020-08-14\",\"2020-08-17\",\"2020-08-18\",\"2020-08-19\",\"2020-08-20\",\"2020-08-21\",\"2020-08-24\",\"2020-08-25\",\"2020-08-26\",\"2020-08-27\",\"2020-08-28\",\"2020-08-31\",\"2020-09-01\",\"2020-09-02\",\"2020-09-03\",\"2020-09-04\",\"2020-09-08\",\"2020-09-09\",\"2020-09-10\",\"2020-09-11\",\"2020-09-14\",\"2020-09-15\",\"2020-09-16\",\"2020-09-17\",\"2020-09-18\",\"2020-09-21\",\"2020-09-22\",\"2020-09-23\",\"2020-09-24\",\"2020-09-25\",\"2020-09-28\",\"2020-09-29\",\"2020-09-30\",\"2020-10-01\",\"2020-10-02\",\"2020-10-05\",\"2020-10-06\",\"2020-10-07\",\"2020-10-08\",\"2020-10-09\",\"2020-10-12\",\"2020-10-13\",\"2020-10-14\",\"2020-10-15\",\"2020-10-16\",\"2020-10-19\",\"2020-10-20\",\"2020-10-21\",\"2020-10-22\",\"2020-10-23\",\"2020-10-26\",\"2020-10-27\",\"2020-10-28\",\"2020-10-29\",\"2020-10-30\",\"2020-11-02\",\"2020-11-03\",\"2020-11-04\",\"2020-11-05\",\"2020-11-06\",\"2020-11-09\",\"2020-11-10\",\"2020-11-11\",\"2020-11-12\",\"2020-11-13\",\"2020-11-16\",\"2020-11-17\",\"2020-11-18\",\"2020-11-19\",\"2020-11-20\",\"2020-11-23\",\"2020-11-24\",\"2020-11-25\",\"2020-11-27\",\"2020-11-30\",\"2020-12-01\",\"2020-12-02\",\"2020-12-03\",\"2020-12-04\",\"2020-12-07\",\"2020-12-08\",\"2020-12-09\",\"2020-12-10\",\"2020-12-11\",\"2020-12-14\",\"2020-12-15\",\"2020-12-16\",\"2020-12-17\",\"2020-12-18\",\"2020-12-21\",\"2020-12-22\",\"2020-12-23\",\"2020-12-24\",\"2020-12-28\",\"2020-12-29\",\"2020-12-30\",\"2020-12-31\",\"2021-01-04\",\"2021-01-05\",\"2021-01-06\",\"2021-01-07\",\"2021-01-08\",\"2021-01-11\",\"2021-01-12\",\"2021-01-13\",\"2021-01-14\",\"2021-01-15\",\"2021-01-19\",\"2021-01-20\",\"2021-01-21\",\"2021-01-22\",\"2021-01-25\",\"2021-01-26\",\"2021-01-27\",\"2021-01-28\",\"2021-01-29\",\"2021-02-01\",\"2021-02-02\",\"2021-02-03\",\"2021-02-04\",\"2021-02-05\",\"2021-02-08\",\"2021-02-09\",\"2021-02-10\",\"2021-02-11\",\"2021-02-12\",\"2021-02-16\",\"2021-02-17\",\"2021-02-18\",\"2021-02-19\",\"2021-02-22\",\"2021-02-23\",\"2021-02-24\",\"2021-02-25\",\"2021-02-26\",\"2021-03-01\",\"2021-03-02\",\"2021-03-03\",\"2021-03-04\",\"2021-03-05\",\"2021-03-08\",\"2021-03-09\",\"2021-03-10\",\"2021-03-11\",\"2021-03-12\",\"2021-03-15\",\"2021-03-16\",\"2021-03-17\",\"2021-03-18\",\"2021-03-19\",\"2021-03-22\",\"2021-03-23\",\"2021-03-24\",\"2021-03-25\",\"2021-03-26\",\"2021-03-29\",\"2021-03-30\",\"2021-03-31\",\"2021-04-01\",\"2021-04-05\",\"2021-04-06\",\"2021-04-07\",\"2021-04-08\",\"2021-04-09\",\"2021-04-12\",\"2021-04-13\",\"2021-04-14\",\"2021-04-15\",\"2021-04-16\",\"2021-04-19\",\"2021-04-20\",\"2021-04-21\",\"2021-04-22\",\"2021-04-23\",\"2021-04-26\",\"2021-04-27\",\"2021-04-28\",\"2021-04-29\",\"2021-04-30\",\"2021-05-03\",\"2021-05-04\",\"2021-05-05\",\"2021-05-06\",\"2021-05-07\",\"2021-05-10\",\"2021-05-11\",\"2021-05-12\",\"2021-05-13\",\"2021-05-14\",\"2021-05-17\",\"2021-05-18\",\"2021-05-19\",\"2021-05-20\",\"2021-05-21\",\"2021-05-24\",\"2021-05-25\",\"2021-05-26\",\"2021-05-27\",\"2021-05-28\",\"2021-06-01\",\"2021-06-02\",\"2021-06-03\",\"2021-06-04\",\"2021-06-07\",\"2021-06-08\",\"2021-06-09\",\"2021-06-10\",\"2021-06-11\",\"2021-06-14\",\"2021-06-15\",\"2021-06-16\",\"2021-06-17\",\"2021-06-18\",\"2021-06-21\",\"2021-06-22\",\"2021-06-23\",\"2021-06-24\",\"2021-06-25\",\"2021-06-28\",\"2021-06-29\",\"2021-06-30\",\"2021-07-01\",\"2021-07-02\",\"2021-07-06\",\"2021-07-07\",\"2021-07-08\",\"2021-07-09\",\"2021-07-12\",\"2021-07-13\",\"2021-07-14\",\"2021-07-15\",\"2021-07-16\",\"2021-07-19\",\"2021-07-20\",\"2021-07-21\",\"2021-07-22\",\"2021-07-23\",\"2021-07-26\",\"2021-07-27\",\"2021-07-28\",\"2021-07-29\",\"2021-07-30\",\"2021-08-02\",\"2021-08-03\",\"2021-08-04\",\"2021-08-05\",\"2021-08-06\",\"2021-08-09\",\"2021-08-10\",\"2021-08-11\",\"2021-08-12\",\"2021-08-13\",\"2021-08-16\",\"2021-08-17\",\"2021-08-18\",\"2021-08-19\",\"2021-08-20\",\"2021-08-23\",\"2021-08-24\",\"2021-08-25\",\"2021-08-26\",\"2021-08-27\",\"2021-08-30\",\"2021-08-31\",\"2021-09-01\",\"2021-09-02\",\"2021-09-03\",\"2021-09-07\",\"2021-09-08\",\"2021-09-09\",\"2021-09-10\",\"2021-09-13\",\"2021-09-14\",\"2021-09-15\",\"2021-09-16\",\"2021-09-17\",\"2021-09-20\",\"2021-09-21\",\"2021-09-22\",\"2021-09-23\",\"2021-09-24\",\"2021-09-27\",\"2021-09-28\",\"2021-09-29\",\"2021-09-30\",\"2021-10-01\",\"2021-10-04\",\"2021-10-05\",\"2021-10-06\",\"2021-10-07\",\"2021-10-08\",\"2021-10-11\",\"2021-10-12\",\"2021-10-13\",\"2021-10-14\",\"2021-10-15\",\"2021-10-18\",\"2021-10-19\",\"2021-10-20\",\"2021-10-21\",\"2021-10-22\",\"2021-10-25\",\"2021-10-26\",\"2021-10-27\",\"2021-10-28\",\"2021-10-29\",\"2021-11-01\",\"2021-11-02\",\"2021-11-03\",\"2021-11-04\",\"2021-11-05\",\"2021-11-08\",\"2021-11-09\",\"2021-11-10\",\"2021-11-11\",\"2021-11-12\",\"2021-11-15\",\"2021-11-16\",\"2021-11-17\",\"2021-11-18\",\"2021-11-19\",\"2021-11-22\",\"2021-11-23\",\"2021-11-24\",\"2021-11-26\",\"2021-11-29\",\"2021-11-30\",\"2021-12-01\",\"2021-12-02\",\"2021-12-03\",\"2021-12-06\",\"2021-12-07\",\"2021-12-08\",\"2021-12-09\",\"2021-12-10\",\"2021-12-13\",\"2021-12-14\",\"2021-12-15\",\"2021-12-16\",\"2021-12-17\",\"2021-12-20\",\"2021-12-21\",\"2021-12-22\",\"2021-12-23\",\"2021-12-27\",\"2021-12-28\",\"2021-12-29\",\"2021-12-30\",\"2021-12-31\",\"2022-01-03\",\"2022-01-04\",\"2022-01-05\",\"2022-01-06\",\"2022-01-07\",\"2022-01-10\",\"2022-01-11\",\"2022-01-12\",\"2022-01-13\",\"2022-01-14\",\"2022-01-18\",\"2022-01-19\",\"2022-01-20\",\"2022-01-21\",\"2022-01-24\",\"2022-01-25\",\"2022-01-26\",\"2022-01-27\",\"2022-01-28\",\"2022-01-31\",\"2022-02-01\",\"2022-02-02\",\"2022-02-03\",\"2022-02-04\",\"2022-02-07\",\"2022-02-08\",\"2022-02-09\",\"2022-02-10\",\"2022-02-11\",\"2022-02-14\",\"2022-02-15\",\"2022-02-16\",\"2022-02-17\",\"2022-02-18\",\"2022-02-22\",\"2022-02-23\",\"2022-02-24\",\"2022-02-25\",\"2022-02-28\",\"2022-03-01\",\"2022-03-02\",\"2022-03-03\",\"2022-03-04\",\"2022-03-07\",\"2022-03-08\",\"2022-03-09\",\"2022-03-10\",\"2022-03-11\",\"2022-03-14\",\"2022-03-15\",\"2022-03-16\",\"2022-03-17\",\"2022-03-18\",\"2022-03-21\",\"2022-03-22\",\"2022-03-23\",\"2022-03-24\",\"2022-03-25\",\"2022-03-28\",\"2022-03-29\",\"2022-03-30\",\"2022-03-31\",\"2022-04-01\",\"2022-04-04\",\"2022-04-05\",\"2022-04-06\",\"2022-04-07\",\"2022-04-08\",\"2022-04-11\",\"2022-04-12\",\"2022-04-13\",\"2022-04-14\",\"2022-04-18\",\"2022-04-19\",\"2022-04-20\",\"2022-04-21\",\"2022-04-22\",\"2022-04-25\",\"2022-04-26\",\"2022-04-27\",\"2022-04-28\",\"2022-04-29\",\"2022-05-02\",\"2022-05-03\",\"2022-05-04\",\"2022-05-05\",\"2022-05-06\",\"2022-05-09\",\"2022-05-10\",\"2022-05-11\",\"2022-05-12\"],\"y\":[67.98999786376953,69.44999694824219,70.47000122070312,69.94000244140625,68.93000030517578,69.62999725341797,69.38999938964844,70.44000244140625,69.73999786376953,70.18000030517578,70.44999694824219,69.63999938964844,77.55999755859375,82.11000061035156,80.56999969482422,80.02999877929688,80.0,81.80000305175781,80.86000061035156,79.94999694824219,79.43000030517578,79.66000366210938,78.5999984741211,80.88999938964844,82.55000305175781,81.33999633789062,79.95999908447266,80.75,79.66000366210938,79.51000213623047,75.05999755859375,77.19000244140625,79.0999984741211,76.06999969482422,75.0999984741211,75.58999633789062,76.62000274658203,75.97000122070312,74.83000183105469,75.43000030517578,75.9800033569336,75.16999816894531,77.98999786376953,77.11000061035156,77.43000030517578,77.01000213623047,74.95999908447266,75.93000030517578,75.87000274658203,74.23999786376953,73.73999786376953,73.43000030517578,72.6500015258789,73.98999786376953,73.0199966430664,72.05000305175781,72.5199966430664,73.19000244140625,72.61000061035156,73.05999755859375,73.94000244140625,72.58000183105469,74.12000274658203,75.63999938964844,75.13999938964844,75.58999633789062,74.91000366210938,74.0999984741211,74.48999786376953,75.05000305175781,75.13999938964844,75.05999755859375,74.80000305175781,74.86000061035156,75.69999694824219,73.7300033569336,73.44000244140625,72.72000122070312,72.55000305175781,71.97000122070312,72.69000244140625,72.2300033569336,71.63999938964844,73.29000091552734,70.2699966430664,70.48999786376953,69.36000061035156,69.5199966430664,69.91999816894531,70.75,71.16999816894531,71.04000091552734,71.04000091552734,70.58999633789062,70.69000244140625,69.66000366210938,69.93000030517578,69.97000122070312,69.83999633789062,70.0999984741211,69.94000244140625,69.66000366210938,70.3499984741211,69.55000305175781,69.88999938964844,69.98999786376953,70.44000244140625,70.06999969482422,69.0999984741211,69.16999816894531,69.69000244140625,69.69000244140625,70.98999786376953,70.55000305175781,70.08000183105469,71.08000183105469,71.86000061035156,70.2699966430664,71.05000305175781,71.5199966430664,71.25,70.91999816894531,70.06999969482422,69.5999984741211,69.70999908447266,69.33000183105469,68.0,69.4000015258789,69.77999877929688,69.45999908447266,70.19999694824219,69.76000213623047,68.8499984741211,68.47000122070312,67.66000366210938,68.73999786376953,68.41000366210938,67.97000122070312,68.02999877929688,67.66000366210938,67.80000305175781,68.08999633789062,68.4800033569336,68.01000213623047,68.16999816894531,69.12999725341797,66.0,66.36000061035156,66.08999633789062,66.2300033569336,66.70999908447266,65.80000305175781,65.19000244140625,63.38999938964844,61.619998931884766,61.95000076293945,61.790000915527344,62.619998931884766,63.040000915527344,63.81999969482422,63.880001068115234,63.0,62.70000076293945,64.18000030517578,64.69999694824219,64.75,65.31999969482422,64.66000366210938,64.9800033569336,63.709999084472656,63.9900016784668,63.290000915527344,63.70000076293945,62.959999084472656,63.2599983215332,63.61000061035156,63.68000030517578,64.33000183105469,64.61000061035156,64.80000305175781,65.23999786376953,66.18000030517578,66.7300033569336,66.2300033569336,66.62999725341797,67.4000015258789,68.54000091552734,68.70999908447266,67.61000061035156,69.05999755859375,68.80999755859375,68.38999938964844,68.93000030517578,70.7699966430664,69.91000366210938,67.44999694824219,66.61000061035156,67.20999908447266,68.0199966430664,68.79000091552734,68.62000274658203,67.30999755859375,67.43000030517578,66.83999633789062,66.9000015258789,65.63999938964844,66.12000274658203,65.2300033569336,65.7699966430664,68.0199966430664,61.79999923706055,62.56999969482422,62.5,62.0,63.33000183105469,62.75,62.47999954223633,63.27000045776367,62.09000015258789,61.72999954223633,60.09000015258789,59.0099983215332,58.40999984741211,58.40999984741211,58.029998779296875,58.22999954223633,57.5099983215332,58.470001220703125,58.29999923706055,58.630001068115234,57.959999084472656,57.06999969482422,59.33000183105469,58.040000915527344,58.66999816894531,59.470001220703125,59.63999938964844,58.470001220703125,59.630001068115234,59.08000183105469,58.83000183105469,57.88999938964844,56.790000915527344,56.56999969482422,54.25,53.349998474121094,52.060001373291016,53.5,53.290000915527344,53.0,53.439998626708984,53.43000030517578,53.40999984741211,54.88999938964844,55.349998474121094,55.72999954223633,57.04999923706055,56.66999816894531,55.720001220703125,54.560001373291016,53.22999954223633,52.369998931884766,52.34000015258789,53.029998779296875,51.88999938964844,52.66999816894531,53.09000015258789,53.290000915527344,53.93000030517578,53.709999084472656,54.40999984741211,55.06999969482422,54.959999084472656,54.11000061035156,53.9900016784668,54.22999954223633,53.61000061035156,53.029998779296875,52.34000015258789,52.689998626708984,53.16999816894531,52.90999984741211,52.310001373291016,52.650001525878906,52.70000076293945,53.47999954223633,51.77000045776367,53.43000030517578,52.86000061035156,53.029998779296875,53.08000183105469,53.0,52.810001373291016,52.20000076293945,51.02000045776367,50.58000183105469,50.22999954223633,51.63999938964844,52.0,52.02000045776367,52.04999923706055,52.86000061035156,52.220001220703125,52.04999923706055,51.40999984741211,52.290000915527344,51.70000076293945,51.439998626708984,51.59000015258789,51.810001373291016,52.20000076293945,53.06999969482422,52.810001373291016,52.15999984741211,51.88999938964844,53.220001220703125,53.25,53.529998779296875,53.11000061035156,52.9900016784668,52.959999084472656,52.650001525878906,52.47999954223633,51.7400016784668,51.54999923706055,51.130001068115234,51.310001373291016,51.25,51.119998931884766,48.599998474121094,48.970001220703125,50.119998931884766,52.40999984741211,52.15999984741211,51.130001068115234,51.150001525878906,50.650001525878906,49.97999954223633,53.439998626708984,53.16999816894531,53.7599983215332,52.4900016784668,52.650001525878906,53.27000045776367,53.290000915527344,52.22999954223633,51.83000183105469,51.97999954223633,51.900001525878906,51.41999816894531,50.54999923706055,50.619998931884766,51.810001373291016,51.18000030517578,52.290000915527344,54.599998474121094,54.75,54.529998779296875,55.099998474121094,55.150001525878906,56.400001525878906,56.20000076293945,57.099998474121094,57.5,57.86000061035156,57.5099983215332,57.97999954223633,57.36000061035156,57.61000061035156,57.54999923706055,57.4900016784668,55.880001068115234,55.630001068115234,55.099998474121094,55.709999084472656,56.290000915527344,56.40999984741211,56.72999954223633,56.61000061035156,56.970001220703125,57.290000915527344,57.189998626708984,56.54999923706055,56.86000061035156,56.779998779296875,55.84000015258789,55.66999816894531,55.83000183105469,55.56999969482422,56.34000015258789,56.970001220703125,56.869998931884766,56.630001068115234,56.93000030517578,56.58000183105469,56.36000061035156,58.43000030517578,57.91999816894531,57.189998626708984,55.29999923706055,56.06999969482422,56.27000045776367,58.099998474121094,57.220001220703125,53.36000061035156,53.470001220703125,53.34000015258789,53.81999969482422,54.869998931884766,55.0099983215332,53.900001525878906,54.70000076293945,54.900001525878906,53.220001220703125,53.5099983215332,52.58000183105469,52.439998626708984,52.619998931884766,53.40999984741211,53.36000061035156,53.900001525878906,55.220001220703125,55.79999923706055,57.099998474121094,56.9900016784668,57.970001220703125,57.5,56.83000183105469,57.81999969482422,56.65999984741211,56.97999954223633,56.150001525878906,55.959999084472656,55.970001220703125,55.54999923706055,56.08000183105469,56.560001373291016,56.540000915527344,56.619998931884766,56.38999938964844,55.86000061035156,55.790000915527344,56.290000915527344,55.630001068115234,54.41999816894531,54.83000183105469,55.380001068115234,56.209999084472656,56.54999923706055,57.130001068115234,55.400001525878906,55.04999923706055,54.70000076293945,55.150001525878906,55.400001525878906,55.45000076293945,54.63999938964844,55.2400016784668,55.529998779296875,56.189998626708984,52.7599983215332,54.0,54.220001220703125,56.2599983215332,55.59000015258789,55.209999084472656,55.45000076293945,55.88999938964844,55.81999969482422,55.720001220703125,55.20000076293945,55.45000076293945,56.189998626708984,54.68000030517578,55.65999984741211,55.29999923706055,54.63999938964844,54.08000183105469,53.880001068115234,53.279998779296875,53.45000076293945,53.380001068115234,53.540000915527344,52.86000061035156,53.099998474121094,53.5099983215332,53.720001220703125,53.400001525878906,54.709999084472656,55.279998779296875,55.93000030517578,55.77000045776367,55.91999816894531,55.84000015258789,56.13999938964844,55.97999954223633,57.54999923706055,56.970001220703125,57.04999923706055,57.380001068115234,57.369998931884766,57.150001525878906,57.54999923706055,57.560001373291016,57.939998626708984,57.52000045776367,57.040000915527344,56.38999938964844,55.97999954223633,55.65999984741211,55.779998779296875,55.599998474121094,55.380001068115234,56.31999969482422,56.060001373291016,56.40999984741211,55.880001068115234,55.599998474121094,54.31999969482422,51.84000015258789,51.61000061035156,51.04999923706055,52.470001220703125,52.43000030517578,52.9900016784668,52.97999954223633,54.36000061035156,53.63999938964844,54.08000183105469,54.66999816894531,55.0,55.02000045776367,55.77000045776367,54.220001220703125,53.599998474121094,53.7599983215332,53.97999954223633,53.22999954223633,53.02000045776367,51.02000045776367,50.529998779296875,47.849998474121094,46.95000076293945,49.029998779296875,48.560001373291016,49.709999084472656,48.41999816894531,46.849998474121094,43.58000183105469,43.34000015258789,39.900001525878906,36.150001525878906,38.560001373291016,33.63999938964844,35.290000915527344,30.25,32.7400016784668,31.780000686645508,32.7400016784668,35.0,36.630001068115234,37.63999938964844,36.189998626708984,39.59000015258789,41.029998779296875,38.369998931884766,39.08000183105469,37.16999816894531,38.27000045776367,38.02000045776367,39.439998626708984,40.83000183105469,38.95000076293945,39.459999084472656,36.91999816894531,38.11000061035156,40.09000015258789,38.880001068115234,36.130001068115234,37.79999923706055,39.130001068115234,39.61000061035156,39.689998626708984,40.41999816894531,41.650001525878906,39.66999816894531,37.88999938964844,37.689998626708984,37.939998626708984,34.20000076293945,36.369998931884766,36.529998779296875,34.66999816894531,34.630001068115234,34.349998474121094,34.77000045776367,34.33000183105469,35.43000030517578,35.13999938964844,35.59000015258789,35.529998779296875,35.380001068115234,37.720001220703125,39.36000061035156,38.869998931884766,39.02000045776367,39.220001220703125,39.869998931884766,41.38999938964844,41.29999923706055,42.470001220703125,43.810001373291016,42.90999984741211,40.41999816894531,38.880001068115234,39.38999938964844,39.81999969482422,41.08000183105469,40.40999984741211,41.209999084472656,40.630001068115234,40.38999938964844,41.08000183105469,41.189998626708984,42.52000045776367,40.220001220703125,40.810001373291016,41.130001068115234,40.130001068115234,39.779998779296875,40.4900016784668,39.63999938964844,39.189998626708984,38.22999954223633,39.88999938964844,40.5,41.900001525878906,43.22999954223633,42.84000015258789,43.060001373291016,41.90999984741211,42.88999938964844,43.369998931884766,44.779998779296875,44.33000183105469,45.0,44.599998474121094,45.18000030517578,45.0099983215332,43.439998626708984,44.029998779296875,44.310001373291016,44.84000015258789,44.70000076293945,45.459999084472656,46.79999923706055,46.720001220703125,46.810001373291016,46.470001220703125,45.93000030517578,46.38999938964844,46.16999816894531,46.689998626708984,45.9900016784668,46.77000045776367,46.83000183105469,46.939998626708984,46.650001525878906,46.2400016784668,46.66999816894531,45.619998931884766,45.470001220703125,46.40999984741211,45.7599983215332,46.47999954223633,45.220001220703125,45.849998474121094,45.38999938964844,45.63999938964844,46.25,46.369998931884766,46.5099983215332,47.33000183105469,47.61000061035156,45.72999954223633,45.97999954223633,44.65999984741211,44.650001525878906,46.09000015258789,46.5,45.18000030517578,45.70000076293945,45.81999969482422,46.38999938964844,47.2400016784668,47.599998474121094,49.060001373291016,49.02000045776367,50.470001220703125,51.38999938964844,50.939998626708984,52.150001525878906,54.209999084472656,54.59000015258789,54.599998474121094,55.029998779296875,55.099998474121094,56.45000076293945,56.02000045776367,55.689998626708984,55.689998626708984,58.060001373291016,58.290000915527344,56.72999954223633,58.06999969482422,56.47999954223633,55.959999084472656,58.5,57.5099983215332,56.849998474121094,58.810001373291016,58.900001525878906,57.9900016784668,59.16999816894531,60.689998626708984,59.380001068115234,58.380001068115234,58.529998779296875,58.7400016784668,59.93000030517578,62.650001525878906,61.83000183105469,60.84000015258789,58.88999938964844,59.470001220703125,59.310001373291016,60.779998779296875,61.470001220703125,60.779998779296875,61.349998474121094,63.5,64.5,66.04000091552734,63.779998779296875,65.16000366210938,64.62999725341797,64.0,64.37999725341797,64.81999969482422,64.08999633789062,64.72000122070312,64.33000183105469,64.11000061035156,63.439998626708984,65.19000244140625,65.58000183105469,65.70999908447266,67.4000015258789,70.16999816894531,69.44000244140625,70.19999694824219,69.72000122070312,69.69000244140625,70.43000030517578,72.25,70.66000366210938,70.6500015258789,70.91000366210938,68.68000030517578,68.5999984741211,67.72000122070312,66.6500015258789,63.90999984741211,66.6500015258789,65.44000244140625,67.2699966430664,69.5,70.5,71.58000183105469,73.08999633789062,74.11000061035156,75.43000030517578,74.69000244140625,76.20999908447266,78.0,79.30999755859375,78.0,74.73999786376953,76.37999725341797,78.19000244140625,77.41000366210938,76.76000213623047,74.72000122070312,76.58000183105469,78.68000030517578,79.26000213623047,78.44999694824219,76.05999755859375,77.72000122070312,78.45999908447266,79.05999755859375,80.5199966430664,81.45999908447266,80.77999877929688,79.23999786376953,78.9800033569336,79.05999755859375,78.52999877929688,78.18000030517578,77.66000366210938,75.58000183105469,75.52999877929688,77.0999984741211,79.27999877929688,77.68000030517578,79.80999755859375,79.2699966430664,80.19999694824219,78.94000244140625,79.30999755859375,78.58000183105469,78.38999938964844,79.44999694824219,79.26000213623047,77.68000030517578,80.02999877929688,80.91000366210938,83.62000274658203,83.18000030517578,81.30999755859375,82.80000305175781,83.3499984741211,85.0999984741211,86.05000305175781,88.33999633789062,85.6500015258789,85.45999908447266,84.41999816894531,85.83000183105469,87.02999877929688,90.0,88.97000122070312,91.31999969482422,90.54000091552734,90.7699966430664,88.36000061035156,89.30999755859375,90.62999725341797,89.54000091552734,87.7699966430664,85.97000122070312,85.48999786376953,86.8499984741211,86.80000305175781,87.0199966430664,87.83999633789062,87.01000213623047,86.81999969482422,89.36000061035156,88.56999969482422,88.94000244140625,89.11000061035156,89.5999984741211,89.75,88.79000091552734,87.52999877929688,84.69999694824219,82.62000274658203,81.44999694824219,80.44000244140625,78.01000213623047,77.19999694824219,80.18000030517578,79.7699966430664,79.98999786376953,80.29000091552734,79.11000061035156,79.3499984741211,79.54000091552734,78.1500015258789,79.41999816894531,79.69000244140625,77.66999816894531,77.80000305175781,76.13999938964844,77.44999694824219,77.52999877929688,76.33999633789062,75.94000244140625,75.69999694824219,73.58999633789062,73.77999877929688,74.77999877929688,75.9000015258789,74.55000305175781,74.94000244140625,74.72000122070312,75.19999694824219,78.51000213623047,79.61000061035156,77.62999725341797,76.69000244140625,77.23999786376953,75.27999877929688,74.95999908447266,76.55999755859375,77.3499984741211,78.6500015258789,79.23999786376953,79.08999633789062,79.16999816894531,79.58000183105469,78.80999755859375,77.20999908447266,74.47000122070312,73.62000274658203,74.86000061035156,75.54000091552734,76.37000274658203,75.30000305175781,77.12000274658203,75.7300033569336,75.70999908447266,75.76000213623047,77.19000244140625,77.38999938964844,77.05000305175781,76.48999786376953,75.6500015258789,76.13999938964844,77.25,76.9800033569336,81.12999725341797,81.08999633789062,80.58000183105469,77.12000274658203,77.11000061035156,77.29000091552734,78.69000244140625,78.7699966430664,80.33999633789062,80.68000030517578,80.94000244140625,81.31999969482422,82.5199966430664,82.58999633789062,84.12000274658203,83.93000030517578,84.5,84.36000061035156,84.94000244140625,84.47000122070312,84.05999755859375,85.87000274658203,85.62000274658203,85.68000030517578,86.47000122070312,87.58000183105469,87.69000244140625,88.33000183105469,88.31999969482422,87.25,90.62000274658203,92.91000366210938,92.63999938964844,92.12000274658203,91.12999725341797,91.45999908447266,92.56999969482422,92.91999816894531,92.48999786376953,92.88999938964844,92.30000305175781,93.95999908447266,95.12999725341797,96.1500015258789,95.7300033569336,95.62999725341797,96.0199966430664,94.11000061035156,94.20999908447266,94.30000305175781,92.83999633789062,90.4800033569336,90.58000183105469,86.56999969482422,84.48999786376953,86.05000305175781,86.62000274658203,86.55999755859375,87.77999877929688,87.0199966430664,85.4800033569336,86.91000366210938,87.86000061035156,87.08000183105469,87.77999877929688,88.2699966430664,88.08000183105469,85.81999969482422,88.2699966430664,89.0,90.16000366210938,91.05999755859375,91.7300033569336,92.20999908447266,92.05999755859375,93.36000061035156,93.70999908447266,94.52999877929688,93.97000122070312,96.12000274658203,97.0199966430664,96.11000061035156,97.76000213623047,98.56999969482422,98.77999877929688,98.70999908447266,98.08999633789062,96.76000213623047,94.76000213623047,94.33000183105469,93.69000244140625,94.69000244140625,96.29000091552734,96.58999633789062,98.19000244140625,98.86000061035156,99.98999786376953,100.66000366210938,98.79000091552734,98.0999984741211,98.91999816894531,100.95999908447266,99.5999984741211,99.05999755859375,101.69000244140625,100.83000183105469,101.62000274658203,102.76000213623047,100.0,99.30000305175781,99.12999725341797,99.68000030517578,101.91000366210938,105.19000244140625,104.55000305175781,105.87000274658203,107.7699966430664,109.20999908447266,108.31999969482422,108.75,106.30999755859375,107.4800033569336,109.75,109.93000030517578,108.1500015258789,108.05999755859375,104.05999755859375,105.38999938964844,104.91000366210938,110.08000183105469,110.33000183105469,111.95999908447266,113.98999786376953,117.20999908447266,113.86000061035156,108.08000183105469,109.70999908447266,110.80999755859375,112.77999877929688,111.44999694824219,111.88999938964844,113.16000366210938,116.73999786376953,118.25,117.66999816894531,119.30000305175781,120.95999908447266,123.95999908447266,126.76000213623047,123.23999786376953,126.0,122.33000183105469,117.94000244140625,116.38999938964844,114.86000061035156,118.95999908447266,116.83000183105469,113.12000274658203,115.23999786376953,116.7699966430664,118.68000030517578,114.81999969482422,115.2300033569336,107.83000183105469,110.33000183105469,109.7699966430664,108.6500015258789],\"type\":\"scatter\"}],                        {\"template\":{\"data\":{\"bar\":[{\"error_x\":{\"color\":\"#2a3f5f\"},\"error_y\":{\"color\":\"#2a3f5f\"},\"marker\":{\"line\":{\"color\":\"#E5ECF6\",\"width\":0.5},\"pattern\":{\"fillmode\":\"overlay\",\"size\":10,\"solidity\":0.2}},\"type\":\"bar\"}],\"barpolar\":[{\"marker\":{\"line\":{\"color\":\"#E5ECF6\",\"width\":0.5},\"pattern\":{\"fillmode\":\"overlay\",\"size\":10,\"solidity\":0.2}},\"type\":\"barpolar\"}],\"carpet\":[{\"aaxis\":{\"endlinecolor\":\"#2a3f5f\",\"gridcolor\":\"white\",\"linecolor\":\"white\",\"minorgridcolor\":\"white\",\"startlinecolor\":\"#2a3f5f\"},\"baxis\":{\"endlinecolor\":\"#2a3f5f\",\"gridcolor\":\"white\",\"linecolor\":\"white\",\"minorgridcolor\":\"white\",\"startlinecolor\":\"#2a3f5f\"},\"type\":\"carpet\"}],\"choropleth\":[{\"colorbar\":{\"outlinewidth\":0,\"ticks\":\"\"},\"type\":\"choropleth\"}],\"contour\":[{\"colorbar\":{\"outlinewidth\":0,\"ticks\":\"\"},\"colorscale\":[[0.0,\"#0d0887\"],[0.1111111111111111,\"#46039f\"],[0.2222222222222222,\"#7201a8\"],[0.3333333333333333,\"#9c179e\"],[0.4444444444444444,\"#bd3786\"],[0.5555555555555556,\"#d8576b\"],[0.6666666666666666,\"#ed7953\"],[0.7777777777777778,\"#fb9f3a\"],[0.8888888888888888,\"#fdca26\"],[1.0,\"#f0f921\"]],\"type\":\"contour\"}],\"contourcarpet\":[{\"colorbar\":{\"outlinewidth\":0,\"ticks\":\"\"},\"type\":\"contourcarpet\"}],\"heatmap\":[{\"colorbar\":{\"outlinewidth\":0,\"ticks\":\"\"},\"colorscale\":[[0.0,\"#0d0887\"],[0.1111111111111111,\"#46039f\"],[0.2222222222222222,\"#7201a8\"],[0.3333333333333333,\"#9c179e\"],[0.4444444444444444,\"#bd3786\"],[0.5555555555555556,\"#d8576b\"],[0.6666666666666666,\"#ed7953\"],[0.7777777777777778,\"#fb9f3a\"],[0.8888888888888888,\"#fdca26\"],[1.0,\"#f0f921\"]],\"type\":\"heatmap\"}],\"heatmapgl\":[{\"colorbar\":{\"outlinewidth\":0,\"ticks\":\"\"},\"colorscale\":[[0.0,\"#0d0887\"],[0.1111111111111111,\"#46039f\"],[0.2222222222222222,\"#7201a8\"],[0.3333333333333333,\"#9c179e\"],[0.4444444444444444,\"#bd3786\"],[0.5555555555555556,\"#d8576b\"],[0.6666666666666666,\"#ed7953\"],[0.7777777777777778,\"#fb9f3a\"],[0.8888888888888888,\"#fdca26\"],[1.0,\"#f0f921\"]],\"type\":\"heatmapgl\"}],\"histogram\":[{\"marker\":{\"pattern\":{\"fillmode\":\"overlay\",\"size\":10,\"solidity\":0.2}},\"type\":\"histogram\"}],\"histogram2d\":[{\"colorbar\":{\"outlinewidth\":0,\"ticks\":\"\"},\"colorscale\":[[0.0,\"#0d0887\"],[0.1111111111111111,\"#46039f\"],[0.2222222222222222,\"#7201a8\"],[0.3333333333333333,\"#9c179e\"],[0.4444444444444444,\"#bd3786\"],[0.5555555555555556,\"#d8576b\"],[0.6666666666666666,\"#ed7953\"],[0.7777777777777778,\"#fb9f3a\"],[0.8888888888888888,\"#fdca26\"],[1.0,\"#f0f921\"]],\"type\":\"histogram2d\"}],\"histogram2dcontour\":[{\"colorbar\":{\"outlinewidth\":0,\"ticks\":\"\"},\"colorscale\":[[0.0,\"#0d0887\"],[0.1111111111111111,\"#46039f\"],[0.2222222222222222,\"#7201a8\"],[0.3333333333333333,\"#9c179e\"],[0.4444444444444444,\"#bd3786\"],[0.5555555555555556,\"#d8576b\"],[0.6666666666666666,\"#ed7953\"],[0.7777777777777778,\"#fb9f3a\"],[0.8888888888888888,\"#fdca26\"],[1.0,\"#f0f921\"]],\"type\":\"histogram2dcontour\"}],\"mesh3d\":[{\"colorbar\":{\"outlinewidth\":0,\"ticks\":\"\"},\"type\":\"mesh3d\"}],\"parcoords\":[{\"line\":{\"colorbar\":{\"outlinewidth\":0,\"ticks\":\"\"}},\"type\":\"parcoords\"}],\"pie\":[{\"automargin\":true,\"type\":\"pie\"}],\"scatter\":[{\"marker\":{\"colorbar\":{\"outlinewidth\":0,\"ticks\":\"\"}},\"type\":\"scatter\"}],\"scatter3d\":[{\"line\":{\"colorbar\":{\"outlinewidth\":0,\"ticks\":\"\"}},\"marker\":{\"colorbar\":{\"outlinewidth\":0,\"ticks\":\"\"}},\"type\":\"scatter3d\"}],\"scattercarpet\":[{\"marker\":{\"colorbar\":{\"outlinewidth\":0,\"ticks\":\"\"}},\"type\":\"scattercarpet\"}],\"scattergeo\":[{\"marker\":{\"colorbar\":{\"outlinewidth\":0,\"ticks\":\"\"}},\"type\":\"scattergeo\"}],\"scattergl\":[{\"marker\":{\"colorbar\":{\"outlinewidth\":0,\"ticks\":\"\"}},\"type\":\"scattergl\"}],\"scattermapbox\":[{\"marker\":{\"colorbar\":{\"outlinewidth\":0,\"ticks\":\"\"}},\"type\":\"scattermapbox\"}],\"scatterpolar\":[{\"marker\":{\"colorbar\":{\"outlinewidth\":0,\"ticks\":\"\"}},\"type\":\"scatterpolar\"}],\"scatterpolargl\":[{\"marker\":{\"colorbar\":{\"outlinewidth\":0,\"ticks\":\"\"}},\"type\":\"scatterpolargl\"}],\"scatterternary\":[{\"marker\":{\"colorbar\":{\"outlinewidth\":0,\"ticks\":\"\"}},\"type\":\"scatterternary\"}],\"surface\":[{\"colorbar\":{\"outlinewidth\":0,\"ticks\":\"\"},\"colorscale\":[[0.0,\"#0d0887\"],[0.1111111111111111,\"#46039f\"],[0.2222222222222222,\"#7201a8\"],[0.3333333333333333,\"#9c179e\"],[0.4444444444444444,\"#bd3786\"],[0.5555555555555556,\"#d8576b\"],[0.6666666666666666,\"#ed7953\"],[0.7777777777777778,\"#fb9f3a\"],[0.8888888888888888,\"#fdca26\"],[1.0,\"#f0f921\"]],\"type\":\"surface\"}],\"table\":[{\"cells\":{\"fill\":{\"color\":\"#EBF0F8\"},\"line\":{\"color\":\"white\"}},\"header\":{\"fill\":{\"color\":\"#C8D4E3\"},\"line\":{\"color\":\"white\"}},\"type\":\"table\"}]},\"layout\":{\"annotationdefaults\":{\"arrowcolor\":\"#2a3f5f\",\"arrowhead\":0,\"arrowwidth\":1},\"autotypenumbers\":\"strict\",\"coloraxis\":{\"colorbar\":{\"outlinewidth\":0,\"ticks\":\"\"}},\"colorscale\":{\"diverging\":[[0,\"#8e0152\"],[0.1,\"#c51b7d\"],[0.2,\"#de77ae\"],[0.3,\"#f1b6da\"],[0.4,\"#fde0ef\"],[0.5,\"#f7f7f7\"],[0.6,\"#e6f5d0\"],[0.7,\"#b8e186\"],[0.8,\"#7fbc41\"],[0.9,\"#4d9221\"],[1,\"#276419\"]],\"sequential\":[[0.0,\"#0d0887\"],[0.1111111111111111,\"#46039f\"],[0.2222222222222222,\"#7201a8\"],[0.3333333333333333,\"#9c179e\"],[0.4444444444444444,\"#bd3786\"],[0.5555555555555556,\"#d8576b\"],[0.6666666666666666,\"#ed7953\"],[0.7777777777777778,\"#fb9f3a\"],[0.8888888888888888,\"#fdca26\"],[1.0,\"#f0f921\"]],\"sequentialminus\":[[0.0,\"#0d0887\"],[0.1111111111111111,\"#46039f\"],[0.2222222222222222,\"#7201a8\"],[0.3333333333333333,\"#9c179e\"],[0.4444444444444444,\"#bd3786\"],[0.5555555555555556,\"#d8576b\"],[0.6666666666666666,\"#ed7953\"],[0.7777777777777778,\"#fb9f3a\"],[0.8888888888888888,\"#fdca26\"],[1.0,\"#f0f921\"]]},\"colorway\":[\"#636efa\",\"#EF553B\",\"#00cc96\",\"#ab63fa\",\"#FFA15A\",\"#19d3f3\",\"#FF6692\",\"#B6E880\",\"#FF97FF\",\"#FECB52\"],\"font\":{\"color\":\"#2a3f5f\"},\"geo\":{\"bgcolor\":\"white\",\"lakecolor\":\"white\",\"landcolor\":\"#E5ECF6\",\"showlakes\":true,\"showland\":true,\"subunitcolor\":\"white\"},\"hoverlabel\":{\"align\":\"left\"},\"hovermode\":\"closest\",\"mapbox\":{\"style\":\"light\"},\"paper_bgcolor\":\"white\",\"plot_bgcolor\":\"#E5ECF6\",\"polar\":{\"angularaxis\":{\"gridcolor\":\"white\",\"linecolor\":\"white\",\"ticks\":\"\"},\"bgcolor\":\"#E5ECF6\",\"radialaxis\":{\"gridcolor\":\"white\",\"linecolor\":\"white\",\"ticks\":\"\"}},\"scene\":{\"xaxis\":{\"backgroundcolor\":\"#E5ECF6\",\"gridcolor\":\"white\",\"gridwidth\":2,\"linecolor\":\"white\",\"showbackground\":true,\"ticks\":\"\",\"zerolinecolor\":\"white\"},\"yaxis\":{\"backgroundcolor\":\"#E5ECF6\",\"gridcolor\":\"white\",\"gridwidth\":2,\"linecolor\":\"white\",\"showbackground\":true,\"ticks\":\"\",\"zerolinecolor\":\"white\"},\"zaxis\":{\"backgroundcolor\":\"#E5ECF6\",\"gridcolor\":\"white\",\"gridwidth\":2,\"linecolor\":\"white\",\"showbackground\":true,\"ticks\":\"\",\"zerolinecolor\":\"white\"}},\"shapedefaults\":{\"line\":{\"color\":\"#2a3f5f\"}},\"ternary\":{\"aaxis\":{\"gridcolor\":\"white\",\"linecolor\":\"white\",\"ticks\":\"\"},\"baxis\":{\"gridcolor\":\"white\",\"linecolor\":\"white\",\"ticks\":\"\"},\"bgcolor\":\"#E5ECF6\",\"caxis\":{\"gridcolor\":\"white\",\"linecolor\":\"white\",\"ticks\":\"\"}},\"title\":{\"x\":0.05},\"xaxis\":{\"automargin\":true,\"gridcolor\":\"white\",\"linecolor\":\"white\",\"ticks\":\"\",\"title\":{\"standoff\":15},\"zerolinecolor\":\"white\",\"zerolinewidth\":2},\"yaxis\":{\"automargin\":true,\"gridcolor\":\"white\",\"linecolor\":\"white\",\"ticks\":\"\",\"title\":{\"standoff\":15},\"zerolinecolor\":\"white\",\"zerolinewidth\":2}}},\"height\":500,\"width\":900,\"xaxis\":{\"title\":{\"text\":\"Date\"}},\"yaxis\":{\"title\":{\"text\":\"Price\"}}},                        {\"responsive\": true}                    ).then(function(){\n",
              "                            \n",
              "var gd = document.getElementById('085b5b05-ddff-425b-8d46-a06ddfd1a06b');\n",
              "var x = new MutationObserver(function (mutations, observer) {{\n",
              "        var display = window.getComputedStyle(gd).display;\n",
              "        if (!display || display === 'none') {{\n",
              "            console.log([gd, 'removed!']);\n",
              "            Plotly.purge(gd);\n",
              "            observer.disconnect();\n",
              "        }}\n",
              "}});\n",
              "\n",
              "// Listen for the removal of the full notebook cells\n",
              "var notebookContainer = gd.closest('#notebook-container');\n",
              "if (notebookContainer) {{\n",
              "    x.observe(notebookContainer, {childList: true});\n",
              "}}\n",
              "\n",
              "// Listen for the clearing of the current output cell\n",
              "var outputEl = gd.closest('.output');\n",
              "if (outputEl) {{\n",
              "    x.observe(outputEl, {childList: true});\n",
              "}}\n",
              "\n",
              "                        })                };                            </script>        </div>\n",
              "</body>\n",
              "</html>"
            ]
          },
          "metadata": {}
        }
      ]
    },
    {
      "cell_type": "code",
      "metadata": {
        "id": "hIG1kyPk4UCP",
        "colab": {
          "base_uri": "https://localhost:8080/",
          "height": 517
        },
        "outputId": "95795b12-2d9f-4dde-ffff-d0b151b68fb0"
      },
      "source": [
        "fig = go.Figure()\n",
        "\n",
        "fig.add_trace(go.Scatter(x = data.index , y = data['Volume'] , mode = 'lines'))\n",
        "fig.update_layout(height = 500 , width = 900, \n",
        "                  xaxis_title='Date' , yaxis_title='Volume')\n",
        "fig.show()"
      ],
      "execution_count": null,
      "outputs": [
        {
          "output_type": "display_data",
          "data": {
            "text/html": [
              "<html>\n",
              "<head><meta charset=\"utf-8\" /></head>\n",
              "<body>\n",
              "    <div>            <script src=\"https://cdnjs.cloudflare.com/ajax/libs/mathjax/2.7.5/MathJax.js?config=TeX-AMS-MML_SVG\"></script><script type=\"text/javascript\">if (window.MathJax) {MathJax.Hub.Config({SVG: {font: \"STIX-Web\"}});}</script>                <script type=\"text/javascript\">window.PlotlyConfig = {MathJaxConfig: 'local'};</script>\n",
              "        <script src=\"https://cdn.plot.ly/plotly-2.8.3.min.js\"></script>                <div id=\"5db01ac2-bbd5-40f1-953e-d81a432e5c28\" class=\"plotly-graph-div\" style=\"height:500px; width:900px;\"></div>            <script type=\"text/javascript\">                                    window.PLOTLYENV=window.PLOTLYENV || {};                                    if (document.getElementById(\"5db01ac2-bbd5-40f1-953e-d81a432e5c28\")) {                    Plotly.newPlot(                        \"5db01ac2-bbd5-40f1-953e-d81a432e5c28\",                        [{\"mode\":\"lines\",\"x\":[\"2018-01-02\",\"2018-01-03\",\"2018-01-04\",\"2018-01-05\",\"2018-01-08\",\"2018-01-09\",\"2018-01-10\",\"2018-01-11\",\"2018-01-12\",\"2018-01-16\",\"2018-01-17\",\"2018-01-18\",\"2018-01-19\",\"2018-01-22\",\"2018-01-23\",\"2018-01-24\",\"2018-01-25\",\"2018-01-26\",\"2018-01-29\",\"2018-01-30\",\"2018-01-31\",\"2018-02-01\",\"2018-02-02\",\"2018-02-05\",\"2018-02-06\",\"2018-02-07\",\"2018-02-08\",\"2018-02-09\",\"2018-02-12\",\"2018-02-13\",\"2018-02-14\",\"2018-02-15\",\"2018-02-16\",\"2018-02-20\",\"2018-02-21\",\"2018-02-22\",\"2018-02-23\",\"2018-02-26\",\"2018-02-27\",\"2018-02-28\",\"2018-03-01\",\"2018-03-02\",\"2018-03-05\",\"2018-03-06\",\"2018-03-07\",\"2018-03-08\",\"2018-03-09\",\"2018-03-12\",\"2018-03-13\",\"2018-03-14\",\"2018-03-15\",\"2018-03-16\",\"2018-03-19\",\"2018-03-20\",\"2018-03-21\",\"2018-03-22\",\"2018-03-23\",\"2018-03-26\",\"2018-03-27\",\"2018-03-28\",\"2018-03-29\",\"2018-04-02\",\"2018-04-03\",\"2018-04-04\",\"2018-04-05\",\"2018-04-06\",\"2018-04-09\",\"2018-04-10\",\"2018-04-11\",\"2018-04-12\",\"2018-04-13\",\"2018-04-16\",\"2018-04-17\",\"2018-04-18\",\"2018-04-19\",\"2018-04-20\",\"2018-04-23\",\"2018-04-24\",\"2018-04-25\",\"2018-04-26\",\"2018-04-27\",\"2018-04-30\",\"2018-05-01\",\"2018-05-02\",\"2018-05-03\",\"2018-05-04\",\"2018-05-07\",\"2018-05-08\",\"2018-05-09\",\"2018-05-10\",\"2018-05-11\",\"2018-05-14\",\"2018-05-15\",\"2018-05-16\",\"2018-05-17\",\"2018-05-18\",\"2018-05-21\",\"2018-05-22\",\"2018-05-23\",\"2018-05-24\",\"2018-05-25\",\"2018-05-29\",\"2018-05-30\",\"2018-05-31\",\"2018-06-01\",\"2018-06-04\",\"2018-06-05\",\"2018-06-06\",\"2018-06-07\",\"2018-06-08\",\"2018-06-11\",\"2018-06-12\",\"2018-06-13\",\"2018-06-14\",\"2018-06-15\",\"2018-06-18\",\"2018-06-19\",\"2018-06-20\",\"2018-06-21\",\"2018-06-22\",\"2018-06-25\",\"2018-06-26\",\"2018-06-27\",\"2018-06-28\",\"2018-06-29\",\"2018-07-02\",\"2018-07-03\",\"2018-07-05\",\"2018-07-06\",\"2018-07-09\",\"2018-07-10\",\"2018-07-11\",\"2018-07-12\",\"2018-07-13\",\"2018-07-16\",\"2018-07-17\",\"2018-07-18\",\"2018-07-19\",\"2018-07-20\",\"2018-07-23\",\"2018-07-24\",\"2018-07-25\",\"2018-07-26\",\"2018-07-27\",\"2018-07-30\",\"2018-07-31\",\"2018-08-01\",\"2018-08-02\",\"2018-08-03\",\"2018-08-06\",\"2018-08-07\",\"2018-08-08\",\"2018-08-09\",\"2018-08-10\",\"2018-08-13\",\"2018-08-14\",\"2018-08-15\",\"2018-08-16\",\"2018-08-17\",\"2018-08-20\",\"2018-08-21\",\"2018-08-22\",\"2018-08-23\",\"2018-08-24\",\"2018-08-27\",\"2018-08-28\",\"2018-08-29\",\"2018-08-30\",\"2018-08-31\",\"2018-09-04\",\"2018-09-05\",\"2018-09-06\",\"2018-09-07\",\"2018-09-10\",\"2018-09-11\",\"2018-09-12\",\"2018-09-13\",\"2018-09-14\",\"2018-09-17\",\"2018-09-18\",\"2018-09-19\",\"2018-09-20\",\"2018-09-21\",\"2018-09-24\",\"2018-09-25\",\"2018-09-26\",\"2018-09-27\",\"2018-09-28\",\"2018-10-01\",\"2018-10-02\",\"2018-10-03\",\"2018-10-04\",\"2018-10-05\",\"2018-10-08\",\"2018-10-09\",\"2018-10-10\",\"2018-10-11\",\"2018-10-12\",\"2018-10-15\",\"2018-10-16\",\"2018-10-17\",\"2018-10-18\",\"2018-10-19\",\"2018-10-22\",\"2018-10-23\",\"2018-10-24\",\"2018-10-25\",\"2018-10-26\",\"2018-10-29\",\"2018-10-30\",\"2018-10-31\",\"2018-11-01\",\"2018-11-02\",\"2018-11-05\",\"2018-11-06\",\"2018-11-07\",\"2018-11-08\",\"2018-11-09\",\"2018-11-12\",\"2018-11-13\",\"2018-11-14\",\"2018-11-15\",\"2018-11-16\",\"2018-11-19\",\"2018-11-20\",\"2018-11-21\",\"2018-11-23\",\"2018-11-26\",\"2018-11-27\",\"2018-11-28\",\"2018-11-29\",\"2018-11-30\",\"2018-12-03\",\"2018-12-04\",\"2018-12-06\",\"2018-12-07\",\"2018-12-10\",\"2018-12-11\",\"2018-12-12\",\"2018-12-13\",\"2018-12-14\",\"2018-12-17\",\"2018-12-18\",\"2018-12-19\",\"2018-12-20\",\"2018-12-21\",\"2018-12-24\",\"2018-12-26\",\"2018-12-27\",\"2018-12-28\",\"2018-12-31\",\"2019-01-02\",\"2019-01-03\",\"2019-01-04\",\"2019-01-07\",\"2019-01-08\",\"2019-01-09\",\"2019-01-10\",\"2019-01-11\",\"2019-01-14\",\"2019-01-15\",\"2019-01-16\",\"2019-01-17\",\"2019-01-18\",\"2019-01-22\",\"2019-01-23\",\"2019-01-24\",\"2019-01-25\",\"2019-01-28\",\"2019-01-29\",\"2019-01-30\",\"2019-01-31\",\"2019-02-01\",\"2019-02-04\",\"2019-02-05\",\"2019-02-06\",\"2019-02-07\",\"2019-02-08\",\"2019-02-11\",\"2019-02-12\",\"2019-02-13\",\"2019-02-14\",\"2019-02-15\",\"2019-02-19\",\"2019-02-20\",\"2019-02-21\",\"2019-02-22\",\"2019-02-25\",\"2019-02-26\",\"2019-02-27\",\"2019-02-28\",\"2019-03-01\",\"2019-03-04\",\"2019-03-05\",\"2019-03-06\",\"2019-03-07\",\"2019-03-08\",\"2019-03-11\",\"2019-03-12\",\"2019-03-13\",\"2019-03-14\",\"2019-03-15\",\"2019-03-18\",\"2019-03-19\",\"2019-03-20\",\"2019-03-21\",\"2019-03-22\",\"2019-03-25\",\"2019-03-26\",\"2019-03-27\",\"2019-03-28\",\"2019-03-29\",\"2019-04-01\",\"2019-04-02\",\"2019-04-03\",\"2019-04-04\",\"2019-04-05\",\"2019-04-08\",\"2019-04-09\",\"2019-04-10\",\"2019-04-11\",\"2019-04-12\",\"2019-04-15\",\"2019-04-16\",\"2019-04-17\",\"2019-04-18\",\"2019-04-22\",\"2019-04-23\",\"2019-04-24\",\"2019-04-25\",\"2019-04-26\",\"2019-04-29\",\"2019-04-30\",\"2019-05-01\",\"2019-05-02\",\"2019-05-03\",\"2019-05-06\",\"2019-05-07\",\"2019-05-08\",\"2019-05-09\",\"2019-05-10\",\"2019-05-13\",\"2019-05-14\",\"2019-05-15\",\"2019-05-16\",\"2019-05-17\",\"2019-05-20\",\"2019-05-21\",\"2019-05-22\",\"2019-05-23\",\"2019-05-24\",\"2019-05-28\",\"2019-05-29\",\"2019-05-30\",\"2019-05-31\",\"2019-06-03\",\"2019-06-04\",\"2019-06-05\",\"2019-06-06\",\"2019-06-07\",\"2019-06-10\",\"2019-06-11\",\"2019-06-12\",\"2019-06-13\",\"2019-06-14\",\"2019-06-17\",\"2019-06-18\",\"2019-06-19\",\"2019-06-20\",\"2019-06-21\",\"2019-06-24\",\"2019-06-25\",\"2019-06-26\",\"2019-06-27\",\"2019-06-28\",\"2019-07-01\",\"2019-07-02\",\"2019-07-03\",\"2019-07-05\",\"2019-07-08\",\"2019-07-09\",\"2019-07-10\",\"2019-07-11\",\"2019-07-12\",\"2019-07-15\",\"2019-07-16\",\"2019-07-17\",\"2019-07-18\",\"2019-07-19\",\"2019-07-22\",\"2019-07-23\",\"2019-07-24\",\"2019-07-25\",\"2019-07-26\",\"2019-07-29\",\"2019-07-30\",\"2019-07-31\",\"2019-08-01\",\"2019-08-02\",\"2019-08-05\",\"2019-08-06\",\"2019-08-07\",\"2019-08-08\",\"2019-08-09\",\"2019-08-12\",\"2019-08-13\",\"2019-08-14\",\"2019-08-15\",\"2019-08-16\",\"2019-08-19\",\"2019-08-20\",\"2019-08-21\",\"2019-08-22\",\"2019-08-23\",\"2019-08-26\",\"2019-08-27\",\"2019-08-28\",\"2019-08-29\",\"2019-08-30\",\"2019-09-03\",\"2019-09-04\",\"2019-09-05\",\"2019-09-06\",\"2019-09-09\",\"2019-09-10\",\"2019-09-11\",\"2019-09-12\",\"2019-09-13\",\"2019-09-16\",\"2019-09-17\",\"2019-09-18\",\"2019-09-19\",\"2019-09-20\",\"2019-09-23\",\"2019-09-24\",\"2019-09-25\",\"2019-09-26\",\"2019-09-27\",\"2019-09-30\",\"2019-10-01\",\"2019-10-02\",\"2019-10-03\",\"2019-10-04\",\"2019-10-07\",\"2019-10-08\",\"2019-10-09\",\"2019-10-10\",\"2019-10-11\",\"2019-10-14\",\"2019-10-15\",\"2019-10-16\",\"2019-10-17\",\"2019-10-18\",\"2019-10-21\",\"2019-10-22\",\"2019-10-23\",\"2019-10-24\",\"2019-10-25\",\"2019-10-28\",\"2019-10-29\",\"2019-10-30\",\"2019-10-31\",\"2019-11-01\",\"2019-11-04\",\"2019-11-05\",\"2019-11-06\",\"2019-11-07\",\"2019-11-08\",\"2019-11-11\",\"2019-11-12\",\"2019-11-13\",\"2019-11-14\",\"2019-11-15\",\"2019-11-18\",\"2019-11-19\",\"2019-11-20\",\"2019-11-21\",\"2019-11-22\",\"2019-11-25\",\"2019-11-26\",\"2019-11-27\",\"2019-11-29\",\"2019-12-02\",\"2019-12-03\",\"2019-12-04\",\"2019-12-05\",\"2019-12-06\",\"2019-12-09\",\"2019-12-10\",\"2019-12-11\",\"2019-12-12\",\"2019-12-13\",\"2019-12-16\",\"2019-12-17\",\"2019-12-18\",\"2019-12-19\",\"2019-12-20\",\"2019-12-23\",\"2019-12-24\",\"2019-12-26\",\"2019-12-27\",\"2019-12-30\",\"2019-12-31\",\"2020-01-02\",\"2020-01-03\",\"2020-01-06\",\"2020-01-07\",\"2020-01-08\",\"2020-01-09\",\"2020-01-10\",\"2020-01-13\",\"2020-01-14\",\"2020-01-15\",\"2020-01-16\",\"2020-01-17\",\"2020-01-21\",\"2020-01-22\",\"2020-01-23\",\"2020-01-24\",\"2020-01-27\",\"2020-01-28\",\"2020-01-29\",\"2020-01-30\",\"2020-01-31\",\"2020-02-03\",\"2020-02-04\",\"2020-02-05\",\"2020-02-06\",\"2020-02-07\",\"2020-02-10\",\"2020-02-11\",\"2020-02-12\",\"2020-02-13\",\"2020-02-14\",\"2020-02-18\",\"2020-02-19\",\"2020-02-20\",\"2020-02-21\",\"2020-02-24\",\"2020-02-25\",\"2020-02-26\",\"2020-02-27\",\"2020-02-28\",\"2020-03-02\",\"2020-03-03\",\"2020-03-04\",\"2020-03-05\",\"2020-03-06\",\"2020-03-09\",\"2020-03-10\",\"2020-03-11\",\"2020-03-12\",\"2020-03-13\",\"2020-03-16\",\"2020-03-17\",\"2020-03-18\",\"2020-03-19\",\"2020-03-20\",\"2020-03-23\",\"2020-03-24\",\"2020-03-25\",\"2020-03-26\",\"2020-03-27\",\"2020-03-30\",\"2020-03-31\",\"2020-04-01\",\"2020-04-02\",\"2020-04-03\",\"2020-04-06\",\"2020-04-07\",\"2020-04-08\",\"2020-04-09\",\"2020-04-13\",\"2020-04-14\",\"2020-04-15\",\"2020-04-16\",\"2020-04-17\",\"2020-04-20\",\"2020-04-21\",\"2020-04-22\",\"2020-04-23\",\"2020-04-24\",\"2020-04-27\",\"2020-04-28\",\"2020-04-29\",\"2020-04-30\",\"2020-05-01\",\"2020-05-04\",\"2020-05-05\",\"2020-05-06\",\"2020-05-07\",\"2020-05-08\",\"2020-05-11\",\"2020-05-12\",\"2020-05-13\",\"2020-05-14\",\"2020-05-15\",\"2020-05-18\",\"2020-05-19\",\"2020-05-20\",\"2020-05-21\",\"2020-05-22\",\"2020-05-26\",\"2020-05-27\",\"2020-05-28\",\"2020-05-29\",\"2020-06-01\",\"2020-06-02\",\"2020-06-03\",\"2020-06-04\",\"2020-06-05\",\"2020-06-08\",\"2020-06-09\",\"2020-06-10\",\"2020-06-11\",\"2020-06-12\",\"2020-06-15\",\"2020-06-16\",\"2020-06-17\",\"2020-06-18\",\"2020-06-19\",\"2020-06-22\",\"2020-06-23\",\"2020-06-24\",\"2020-06-25\",\"2020-06-26\",\"2020-06-29\",\"2020-06-30\",\"2020-07-01\",\"2020-07-02\",\"2020-07-06\",\"2020-07-07\",\"2020-07-08\",\"2020-07-09\",\"2020-07-10\",\"2020-07-13\",\"2020-07-14\",\"2020-07-15\",\"2020-07-16\",\"2020-07-17\",\"2020-07-20\",\"2020-07-21\",\"2020-07-22\",\"2020-07-23\",\"2020-07-24\",\"2020-07-27\",\"2020-07-28\",\"2020-07-29\",\"2020-07-30\",\"2020-07-31\",\"2020-08-03\",\"2020-08-04\",\"2020-08-05\",\"2020-08-06\",\"2020-08-07\",\"2020-08-10\",\"2020-08-11\",\"2020-08-12\",\"2020-08-13\",\"2020-08-14\",\"2020-08-17\",\"2020-08-18\",\"2020-08-19\",\"2020-08-20\",\"2020-08-21\",\"2020-08-24\",\"2020-08-25\",\"2020-08-26\",\"2020-08-27\",\"2020-08-28\",\"2020-08-31\",\"2020-09-01\",\"2020-09-02\",\"2020-09-03\",\"2020-09-04\",\"2020-09-08\",\"2020-09-09\",\"2020-09-10\",\"2020-09-11\",\"2020-09-14\",\"2020-09-15\",\"2020-09-16\",\"2020-09-17\",\"2020-09-18\",\"2020-09-21\",\"2020-09-22\",\"2020-09-23\",\"2020-09-24\",\"2020-09-25\",\"2020-09-28\",\"2020-09-29\",\"2020-09-30\",\"2020-10-01\",\"2020-10-02\",\"2020-10-05\",\"2020-10-06\",\"2020-10-07\",\"2020-10-08\",\"2020-10-09\",\"2020-10-12\",\"2020-10-13\",\"2020-10-14\",\"2020-10-15\",\"2020-10-16\",\"2020-10-19\",\"2020-10-20\",\"2020-10-21\",\"2020-10-22\",\"2020-10-23\",\"2020-10-26\",\"2020-10-27\",\"2020-10-28\",\"2020-10-29\",\"2020-10-30\",\"2020-11-02\",\"2020-11-03\",\"2020-11-04\",\"2020-11-05\",\"2020-11-06\",\"2020-11-09\",\"2020-11-10\",\"2020-11-11\",\"2020-11-12\",\"2020-11-13\",\"2020-11-16\",\"2020-11-17\",\"2020-11-18\",\"2020-11-19\",\"2020-11-20\",\"2020-11-23\",\"2020-11-24\",\"2020-11-25\",\"2020-11-27\",\"2020-11-30\",\"2020-12-01\",\"2020-12-02\",\"2020-12-03\",\"2020-12-04\",\"2020-12-07\",\"2020-12-08\",\"2020-12-09\",\"2020-12-10\",\"2020-12-11\",\"2020-12-14\",\"2020-12-15\",\"2020-12-16\",\"2020-12-17\",\"2020-12-18\",\"2020-12-21\",\"2020-12-22\",\"2020-12-23\",\"2020-12-24\",\"2020-12-28\",\"2020-12-29\",\"2020-12-30\",\"2020-12-31\",\"2021-01-04\",\"2021-01-05\",\"2021-01-06\",\"2021-01-07\",\"2021-01-08\",\"2021-01-11\",\"2021-01-12\",\"2021-01-13\",\"2021-01-14\",\"2021-01-15\",\"2021-01-19\",\"2021-01-20\",\"2021-01-21\",\"2021-01-22\",\"2021-01-25\",\"2021-01-26\",\"2021-01-27\",\"2021-01-28\",\"2021-01-29\",\"2021-02-01\",\"2021-02-02\",\"2021-02-03\",\"2021-02-04\",\"2021-02-05\",\"2021-02-08\",\"2021-02-09\",\"2021-02-10\",\"2021-02-11\",\"2021-02-12\",\"2021-02-16\",\"2021-02-17\",\"2021-02-18\",\"2021-02-19\",\"2021-02-22\",\"2021-02-23\",\"2021-02-24\",\"2021-02-25\",\"2021-02-26\",\"2021-03-01\",\"2021-03-02\",\"2021-03-03\",\"2021-03-04\",\"2021-03-05\",\"2021-03-08\",\"2021-03-09\",\"2021-03-10\",\"2021-03-11\",\"2021-03-12\",\"2021-03-15\",\"2021-03-16\",\"2021-03-17\",\"2021-03-18\",\"2021-03-19\",\"2021-03-22\",\"2021-03-23\",\"2021-03-24\",\"2021-03-25\",\"2021-03-26\",\"2021-03-29\",\"2021-03-30\",\"2021-03-31\",\"2021-04-01\",\"2021-04-05\",\"2021-04-06\",\"2021-04-07\",\"2021-04-08\",\"2021-04-09\",\"2021-04-12\",\"2021-04-13\",\"2021-04-14\",\"2021-04-15\",\"2021-04-16\",\"2021-04-19\",\"2021-04-20\",\"2021-04-21\",\"2021-04-22\",\"2021-04-23\",\"2021-04-26\",\"2021-04-27\",\"2021-04-28\",\"2021-04-29\",\"2021-04-30\",\"2021-05-03\",\"2021-05-04\",\"2021-05-05\",\"2021-05-06\",\"2021-05-07\",\"2021-05-10\",\"2021-05-11\",\"2021-05-12\",\"2021-05-13\",\"2021-05-14\",\"2021-05-17\",\"2021-05-18\",\"2021-05-19\",\"2021-05-20\",\"2021-05-21\",\"2021-05-24\",\"2021-05-25\",\"2021-05-26\",\"2021-05-27\",\"2021-05-28\",\"2021-06-01\",\"2021-06-02\",\"2021-06-03\",\"2021-06-04\",\"2021-06-07\",\"2021-06-08\",\"2021-06-09\",\"2021-06-10\",\"2021-06-11\",\"2021-06-14\",\"2021-06-15\",\"2021-06-16\",\"2021-06-17\",\"2021-06-18\",\"2021-06-21\",\"2021-06-22\",\"2021-06-23\",\"2021-06-24\",\"2021-06-25\",\"2021-06-28\",\"2021-06-29\",\"2021-06-30\",\"2021-07-01\",\"2021-07-02\",\"2021-07-06\",\"2021-07-07\",\"2021-07-08\",\"2021-07-09\",\"2021-07-12\",\"2021-07-13\",\"2021-07-14\",\"2021-07-15\",\"2021-07-16\",\"2021-07-19\",\"2021-07-20\",\"2021-07-21\",\"2021-07-22\",\"2021-07-23\",\"2021-07-26\",\"2021-07-27\",\"2021-07-28\",\"2021-07-29\",\"2021-07-30\",\"2021-08-02\",\"2021-08-03\",\"2021-08-04\",\"2021-08-05\",\"2021-08-06\",\"2021-08-09\",\"2021-08-10\",\"2021-08-11\",\"2021-08-12\",\"2021-08-13\",\"2021-08-16\",\"2021-08-17\",\"2021-08-18\",\"2021-08-19\",\"2021-08-20\",\"2021-08-23\",\"2021-08-24\",\"2021-08-25\",\"2021-08-26\",\"2021-08-27\",\"2021-08-30\",\"2021-08-31\",\"2021-09-01\",\"2021-09-02\",\"2021-09-03\",\"2021-09-07\",\"2021-09-08\",\"2021-09-09\",\"2021-09-10\",\"2021-09-13\",\"2021-09-14\",\"2021-09-15\",\"2021-09-16\",\"2021-09-17\",\"2021-09-20\",\"2021-09-21\",\"2021-09-22\",\"2021-09-23\",\"2021-09-24\",\"2021-09-27\",\"2021-09-28\",\"2021-09-29\",\"2021-09-30\",\"2021-10-01\",\"2021-10-04\",\"2021-10-05\",\"2021-10-06\",\"2021-10-07\",\"2021-10-08\",\"2021-10-11\",\"2021-10-12\",\"2021-10-13\",\"2021-10-14\",\"2021-10-15\",\"2021-10-18\",\"2021-10-19\",\"2021-10-20\",\"2021-10-21\",\"2021-10-22\",\"2021-10-25\",\"2021-10-26\",\"2021-10-27\",\"2021-10-28\",\"2021-10-29\",\"2021-11-01\",\"2021-11-02\",\"2021-11-03\",\"2021-11-04\",\"2021-11-05\",\"2021-11-08\",\"2021-11-09\",\"2021-11-10\",\"2021-11-11\",\"2021-11-12\",\"2021-11-15\",\"2021-11-16\",\"2021-11-17\",\"2021-11-18\",\"2021-11-19\",\"2021-11-22\",\"2021-11-23\",\"2021-11-24\",\"2021-11-26\",\"2021-11-29\",\"2021-11-30\",\"2021-12-01\",\"2021-12-02\",\"2021-12-03\",\"2021-12-06\",\"2021-12-07\",\"2021-12-08\",\"2021-12-09\",\"2021-12-10\",\"2021-12-13\",\"2021-12-14\",\"2021-12-15\",\"2021-12-16\",\"2021-12-17\",\"2021-12-20\",\"2021-12-21\",\"2021-12-22\",\"2021-12-23\",\"2021-12-27\",\"2021-12-28\",\"2021-12-29\",\"2021-12-30\",\"2021-12-31\",\"2022-01-03\",\"2022-01-04\",\"2022-01-05\",\"2022-01-06\",\"2022-01-07\",\"2022-01-10\",\"2022-01-11\",\"2022-01-12\",\"2022-01-13\",\"2022-01-14\",\"2022-01-18\",\"2022-01-19\",\"2022-01-20\",\"2022-01-21\",\"2022-01-24\",\"2022-01-25\",\"2022-01-26\",\"2022-01-27\",\"2022-01-28\",\"2022-01-31\",\"2022-02-01\",\"2022-02-02\",\"2022-02-03\",\"2022-02-04\",\"2022-02-07\",\"2022-02-08\",\"2022-02-09\",\"2022-02-10\",\"2022-02-11\",\"2022-02-14\",\"2022-02-15\",\"2022-02-16\",\"2022-02-17\",\"2022-02-18\",\"2022-02-22\",\"2022-02-23\",\"2022-02-24\",\"2022-02-25\",\"2022-02-28\",\"2022-03-01\",\"2022-03-02\",\"2022-03-03\",\"2022-03-04\",\"2022-03-07\",\"2022-03-08\",\"2022-03-09\",\"2022-03-10\",\"2022-03-11\",\"2022-03-14\",\"2022-03-15\",\"2022-03-16\",\"2022-03-17\",\"2022-03-18\",\"2022-03-21\",\"2022-03-22\",\"2022-03-23\",\"2022-03-24\",\"2022-03-25\",\"2022-03-28\",\"2022-03-29\",\"2022-03-30\",\"2022-03-31\",\"2022-04-01\",\"2022-04-04\",\"2022-04-05\",\"2022-04-06\",\"2022-04-07\",\"2022-04-08\",\"2022-04-11\",\"2022-04-12\",\"2022-04-13\",\"2022-04-14\",\"2022-04-18\",\"2022-04-19\",\"2022-04-20\",\"2022-04-21\",\"2022-04-22\",\"2022-04-25\",\"2022-04-26\",\"2022-04-27\",\"2022-04-28\",\"2022-04-29\",\"2022-05-02\",\"2022-05-03\",\"2022-05-04\",\"2022-05-05\",\"2022-05-06\",\"2022-05-09\",\"2022-05-10\",\"2022-05-11\",\"2022-05-12\"],\"y\":[944500,2124600,2026900,795500,1041200,988100,924300,1044800,968600,1172400,1046600,954100,4701700,8434300,3885900,1712000,1399500,2212000,1178400,1408700,1604000,1500800,1126800,5299700,3034700,1668200,1935200,2232600,1955400,1542000,5586400,2700300,2409300,2336000,2105100,1368300,843800,856600,1446400,1507100,976900,1710100,3432200,2964600,2360400,1267700,4762700,1610100,1003100,1030800,1284100,2256100,1090000,961000,1155500,1483600,1386900,1022000,839200,821500,940900,1178700,1688800,2452800,1212600,1423200,1196300,1361500,823200,577400,751400,901200,739000,1276400,1812300,2525300,1397000,1241200,1279000,1501300,962100,966200,1629900,3115300,4091700,2117400,1694600,1470200,1039600,1180000,767500,1002400,1162000,1130800,1016800,1378400,1291400,827700,924200,749400,976500,1068400,1019200,1612100,915700,976000,1387500,1348900,2790300,1064200,981700,736600,3965000,1772900,2487600,1392100,2334700,1868800,1631000,1257200,1858500,1385100,1374600,1194500,1094000,1032300,1912800,2264200,1191600,1030100,1227000,1198600,1154900,1181300,1119000,1029400,650400,736500,807300,1097300,1822100,1193600,890100,600600,833300,1368900,3672500,2019700,864000,640300,1370300,1000400,1092900,1809800,3092500,1355800,1419700,1288900,1488300,1572400,1360400,993600,1110200,1424900,1163500,1300800,1566500,1443000,1752400,1196000,992100,984500,1435700,1232300,1684000,1036700,770800,1137300,1294200,576700,1040900,1593300,2484000,1312300,2088600,2001200,2786600,2322700,1161600,1149100,1406600,1327500,2269900,2521300,1718500,1746200,1875200,1050700,915800,979200,800400,1618300,995000,702800,1281300,634900,853700,1317000,964100,2525700,7275400,2532600,1811200,1982400,1801100,2156000,1672500,957700,777800,1110900,1627400,1933600,1791700,1119100,1304400,1161100,496400,1122300,876200,655800,1003100,2157900,1785600,2740500,1629800,2157600,3670400,1685700,1717000,1185400,918400,1040400,1292500,1567700,1795500,1730800,764500,1505400,1055400,930600,1212400,1171500,1257400,1011600,2636400,1247000,2340500,1235000,1089100,1228000,2250600,4166500,2446700,2104300,2453900,2112700,2129500,1243200,1531700,910400,943400,1118400,656800,966400,962400,448500,772600,644000,1121600,1391300,1024600,659400,1135700,1103700,2009400,5792300,3147500,3167000,2788800,2438600,2491500,1348500,1546100,2270400,2341600,4422900,1516400,2452300,1600900,2207500,1783300,3472200,2890000,1586000,1151600,1346200,2028200,2451900,1360300,1311900,886600,1248900,1029700,1052500,1278600,1455500,2122800,1593000,1884700,931500,746800,1105500,2205300,1386000,992800,1253300,1290100,992900,1783000,3155400,2298300,2056700,2208300,1423700,1355600,813600,1049200,1440400,2826500,1512300,1683000,1073000,930700,998200,713500,1583400,1341100,1917700,1447200,1396600,1073100,2009400,1799000,1267800,1756800,1952500,1156900,922100,1095300,2378800,2316800,1423700,1713200,621700,1059100,1182700,2046000,3198500,1328000,2591800,982500,1934700,651700,1082500,1590500,861800,783600,373900,434000,633300,738000,1214700,506600,789800,633100,685200,666400,610700,671100,1312800,863900,791400,1016300,974600,1061800,1476000,2253700,1750900,898200,1268500,1271000,879500,1587600,693300,1461000,1400500,1182900,902200,824500,775300,951400,918500,775000,873200,844000,1119500,1004000,969900,1013500,744100,788500,707000,659400,991500,1088400,869400,812800,2088100,751200,769400,928500,683900,1698000,848200,940500,869300,1082000,532900,847400,1100600,699500,666300,638800,684400,809200,667900,830500,1086900,1161500,888500,861100,813000,982700,716000,905800,647700,462600,525400,621000,1177000,2271900,1255400,1204500,1194200,1102800,760800,691400,535100,726100,825700,694300,702900,921300,688900,1253900,1610700,616600,493700,692600,880700,701200,415500,560800,764100,731300,792000,552400,653800,1110800,793900,768200,854100,778500,949200,1141000,709900,2031000,567900,177700,552600,437000,445700,634000,574600,782400,1388700,728600,827500,799600,673300,708700,674600,532000,692700,1316800,940300,822700,593600,802000,1383100,1444200,800700,956200,978100,887700,780900,919100,887700,879400,1519200,1713100,2763800,2246300,1301100,1092300,1077400,853800,579700,1212000,1263800,1324800,1615500,2186500,1794300,1125200,1650600,1028000,1529800,2266300,1660500,1944000,3126200,1727800,1704700,2583900,2399700,2221500,2263000,2095000,1834400,2054000,1544000,1688600,1772400,1988800,1729400,1592000,1225600,1534000,1360400,1625300,1360500,1026300,1397100,1497600,1487200,1789800,1142000,1434900,1641500,1087800,1093300,1706700,1018800,1107200,1063200,1001900,1517900,995500,5259600,2962500,1632400,1805400,1397900,1610300,1446800,1424100,1794400,1291100,1325500,1246300,1406100,2626600,3097300,1436000,3154000,1622400,1743200,1493300,967300,1519300,1744000,1055700,1543600,2285200,1743300,1308600,1216200,1124300,1489800,2544500,1071500,1580000,2608100,2062500,2111800,908000,1095600,1560900,1555000,1297900,1011600,893000,904600,975800,1169200,1169900,1876800,1009300,874200,927300,1116800,803300,1142900,895900,1038200,1001400,2377500,1256200,1418200,1236300,1035300,1012500,788500,808700,1038800,828000,744500,900500,838700,750600,635700,836400,888400,1010400,692800,906500,578400,542500,717100,961500,580700,809600,770600,654300,895800,598900,538100,688100,914900,1319700,871400,1230400,4055600,1234900,978600,1087100,1196400,1568700,912800,628300,889000,550600,553600,755300,1065600,1441100,1524000,1589200,916800,1025200,1159000,2652100,1532400,1650100,1278600,1097500,1683400,1412100,1139400,1517500,4133400,2218600,2022800,1581700,1456500,1604000,1297800,1253700,1893100,1331400,1078400,920500,838600,1399900,1168500,1199300,1099600,713200,1224200,2134700,1407600,405600,1875200,1309100,670900,923800,1079100,907700,1205300,2088500,2047500,1884300,997700,1099400,557000,953500,2150600,979600,1124700,505800,239700,494600,722400,663500,846800,1255400,1382600,2892400,1284000,1019600,1156000,753300,1979300,1609100,1149100,1521500,963500,1122700,1138000,1588100,1227200,2061000,1590200,955400,1176900,1361300,1637200,1028200,2892000,1577600,2502500,4037600,1804200,2406100,1910000,2181700,2139000,1420900,2058400,1793400,1396100,1310400,2194000,1933400,1252200,1755200,2219200,1545500,1519500,1070900,1484600,1365800,1498000,861800,851300,897100,854400,1602500,724600,974200,882800,1572000,944400,1124300,1259600,1122300,1146700,722300,795600,503500,984700,605200,612300,604900,974100,1216200,1445300,1191400,909600,1318900,1270400,1209000,1345300,2000800,1091600,953800,925900,1812200,2540900,1359600,1031700,1413400,971300,963000,1077400,536000,782500,997800,970100,1039600,1527200,1194400,500100,1102800,1110800,1879800,1093200,1341800,1226800,1048700,817800,931700,1199400,851800,591200,1463700,1595600,1527300,1466700,3322300,3735900,2165600,1587100,1153400,970500,2197200,1171500,1376100,1093400,1306600,954500,1249700,1760000,1034900,1280800,1117700,959500,975800,759400,1197800,1754900,1290600,2000100,1345800,1008700,1307400,1494000,2770400,1374400,1317400,1150000,1006400,959400,703100,664500,740100,710400,780300,602700,683200,675500,934000,569400,1104700,1280500,823500,679700,629600,510600,787000,544600,1082000,676000,1039900,609600,1319400,1333300,1016600,758900,877400,1016900,1844900,1034700,1923900,925500,759100,1692900,609700,827400,922100,1105200,695400,1241000,952600,835600,1433800,952600,677300,529100,689700,619600,844200,862900,625500,483200,538100,996800,683600,665500,773200,1050500,2073000,2044100,1302600,1447900,910100,1451800,958800,887100,550600,769900,1076400,828300,981600,977400,1114900,1272700,848400,878200,973400,640900,841600,902400,944100,2229700,1022600,1328000,1486800,1043700,743300,630100,934900,942000,962600,729800,611100,810000,1070100,818400,1015000,938700,481200,366800,456000,482500,411300,480600,577700,1003900,975100,1065200,797400,978300,1158800,1250200,583700,733300,733300,814800,1207500,1205500,1733900,1282500,1061200,1192600,913700,1072700,1648200,1383600,956200,788800,666600,1329700,1832100,1453000,1540800,1801600,1407100,1488100,1964300,1183700,975000,1647500,2242600,2033300,2819600,2292300,2145800,2106100,2074400,3034100,2568700,1671500,1932900,1370900,1631300,1474800,3064100,1965300,2290900,2967100,2017700,1256900,1680800,2243400,1355000,2750200,1147900,1234400,1005100,817600,1102900,1943500,2038600,1344800,1734500,1436100,1378700,1375500,2507900,2324000,2295600,1816300,3243600,1977400,2350700,2712700,2244900,1523300,1652500,1283000,1863500,1033200,1475600,1775500,1703000,1909900,710970],\"type\":\"scatter\"}],                        {\"template\":{\"data\":{\"bar\":[{\"error_x\":{\"color\":\"#2a3f5f\"},\"error_y\":{\"color\":\"#2a3f5f\"},\"marker\":{\"line\":{\"color\":\"#E5ECF6\",\"width\":0.5},\"pattern\":{\"fillmode\":\"overlay\",\"size\":10,\"solidity\":0.2}},\"type\":\"bar\"}],\"barpolar\":[{\"marker\":{\"line\":{\"color\":\"#E5ECF6\",\"width\":0.5},\"pattern\":{\"fillmode\":\"overlay\",\"size\":10,\"solidity\":0.2}},\"type\":\"barpolar\"}],\"carpet\":[{\"aaxis\":{\"endlinecolor\":\"#2a3f5f\",\"gridcolor\":\"white\",\"linecolor\":\"white\",\"minorgridcolor\":\"white\",\"startlinecolor\":\"#2a3f5f\"},\"baxis\":{\"endlinecolor\":\"#2a3f5f\",\"gridcolor\":\"white\",\"linecolor\":\"white\",\"minorgridcolor\":\"white\",\"startlinecolor\":\"#2a3f5f\"},\"type\":\"carpet\"}],\"choropleth\":[{\"colorbar\":{\"outlinewidth\":0,\"ticks\":\"\"},\"type\":\"choropleth\"}],\"contour\":[{\"colorbar\":{\"outlinewidth\":0,\"ticks\":\"\"},\"colorscale\":[[0.0,\"#0d0887\"],[0.1111111111111111,\"#46039f\"],[0.2222222222222222,\"#7201a8\"],[0.3333333333333333,\"#9c179e\"],[0.4444444444444444,\"#bd3786\"],[0.5555555555555556,\"#d8576b\"],[0.6666666666666666,\"#ed7953\"],[0.7777777777777778,\"#fb9f3a\"],[0.8888888888888888,\"#fdca26\"],[1.0,\"#f0f921\"]],\"type\":\"contour\"}],\"contourcarpet\":[{\"colorbar\":{\"outlinewidth\":0,\"ticks\":\"\"},\"type\":\"contourcarpet\"}],\"heatmap\":[{\"colorbar\":{\"outlinewidth\":0,\"ticks\":\"\"},\"colorscale\":[[0.0,\"#0d0887\"],[0.1111111111111111,\"#46039f\"],[0.2222222222222222,\"#7201a8\"],[0.3333333333333333,\"#9c179e\"],[0.4444444444444444,\"#bd3786\"],[0.5555555555555556,\"#d8576b\"],[0.6666666666666666,\"#ed7953\"],[0.7777777777777778,\"#fb9f3a\"],[0.8888888888888888,\"#fdca26\"],[1.0,\"#f0f921\"]],\"type\":\"heatmap\"}],\"heatmapgl\":[{\"colorbar\":{\"outlinewidth\":0,\"ticks\":\"\"},\"colorscale\":[[0.0,\"#0d0887\"],[0.1111111111111111,\"#46039f\"],[0.2222222222222222,\"#7201a8\"],[0.3333333333333333,\"#9c179e\"],[0.4444444444444444,\"#bd3786\"],[0.5555555555555556,\"#d8576b\"],[0.6666666666666666,\"#ed7953\"],[0.7777777777777778,\"#fb9f3a\"],[0.8888888888888888,\"#fdca26\"],[1.0,\"#f0f921\"]],\"type\":\"heatmapgl\"}],\"histogram\":[{\"marker\":{\"pattern\":{\"fillmode\":\"overlay\",\"size\":10,\"solidity\":0.2}},\"type\":\"histogram\"}],\"histogram2d\":[{\"colorbar\":{\"outlinewidth\":0,\"ticks\":\"\"},\"colorscale\":[[0.0,\"#0d0887\"],[0.1111111111111111,\"#46039f\"],[0.2222222222222222,\"#7201a8\"],[0.3333333333333333,\"#9c179e\"],[0.4444444444444444,\"#bd3786\"],[0.5555555555555556,\"#d8576b\"],[0.6666666666666666,\"#ed7953\"],[0.7777777777777778,\"#fb9f3a\"],[0.8888888888888888,\"#fdca26\"],[1.0,\"#f0f921\"]],\"type\":\"histogram2d\"}],\"histogram2dcontour\":[{\"colorbar\":{\"outlinewidth\":0,\"ticks\":\"\"},\"colorscale\":[[0.0,\"#0d0887\"],[0.1111111111111111,\"#46039f\"],[0.2222222222222222,\"#7201a8\"],[0.3333333333333333,\"#9c179e\"],[0.4444444444444444,\"#bd3786\"],[0.5555555555555556,\"#d8576b\"],[0.6666666666666666,\"#ed7953\"],[0.7777777777777778,\"#fb9f3a\"],[0.8888888888888888,\"#fdca26\"],[1.0,\"#f0f921\"]],\"type\":\"histogram2dcontour\"}],\"mesh3d\":[{\"colorbar\":{\"outlinewidth\":0,\"ticks\":\"\"},\"type\":\"mesh3d\"}],\"parcoords\":[{\"line\":{\"colorbar\":{\"outlinewidth\":0,\"ticks\":\"\"}},\"type\":\"parcoords\"}],\"pie\":[{\"automargin\":true,\"type\":\"pie\"}],\"scatter\":[{\"marker\":{\"colorbar\":{\"outlinewidth\":0,\"ticks\":\"\"}},\"type\":\"scatter\"}],\"scatter3d\":[{\"line\":{\"colorbar\":{\"outlinewidth\":0,\"ticks\":\"\"}},\"marker\":{\"colorbar\":{\"outlinewidth\":0,\"ticks\":\"\"}},\"type\":\"scatter3d\"}],\"scattercarpet\":[{\"marker\":{\"colorbar\":{\"outlinewidth\":0,\"ticks\":\"\"}},\"type\":\"scattercarpet\"}],\"scattergeo\":[{\"marker\":{\"colorbar\":{\"outlinewidth\":0,\"ticks\":\"\"}},\"type\":\"scattergeo\"}],\"scattergl\":[{\"marker\":{\"colorbar\":{\"outlinewidth\":0,\"ticks\":\"\"}},\"type\":\"scattergl\"}],\"scattermapbox\":[{\"marker\":{\"colorbar\":{\"outlinewidth\":0,\"ticks\":\"\"}},\"type\":\"scattermapbox\"}],\"scatterpolar\":[{\"marker\":{\"colorbar\":{\"outlinewidth\":0,\"ticks\":\"\"}},\"type\":\"scatterpolar\"}],\"scatterpolargl\":[{\"marker\":{\"colorbar\":{\"outlinewidth\":0,\"ticks\":\"\"}},\"type\":\"scatterpolargl\"}],\"scatterternary\":[{\"marker\":{\"colorbar\":{\"outlinewidth\":0,\"ticks\":\"\"}},\"type\":\"scatterternary\"}],\"surface\":[{\"colorbar\":{\"outlinewidth\":0,\"ticks\":\"\"},\"colorscale\":[[0.0,\"#0d0887\"],[0.1111111111111111,\"#46039f\"],[0.2222222222222222,\"#7201a8\"],[0.3333333333333333,\"#9c179e\"],[0.4444444444444444,\"#bd3786\"],[0.5555555555555556,\"#d8576b\"],[0.6666666666666666,\"#ed7953\"],[0.7777777777777778,\"#fb9f3a\"],[0.8888888888888888,\"#fdca26\"],[1.0,\"#f0f921\"]],\"type\":\"surface\"}],\"table\":[{\"cells\":{\"fill\":{\"color\":\"#EBF0F8\"},\"line\":{\"color\":\"white\"}},\"header\":{\"fill\":{\"color\":\"#C8D4E3\"},\"line\":{\"color\":\"white\"}},\"type\":\"table\"}]},\"layout\":{\"annotationdefaults\":{\"arrowcolor\":\"#2a3f5f\",\"arrowhead\":0,\"arrowwidth\":1},\"autotypenumbers\":\"strict\",\"coloraxis\":{\"colorbar\":{\"outlinewidth\":0,\"ticks\":\"\"}},\"colorscale\":{\"diverging\":[[0,\"#8e0152\"],[0.1,\"#c51b7d\"],[0.2,\"#de77ae\"],[0.3,\"#f1b6da\"],[0.4,\"#fde0ef\"],[0.5,\"#f7f7f7\"],[0.6,\"#e6f5d0\"],[0.7,\"#b8e186\"],[0.8,\"#7fbc41\"],[0.9,\"#4d9221\"],[1,\"#276419\"]],\"sequential\":[[0.0,\"#0d0887\"],[0.1111111111111111,\"#46039f\"],[0.2222222222222222,\"#7201a8\"],[0.3333333333333333,\"#9c179e\"],[0.4444444444444444,\"#bd3786\"],[0.5555555555555556,\"#d8576b\"],[0.6666666666666666,\"#ed7953\"],[0.7777777777777778,\"#fb9f3a\"],[0.8888888888888888,\"#fdca26\"],[1.0,\"#f0f921\"]],\"sequentialminus\":[[0.0,\"#0d0887\"],[0.1111111111111111,\"#46039f\"],[0.2222222222222222,\"#7201a8\"],[0.3333333333333333,\"#9c179e\"],[0.4444444444444444,\"#bd3786\"],[0.5555555555555556,\"#d8576b\"],[0.6666666666666666,\"#ed7953\"],[0.7777777777777778,\"#fb9f3a\"],[0.8888888888888888,\"#fdca26\"],[1.0,\"#f0f921\"]]},\"colorway\":[\"#636efa\",\"#EF553B\",\"#00cc96\",\"#ab63fa\",\"#FFA15A\",\"#19d3f3\",\"#FF6692\",\"#B6E880\",\"#FF97FF\",\"#FECB52\"],\"font\":{\"color\":\"#2a3f5f\"},\"geo\":{\"bgcolor\":\"white\",\"lakecolor\":\"white\",\"landcolor\":\"#E5ECF6\",\"showlakes\":true,\"showland\":true,\"subunitcolor\":\"white\"},\"hoverlabel\":{\"align\":\"left\"},\"hovermode\":\"closest\",\"mapbox\":{\"style\":\"light\"},\"paper_bgcolor\":\"white\",\"plot_bgcolor\":\"#E5ECF6\",\"polar\":{\"angularaxis\":{\"gridcolor\":\"white\",\"linecolor\":\"white\",\"ticks\":\"\"},\"bgcolor\":\"#E5ECF6\",\"radialaxis\":{\"gridcolor\":\"white\",\"linecolor\":\"white\",\"ticks\":\"\"}},\"scene\":{\"xaxis\":{\"backgroundcolor\":\"#E5ECF6\",\"gridcolor\":\"white\",\"gridwidth\":2,\"linecolor\":\"white\",\"showbackground\":true,\"ticks\":\"\",\"zerolinecolor\":\"white\"},\"yaxis\":{\"backgroundcolor\":\"#E5ECF6\",\"gridcolor\":\"white\",\"gridwidth\":2,\"linecolor\":\"white\",\"showbackground\":true,\"ticks\":\"\",\"zerolinecolor\":\"white\"},\"zaxis\":{\"backgroundcolor\":\"#E5ECF6\",\"gridcolor\":\"white\",\"gridwidth\":2,\"linecolor\":\"white\",\"showbackground\":true,\"ticks\":\"\",\"zerolinecolor\":\"white\"}},\"shapedefaults\":{\"line\":{\"color\":\"#2a3f5f\"}},\"ternary\":{\"aaxis\":{\"gridcolor\":\"white\",\"linecolor\":\"white\",\"ticks\":\"\"},\"baxis\":{\"gridcolor\":\"white\",\"linecolor\":\"white\",\"ticks\":\"\"},\"bgcolor\":\"#E5ECF6\",\"caxis\":{\"gridcolor\":\"white\",\"linecolor\":\"white\",\"ticks\":\"\"}},\"title\":{\"x\":0.05},\"xaxis\":{\"automargin\":true,\"gridcolor\":\"white\",\"linecolor\":\"white\",\"ticks\":\"\",\"title\":{\"standoff\":15},\"zerolinecolor\":\"white\",\"zerolinewidth\":2},\"yaxis\":{\"automargin\":true,\"gridcolor\":\"white\",\"linecolor\":\"white\",\"ticks\":\"\",\"title\":{\"standoff\":15},\"zerolinecolor\":\"white\",\"zerolinewidth\":2}}},\"height\":500,\"width\":900,\"xaxis\":{\"title\":{\"text\":\"Date\"}},\"yaxis\":{\"title\":{\"text\":\"Volume\"}}},                        {\"responsive\": true}                    ).then(function(){\n",
              "                            \n",
              "var gd = document.getElementById('5db01ac2-bbd5-40f1-953e-d81a432e5c28');\n",
              "var x = new MutationObserver(function (mutations, observer) {{\n",
              "        var display = window.getComputedStyle(gd).display;\n",
              "        if (!display || display === 'none') {{\n",
              "            console.log([gd, 'removed!']);\n",
              "            Plotly.purge(gd);\n",
              "            observer.disconnect();\n",
              "        }}\n",
              "}});\n",
              "\n",
              "// Listen for the removal of the full notebook cells\n",
              "var notebookContainer = gd.closest('#notebook-container');\n",
              "if (notebookContainer) {{\n",
              "    x.observe(notebookContainer, {childList: true});\n",
              "}}\n",
              "\n",
              "// Listen for the clearing of the current output cell\n",
              "var outputEl = gd.closest('.output');\n",
              "if (outputEl) {{\n",
              "    x.observe(outputEl, {childList: true});\n",
              "}}\n",
              "\n",
              "                        })                };                            </script>        </div>\n",
              "</body>\n",
              "</html>"
            ]
          },
          "metadata": {}
        }
      ]
    },
    {
      "cell_type": "markdown",
      "metadata": {
        "id": "2KNZe8kA7Uiy"
      },
      "source": [
        "Data Preparation"
      ]
    },
    {
      "cell_type": "code",
      "metadata": {
        "id": "sWy2N6cQ9EN9"
      },
      "source": [
        "from sklearn.preprocessing import MinMaxScaler \n",
        "import pickle \n",
        "from tqdm.notebook import tnrange"
      ],
      "execution_count": null,
      "outputs": []
    },
    {
      "cell_type": "code",
      "metadata": {
        "id": "gJRGJTRf-Cfj",
        "colab": {
          "base_uri": "https://localhost:8080/"
        },
        "outputId": "224a0157-5a4f-4125-99c4-152e46d87d5f"
      },
      "source": [
        "# Filter only required data \n",
        "data = data[['Close' , 'Volume']]\n",
        "data.head(3)\n",
        "data.index"
      ],
      "execution_count": null,
      "outputs": [
        {
          "output_type": "execute_result",
          "data": {
            "text/plain": [
              "Index(['2018-01-02', '2018-01-03', '2018-01-04', '2018-01-05', '2018-01-08',\n",
              "       '2018-01-09', '2018-01-10', '2018-01-11', '2018-01-12', '2018-01-16',\n",
              "       ...\n",
              "       '2022-04-29', '2022-05-02', '2022-05-03', '2022-05-04', '2022-05-05',\n",
              "       '2022-05-06', '2022-05-09', '2022-05-10', '2022-05-11', '2022-05-12'],\n",
              "      dtype='object', name='Date', length=1099)"
            ]
          },
          "metadata": {},
          "execution_count": 81
        }
      ]
    },
    {
      "cell_type": "markdown",
      "metadata": {
        "id": "lIxwmHTMY8_t"
      },
      "source": [
        "Scrapping extra information"
      ]
    },
    {
      "cell_type": "code",
      "metadata": {
        "id": "suYqf1VCY8_v"
      },
      "source": [
        "import requests \n",
        "\n",
        "response = requests.get('https://www.alphavantage.co/query?function=RSI&symbol=BG&interval=daily&time_period=5&series_type=close&apikey=43T9T17VCV2ME4SM') \n",
        "response = response.json()"
      ],
      "execution_count": null,
      "outputs": []
    },
    {
      "cell_type": "code",
      "metadata": {
        "id": "BwnuEat5TlWZ",
        "colab": {
          "base_uri": "https://localhost:8080/"
        },
        "outputId": "53171f79-58cc-47b0-8cfb-1453e887c0dd"
      },
      "source": [
        "response.keys()"
      ],
      "execution_count": null,
      "outputs": [
        {
          "output_type": "execute_result",
          "data": {
            "text/plain": [
              "dict_keys(['Meta Data', 'Technical Analysis: RSI'])"
            ]
          },
          "metadata": {},
          "execution_count": 83
        }
      ]
    },
    {
      "cell_type": "code",
      "metadata": {
        "id": "Afw6ydROY8_w"
      },
      "source": [
        "rsi_data = pd.DataFrame.from_dict(response['Technical Analysis: RSI'] , orient='index')"
      ],
      "execution_count": null,
      "outputs": []
    },
    {
      "cell_type": "code",
      "metadata": {
        "id": "YdyFwSnjU03t",
        "colab": {
          "base_uri": "https://localhost:8080/",
          "height": 206
        },
        "outputId": "b9bc5b97-3af8-4ac9-9675-815e95f4dae6"
      },
      "source": [
        "rsi_data.head()"
      ],
      "execution_count": null,
      "outputs": [
        {
          "output_type": "execute_result",
          "data": {
            "text/plain": [
              "               RSI\n",
              "2001-08-09  0.0000\n",
              "2001-08-10  0.0000\n",
              "2001-08-13  0.0000\n",
              "2001-08-14  0.0000\n",
              "2001-08-15  0.0000"
            ],
            "text/html": [
              "\n",
              "  <div id=\"df-900f89ee-f61c-4e34-9aac-07e2c038b2f8\">\n",
              "    <div class=\"colab-df-container\">\n",
              "      <div>\n",
              "<style scoped>\n",
              "    .dataframe tbody tr th:only-of-type {\n",
              "        vertical-align: middle;\n",
              "    }\n",
              "\n",
              "    .dataframe tbody tr th {\n",
              "        vertical-align: top;\n",
              "    }\n",
              "\n",
              "    .dataframe thead th {\n",
              "        text-align: right;\n",
              "    }\n",
              "</style>\n",
              "<table border=\"1\" class=\"dataframe\">\n",
              "  <thead>\n",
              "    <tr style=\"text-align: right;\">\n",
              "      <th></th>\n",
              "      <th>RSI</th>\n",
              "    </tr>\n",
              "  </thead>\n",
              "  <tbody>\n",
              "    <tr>\n",
              "      <th>2001-08-09</th>\n",
              "      <td>0.0000</td>\n",
              "    </tr>\n",
              "    <tr>\n",
              "      <th>2001-08-10</th>\n",
              "      <td>0.0000</td>\n",
              "    </tr>\n",
              "    <tr>\n",
              "      <th>2001-08-13</th>\n",
              "      <td>0.0000</td>\n",
              "    </tr>\n",
              "    <tr>\n",
              "      <th>2001-08-14</th>\n",
              "      <td>0.0000</td>\n",
              "    </tr>\n",
              "    <tr>\n",
              "      <th>2001-08-15</th>\n",
              "      <td>0.0000</td>\n",
              "    </tr>\n",
              "  </tbody>\n",
              "</table>\n",
              "</div>\n",
              "      <button class=\"colab-df-convert\" onclick=\"convertToInteractive('df-900f89ee-f61c-4e34-9aac-07e2c038b2f8')\"\n",
              "              title=\"Convert this dataframe to an interactive table.\"\n",
              "              style=\"display:none;\">\n",
              "        \n",
              "  <svg xmlns=\"http://www.w3.org/2000/svg\" height=\"24px\"viewBox=\"0 0 24 24\"\n",
              "       width=\"24px\">\n",
              "    <path d=\"M0 0h24v24H0V0z\" fill=\"none\"/>\n",
              "    <path d=\"M18.56 5.44l.94 2.06.94-2.06 2.06-.94-2.06-.94-.94-2.06-.94 2.06-2.06.94zm-11 1L8.5 8.5l.94-2.06 2.06-.94-2.06-.94L8.5 2.5l-.94 2.06-2.06.94zm10 10l.94 2.06.94-2.06 2.06-.94-2.06-.94-.94-2.06-.94 2.06-2.06.94z\"/><path d=\"M17.41 7.96l-1.37-1.37c-.4-.4-.92-.59-1.43-.59-.52 0-1.04.2-1.43.59L10.3 9.45l-7.72 7.72c-.78.78-.78 2.05 0 2.83L4 21.41c.39.39.9.59 1.41.59.51 0 1.02-.2 1.41-.59l7.78-7.78 2.81-2.81c.8-.78.8-2.07 0-2.86zM5.41 20L4 18.59l7.72-7.72 1.47 1.35L5.41 20z\"/>\n",
              "  </svg>\n",
              "      </button>\n",
              "      \n",
              "  <style>\n",
              "    .colab-df-container {\n",
              "      display:flex;\n",
              "      flex-wrap:wrap;\n",
              "      gap: 12px;\n",
              "    }\n",
              "\n",
              "    .colab-df-convert {\n",
              "      background-color: #E8F0FE;\n",
              "      border: none;\n",
              "      border-radius: 50%;\n",
              "      cursor: pointer;\n",
              "      display: none;\n",
              "      fill: #1967D2;\n",
              "      height: 32px;\n",
              "      padding: 0 0 0 0;\n",
              "      width: 32px;\n",
              "    }\n",
              "\n",
              "    .colab-df-convert:hover {\n",
              "      background-color: #E2EBFA;\n",
              "      box-shadow: 0px 1px 2px rgba(60, 64, 67, 0.3), 0px 1px 3px 1px rgba(60, 64, 67, 0.15);\n",
              "      fill: #174EA6;\n",
              "    }\n",
              "\n",
              "    [theme=dark] .colab-df-convert {\n",
              "      background-color: #3B4455;\n",
              "      fill: #D2E3FC;\n",
              "    }\n",
              "\n",
              "    [theme=dark] .colab-df-convert:hover {\n",
              "      background-color: #434B5C;\n",
              "      box-shadow: 0px 1px 3px 1px rgba(0, 0, 0, 0.15);\n",
              "      filter: drop-shadow(0px 1px 2px rgba(0, 0, 0, 0.3));\n",
              "      fill: #FFFFFF;\n",
              "    }\n",
              "  </style>\n",
              "\n",
              "      <script>\n",
              "        const buttonEl =\n",
              "          document.querySelector('#df-900f89ee-f61c-4e34-9aac-07e2c038b2f8 button.colab-df-convert');\n",
              "        buttonEl.style.display =\n",
              "          google.colab.kernel.accessAllowed ? 'block' : 'none';\n",
              "\n",
              "        async function convertToInteractive(key) {\n",
              "          const element = document.querySelector('#df-900f89ee-f61c-4e34-9aac-07e2c038b2f8');\n",
              "          const dataTable =\n",
              "            await google.colab.kernel.invokeFunction('convertToInteractive',\n",
              "                                                     [key], {});\n",
              "          if (!dataTable) return;\n",
              "\n",
              "          const docLinkHtml = 'Like what you see? Visit the ' +\n",
              "            '<a target=\"_blank\" href=https://colab.research.google.com/notebooks/data_table.ipynb>data table notebook</a>'\n",
              "            + ' to learn more about interactive tables.';\n",
              "          element.innerHTML = '';\n",
              "          dataTable['output_type'] = 'display_data';\n",
              "          await google.colab.output.renderOutput(dataTable, element);\n",
              "          const docLink = document.createElement('div');\n",
              "          docLink.innerHTML = docLinkHtml;\n",
              "          element.appendChild(docLink);\n",
              "        }\n",
              "      </script>\n",
              "    </div>\n",
              "  </div>\n",
              "  "
            ]
          },
          "metadata": {},
          "execution_count": 85
        }
      ]
    },
    {
      "cell_type": "code",
      "metadata": {
        "id": "MgVzBmpSY8_w",
        "colab": {
          "base_uri": "https://localhost:8080/"
        },
        "outputId": "ad812765-1473-4eaa-8fcd-24fb12687ff9"
      },
      "source": [
        "rsi_data = rsi_data[rsi_data.index >= '2018-01-01']\n",
        "rsi_data.index"
      ],
      "execution_count": null,
      "outputs": [
        {
          "output_type": "execute_result",
          "data": {
            "text/plain": [
              "Index(['2018-01-02', '2018-01-03', '2018-01-04', '2018-01-05', '2018-01-08',\n",
              "       '2018-01-09', '2018-01-10', '2018-01-11', '2018-01-12', '2018-01-16',\n",
              "       ...\n",
              "       '2022-04-28', '2022-04-29', '2022-05-02', '2022-05-03', '2022-05-04',\n",
              "       '2022-05-05', '2022-05-06', '2022-05-09', '2022-05-10', '2022-05-11'],\n",
              "      dtype='object', length=1098)"
            ]
          },
          "metadata": {},
          "execution_count": 59
        }
      ]
    },
    {
      "cell_type": "code",
      "metadata": {
        "id": "cbIuehj1cggV"
      },
      "source": [
        "rsi_data['RSI'] = rsi_data['RSI'].astype(np.float64)"
      ],
      "execution_count": null,
      "outputs": []
    },
    {
      "cell_type": "code",
      "metadata": {
        "id": "uRObr6pCY8_0",
        "colab": {
          "base_uri": "https://localhost:8080/"
        },
        "outputId": "6d6d61dc-b474-4f33-ea13-ec4e6c454c94"
      },
      "source": [
        "rsi_data.head()\n",
        "\n",
        "rsi_data.index"
      ],
      "execution_count": null,
      "outputs": [
        {
          "output_type": "execute_result",
          "data": {
            "text/plain": [
              "Index(['2001-08-09', '2001-08-10', '2001-08-13', '2001-08-14', '2001-08-15',\n",
              "       '2001-08-16', '2001-08-17', '2001-08-20', '2001-08-21', '2001-08-22',\n",
              "       ...\n",
              "       '2022-04-28', '2022-04-29', '2022-05-02', '2022-05-03', '2022-05-04',\n",
              "       '2022-05-05', '2022-05-06', '2022-05-09', '2022-05-10', '2022-05-11'],\n",
              "      dtype='object', length=5222)"
            ]
          },
          "metadata": {},
          "execution_count": 87
        }
      ]
    },
    {
      "cell_type": "code",
      "metadata": {
        "id": "OPC-Lr-8Y8_1",
        "colab": {
          "base_uri": "https://localhost:8080/",
          "height": 256
        },
        "outputId": "78beccf8-c74f-44da-db85-63b8f7e156e1"
      },
      "source": [
        "print(data.shape)\n",
        "# bata=data.merge(rsi_data,how='inner',left_index=True,right_index=True)\n",
        "bata = data.join(rsi_data)\n",
        "bata.head()"
      ],
      "execution_count": null,
      "outputs": [
        {
          "output_type": "stream",
          "name": "stdout",
          "text": [
            "(1099, 2)\n"
          ]
        },
        {
          "output_type": "execute_result",
          "data": {
            "text/plain": [
              "                Close   Volume      RSI\n",
              "Date                                   \n",
              "2018-01-02  67.989998   944500  68.7647\n",
              "2018-01-03  69.449997  2124600  82.3478\n",
              "2018-01-04  70.470001  2026900  87.2063\n",
              "2018-01-05  69.940002   795500  73.9808\n",
              "2018-01-08  68.930000  1041200  54.3473"
            ],
            "text/html": [
              "\n",
              "  <div id=\"df-fa477950-74cc-48e0-9e42-dfc30efcf121\">\n",
              "    <div class=\"colab-df-container\">\n",
              "      <div>\n",
              "<style scoped>\n",
              "    .dataframe tbody tr th:only-of-type {\n",
              "        vertical-align: middle;\n",
              "    }\n",
              "\n",
              "    .dataframe tbody tr th {\n",
              "        vertical-align: top;\n",
              "    }\n",
              "\n",
              "    .dataframe thead th {\n",
              "        text-align: right;\n",
              "    }\n",
              "</style>\n",
              "<table border=\"1\" class=\"dataframe\">\n",
              "  <thead>\n",
              "    <tr style=\"text-align: right;\">\n",
              "      <th></th>\n",
              "      <th>Close</th>\n",
              "      <th>Volume</th>\n",
              "      <th>RSI</th>\n",
              "    </tr>\n",
              "    <tr>\n",
              "      <th>Date</th>\n",
              "      <th></th>\n",
              "      <th></th>\n",
              "      <th></th>\n",
              "    </tr>\n",
              "  </thead>\n",
              "  <tbody>\n",
              "    <tr>\n",
              "      <th>2018-01-02</th>\n",
              "      <td>67.989998</td>\n",
              "      <td>944500</td>\n",
              "      <td>68.7647</td>\n",
              "    </tr>\n",
              "    <tr>\n",
              "      <th>2018-01-03</th>\n",
              "      <td>69.449997</td>\n",
              "      <td>2124600</td>\n",
              "      <td>82.3478</td>\n",
              "    </tr>\n",
              "    <tr>\n",
              "      <th>2018-01-04</th>\n",
              "      <td>70.470001</td>\n",
              "      <td>2026900</td>\n",
              "      <td>87.2063</td>\n",
              "    </tr>\n",
              "    <tr>\n",
              "      <th>2018-01-05</th>\n",
              "      <td>69.940002</td>\n",
              "      <td>795500</td>\n",
              "      <td>73.9808</td>\n",
              "    </tr>\n",
              "    <tr>\n",
              "      <th>2018-01-08</th>\n",
              "      <td>68.930000</td>\n",
              "      <td>1041200</td>\n",
              "      <td>54.3473</td>\n",
              "    </tr>\n",
              "  </tbody>\n",
              "</table>\n",
              "</div>\n",
              "      <button class=\"colab-df-convert\" onclick=\"convertToInteractive('df-fa477950-74cc-48e0-9e42-dfc30efcf121')\"\n",
              "              title=\"Convert this dataframe to an interactive table.\"\n",
              "              style=\"display:none;\">\n",
              "        \n",
              "  <svg xmlns=\"http://www.w3.org/2000/svg\" height=\"24px\"viewBox=\"0 0 24 24\"\n",
              "       width=\"24px\">\n",
              "    <path d=\"M0 0h24v24H0V0z\" fill=\"none\"/>\n",
              "    <path d=\"M18.56 5.44l.94 2.06.94-2.06 2.06-.94-2.06-.94-.94-2.06-.94 2.06-2.06.94zm-11 1L8.5 8.5l.94-2.06 2.06-.94-2.06-.94L8.5 2.5l-.94 2.06-2.06.94zm10 10l.94 2.06.94-2.06 2.06-.94-2.06-.94-.94-2.06-.94 2.06-2.06.94z\"/><path d=\"M17.41 7.96l-1.37-1.37c-.4-.4-.92-.59-1.43-.59-.52 0-1.04.2-1.43.59L10.3 9.45l-7.72 7.72c-.78.78-.78 2.05 0 2.83L4 21.41c.39.39.9.59 1.41.59.51 0 1.02-.2 1.41-.59l7.78-7.78 2.81-2.81c.8-.78.8-2.07 0-2.86zM5.41 20L4 18.59l7.72-7.72 1.47 1.35L5.41 20z\"/>\n",
              "  </svg>\n",
              "      </button>\n",
              "      \n",
              "  <style>\n",
              "    .colab-df-container {\n",
              "      display:flex;\n",
              "      flex-wrap:wrap;\n",
              "      gap: 12px;\n",
              "    }\n",
              "\n",
              "    .colab-df-convert {\n",
              "      background-color: #E8F0FE;\n",
              "      border: none;\n",
              "      border-radius: 50%;\n",
              "      cursor: pointer;\n",
              "      display: none;\n",
              "      fill: #1967D2;\n",
              "      height: 32px;\n",
              "      padding: 0 0 0 0;\n",
              "      width: 32px;\n",
              "    }\n",
              "\n",
              "    .colab-df-convert:hover {\n",
              "      background-color: #E2EBFA;\n",
              "      box-shadow: 0px 1px 2px rgba(60, 64, 67, 0.3), 0px 1px 3px 1px rgba(60, 64, 67, 0.15);\n",
              "      fill: #174EA6;\n",
              "    }\n",
              "\n",
              "    [theme=dark] .colab-df-convert {\n",
              "      background-color: #3B4455;\n",
              "      fill: #D2E3FC;\n",
              "    }\n",
              "\n",
              "    [theme=dark] .colab-df-convert:hover {\n",
              "      background-color: #434B5C;\n",
              "      box-shadow: 0px 1px 3px 1px rgba(0, 0, 0, 0.15);\n",
              "      filter: drop-shadow(0px 1px 2px rgba(0, 0, 0, 0.3));\n",
              "      fill: #FFFFFF;\n",
              "    }\n",
              "  </style>\n",
              "\n",
              "      <script>\n",
              "        const buttonEl =\n",
              "          document.querySelector('#df-fa477950-74cc-48e0-9e42-dfc30efcf121 button.colab-df-convert');\n",
              "        buttonEl.style.display =\n",
              "          google.colab.kernel.accessAllowed ? 'block' : 'none';\n",
              "\n",
              "        async function convertToInteractive(key) {\n",
              "          const element = document.querySelector('#df-fa477950-74cc-48e0-9e42-dfc30efcf121');\n",
              "          const dataTable =\n",
              "            await google.colab.kernel.invokeFunction('convertToInteractive',\n",
              "                                                     [key], {});\n",
              "          if (!dataTable) return;\n",
              "\n",
              "          const docLinkHtml = 'Like what you see? Visit the ' +\n",
              "            '<a target=\"_blank\" href=https://colab.research.google.com/notebooks/data_table.ipynb>data table notebook</a>'\n",
              "            + ' to learn more about interactive tables.';\n",
              "          element.innerHTML = '';\n",
              "          dataTable['output_type'] = 'display_data';\n",
              "          await google.colab.output.renderOutput(dataTable, element);\n",
              "          const docLink = document.createElement('div');\n",
              "          docLink.innerHTML = docLinkHtml;\n",
              "          element.appendChild(docLink);\n",
              "        }\n",
              "      </script>\n",
              "    </div>\n",
              "  </div>\n",
              "  "
            ]
          },
          "metadata": {},
          "execution_count": 88
        }
      ]
    },
    {
      "cell_type": "code",
      "metadata": {
        "id": "FRu00UlQ-33P",
        "colab": {
          "base_uri": "https://localhost:8080/"
        },
        "outputId": "6c42ded8-eaa4-4e02-b6db-6363d1e8eee2"
      },
      "source": [
        "# Confirm the Testing Set length \n",
        "test_length = data[(data.index >= '2021-09-01')].shape[0]\n",
        "test_length"
      ],
      "execution_count": null,
      "outputs": [
        {
          "output_type": "execute_result",
          "data": {
            "text/plain": [
              "176"
            ]
          },
          "metadata": {},
          "execution_count": 90
        }
      ]
    },
    {
      "cell_type": "code",
      "metadata": {
        "id": "HSeJFeZy9oux"
      },
      "source": [
        "def CreateFeatures_and_Targets(data, feature_length):\n",
        "    X = []\n",
        "    Y = []\n",
        "\n",
        "    for i in tnrange(len(data) - feature_length): \n",
        "        X.append(data.iloc[i : i + feature_length,:].values)\n",
        "        Y.append(data[\"Close\"].values[i+feature_length])\n",
        "\n",
        "    X = np.array(X)\n",
        "    Y = np.array(Y)\n",
        "\n",
        "    return X , Y"
      ],
      "execution_count": null,
      "outputs": []
    },
    {
      "cell_type": "code",
      "metadata": {
        "id": "9ETswRsS-gLg",
        "colab": {
          "base_uri": "https://localhost:8080/",
          "height": 49,
          "referenced_widgets": [
            "cba78714b400401e9e8612cef8e99e07",
            "3200ceb188d843c389eb08050de8023a",
            "19558ce565bb428187b99cf552e17950",
            "e9e50bd4ae414b90bd868916e0d0a560",
            "fd0d7d936f5b462daec63aebe5b6a997",
            "ab67ee6bb3b64717a8b5066e618cbed5",
            "b6e1f678cf9240eb96adfefbcd78696c",
            "6af5c46af8f24d6c96f01b99d3b89aad",
            "339d9eacecd54d6da060f59d16152449",
            "bfbaf3a4e7ed4a3e8985e54b355bbf35",
            "23c31c0f704344e28ae04b76a02b7c75"
          ]
        },
        "outputId": "0cbe34a5-7cb8-4396-f6e0-883cab6782ff"
      },
      "source": [
        "X , Y = CreateFeatures_and_Targets(data , 32)"
      ],
      "execution_count": null,
      "outputs": [
        {
          "output_type": "display_data",
          "data": {
            "text/plain": [
              "  0%|          | 0/1067 [00:00<?, ?it/s]"
            ],
            "application/vnd.jupyter.widget-view+json": {
              "version_major": 2,
              "version_minor": 0,
              "model_id": "cba78714b400401e9e8612cef8e99e07"
            }
          },
          "metadata": {}
        }
      ]
    },
    {
      "cell_type": "code",
      "metadata": {
        "id": "PUSmuRiD_ehL",
        "colab": {
          "base_uri": "https://localhost:8080/"
        },
        "outputId": "ce1f205c-169d-47ac-d55a-c2fed1e7aa57"
      },
      "source": [
        "X.shape , Y.shape"
      ],
      "execution_count": null,
      "outputs": [
        {
          "output_type": "execute_result",
          "data": {
            "text/plain": [
              "((1067, 32, 2), (1067,))"
            ]
          },
          "metadata": {},
          "execution_count": 93
        }
      ]
    },
    {
      "cell_type": "code",
      "metadata": {
        "id": "KB0N3h07_ncD"
      },
      "source": [
        "Xtrain , Xtest , Ytrain , Ytest = X[:-test_length] , X[-test_length:] , Y[:-test_length] , Y[-test_length:]"
      ],
      "execution_count": null,
      "outputs": []
    },
    {
      "cell_type": "code",
      "metadata": {
        "id": "cs7uOHQJ_qYH",
        "colab": {
          "base_uri": "https://localhost:8080/"
        },
        "outputId": "b35c9144-d4f0-4a36-b7e5-2920f675b4c5"
      },
      "source": [
        "Xtrain.shape , Ytrain.shape"
      ],
      "execution_count": null,
      "outputs": [
        {
          "output_type": "execute_result",
          "data": {
            "text/plain": [
              "((891, 32, 2), (891,))"
            ]
          },
          "metadata": {},
          "execution_count": 95
        }
      ]
    },
    {
      "cell_type": "code",
      "metadata": {
        "id": "5og_CE52AAOF",
        "colab": {
          "base_uri": "https://localhost:8080/"
        },
        "outputId": "221a06b6-a6e9-41aa-85c1-62e2aa4ec3be"
      },
      "source": [
        "Xtest.shape , Ytest.shape"
      ],
      "execution_count": null,
      "outputs": [
        {
          "output_type": "execute_result",
          "data": {
            "text/plain": [
              "((176, 32, 2), (176,))"
            ]
          },
          "metadata": {},
          "execution_count": 96
        }
      ]
    },
    {
      "cell_type": "code",
      "metadata": {
        "id": "eEmlHVBW7UuG"
      },
      "source": [
        "class MultiDimensionScaler():\n",
        "    def __init__(self):\n",
        "        self.scalers = []\n",
        "\n",
        "    def fit_transform(self , X):\n",
        "        total_dims = X.shape[2]\n",
        "        for i in range(total_dims):\n",
        "            Scaler = MinMaxScaler()\n",
        "            X[:, :, i] = Scaler.fit_transform(X[:,:,i])\n",
        "            self.scalers.append(Scaler)\n",
        "        return X\n",
        "\n",
        "    def transform(self , X):\n",
        "        for i in range(X.shape[2]):\n",
        "            X[:, :, i] = self.scalers[i].transform(X[:,:,i])\n",
        "        return X "
      ],
      "execution_count": null,
      "outputs": []
    },
    {
      "cell_type": "code",
      "metadata": {
        "id": "4lhh66IV7U0q"
      },
      "source": [
        "Feature_Scaler = MultiDimensionScaler()\n",
        "Xtrain = Feature_Scaler.fit_transform(Xtrain)\n",
        "Xtest = Feature_Scaler.transform(Xtest)"
      ],
      "execution_count": null,
      "outputs": []
    },
    {
      "cell_type": "code",
      "metadata": {
        "id": "HDYeLhR-8u9-"
      },
      "source": [
        "Target_Scaler = MinMaxScaler()\n",
        "Ytrain = Target_Scaler.fit_transform(Ytrain.reshape(-1,1))\n",
        "Ytest = Target_Scaler.transform(Ytest.reshape(-1,1))"
      ],
      "execution_count": null,
      "outputs": []
    },
    {
      "cell_type": "code",
      "metadata": {
        "id": "P8x7szS79VQz"
      },
      "source": [
        "def save_object(obj , name : str):\n",
        "    pickle_out = open(f\"{name}.pck\",\"wb\")\n",
        "    pickle.dump(obj, pickle_out)\n",
        "    pickle_out.close()\n",
        "\n",
        "def load_object(name : str):\n",
        "    pickle_in = open(f\"{name}.pck\",\"rb\")\n",
        "    data = pickle.load(pickle_in)\n",
        "    return data"
      ],
      "execution_count": null,
      "outputs": []
    },
    {
      "cell_type": "code",
      "metadata": {
        "id": "gf5NggvA87Dl"
      },
      "source": [
        "save_object(Feature_Scaler , \"Feature_Scaler\")\n",
        "save_object(Target_Scaler , \"Target_Scaler\")"
      ],
      "execution_count": null,
      "outputs": []
    },
    {
      "cell_type": "markdown",
      "metadata": {
        "id": "5A49P71e7Ogi"
      },
      "source": [
        "Model Building"
      ]
    },
    {
      "cell_type": "code",
      "metadata": {
        "id": "d2pjWbmP6bxu"
      },
      "source": [
        "from tensorflow.keras.callbacks import ModelCheckpoint , ReduceLROnPlateau\n",
        "\n",
        "save_best = ModelCheckpoint(\"best_weights.h5\", monitor='val_loss', save_best_only=True, save_weights_only=True)\n",
        "reduce_lr = ReduceLROnPlateau(monitor='val_loss', factor=0.25,patience=5, min_lr=0.00001,verbose = 1)"
      ],
      "execution_count": null,
      "outputs": []
    },
    {
      "cell_type": "code",
      "metadata": {
        "id": "mU4tolqx4gHx",
        "colab": {
          "base_uri": "https://localhost:8080/"
        },
        "outputId": "4f83a10e-fb81-4995-8b14-70bd9797af2a"
      },
      "source": [
        "from tensorflow.keras.models import Sequential\n",
        "from tensorflow.keras.layers import Dense , Dropout , LSTM , Bidirectional , BatchNormalization\n",
        "\n",
        "model = Sequential()\n",
        "\n",
        "model.add(Bidirectional(LSTM(512 ,return_sequences=True , recurrent_dropout=0.1, input_shape=(32, 3))))\n",
        "model.add(LSTM(256 ,recurrent_dropout=0.1))\n",
        "model.add(Dropout(0.3))\n",
        "model.add(Dense(64 , activation='elu'))\n",
        "model.add(Dropout(0.3))\n",
        "model.add(Dense(32 , activation='elu'))\n",
        "model.add(Dense(1 , activation='linear'))"
      ],
      "execution_count": null,
      "outputs": [
        {
          "output_type": "stream",
          "name": "stdout",
          "text": [
            "WARNING:tensorflow:Layer lstm_2 will not use cuDNN kernels since it doesn't meet the criteria. It will use a generic GPU kernel as fallback when running on GPU.\n",
            "WARNING:tensorflow:Layer lstm_2 will not use cuDNN kernels since it doesn't meet the criteria. It will use a generic GPU kernel as fallback when running on GPU.\n",
            "WARNING:tensorflow:Layer lstm_2 will not use cuDNN kernels since it doesn't meet the criteria. It will use a generic GPU kernel as fallback when running on GPU.\n",
            "WARNING:tensorflow:Layer lstm_3 will not use cuDNN kernels since it doesn't meet the criteria. It will use a generic GPU kernel as fallback when running on GPU.\n"
          ]
        }
      ]
    },
    {
      "cell_type": "code",
      "metadata": {
        "id": "z_nlZ-wLAt64"
      },
      "source": [
        "optimizer = tf.keras.optimizers.SGD(learning_rate = 0.002)\n",
        "model.compile(loss='mse', optimizer=optimizer)"
      ],
      "execution_count": null,
      "outputs": []
    },
    {
      "cell_type": "code",
      "metadata": {
        "id": "vPDDitBoAdhG",
        "colab": {
          "base_uri": "https://localhost:8080/"
        },
        "outputId": "80358db1-a990-4622-97da-e1be408b7b5d"
      },
      "source": [
        "history = model.fit(Xtrain, Ytrain,\n",
        "            epochs=10,\n",
        "            batch_size = 10,\n",
        "            verbose=1,\n",
        "            shuffle=False ,\n",
        "            validation_data=(Xtest , Ytest),\n",
        "            callbacks=[reduce_lr , save_best])"
      ],
      "execution_count": null,
      "outputs": [
        {
          "output_type": "stream",
          "name": "stdout",
          "text": [
            "Epoch 1/10\n",
            "90/90 [==============================] - 34s 315ms/step - loss: 0.0614 - val_loss: 0.1579 - lr: 0.0020\n",
            "Epoch 2/10\n",
            "90/90 [==============================] - 29s 322ms/step - loss: 0.0262 - val_loss: 0.1346 - lr: 0.0020\n",
            "Epoch 3/10\n",
            "90/90 [==============================] - 28s 307ms/step - loss: 0.0241 - val_loss: 0.1215 - lr: 0.0020\n",
            "Epoch 4/10\n",
            "90/90 [==============================] - 28s 308ms/step - loss: 0.0195 - val_loss: 0.1058 - lr: 0.0020\n",
            "Epoch 5/10\n",
            "90/90 [==============================] - 28s 310ms/step - loss: 0.0178 - val_loss: 0.0987 - lr: 0.0020\n",
            "Epoch 6/10\n",
            "90/90 [==============================] - 28s 309ms/step - loss: 0.0159 - val_loss: 0.0808 - lr: 0.0020\n",
            "Epoch 7/10\n",
            "90/90 [==============================] - 28s 310ms/step - loss: 0.0142 - val_loss: 0.0727 - lr: 0.0020\n",
            "Epoch 8/10\n",
            "90/90 [==============================] - 28s 309ms/step - loss: 0.0121 - val_loss: 0.0781 - lr: 0.0020\n",
            "Epoch 9/10\n",
            "90/90 [==============================] - 28s 313ms/step - loss: 0.0112 - val_loss: 0.0615 - lr: 0.0020\n",
            "Epoch 10/10\n",
            "90/90 [==============================] - 28s 309ms/step - loss: 0.0104 - val_loss: 0.0571 - lr: 0.0020\n"
          ]
        }
      ]
    },
    {
      "cell_type": "code",
      "metadata": {
        "id": "_ZRfoVk5BLpz"
      },
      "source": [
        "model.load_weights(\"best_weights.h5\")"
      ],
      "execution_count": null,
      "outputs": []
    },
    {
      "cell_type": "markdown",
      "metadata": {
        "id": "ynJfKM8LBsMu"
      },
      "source": [
        "Visualize prediction on Test Set"
      ]
    },
    {
      "cell_type": "code",
      "metadata": {
        "id": "N9l1coSqBvjU"
      },
      "source": [
        "Predictions = model.predict(Xtest)"
      ],
      "execution_count": null,
      "outputs": []
    },
    {
      "cell_type": "code",
      "metadata": {
        "id": "STFvnjZxBvm8"
      },
      "source": [
        "Predictions = Target_Scaler.inverse_transform(Predictions)\n",
        "Actual = Target_Scaler.inverse_transform(Ytest)"
      ],
      "execution_count": null,
      "outputs": []
    },
    {
      "cell_type": "code",
      "metadata": {
        "id": "vNTqfjtMh8hx",
        "colab": {
          "base_uri": "https://localhost:8080/"
        },
        "outputId": "6fff2d5f-210d-4c80-991e-50555b279bc2"
      },
      "source": [
        "Predictions.shape"
      ],
      "execution_count": null,
      "outputs": [
        {
          "output_type": "execute_result",
          "data": {
            "text/plain": [
              "(176, 1)"
            ]
          },
          "metadata": {},
          "execution_count": 109
        }
      ]
    },
    {
      "cell_type": "code",
      "metadata": {
        "id": "mRiT57HAFrgJ"
      },
      "source": [
        "Predictions = np.squeeze(Predictions , axis = 1)\n",
        "Actual = np.squeeze(Actual , axis = 1)"
      ],
      "execution_count": null,
      "outputs": []
    },
    {
      "cell_type": "code",
      "source": [
        ""
      ],
      "metadata": {
        "id": "OJKbuxNmUEY5"
      },
      "execution_count": null,
      "outputs": []
    },
    {
      "cell_type": "code",
      "metadata": {
        "id": "WQwVKvNsC0QR",
        "colab": {
          "base_uri": "https://localhost:8080/",
          "height": 542
        },
        "outputId": "4aeb4876-facc-46b9-8a3a-cb7cb4258197"
      },
      "source": [
        "\n",
        "fig = go.Figure()\n",
        "\n",
        "fig.add_trace(go.Scatter(x = data.index[-test_length:] , y = Actual , mode = 'lines' , name='Actual'))\n",
        "fig.add_trace(go.Scatter(x = data.index[-test_length:] , y = Predictions , mode = 'lines' , name='Predicted'))\n",
        "fig.show()"
      ],
      "execution_count": null,
      "outputs": [
        {
          "output_type": "display_data",
          "data": {
            "text/html": [
              "<html>\n",
              "<head><meta charset=\"utf-8\" /></head>\n",
              "<body>\n",
              "    <div>            <script src=\"https://cdnjs.cloudflare.com/ajax/libs/mathjax/2.7.5/MathJax.js?config=TeX-AMS-MML_SVG\"></script><script type=\"text/javascript\">if (window.MathJax) {MathJax.Hub.Config({SVG: {font: \"STIX-Web\"}});}</script>                <script type=\"text/javascript\">window.PlotlyConfig = {MathJaxConfig: 'local'};</script>\n",
              "        <script src=\"https://cdn.plot.ly/plotly-2.8.3.min.js\"></script>                <div id=\"892d0cb9-552b-495a-8740-c90391581047\" class=\"plotly-graph-div\" style=\"height:525px; width:100%;\"></div>            <script type=\"text/javascript\">                                    window.PLOTLYENV=window.PLOTLYENV || {};                                    if (document.getElementById(\"892d0cb9-552b-495a-8740-c90391581047\")) {                    Plotly.newPlot(                        \"892d0cb9-552b-495a-8740-c90391581047\",                        [{\"mode\":\"lines\",\"name\":\"Actual\",\"x\":[\"2021-09-01\",\"2021-09-02\",\"2021-09-03\",\"2021-09-07\",\"2021-09-08\",\"2021-09-09\",\"2021-09-10\",\"2021-09-13\",\"2021-09-14\",\"2021-09-15\",\"2021-09-16\",\"2021-09-17\",\"2021-09-20\",\"2021-09-21\",\"2021-09-22\",\"2021-09-23\",\"2021-09-24\",\"2021-09-27\",\"2021-09-28\",\"2021-09-29\",\"2021-09-30\",\"2021-10-01\",\"2021-10-04\",\"2021-10-05\",\"2021-10-06\",\"2021-10-07\",\"2021-10-08\",\"2021-10-11\",\"2021-10-12\",\"2021-10-13\",\"2021-10-14\",\"2021-10-15\",\"2021-10-18\",\"2021-10-19\",\"2021-10-20\",\"2021-10-21\",\"2021-10-22\",\"2021-10-25\",\"2021-10-26\",\"2021-10-27\",\"2021-10-28\",\"2021-10-29\",\"2021-11-01\",\"2021-11-02\",\"2021-11-03\",\"2021-11-04\",\"2021-11-05\",\"2021-11-08\",\"2021-11-09\",\"2021-11-10\",\"2021-11-11\",\"2021-11-12\",\"2021-11-15\",\"2021-11-16\",\"2021-11-17\",\"2021-11-18\",\"2021-11-19\",\"2021-11-22\",\"2021-11-23\",\"2021-11-24\",\"2021-11-26\",\"2021-11-29\",\"2021-11-30\",\"2021-12-01\",\"2021-12-02\",\"2021-12-03\",\"2021-12-06\",\"2021-12-07\",\"2021-12-08\",\"2021-12-09\",\"2021-12-10\",\"2021-12-13\",\"2021-12-14\",\"2021-12-15\",\"2021-12-16\",\"2021-12-17\",\"2021-12-20\",\"2021-12-21\",\"2021-12-22\",\"2021-12-23\",\"2021-12-27\",\"2021-12-28\",\"2021-12-29\",\"2021-12-30\",\"2021-12-31\",\"2022-01-03\",\"2022-01-04\",\"2022-01-05\",\"2022-01-06\",\"2022-01-07\",\"2022-01-10\",\"2022-01-11\",\"2022-01-12\",\"2022-01-13\",\"2022-01-14\",\"2022-01-18\",\"2022-01-19\",\"2022-01-20\",\"2022-01-21\",\"2022-01-24\",\"2022-01-25\",\"2022-01-26\",\"2022-01-27\",\"2022-01-28\",\"2022-01-31\",\"2022-02-01\",\"2022-02-02\",\"2022-02-03\",\"2022-02-04\",\"2022-02-07\",\"2022-02-08\",\"2022-02-09\",\"2022-02-10\",\"2022-02-11\",\"2022-02-14\",\"2022-02-15\",\"2022-02-16\",\"2022-02-17\",\"2022-02-18\",\"2022-02-22\",\"2022-02-23\",\"2022-02-24\",\"2022-02-25\",\"2022-02-28\",\"2022-03-01\",\"2022-03-02\",\"2022-03-03\",\"2022-03-04\",\"2022-03-07\",\"2022-03-08\",\"2022-03-09\",\"2022-03-10\",\"2022-03-11\",\"2022-03-14\",\"2022-03-15\",\"2022-03-16\",\"2022-03-17\",\"2022-03-18\",\"2022-03-21\",\"2022-03-22\",\"2022-03-23\",\"2022-03-24\",\"2022-03-25\",\"2022-03-28\",\"2022-03-29\",\"2022-03-30\",\"2022-03-31\",\"2022-04-01\",\"2022-04-04\",\"2022-04-05\",\"2022-04-06\",\"2022-04-07\",\"2022-04-08\",\"2022-04-11\",\"2022-04-12\",\"2022-04-13\",\"2022-04-14\",\"2022-04-18\",\"2022-04-19\",\"2022-04-20\",\"2022-04-21\",\"2022-04-22\",\"2022-04-25\",\"2022-04-26\",\"2022-04-27\",\"2022-04-28\",\"2022-04-29\",\"2022-05-02\",\"2022-05-03\",\"2022-05-04\",\"2022-05-05\",\"2022-05-06\",\"2022-05-09\",\"2022-05-10\",\"2022-05-11\",\"2022-05-12\"],\"y\":[75.76000213623047,77.19000244140625,77.38999938964844,77.05000305175781,76.48999786376953,75.6500015258789,76.13999938964844,77.25,76.9800033569336,81.12999725341797,81.08999633789062,80.58000183105469,77.12000274658203,77.11000061035156,77.29000091552734,78.69000244140625,78.7699966430664,80.33999633789062,80.68000030517578,80.94000244140625,81.31999969482422,82.5199966430664,82.58999633789062,84.12000274658203,83.93000030517578,84.5,84.36000061035156,84.94000244140625,84.47000122070312,84.05999755859375,85.87000274658203,85.62000274658203,85.68000030517578,86.47000122070312,87.58000183105469,87.69000244140625,88.33000183105469,88.31999969482422,87.25,90.62000274658203,92.91000366210938,92.63999938964842,92.12000274658203,91.12999725341797,91.45999908447266,92.56999969482422,92.91999816894531,92.48999786376953,92.88999938964842,92.30000305175781,93.95999908447266,95.12999725341797,96.15000152587889,95.73000335693358,95.62999725341795,96.01999664306639,94.11000061035155,94.20999908447266,94.3000030517578,92.83999633789061,90.4800033569336,90.58000183105469,86.56999969482422,84.48999786376953,86.05000305175781,86.62000274658203,86.55999755859375,87.77999877929688,87.0199966430664,85.4800033569336,86.91000366210938,87.86000061035156,87.08000183105469,87.77999877929688,88.2699966430664,88.08000183105469,85.81999969482422,88.2699966430664,89.0,90.16000366210938,91.05999755859375,91.73000335693358,92.20999908447264,92.05999755859374,93.36000061035156,93.70999908447264,94.52999877929686,93.97000122070312,96.12000274658203,97.0199966430664,96.11000061035156,97.76000213623047,98.5699996948242,98.77999877929686,98.70999908447264,98.08999633789062,96.76000213623047,94.76000213623045,94.33000183105467,93.69000244140624,94.69000244140624,96.29000091552734,96.58999633789062,98.19000244140625,98.86000061035156,99.98999786376952,100.66000366210936,98.79000091552734,98.09999847412108,98.91999816894531,100.95999908447266,99.59999847412108,99.05999755859375,101.69000244140624,100.83000183105467,101.62000274658203,102.76000213623045,99.99999999999999,99.3000030517578,99.12999725341797,99.68000030517578,101.91000366210936,105.19000244140625,104.55000305175781,105.87000274658202,107.7699966430664,109.20999908447266,108.31999969482422,108.75,106.30999755859375,107.4800033569336,109.74999999999999,109.93000030517577,108.1500015258789,108.05999755859374,104.05999755859374,105.38999938964844,104.91000366210938,110.08000183105469,110.33000183105467,111.95999908447266,113.98999786376952,117.20999908447266,113.86000061035156,108.08000183105469,109.70999908447264,110.80999755859374,112.77999877929688,111.44999694824217,111.88999938964842,113.16000366210938,116.73999786376952,118.25,117.66999816894531,119.30000305175781,120.95999908447264,123.95999908447266,126.76000213623047,123.23999786376952,126.00000000000001,122.33000183105469,117.94000244140624,116.38999938964844,114.86000061035156,118.95999908447266,116.83000183105469,113.12000274658202,115.23999786376952,116.76999664306639,118.68000030517578,114.8199996948242,115.23000335693358,107.83000183105467,110.33000183105467,109.76999664306639,108.65000152587889],\"type\":\"scatter\"},{\"mode\":\"lines\",\"name\":\"Predicted\",\"x\":[\"2021-09-01\",\"2021-09-02\",\"2021-09-03\",\"2021-09-07\",\"2021-09-08\",\"2021-09-09\",\"2021-09-10\",\"2021-09-13\",\"2021-09-14\",\"2021-09-15\",\"2021-09-16\",\"2021-09-17\",\"2021-09-20\",\"2021-09-21\",\"2021-09-22\",\"2021-09-23\",\"2021-09-24\",\"2021-09-27\",\"2021-09-28\",\"2021-09-29\",\"2021-09-30\",\"2021-10-01\",\"2021-10-04\",\"2021-10-05\",\"2021-10-06\",\"2021-10-07\",\"2021-10-08\",\"2021-10-11\",\"2021-10-12\",\"2021-10-13\",\"2021-10-14\",\"2021-10-15\",\"2021-10-18\",\"2021-10-19\",\"2021-10-20\",\"2021-10-21\",\"2021-10-22\",\"2021-10-25\",\"2021-10-26\",\"2021-10-27\",\"2021-10-28\",\"2021-10-29\",\"2021-11-01\",\"2021-11-02\",\"2021-11-03\",\"2021-11-04\",\"2021-11-05\",\"2021-11-08\",\"2021-11-09\",\"2021-11-10\",\"2021-11-11\",\"2021-11-12\",\"2021-11-15\",\"2021-11-16\",\"2021-11-17\",\"2021-11-18\",\"2021-11-19\",\"2021-11-22\",\"2021-11-23\",\"2021-11-24\",\"2021-11-26\",\"2021-11-29\",\"2021-11-30\",\"2021-12-01\",\"2021-12-02\",\"2021-12-03\",\"2021-12-06\",\"2021-12-07\",\"2021-12-08\",\"2021-12-09\",\"2021-12-10\",\"2021-12-13\",\"2021-12-14\",\"2021-12-15\",\"2021-12-16\",\"2021-12-17\",\"2021-12-20\",\"2021-12-21\",\"2021-12-22\",\"2021-12-23\",\"2021-12-27\",\"2021-12-28\",\"2021-12-29\",\"2021-12-30\",\"2021-12-31\",\"2022-01-03\",\"2022-01-04\",\"2022-01-05\",\"2022-01-06\",\"2022-01-07\",\"2022-01-10\",\"2022-01-11\",\"2022-01-12\",\"2022-01-13\",\"2022-01-14\",\"2022-01-18\",\"2022-01-19\",\"2022-01-20\",\"2022-01-21\",\"2022-01-24\",\"2022-01-25\",\"2022-01-26\",\"2022-01-27\",\"2022-01-28\",\"2022-01-31\",\"2022-02-01\",\"2022-02-02\",\"2022-02-03\",\"2022-02-04\",\"2022-02-07\",\"2022-02-08\",\"2022-02-09\",\"2022-02-10\",\"2022-02-11\",\"2022-02-14\",\"2022-02-15\",\"2022-02-16\",\"2022-02-17\",\"2022-02-18\",\"2022-02-22\",\"2022-02-23\",\"2022-02-24\",\"2022-02-25\",\"2022-02-28\",\"2022-03-01\",\"2022-03-02\",\"2022-03-03\",\"2022-03-04\",\"2022-03-07\",\"2022-03-08\",\"2022-03-09\",\"2022-03-10\",\"2022-03-11\",\"2022-03-14\",\"2022-03-15\",\"2022-03-16\",\"2022-03-17\",\"2022-03-18\",\"2022-03-21\",\"2022-03-22\",\"2022-03-23\",\"2022-03-24\",\"2022-03-25\",\"2022-03-28\",\"2022-03-29\",\"2022-03-30\",\"2022-03-31\",\"2022-04-01\",\"2022-04-04\",\"2022-04-05\",\"2022-04-06\",\"2022-04-07\",\"2022-04-08\",\"2022-04-11\",\"2022-04-12\",\"2022-04-13\",\"2022-04-14\",\"2022-04-18\",\"2022-04-19\",\"2022-04-20\",\"2022-04-21\",\"2022-04-22\",\"2022-04-25\",\"2022-04-26\",\"2022-04-27\",\"2022-04-28\",\"2022-04-29\",\"2022-05-02\",\"2022-05-03\",\"2022-05-04\",\"2022-05-05\",\"2022-05-06\",\"2022-05-09\",\"2022-05-10\",\"2022-05-11\",\"2022-05-12\"],\"y\":[73.81958770751953,73.77875518798828,73.80923461914062,73.8384780883789,73.88684844970703,73.90435791015625,73.87110900878906,73.84519958496094,73.87342834472656,73.89385223388672,74.10636901855469,74.28876495361328,74.48660278320312,74.50189208984375,74.50050354003906,74.52781677246094,74.55354309082031,74.59574890136719,74.70651245117188,74.8387680053711,74.96793365478516,75.13247680664062,75.32904052734375,75.52267456054688,75.79432678222656,76.0289077758789,76.2661361694336,76.48764038085938,76.73097229003906,76.93902587890625,77.12533569335938,77.35717010498047,77.55744171142578,77.74420166015625,77.949462890625,78.20079803466797,78.43093872070312,78.6731185913086,78.90452575683594,79.08787536621094,79.40605926513672,79.77734375,80.0925521850586,80.37769317626953,80.5899429321289,80.81452178955078,81.03732299804688,81.25987243652344,81.4386978149414,81.6312484741211,81.79632568359375,81.99309539794922,82.22683715820312,82.49069213867188,82.73092651367188,82.9555892944336,83.1602783203125,83.28174591064453,83.39178466796875,83.47337341308594,83.49468994140625,83.41339874267578,83.31476593017578,83.09483337402344,82.7109146118164,82.38278198242188,82.0810317993164,81.77277374267578,81.52359771728516,81.27579498291016,81.01261138916016,80.82343292236328,80.6954574584961,80.55388641357422,80.45532989501953,80.40784454345703,80.37911224365234,80.26567077636719,80.25425720214844,80.27677154541016,80.338623046875,80.45455169677734,80.61442565917969,80.80233764648438,80.98637390136719,81.21878051757812,81.46441650390625,81.74694061279297,81.98867797851562,82.29430389404297,82.60761260986328,82.87954711914062,83.19844055175781,83.53018951416016,83.8241958618164,84.11390686035156,84.35857391357422,84.53263092041016,84.61599731445312,84.64274597167969,84.63005828857422,84.60436248779297,84.61861419677734,84.64885711669922,84.72897338867188,84.84962463378906,85.03519439697266,85.23018646240234,85.3393783569336,85.41446685791016,85.5091552734375,85.69825744628906,85.8400650024414,85.92437744140625,86.0919189453125,86.2291030883789,86.36705780029297,86.54276275634766,86.62938690185547,86.63906860351562,86.62550354003906,86.64998626708984,86.76008605957031,86.96949005126953,87.18299102783203,87.40741729736328,87.6865234375,88.0153579711914,88.3076400756836,88.63612365722656,88.83003997802734,89.00309753417969,89.25834655761719,89.49049377441406,89.66241455078125,89.81011199951172,89.85138702392578,89.84801483154297,89.81973266601562,89.980712890625,90.11038208007812,90.28170013427734,90.56348419189453,90.98784637451172,91.26378631591797,91.37592315673828,91.43993377685547,91.53816223144531,91.68878936767578,91.78594970703125,91.91167449951172,92.0999755859375,92.39765930175781,92.71478271484375,93.03263092041016,93.37886810302734,93.77574920654297,94.26605224609375,94.87812042236328,95.32704162597656,95.82779693603516,96.1529541015625,96.33424377441406,96.34579467773438,96.26934051513672,96.30311584472656,96.22491455078125,95.9817886352539,95.82012939453125,95.70201110839844,95.69037628173828,95.52847290039062,95.41009521484375,95.05128479003906,94.7604751586914,94.45889282226562],\"type\":\"scatter\"}],                        {\"template\":{\"data\":{\"bar\":[{\"error_x\":{\"color\":\"#2a3f5f\"},\"error_y\":{\"color\":\"#2a3f5f\"},\"marker\":{\"line\":{\"color\":\"#E5ECF6\",\"width\":0.5},\"pattern\":{\"fillmode\":\"overlay\",\"size\":10,\"solidity\":0.2}},\"type\":\"bar\"}],\"barpolar\":[{\"marker\":{\"line\":{\"color\":\"#E5ECF6\",\"width\":0.5},\"pattern\":{\"fillmode\":\"overlay\",\"size\":10,\"solidity\":0.2}},\"type\":\"barpolar\"}],\"carpet\":[{\"aaxis\":{\"endlinecolor\":\"#2a3f5f\",\"gridcolor\":\"white\",\"linecolor\":\"white\",\"minorgridcolor\":\"white\",\"startlinecolor\":\"#2a3f5f\"},\"baxis\":{\"endlinecolor\":\"#2a3f5f\",\"gridcolor\":\"white\",\"linecolor\":\"white\",\"minorgridcolor\":\"white\",\"startlinecolor\":\"#2a3f5f\"},\"type\":\"carpet\"}],\"choropleth\":[{\"colorbar\":{\"outlinewidth\":0,\"ticks\":\"\"},\"type\":\"choropleth\"}],\"contour\":[{\"colorbar\":{\"outlinewidth\":0,\"ticks\":\"\"},\"colorscale\":[[0.0,\"#0d0887\"],[0.1111111111111111,\"#46039f\"],[0.2222222222222222,\"#7201a8\"],[0.3333333333333333,\"#9c179e\"],[0.4444444444444444,\"#bd3786\"],[0.5555555555555556,\"#d8576b\"],[0.6666666666666666,\"#ed7953\"],[0.7777777777777778,\"#fb9f3a\"],[0.8888888888888888,\"#fdca26\"],[1.0,\"#f0f921\"]],\"type\":\"contour\"}],\"contourcarpet\":[{\"colorbar\":{\"outlinewidth\":0,\"ticks\":\"\"},\"type\":\"contourcarpet\"}],\"heatmap\":[{\"colorbar\":{\"outlinewidth\":0,\"ticks\":\"\"},\"colorscale\":[[0.0,\"#0d0887\"],[0.1111111111111111,\"#46039f\"],[0.2222222222222222,\"#7201a8\"],[0.3333333333333333,\"#9c179e\"],[0.4444444444444444,\"#bd3786\"],[0.5555555555555556,\"#d8576b\"],[0.6666666666666666,\"#ed7953\"],[0.7777777777777778,\"#fb9f3a\"],[0.8888888888888888,\"#fdca26\"],[1.0,\"#f0f921\"]],\"type\":\"heatmap\"}],\"heatmapgl\":[{\"colorbar\":{\"outlinewidth\":0,\"ticks\":\"\"},\"colorscale\":[[0.0,\"#0d0887\"],[0.1111111111111111,\"#46039f\"],[0.2222222222222222,\"#7201a8\"],[0.3333333333333333,\"#9c179e\"],[0.4444444444444444,\"#bd3786\"],[0.5555555555555556,\"#d8576b\"],[0.6666666666666666,\"#ed7953\"],[0.7777777777777778,\"#fb9f3a\"],[0.8888888888888888,\"#fdca26\"],[1.0,\"#f0f921\"]],\"type\":\"heatmapgl\"}],\"histogram\":[{\"marker\":{\"pattern\":{\"fillmode\":\"overlay\",\"size\":10,\"solidity\":0.2}},\"type\":\"histogram\"}],\"histogram2d\":[{\"colorbar\":{\"outlinewidth\":0,\"ticks\":\"\"},\"colorscale\":[[0.0,\"#0d0887\"],[0.1111111111111111,\"#46039f\"],[0.2222222222222222,\"#7201a8\"],[0.3333333333333333,\"#9c179e\"],[0.4444444444444444,\"#bd3786\"],[0.5555555555555556,\"#d8576b\"],[0.6666666666666666,\"#ed7953\"],[0.7777777777777778,\"#fb9f3a\"],[0.8888888888888888,\"#fdca26\"],[1.0,\"#f0f921\"]],\"type\":\"histogram2d\"}],\"histogram2dcontour\":[{\"colorbar\":{\"outlinewidth\":0,\"ticks\":\"\"},\"colorscale\":[[0.0,\"#0d0887\"],[0.1111111111111111,\"#46039f\"],[0.2222222222222222,\"#7201a8\"],[0.3333333333333333,\"#9c179e\"],[0.4444444444444444,\"#bd3786\"],[0.5555555555555556,\"#d8576b\"],[0.6666666666666666,\"#ed7953\"],[0.7777777777777778,\"#fb9f3a\"],[0.8888888888888888,\"#fdca26\"],[1.0,\"#f0f921\"]],\"type\":\"histogram2dcontour\"}],\"mesh3d\":[{\"colorbar\":{\"outlinewidth\":0,\"ticks\":\"\"},\"type\":\"mesh3d\"}],\"parcoords\":[{\"line\":{\"colorbar\":{\"outlinewidth\":0,\"ticks\":\"\"}},\"type\":\"parcoords\"}],\"pie\":[{\"automargin\":true,\"type\":\"pie\"}],\"scatter\":[{\"marker\":{\"colorbar\":{\"outlinewidth\":0,\"ticks\":\"\"}},\"type\":\"scatter\"}],\"scatter3d\":[{\"line\":{\"colorbar\":{\"outlinewidth\":0,\"ticks\":\"\"}},\"marker\":{\"colorbar\":{\"outlinewidth\":0,\"ticks\":\"\"}},\"type\":\"scatter3d\"}],\"scattercarpet\":[{\"marker\":{\"colorbar\":{\"outlinewidth\":0,\"ticks\":\"\"}},\"type\":\"scattercarpet\"}],\"scattergeo\":[{\"marker\":{\"colorbar\":{\"outlinewidth\":0,\"ticks\":\"\"}},\"type\":\"scattergeo\"}],\"scattergl\":[{\"marker\":{\"colorbar\":{\"outlinewidth\":0,\"ticks\":\"\"}},\"type\":\"scattergl\"}],\"scattermapbox\":[{\"marker\":{\"colorbar\":{\"outlinewidth\":0,\"ticks\":\"\"}},\"type\":\"scattermapbox\"}],\"scatterpolar\":[{\"marker\":{\"colorbar\":{\"outlinewidth\":0,\"ticks\":\"\"}},\"type\":\"scatterpolar\"}],\"scatterpolargl\":[{\"marker\":{\"colorbar\":{\"outlinewidth\":0,\"ticks\":\"\"}},\"type\":\"scatterpolargl\"}],\"scatterternary\":[{\"marker\":{\"colorbar\":{\"outlinewidth\":0,\"ticks\":\"\"}},\"type\":\"scatterternary\"}],\"surface\":[{\"colorbar\":{\"outlinewidth\":0,\"ticks\":\"\"},\"colorscale\":[[0.0,\"#0d0887\"],[0.1111111111111111,\"#46039f\"],[0.2222222222222222,\"#7201a8\"],[0.3333333333333333,\"#9c179e\"],[0.4444444444444444,\"#bd3786\"],[0.5555555555555556,\"#d8576b\"],[0.6666666666666666,\"#ed7953\"],[0.7777777777777778,\"#fb9f3a\"],[0.8888888888888888,\"#fdca26\"],[1.0,\"#f0f921\"]],\"type\":\"surface\"}],\"table\":[{\"cells\":{\"fill\":{\"color\":\"#EBF0F8\"},\"line\":{\"color\":\"white\"}},\"header\":{\"fill\":{\"color\":\"#C8D4E3\"},\"line\":{\"color\":\"white\"}},\"type\":\"table\"}]},\"layout\":{\"annotationdefaults\":{\"arrowcolor\":\"#2a3f5f\",\"arrowhead\":0,\"arrowwidth\":1},\"autotypenumbers\":\"strict\",\"coloraxis\":{\"colorbar\":{\"outlinewidth\":0,\"ticks\":\"\"}},\"colorscale\":{\"diverging\":[[0,\"#8e0152\"],[0.1,\"#c51b7d\"],[0.2,\"#de77ae\"],[0.3,\"#f1b6da\"],[0.4,\"#fde0ef\"],[0.5,\"#f7f7f7\"],[0.6,\"#e6f5d0\"],[0.7,\"#b8e186\"],[0.8,\"#7fbc41\"],[0.9,\"#4d9221\"],[1,\"#276419\"]],\"sequential\":[[0.0,\"#0d0887\"],[0.1111111111111111,\"#46039f\"],[0.2222222222222222,\"#7201a8\"],[0.3333333333333333,\"#9c179e\"],[0.4444444444444444,\"#bd3786\"],[0.5555555555555556,\"#d8576b\"],[0.6666666666666666,\"#ed7953\"],[0.7777777777777778,\"#fb9f3a\"],[0.8888888888888888,\"#fdca26\"],[1.0,\"#f0f921\"]],\"sequentialminus\":[[0.0,\"#0d0887\"],[0.1111111111111111,\"#46039f\"],[0.2222222222222222,\"#7201a8\"],[0.3333333333333333,\"#9c179e\"],[0.4444444444444444,\"#bd3786\"],[0.5555555555555556,\"#d8576b\"],[0.6666666666666666,\"#ed7953\"],[0.7777777777777778,\"#fb9f3a\"],[0.8888888888888888,\"#fdca26\"],[1.0,\"#f0f921\"]]},\"colorway\":[\"#636efa\",\"#EF553B\",\"#00cc96\",\"#ab63fa\",\"#FFA15A\",\"#19d3f3\",\"#FF6692\",\"#B6E880\",\"#FF97FF\",\"#FECB52\"],\"font\":{\"color\":\"#2a3f5f\"},\"geo\":{\"bgcolor\":\"white\",\"lakecolor\":\"white\",\"landcolor\":\"#E5ECF6\",\"showlakes\":true,\"showland\":true,\"subunitcolor\":\"white\"},\"hoverlabel\":{\"align\":\"left\"},\"hovermode\":\"closest\",\"mapbox\":{\"style\":\"light\"},\"paper_bgcolor\":\"white\",\"plot_bgcolor\":\"#E5ECF6\",\"polar\":{\"angularaxis\":{\"gridcolor\":\"white\",\"linecolor\":\"white\",\"ticks\":\"\"},\"bgcolor\":\"#E5ECF6\",\"radialaxis\":{\"gridcolor\":\"white\",\"linecolor\":\"white\",\"ticks\":\"\"}},\"scene\":{\"xaxis\":{\"backgroundcolor\":\"#E5ECF6\",\"gridcolor\":\"white\",\"gridwidth\":2,\"linecolor\":\"white\",\"showbackground\":true,\"ticks\":\"\",\"zerolinecolor\":\"white\"},\"yaxis\":{\"backgroundcolor\":\"#E5ECF6\",\"gridcolor\":\"white\",\"gridwidth\":2,\"linecolor\":\"white\",\"showbackground\":true,\"ticks\":\"\",\"zerolinecolor\":\"white\"},\"zaxis\":{\"backgroundcolor\":\"#E5ECF6\",\"gridcolor\":\"white\",\"gridwidth\":2,\"linecolor\":\"white\",\"showbackground\":true,\"ticks\":\"\",\"zerolinecolor\":\"white\"}},\"shapedefaults\":{\"line\":{\"color\":\"#2a3f5f\"}},\"ternary\":{\"aaxis\":{\"gridcolor\":\"white\",\"linecolor\":\"white\",\"ticks\":\"\"},\"baxis\":{\"gridcolor\":\"white\",\"linecolor\":\"white\",\"ticks\":\"\"},\"bgcolor\":\"#E5ECF6\",\"caxis\":{\"gridcolor\":\"white\",\"linecolor\":\"white\",\"ticks\":\"\"}},\"title\":{\"x\":0.05},\"xaxis\":{\"automargin\":true,\"gridcolor\":\"white\",\"linecolor\":\"white\",\"ticks\":\"\",\"title\":{\"standoff\":15},\"zerolinecolor\":\"white\",\"zerolinewidth\":2},\"yaxis\":{\"automargin\":true,\"gridcolor\":\"white\",\"linecolor\":\"white\",\"ticks\":\"\",\"title\":{\"standoff\":15},\"zerolinecolor\":\"white\",\"zerolinewidth\":2}}}},                        {\"responsive\": true}                    ).then(function(){\n",
              "                            \n",
              "var gd = document.getElementById('892d0cb9-552b-495a-8740-c90391581047');\n",
              "var x = new MutationObserver(function (mutations, observer) {{\n",
              "        var display = window.getComputedStyle(gd).display;\n",
              "        if (!display || display === 'none') {{\n",
              "            console.log([gd, 'removed!']);\n",
              "            Plotly.purge(gd);\n",
              "            observer.disconnect();\n",
              "        }}\n",
              "}});\n",
              "\n",
              "// Listen for the removal of the full notebook cells\n",
              "var notebookContainer = gd.closest('#notebook-container');\n",
              "if (notebookContainer) {{\n",
              "    x.observe(notebookContainer, {childList: true});\n",
              "}}\n",
              "\n",
              "// Listen for the clearing of the current output cell\n",
              "var outputEl = gd.closest('.output');\n",
              "if (outputEl) {{\n",
              "    x.observe(outputEl, {childList: true});\n",
              "}}\n",
              "\n",
              "                        })                };                            </script>        </div>\n",
              "</body>\n",
              "</html>"
            ]
          },
          "metadata": {}
        }
      ]
    },
    {
      "cell_type": "markdown",
      "metadata": {
        "id": "4JCHmDQwZRFf"
      },
      "source": [
        "Visualize Prediction on whole data"
      ]
    },
    {
      "cell_type": "code",
      "metadata": {
        "id": "EqI4_gHOZsYd"
      },
      "source": [
        "Total_features = np.concatenate((Xtrain , Xtest) , axis = 0)"
      ],
      "execution_count": null,
      "outputs": []
    },
    {
      "cell_type": "code",
      "metadata": {
        "id": "yIMgXwCBZWlB"
      },
      "source": [
        "Total_Targets = np.concatenate((Ytrain , Ytest) , axis = 0)"
      ],
      "execution_count": null,
      "outputs": []
    },
    {
      "cell_type": "code",
      "metadata": {
        "id": "AX2DdzL3aBW-"
      },
      "source": [
        "Predictions = model.predict(Total_features)"
      ],
      "execution_count": null,
      "outputs": []
    },
    {
      "cell_type": "code",
      "metadata": {
        "id": "M516Z4NvaBXA"
      },
      "source": [
        "Predictions = Target_Scaler.inverse_transform(Predictions)\n",
        "Actual = Target_Scaler.inverse_transform(Total_Targets)"
      ],
      "execution_count": null,
      "outputs": []
    },
    {
      "cell_type": "code",
      "metadata": {
        "id": "PQ7LQL7caBXA",
        "colab": {
          "base_uri": "https://localhost:8080/"
        },
        "outputId": "29672634-a7be-4a85-f4a2-e759fe76fa20"
      },
      "source": [
        "Predictions = np.squeeze(Predictions , axis = 1)\n",
        "Actual = np.squeeze(Actual , axis = 1)\n",
        "Predictions.shape"
      ],
      "execution_count": null,
      "outputs": [
        {
          "output_type": "execute_result",
          "data": {
            "text/plain": [
              "(1067,)"
            ]
          },
          "metadata": {},
          "execution_count": 116
        }
      ]
    },
    {
      "cell_type": "code",
      "source": [
        "metric = tf.keras.metrics.Accuracy()\n",
        "metric.update_state(Actual,Predictions)\n"
      ],
      "metadata": {
        "colab": {
          "base_uri": "https://localhost:8080/"
        },
        "id": "qM4QOR_nAbLh",
        "outputId": "dcdab1fe-4a16-4075-be45-67acd886d77e"
      },
      "execution_count": null,
      "outputs": [
        {
          "output_type": "execute_result",
          "data": {
            "text/plain": [
              "<tf.Variable 'UnreadVariable' shape=() dtype=float32, numpy=1067.0>"
            ]
          },
          "metadata": {},
          "execution_count": 117
        }
      ]
    },
    {
      "cell_type": "code",
      "source": [
        ""
      ],
      "metadata": {
        "id": "JM0IJGK0XlOE"
      },
      "execution_count": null,
      "outputs": []
    },
    {
      "cell_type": "code",
      "metadata": {
        "id": "hJ8jz3c4aBXD",
        "colab": {
          "base_uri": "https://localhost:8080/",
          "height": 542
        },
        "outputId": "db297c42-2625-4f61-8f5e-e4c56ae36422"
      },
      "source": [
        "fig = go.Figure()\n",
        "\n",
        "fig.add_trace(go.Scatter(x = data.index , y = Actual , mode = 'lines' , name='Actual'))\n",
        "fig.add_trace(go.Scatter(x = data.index , y = Predictions , mode = 'lines' , name='Predicted'))\n",
        "fig.show()"
      ],
      "execution_count": null,
      "outputs": [
        {
          "output_type": "display_data",
          "data": {
            "text/html": [
              "<html>\n",
              "<head><meta charset=\"utf-8\" /></head>\n",
              "<body>\n",
              "    <div>            <script src=\"https://cdnjs.cloudflare.com/ajax/libs/mathjax/2.7.5/MathJax.js?config=TeX-AMS-MML_SVG\"></script><script type=\"text/javascript\">if (window.MathJax) {MathJax.Hub.Config({SVG: {font: \"STIX-Web\"}});}</script>                <script type=\"text/javascript\">window.PlotlyConfig = {MathJaxConfig: 'local'};</script>\n",
              "        <script src=\"https://cdn.plot.ly/plotly-2.8.3.min.js\"></script>                <div id=\"19112017-c822-43fa-807f-8f506e9476ff\" class=\"plotly-graph-div\" style=\"height:525px; width:100%;\"></div>            <script type=\"text/javascript\">                                    window.PLOTLYENV=window.PLOTLYENV || {};                                    if (document.getElementById(\"19112017-c822-43fa-807f-8f506e9476ff\")) {                    Plotly.newPlot(                        \"19112017-c822-43fa-807f-8f506e9476ff\",                        [{\"mode\":\"lines\",\"name\":\"Actual\",\"x\":[\"2018-01-02\",\"2018-01-03\",\"2018-01-04\",\"2018-01-05\",\"2018-01-08\",\"2018-01-09\",\"2018-01-10\",\"2018-01-11\",\"2018-01-12\",\"2018-01-16\",\"2018-01-17\",\"2018-01-18\",\"2018-01-19\",\"2018-01-22\",\"2018-01-23\",\"2018-01-24\",\"2018-01-25\",\"2018-01-26\",\"2018-01-29\",\"2018-01-30\",\"2018-01-31\",\"2018-02-01\",\"2018-02-02\",\"2018-02-05\",\"2018-02-06\",\"2018-02-07\",\"2018-02-08\",\"2018-02-09\",\"2018-02-12\",\"2018-02-13\",\"2018-02-14\",\"2018-02-15\",\"2018-02-16\",\"2018-02-20\",\"2018-02-21\",\"2018-02-22\",\"2018-02-23\",\"2018-02-26\",\"2018-02-27\",\"2018-02-28\",\"2018-03-01\",\"2018-03-02\",\"2018-03-05\",\"2018-03-06\",\"2018-03-07\",\"2018-03-08\",\"2018-03-09\",\"2018-03-12\",\"2018-03-13\",\"2018-03-14\",\"2018-03-15\",\"2018-03-16\",\"2018-03-19\",\"2018-03-20\",\"2018-03-21\",\"2018-03-22\",\"2018-03-23\",\"2018-03-26\",\"2018-03-27\",\"2018-03-28\",\"2018-03-29\",\"2018-04-02\",\"2018-04-03\",\"2018-04-04\",\"2018-04-05\",\"2018-04-06\",\"2018-04-09\",\"2018-04-10\",\"2018-04-11\",\"2018-04-12\",\"2018-04-13\",\"2018-04-16\",\"2018-04-17\",\"2018-04-18\",\"2018-04-19\",\"2018-04-20\",\"2018-04-23\",\"2018-04-24\",\"2018-04-25\",\"2018-04-26\",\"2018-04-27\",\"2018-04-30\",\"2018-05-01\",\"2018-05-02\",\"2018-05-03\",\"2018-05-04\",\"2018-05-07\",\"2018-05-08\",\"2018-05-09\",\"2018-05-10\",\"2018-05-11\",\"2018-05-14\",\"2018-05-15\",\"2018-05-16\",\"2018-05-17\",\"2018-05-18\",\"2018-05-21\",\"2018-05-22\",\"2018-05-23\",\"2018-05-24\",\"2018-05-25\",\"2018-05-29\",\"2018-05-30\",\"2018-05-31\",\"2018-06-01\",\"2018-06-04\",\"2018-06-05\",\"2018-06-06\",\"2018-06-07\",\"2018-06-08\",\"2018-06-11\",\"2018-06-12\",\"2018-06-13\",\"2018-06-14\",\"2018-06-15\",\"2018-06-18\",\"2018-06-19\",\"2018-06-20\",\"2018-06-21\",\"2018-06-22\",\"2018-06-25\",\"2018-06-26\",\"2018-06-27\",\"2018-06-28\",\"2018-06-29\",\"2018-07-02\",\"2018-07-03\",\"2018-07-05\",\"2018-07-06\",\"2018-07-09\",\"2018-07-10\",\"2018-07-11\",\"2018-07-12\",\"2018-07-13\",\"2018-07-16\",\"2018-07-17\",\"2018-07-18\",\"2018-07-19\",\"2018-07-20\",\"2018-07-23\",\"2018-07-24\",\"2018-07-25\",\"2018-07-26\",\"2018-07-27\",\"2018-07-30\",\"2018-07-31\",\"2018-08-01\",\"2018-08-02\",\"2018-08-03\",\"2018-08-06\",\"2018-08-07\",\"2018-08-08\",\"2018-08-09\",\"2018-08-10\",\"2018-08-13\",\"2018-08-14\",\"2018-08-15\",\"2018-08-16\",\"2018-08-17\",\"2018-08-20\",\"2018-08-21\",\"2018-08-22\",\"2018-08-23\",\"2018-08-24\",\"2018-08-27\",\"2018-08-28\",\"2018-08-29\",\"2018-08-30\",\"2018-08-31\",\"2018-09-04\",\"2018-09-05\",\"2018-09-06\",\"2018-09-07\",\"2018-09-10\",\"2018-09-11\",\"2018-09-12\",\"2018-09-13\",\"2018-09-14\",\"2018-09-17\",\"2018-09-18\",\"2018-09-19\",\"2018-09-20\",\"2018-09-21\",\"2018-09-24\",\"2018-09-25\",\"2018-09-26\",\"2018-09-27\",\"2018-09-28\",\"2018-10-01\",\"2018-10-02\",\"2018-10-03\",\"2018-10-04\",\"2018-10-05\",\"2018-10-08\",\"2018-10-09\",\"2018-10-10\",\"2018-10-11\",\"2018-10-12\",\"2018-10-15\",\"2018-10-16\",\"2018-10-17\",\"2018-10-18\",\"2018-10-19\",\"2018-10-22\",\"2018-10-23\",\"2018-10-24\",\"2018-10-25\",\"2018-10-26\",\"2018-10-29\",\"2018-10-30\",\"2018-10-31\",\"2018-11-01\",\"2018-11-02\",\"2018-11-05\",\"2018-11-06\",\"2018-11-07\",\"2018-11-08\",\"2018-11-09\",\"2018-11-12\",\"2018-11-13\",\"2018-11-14\",\"2018-11-15\",\"2018-11-16\",\"2018-11-19\",\"2018-11-20\",\"2018-11-21\",\"2018-11-23\",\"2018-11-26\",\"2018-11-27\",\"2018-11-28\",\"2018-11-29\",\"2018-11-30\",\"2018-12-03\",\"2018-12-04\",\"2018-12-06\",\"2018-12-07\",\"2018-12-10\",\"2018-12-11\",\"2018-12-12\",\"2018-12-13\",\"2018-12-14\",\"2018-12-17\",\"2018-12-18\",\"2018-12-19\",\"2018-12-20\",\"2018-12-21\",\"2018-12-24\",\"2018-12-26\",\"2018-12-27\",\"2018-12-28\",\"2018-12-31\",\"2019-01-02\",\"2019-01-03\",\"2019-01-04\",\"2019-01-07\",\"2019-01-08\",\"2019-01-09\",\"2019-01-10\",\"2019-01-11\",\"2019-01-14\",\"2019-01-15\",\"2019-01-16\",\"2019-01-17\",\"2019-01-18\",\"2019-01-22\",\"2019-01-23\",\"2019-01-24\",\"2019-01-25\",\"2019-01-28\",\"2019-01-29\",\"2019-01-30\",\"2019-01-31\",\"2019-02-01\",\"2019-02-04\",\"2019-02-05\",\"2019-02-06\",\"2019-02-07\",\"2019-02-08\",\"2019-02-11\",\"2019-02-12\",\"2019-02-13\",\"2019-02-14\",\"2019-02-15\",\"2019-02-19\",\"2019-02-20\",\"2019-02-21\",\"2019-02-22\",\"2019-02-25\",\"2019-02-26\",\"2019-02-27\",\"2019-02-28\",\"2019-03-01\",\"2019-03-04\",\"2019-03-05\",\"2019-03-06\",\"2019-03-07\",\"2019-03-08\",\"2019-03-11\",\"2019-03-12\",\"2019-03-13\",\"2019-03-14\",\"2019-03-15\",\"2019-03-18\",\"2019-03-19\",\"2019-03-20\",\"2019-03-21\",\"2019-03-22\",\"2019-03-25\",\"2019-03-26\",\"2019-03-27\",\"2019-03-28\",\"2019-03-29\",\"2019-04-01\",\"2019-04-02\",\"2019-04-03\",\"2019-04-04\",\"2019-04-05\",\"2019-04-08\",\"2019-04-09\",\"2019-04-10\",\"2019-04-11\",\"2019-04-12\",\"2019-04-15\",\"2019-04-16\",\"2019-04-17\",\"2019-04-18\",\"2019-04-22\",\"2019-04-23\",\"2019-04-24\",\"2019-04-25\",\"2019-04-26\",\"2019-04-29\",\"2019-04-30\",\"2019-05-01\",\"2019-05-02\",\"2019-05-03\",\"2019-05-06\",\"2019-05-07\",\"2019-05-08\",\"2019-05-09\",\"2019-05-10\",\"2019-05-13\",\"2019-05-14\",\"2019-05-15\",\"2019-05-16\",\"2019-05-17\",\"2019-05-20\",\"2019-05-21\",\"2019-05-22\",\"2019-05-23\",\"2019-05-24\",\"2019-05-28\",\"2019-05-29\",\"2019-05-30\",\"2019-05-31\",\"2019-06-03\",\"2019-06-04\",\"2019-06-05\",\"2019-06-06\",\"2019-06-07\",\"2019-06-10\",\"2019-06-11\",\"2019-06-12\",\"2019-06-13\",\"2019-06-14\",\"2019-06-17\",\"2019-06-18\",\"2019-06-19\",\"2019-06-20\",\"2019-06-21\",\"2019-06-24\",\"2019-06-25\",\"2019-06-26\",\"2019-06-27\",\"2019-06-28\",\"2019-07-01\",\"2019-07-02\",\"2019-07-03\",\"2019-07-05\",\"2019-07-08\",\"2019-07-09\",\"2019-07-10\",\"2019-07-11\",\"2019-07-12\",\"2019-07-15\",\"2019-07-16\",\"2019-07-17\",\"2019-07-18\",\"2019-07-19\",\"2019-07-22\",\"2019-07-23\",\"2019-07-24\",\"2019-07-25\",\"2019-07-26\",\"2019-07-29\",\"2019-07-30\",\"2019-07-31\",\"2019-08-01\",\"2019-08-02\",\"2019-08-05\",\"2019-08-06\",\"2019-08-07\",\"2019-08-08\",\"2019-08-09\",\"2019-08-12\",\"2019-08-13\",\"2019-08-14\",\"2019-08-15\",\"2019-08-16\",\"2019-08-19\",\"2019-08-20\",\"2019-08-21\",\"2019-08-22\",\"2019-08-23\",\"2019-08-26\",\"2019-08-27\",\"2019-08-28\",\"2019-08-29\",\"2019-08-30\",\"2019-09-03\",\"2019-09-04\",\"2019-09-05\",\"2019-09-06\",\"2019-09-09\",\"2019-09-10\",\"2019-09-11\",\"2019-09-12\",\"2019-09-13\",\"2019-09-16\",\"2019-09-17\",\"2019-09-18\",\"2019-09-19\",\"2019-09-20\",\"2019-09-23\",\"2019-09-24\",\"2019-09-25\",\"2019-09-26\",\"2019-09-27\",\"2019-09-30\",\"2019-10-01\",\"2019-10-02\",\"2019-10-03\",\"2019-10-04\",\"2019-10-07\",\"2019-10-08\",\"2019-10-09\",\"2019-10-10\",\"2019-10-11\",\"2019-10-14\",\"2019-10-15\",\"2019-10-16\",\"2019-10-17\",\"2019-10-18\",\"2019-10-21\",\"2019-10-22\",\"2019-10-23\",\"2019-10-24\",\"2019-10-25\",\"2019-10-28\",\"2019-10-29\",\"2019-10-30\",\"2019-10-31\",\"2019-11-01\",\"2019-11-04\",\"2019-11-05\",\"2019-11-06\",\"2019-11-07\",\"2019-11-08\",\"2019-11-11\",\"2019-11-12\",\"2019-11-13\",\"2019-11-14\",\"2019-11-15\",\"2019-11-18\",\"2019-11-19\",\"2019-11-20\",\"2019-11-21\",\"2019-11-22\",\"2019-11-25\",\"2019-11-26\",\"2019-11-27\",\"2019-11-29\",\"2019-12-02\",\"2019-12-03\",\"2019-12-04\",\"2019-12-05\",\"2019-12-06\",\"2019-12-09\",\"2019-12-10\",\"2019-12-11\",\"2019-12-12\",\"2019-12-13\",\"2019-12-16\",\"2019-12-17\",\"2019-12-18\",\"2019-12-19\",\"2019-12-20\",\"2019-12-23\",\"2019-12-24\",\"2019-12-26\",\"2019-12-27\",\"2019-12-30\",\"2019-12-31\",\"2020-01-02\",\"2020-01-03\",\"2020-01-06\",\"2020-01-07\",\"2020-01-08\",\"2020-01-09\",\"2020-01-10\",\"2020-01-13\",\"2020-01-14\",\"2020-01-15\",\"2020-01-16\",\"2020-01-17\",\"2020-01-21\",\"2020-01-22\",\"2020-01-23\",\"2020-01-24\",\"2020-01-27\",\"2020-01-28\",\"2020-01-29\",\"2020-01-30\",\"2020-01-31\",\"2020-02-03\",\"2020-02-04\",\"2020-02-05\",\"2020-02-06\",\"2020-02-07\",\"2020-02-10\",\"2020-02-11\",\"2020-02-12\",\"2020-02-13\",\"2020-02-14\",\"2020-02-18\",\"2020-02-19\",\"2020-02-20\",\"2020-02-21\",\"2020-02-24\",\"2020-02-25\",\"2020-02-26\",\"2020-02-27\",\"2020-02-28\",\"2020-03-02\",\"2020-03-03\",\"2020-03-04\",\"2020-03-05\",\"2020-03-06\",\"2020-03-09\",\"2020-03-10\",\"2020-03-11\",\"2020-03-12\",\"2020-03-13\",\"2020-03-16\",\"2020-03-17\",\"2020-03-18\",\"2020-03-19\",\"2020-03-20\",\"2020-03-23\",\"2020-03-24\",\"2020-03-25\",\"2020-03-26\",\"2020-03-27\",\"2020-03-30\",\"2020-03-31\",\"2020-04-01\",\"2020-04-02\",\"2020-04-03\",\"2020-04-06\",\"2020-04-07\",\"2020-04-08\",\"2020-04-09\",\"2020-04-13\",\"2020-04-14\",\"2020-04-15\",\"2020-04-16\",\"2020-04-17\",\"2020-04-20\",\"2020-04-21\",\"2020-04-22\",\"2020-04-23\",\"2020-04-24\",\"2020-04-27\",\"2020-04-28\",\"2020-04-29\",\"2020-04-30\",\"2020-05-01\",\"2020-05-04\",\"2020-05-05\",\"2020-05-06\",\"2020-05-07\",\"2020-05-08\",\"2020-05-11\",\"2020-05-12\",\"2020-05-13\",\"2020-05-14\",\"2020-05-15\",\"2020-05-18\",\"2020-05-19\",\"2020-05-20\",\"2020-05-21\",\"2020-05-22\",\"2020-05-26\",\"2020-05-27\",\"2020-05-28\",\"2020-05-29\",\"2020-06-01\",\"2020-06-02\",\"2020-06-03\",\"2020-06-04\",\"2020-06-05\",\"2020-06-08\",\"2020-06-09\",\"2020-06-10\",\"2020-06-11\",\"2020-06-12\",\"2020-06-15\",\"2020-06-16\",\"2020-06-17\",\"2020-06-18\",\"2020-06-19\",\"2020-06-22\",\"2020-06-23\",\"2020-06-24\",\"2020-06-25\",\"2020-06-26\",\"2020-06-29\",\"2020-06-30\",\"2020-07-01\",\"2020-07-02\",\"2020-07-06\",\"2020-07-07\",\"2020-07-08\",\"2020-07-09\",\"2020-07-10\",\"2020-07-13\",\"2020-07-14\",\"2020-07-15\",\"2020-07-16\",\"2020-07-17\",\"2020-07-20\",\"2020-07-21\",\"2020-07-22\",\"2020-07-23\",\"2020-07-24\",\"2020-07-27\",\"2020-07-28\",\"2020-07-29\",\"2020-07-30\",\"2020-07-31\",\"2020-08-03\",\"2020-08-04\",\"2020-08-05\",\"2020-08-06\",\"2020-08-07\",\"2020-08-10\",\"2020-08-11\",\"2020-08-12\",\"2020-08-13\",\"2020-08-14\",\"2020-08-17\",\"2020-08-18\",\"2020-08-19\",\"2020-08-20\",\"2020-08-21\",\"2020-08-24\",\"2020-08-25\",\"2020-08-26\",\"2020-08-27\",\"2020-08-28\",\"2020-08-31\",\"2020-09-01\",\"2020-09-02\",\"2020-09-03\",\"2020-09-04\",\"2020-09-08\",\"2020-09-09\",\"2020-09-10\",\"2020-09-11\",\"2020-09-14\",\"2020-09-15\",\"2020-09-16\",\"2020-09-17\",\"2020-09-18\",\"2020-09-21\",\"2020-09-22\",\"2020-09-23\",\"2020-09-24\",\"2020-09-25\",\"2020-09-28\",\"2020-09-29\",\"2020-09-30\",\"2020-10-01\",\"2020-10-02\",\"2020-10-05\",\"2020-10-06\",\"2020-10-07\",\"2020-10-08\",\"2020-10-09\",\"2020-10-12\",\"2020-10-13\",\"2020-10-14\",\"2020-10-15\",\"2020-10-16\",\"2020-10-19\",\"2020-10-20\",\"2020-10-21\",\"2020-10-22\",\"2020-10-23\",\"2020-10-26\",\"2020-10-27\",\"2020-10-28\",\"2020-10-29\",\"2020-10-30\",\"2020-11-02\",\"2020-11-03\",\"2020-11-04\",\"2020-11-05\",\"2020-11-06\",\"2020-11-09\",\"2020-11-10\",\"2020-11-11\",\"2020-11-12\",\"2020-11-13\",\"2020-11-16\",\"2020-11-17\",\"2020-11-18\",\"2020-11-19\",\"2020-11-20\",\"2020-11-23\",\"2020-11-24\",\"2020-11-25\",\"2020-11-27\",\"2020-11-30\",\"2020-12-01\",\"2020-12-02\",\"2020-12-03\",\"2020-12-04\",\"2020-12-07\",\"2020-12-08\",\"2020-12-09\",\"2020-12-10\",\"2020-12-11\",\"2020-12-14\",\"2020-12-15\",\"2020-12-16\",\"2020-12-17\",\"2020-12-18\",\"2020-12-21\",\"2020-12-22\",\"2020-12-23\",\"2020-12-24\",\"2020-12-28\",\"2020-12-29\",\"2020-12-30\",\"2020-12-31\",\"2021-01-04\",\"2021-01-05\",\"2021-01-06\",\"2021-01-07\",\"2021-01-08\",\"2021-01-11\",\"2021-01-12\",\"2021-01-13\",\"2021-01-14\",\"2021-01-15\",\"2021-01-19\",\"2021-01-20\",\"2021-01-21\",\"2021-01-22\",\"2021-01-25\",\"2021-01-26\",\"2021-01-27\",\"2021-01-28\",\"2021-01-29\",\"2021-02-01\",\"2021-02-02\",\"2021-02-03\",\"2021-02-04\",\"2021-02-05\",\"2021-02-08\",\"2021-02-09\",\"2021-02-10\",\"2021-02-11\",\"2021-02-12\",\"2021-02-16\",\"2021-02-17\",\"2021-02-18\",\"2021-02-19\",\"2021-02-22\",\"2021-02-23\",\"2021-02-24\",\"2021-02-25\",\"2021-02-26\",\"2021-03-01\",\"2021-03-02\",\"2021-03-03\",\"2021-03-04\",\"2021-03-05\",\"2021-03-08\",\"2021-03-09\",\"2021-03-10\",\"2021-03-11\",\"2021-03-12\",\"2021-03-15\",\"2021-03-16\",\"2021-03-17\",\"2021-03-18\",\"2021-03-19\",\"2021-03-22\",\"2021-03-23\",\"2021-03-24\",\"2021-03-25\",\"2021-03-26\",\"2021-03-29\",\"2021-03-30\",\"2021-03-31\",\"2021-04-01\",\"2021-04-05\",\"2021-04-06\",\"2021-04-07\",\"2021-04-08\",\"2021-04-09\",\"2021-04-12\",\"2021-04-13\",\"2021-04-14\",\"2021-04-15\",\"2021-04-16\",\"2021-04-19\",\"2021-04-20\",\"2021-04-21\",\"2021-04-22\",\"2021-04-23\",\"2021-04-26\",\"2021-04-27\",\"2021-04-28\",\"2021-04-29\",\"2021-04-30\",\"2021-05-03\",\"2021-05-04\",\"2021-05-05\",\"2021-05-06\",\"2021-05-07\",\"2021-05-10\",\"2021-05-11\",\"2021-05-12\",\"2021-05-13\",\"2021-05-14\",\"2021-05-17\",\"2021-05-18\",\"2021-05-19\",\"2021-05-20\",\"2021-05-21\",\"2021-05-24\",\"2021-05-25\",\"2021-05-26\",\"2021-05-27\",\"2021-05-28\",\"2021-06-01\",\"2021-06-02\",\"2021-06-03\",\"2021-06-04\",\"2021-06-07\",\"2021-06-08\",\"2021-06-09\",\"2021-06-10\",\"2021-06-11\",\"2021-06-14\",\"2021-06-15\",\"2021-06-16\",\"2021-06-17\",\"2021-06-18\",\"2021-06-21\",\"2021-06-22\",\"2021-06-23\",\"2021-06-24\",\"2021-06-25\",\"2021-06-28\",\"2021-06-29\",\"2021-06-30\",\"2021-07-01\",\"2021-07-02\",\"2021-07-06\",\"2021-07-07\",\"2021-07-08\",\"2021-07-09\",\"2021-07-12\",\"2021-07-13\",\"2021-07-14\",\"2021-07-15\",\"2021-07-16\",\"2021-07-19\",\"2021-07-20\",\"2021-07-21\",\"2021-07-22\",\"2021-07-23\",\"2021-07-26\",\"2021-07-27\",\"2021-07-28\",\"2021-07-29\",\"2021-07-30\",\"2021-08-02\",\"2021-08-03\",\"2021-08-04\",\"2021-08-05\",\"2021-08-06\",\"2021-08-09\",\"2021-08-10\",\"2021-08-11\",\"2021-08-12\",\"2021-08-13\",\"2021-08-16\",\"2021-08-17\",\"2021-08-18\",\"2021-08-19\",\"2021-08-20\",\"2021-08-23\",\"2021-08-24\",\"2021-08-25\",\"2021-08-26\",\"2021-08-27\",\"2021-08-30\",\"2021-08-31\",\"2021-09-01\",\"2021-09-02\",\"2021-09-03\",\"2021-09-07\",\"2021-09-08\",\"2021-09-09\",\"2021-09-10\",\"2021-09-13\",\"2021-09-14\",\"2021-09-15\",\"2021-09-16\",\"2021-09-17\",\"2021-09-20\",\"2021-09-21\",\"2021-09-22\",\"2021-09-23\",\"2021-09-24\",\"2021-09-27\",\"2021-09-28\",\"2021-09-29\",\"2021-09-30\",\"2021-10-01\",\"2021-10-04\",\"2021-10-05\",\"2021-10-06\",\"2021-10-07\",\"2021-10-08\",\"2021-10-11\",\"2021-10-12\",\"2021-10-13\",\"2021-10-14\",\"2021-10-15\",\"2021-10-18\",\"2021-10-19\",\"2021-10-20\",\"2021-10-21\",\"2021-10-22\",\"2021-10-25\",\"2021-10-26\",\"2021-10-27\",\"2021-10-28\",\"2021-10-29\",\"2021-11-01\",\"2021-11-02\",\"2021-11-03\",\"2021-11-04\",\"2021-11-05\",\"2021-11-08\",\"2021-11-09\",\"2021-11-10\",\"2021-11-11\",\"2021-11-12\",\"2021-11-15\",\"2021-11-16\",\"2021-11-17\",\"2021-11-18\",\"2021-11-19\",\"2021-11-22\",\"2021-11-23\",\"2021-11-24\",\"2021-11-26\",\"2021-11-29\",\"2021-11-30\",\"2021-12-01\",\"2021-12-02\",\"2021-12-03\",\"2021-12-06\",\"2021-12-07\",\"2021-12-08\",\"2021-12-09\",\"2021-12-10\",\"2021-12-13\",\"2021-12-14\",\"2021-12-15\",\"2021-12-16\",\"2021-12-17\",\"2021-12-20\",\"2021-12-21\",\"2021-12-22\",\"2021-12-23\",\"2021-12-27\",\"2021-12-28\",\"2021-12-29\",\"2021-12-30\",\"2021-12-31\",\"2022-01-03\",\"2022-01-04\",\"2022-01-05\",\"2022-01-06\",\"2022-01-07\",\"2022-01-10\",\"2022-01-11\",\"2022-01-12\",\"2022-01-13\",\"2022-01-14\",\"2022-01-18\",\"2022-01-19\",\"2022-01-20\",\"2022-01-21\",\"2022-01-24\",\"2022-01-25\",\"2022-01-26\",\"2022-01-27\",\"2022-01-28\",\"2022-01-31\",\"2022-02-01\",\"2022-02-02\",\"2022-02-03\",\"2022-02-04\",\"2022-02-07\",\"2022-02-08\",\"2022-02-09\",\"2022-02-10\",\"2022-02-11\",\"2022-02-14\",\"2022-02-15\",\"2022-02-16\",\"2022-02-17\",\"2022-02-18\",\"2022-02-22\",\"2022-02-23\",\"2022-02-24\",\"2022-02-25\",\"2022-02-28\",\"2022-03-01\",\"2022-03-02\",\"2022-03-03\",\"2022-03-04\",\"2022-03-07\",\"2022-03-08\",\"2022-03-09\",\"2022-03-10\",\"2022-03-11\",\"2022-03-14\",\"2022-03-15\",\"2022-03-16\",\"2022-03-17\",\"2022-03-18\",\"2022-03-21\",\"2022-03-22\",\"2022-03-23\",\"2022-03-24\",\"2022-03-25\",\"2022-03-28\",\"2022-03-29\",\"2022-03-30\",\"2022-03-31\",\"2022-04-01\",\"2022-04-04\",\"2022-04-05\",\"2022-04-06\",\"2022-04-07\",\"2022-04-08\",\"2022-04-11\",\"2022-04-12\",\"2022-04-13\",\"2022-04-14\",\"2022-04-18\",\"2022-04-19\",\"2022-04-20\",\"2022-04-21\",\"2022-04-22\",\"2022-04-25\",\"2022-04-26\",\"2022-04-27\",\"2022-04-28\",\"2022-04-29\",\"2022-05-02\",\"2022-05-03\",\"2022-05-04\",\"2022-05-05\",\"2022-05-06\",\"2022-05-09\",\"2022-05-10\",\"2022-05-11\",\"2022-05-12\"],\"y\":[79.0999984741211,76.06999969482422,75.0999984741211,75.58999633789062,76.62000274658203,75.97000122070312,74.83000183105469,75.43000030517578,75.9800033569336,75.16999816894531,77.98999786376953,77.11000061035156,77.43000030517578,77.01000213623047,74.95999908447266,75.93000030517578,75.87000274658203,74.23999786376953,73.73999786376953,73.43000030517578,72.6500015258789,73.98999786376953,73.0199966430664,72.05000305175781,72.5199966430664,73.19000244140625,72.61000061035156,73.05999755859375,73.94000244140625,72.58000183105469,74.12000274658203,75.63999938964844,75.13999938964844,75.58999633789062,74.91000366210938,74.0999984741211,74.48999786376953,75.05000305175781,75.13999938964844,75.05999755859375,74.80000305175781,74.86000061035156,75.69999694824219,73.7300033569336,73.44000244140625,72.72000122070312,72.55000305175781,71.97000122070312,72.69000244140625,72.2300033569336,71.63999938964844,73.29000091552734,70.2699966430664,70.48999786376953,69.36000061035156,69.5199966430664,69.91999816894531,70.75,71.16999816894531,71.04000091552734,71.04000091552734,70.58999633789062,70.69000244140625,69.66000366210938,69.93000030517578,69.97000122070312,69.83999633789062,70.0999984741211,69.94000244140625,69.66000366210938,70.3499984741211,69.55000305175781,69.88999938964844,69.98999786376953,70.44000244140625,70.06999969482422,69.0999984741211,69.16999816894531,69.69000244140625,69.69000244140625,70.98999786376953,70.55000305175781,70.08000183105469,71.08000183105469,71.86000061035156,70.2699966430664,71.05000305175781,71.5199966430664,71.25,70.91999816894531,70.06999969482422,69.5999984741211,69.70999908447266,69.33000183105469,68.0,69.4000015258789,69.77999877929688,69.45999908447266,70.19999694824219,69.76000213623047,68.8499984741211,68.47000122070312,67.66000366210938,68.73999786376953,68.41000366210938,67.97000122070312,68.02999877929688,67.66000366210938,67.80000305175781,68.08999633789062,68.4800033569336,68.01000213623047,68.16999816894531,69.12999725341797,66.0,66.36000061035156,66.08999633789062,66.2300033569336,66.70999908447266,65.80000305175781,65.19000244140625,63.38999938964844,61.61999893188476,61.95000076293946,61.790000915527344,62.619998931884766,63.040000915527344,63.81999969482421,63.880001068115234,63.00000000000001,62.70000076293945,64.18000030517578,64.69999694824219,64.75,65.31999969482422,64.66000366210938,64.9800033569336,63.709999084472656,63.9900016784668,63.29000091552734,63.70000076293945,62.959999084472656,63.2599983215332,63.610000610351555,63.68000030517578,64.33000183105469,64.61000061035156,64.80000305175781,65.23999786376953,66.18000030517578,66.7300033569336,66.2300033569336,66.62999725341797,67.4000015258789,68.54000091552734,68.70999908447266,67.61000061035156,69.05999755859375,68.80999755859375,68.38999938964844,68.93000030517578,70.7699966430664,69.91000366210938,67.44999694824219,66.61000061035156,67.20999908447266,68.0199966430664,68.79000091552734,68.62000274658203,67.30999755859375,67.43000030517578,66.83999633789062,66.9000015258789,65.63999938964844,66.12000274658203,65.2300033569336,65.7699966430664,68.0199966430664,61.79999923706055,62.56999969482421,62.5,62.0,63.33000183105469,62.75,62.479999542236335,63.27000045776367,62.09000015258789,61.72999954223632,60.09000015258789,59.0099983215332,58.40999984741211,58.40999984741211,58.029998779296875,58.22999954223633,57.5099983215332,58.470001220703125,58.29999923706055,58.630001068115234,57.959999084472656,57.06999969482422,59.33000183105469,58.040000915527344,58.66999816894531,59.470001220703125,59.63999938964844,58.470001220703125,59.630001068115234,59.08000183105469,58.83000183105469,57.88999938964844,56.790000915527344,56.56999969482422,54.25,53.349998474121094,52.060001373291016,53.5,53.290000915527344,53.0,53.439998626708984,53.43000030517578,53.40999984741211,54.88999938964844,55.349998474121094,55.72999954223633,57.04999923706055,56.66999816894531,55.720001220703125,54.560001373291016,53.22999954223633,52.369998931884766,52.34000015258789,53.029998779296875,51.88999938964844,52.66999816894531,53.09000015258789,53.290000915527344,53.93000030517578,53.709999084472656,54.40999984741211,55.06999969482422,54.959999084472656,54.11000061035156,53.9900016784668,54.22999954223633,53.61000061035156,53.029998779296875,52.34000015258789,52.689998626708984,53.16999816894531,52.90999984741211,52.310001373291016,52.650001525878906,52.70000076293945,53.47999954223633,51.77000045776367,53.43000030517578,52.86000061035156,53.029998779296875,53.08000183105469,53.0,52.810001373291016,52.20000076293945,51.02000045776367,50.58000183105469,50.22999954223633,51.63999938964844,52.0,52.02000045776367,52.04999923706055,52.86000061035156,52.220001220703125,52.04999923706055,51.40999984741211,52.290000915527344,51.70000076293945,51.439998626708984,51.59000015258789,51.810001373291016,52.20000076293945,53.06999969482422,52.810001373291016,52.15999984741211,51.88999938964844,53.220001220703125,53.25,53.529998779296875,53.11000061035156,52.9900016784668,52.959999084472656,52.650001525878906,52.47999954223633,51.7400016784668,51.54999923706055,51.130001068115234,51.310001373291016,51.25,51.119998931884766,48.599998474121094,48.970001220703125,50.119998931884766,52.40999984741211,52.15999984741211,51.130001068115234,51.150001525878906,50.650001525878906,49.97999954223633,53.439998626708984,53.16999816894531,53.7599983215332,52.4900016784668,52.650001525878906,53.27000045776367,53.290000915527344,52.22999954223633,51.83000183105469,51.97999954223633,51.900001525878906,51.41999816894531,50.54999923706055,50.619998931884766,51.810001373291016,51.18000030517578,52.290000915527344,54.599998474121094,54.75,54.529998779296875,55.099998474121094,55.150001525878906,56.400001525878906,56.20000076293945,57.099998474121094,57.5,57.86000061035156,57.5099983215332,57.97999954223633,57.36000061035156,57.61000061035156,57.54999923706055,57.4900016784668,55.880001068115234,55.630001068115234,55.099998474121094,55.709999084472656,56.290000915527344,56.40999984741211,56.72999954223633,56.61000061035156,56.970001220703125,57.290000915527344,57.189998626708984,56.54999923706055,56.86000061035156,56.779998779296875,55.84000015258789,55.66999816894531,55.83000183105469,55.56999969482422,56.34000015258789,56.970001220703125,56.869998931884766,56.630001068115234,56.93000030517578,56.58000183105469,56.36000061035156,58.43000030517578,57.91999816894531,57.189998626708984,55.29999923706055,56.06999969482422,56.27000045776367,58.099998474121094,57.220001220703125,53.36000061035156,53.470001220703125,53.34000015258789,53.81999969482422,54.869998931884766,55.0099983215332,53.900001525878906,54.70000076293945,54.900001525878906,53.220001220703125,53.5099983215332,52.58000183105469,52.439998626708984,52.619998931884766,53.40999984741211,53.36000061035156,53.900001525878906,55.220001220703125,55.79999923706055,57.099998474121094,56.9900016784668,57.970001220703125,57.5,56.83000183105469,57.81999969482422,56.65999984741211,56.97999954223633,56.150001525878906,55.959999084472656,55.970001220703125,55.54999923706055,56.08000183105469,56.560001373291016,56.540000915527344,56.619998931884766,56.38999938964844,55.86000061035156,55.790000915527344,56.290000915527344,55.630001068115234,54.41999816894531,54.83000183105469,55.380001068115234,56.209999084472656,56.54999923706055,57.130001068115234,55.400001525878906,55.04999923706055,54.70000076293945,55.150001525878906,55.400001525878906,55.45000076293945,54.63999938964844,55.2400016784668,55.529998779296875,56.189998626708984,52.7599983215332,54.0,54.220001220703125,56.2599983215332,55.59000015258789,55.209999084472656,55.45000076293945,55.88999938964844,55.81999969482422,55.720001220703125,55.20000076293945,55.45000076293945,56.189998626708984,54.68000030517578,55.65999984741211,55.29999923706055,54.63999938964844,54.08000183105469,53.880001068115234,53.279998779296875,53.45000076293945,53.380001068115234,53.540000915527344,52.86000061035156,53.099998474121094,53.5099983215332,53.720001220703125,53.400001525878906,54.709999084472656,55.279998779296875,55.93000030517578,55.77000045776367,55.91999816894531,55.84000015258789,56.13999938964844,55.97999954223633,57.54999923706055,56.970001220703125,57.04999923706055,57.380001068115234,57.369998931884766,57.150001525878906,57.54999923706055,57.560001373291016,57.939998626708984,57.52000045776367,57.040000915527344,56.38999938964844,55.97999954223633,55.65999984741211,55.779998779296875,55.599998474121094,55.380001068115234,56.31999969482422,56.060001373291016,56.40999984741211,55.880001068115234,55.599998474121094,54.31999969482422,51.84000015258789,51.61000061035156,51.04999923706055,52.470001220703125,52.43000030517578,52.9900016784668,52.97999954223633,54.36000061035156,53.63999938964844,54.08000183105469,54.66999816894531,55.0,55.02000045776367,55.77000045776367,54.220001220703125,53.599998474121094,53.7599983215332,53.97999954223633,53.22999954223633,53.02000045776367,51.02000045776367,50.529998779296875,47.849998474121094,46.95000076293945,49.029998779296875,48.560001373291016,49.709999084472656,48.41999816894531,46.849998474121094,43.58000183105469,43.34000015258789,39.900001525878906,36.150001525878906,38.560001373291016,33.63999938964844,35.290000915527344,30.25,32.7400016784668,31.780000686645508,32.7400016784668,35.0,36.630001068115234,37.63999938964844,36.189998626708984,39.59000015258789,41.029998779296875,38.369998931884766,39.08000183105469,37.16999816894531,38.27000045776367,38.02000045776367,39.439998626708984,40.83000183105469,38.95000076293945,39.459999084472656,36.91999816894531,38.11000061035156,40.09000015258789,38.880001068115234,36.130001068115234,37.79999923706055,39.130001068115234,39.61000061035156,39.689998626708984,40.41999816894531,41.650001525878906,39.66999816894531,37.88999938964844,37.689998626708984,37.939998626708984,34.20000076293945,36.369998931884766,36.529998779296875,34.66999816894531,34.630001068115234,34.349998474121094,34.77000045776367,34.33000183105469,35.43000030517578,35.13999938964844,35.59000015258789,35.529998779296875,35.380001068115234,37.720001220703125,39.36000061035156,38.869998931884766,39.02000045776367,39.220001220703125,39.869998931884766,41.38999938964844,41.29999923706055,42.470001220703125,43.810001373291016,42.90999984741211,40.41999816894531,38.880001068115234,39.38999938964844,39.81999969482422,41.08000183105469,40.40999984741211,41.209999084472656,40.630001068115234,40.38999938964844,41.08000183105469,41.189998626708984,42.52000045776367,40.220001220703125,40.810001373291016,41.130001068115234,40.130001068115234,39.779998779296875,40.4900016784668,39.63999938964844,39.189998626708984,38.22999954223633,39.88999938964844,40.5,41.900001525878906,43.22999954223633,42.84000015258789,43.060001373291016,41.90999984741211,42.88999938964844,43.369998931884766,44.779998779296875,44.33000183105469,45.0,44.599998474121094,45.18000030517578,45.0099983215332,43.439998626708984,44.029998779296875,44.310001373291016,44.84000015258789,44.70000076293945,45.459999084472656,46.79999923706055,46.720001220703125,46.810001373291016,46.470001220703125,45.93000030517578,46.38999938964844,46.16999816894531,46.689998626708984,45.9900016784668,46.77000045776367,46.83000183105469,46.939998626708984,46.650001525878906,46.2400016784668,46.66999816894531,45.619998931884766,45.470001220703125,46.40999984741211,45.7599983215332,46.47999954223633,45.220001220703125,45.849998474121094,45.38999938964844,45.63999938964844,46.25,46.369998931884766,46.5099983215332,47.33000183105469,47.61000061035156,45.72999954223633,45.97999954223633,44.65999984741211,44.650001525878906,46.09000015258789,46.5,45.18000030517578,45.70000076293945,45.81999969482422,46.38999938964844,47.2400016784668,47.599998474121094,49.060001373291016,49.02000045776367,50.470001220703125,51.38999938964844,50.939998626708984,52.150001525878906,54.209999084472656,54.59000015258789,54.599998474121094,55.029998779296875,55.099998474121094,56.45000076293945,56.02000045776367,55.689998626708984,55.689998626708984,58.060001373291016,58.290000915527344,56.72999954223633,58.06999969482422,56.47999954223633,55.959999084472656,58.5,57.5099983215332,56.849998474121094,58.810001373291016,58.900001525878906,57.9900016784668,59.16999816894531,60.689998626708984,59.380001068115234,58.380001068115234,58.529998779296875,58.7400016784668,59.93000030517578,62.6500015258789,61.830001831054695,60.84000015258789,58.88999938964844,59.470001220703125,59.310001373291016,60.779998779296875,61.470001220703125,60.779998779296875,61.349998474121094,63.49999999999999,64.5,66.04000091552734,63.779998779296875,65.16000366210938,64.62999725341797,64.0,64.37999725341797,64.81999969482422,64.08999633789062,64.72000122070312,64.33000183105469,64.11000061035156,63.43999862670899,65.19000244140625,65.58000183105469,65.70999908447266,67.4000015258789,70.16999816894531,69.44000244140625,70.19999694824219,69.72000122070312,69.69000244140625,70.43000030517578,72.25,70.66000366210938,70.6500015258789,70.91000366210938,68.68000030517578,68.5999984741211,67.72000122070312,66.6500015258789,63.90999984741211,66.6500015258789,65.44000244140625,67.2699966430664,69.5,70.5,71.58000183105469,73.08999633789062,74.11000061035156,75.43000030517578,74.69000244140625,76.20999908447266,78.0,79.30999755859375,78.0,74.73999786376953,76.37999725341797,78.19000244140625,77.41000366210938,76.76000213623047,74.72000122070312,76.58000183105469,78.68000030517578,79.26000213623047,78.44999694824219,76.05999755859375,77.72000122070312,78.45999908447266,79.05999755859375,80.5199966430664,81.45999908447266,80.77999877929688,79.23999786376953,78.9800033569336,79.05999755859375,78.52999877929688,78.18000030517578,77.66000366210938,75.58000183105469,75.52999877929688,77.0999984741211,79.27999877929688,77.68000030517578,79.80999755859375,79.2699966430664,80.19999694824219,78.94000244140625,79.30999755859375,78.58000183105469,78.38999938964844,79.44999694824219,79.26000213623047,77.68000030517578,80.02999877929688,80.91000366210938,83.62000274658203,83.18000030517578,81.30999755859375,82.80000305175781,83.3499984741211,85.0999984741211,86.05000305175781,88.33999633789062,85.6500015258789,85.45999908447266,84.41999816894531,85.83000183105469,87.02999877929688,90.0,88.97000122070312,91.3199996948242,90.54000091552734,90.7699966430664,88.36000061035156,89.30999755859375,90.62999725341797,89.54000091552734,87.7699966430664,85.97000122070312,85.48999786376953,86.8499984741211,86.80000305175781,87.0199966430664,87.83999633789062,87.01000213623047,86.81999969482422,89.36000061035156,88.56999969482422,88.94000244140625,89.11000061035156,89.5999984741211,89.75,88.79000091552734,87.52999877929688,84.69999694824219,82.62000274658203,81.44999694824219,80.44000244140625,78.01000213623047,77.19999694824219,80.18000030517578,79.7699966430664,79.98999786376953,80.29000091552734,79.11000061035156,79.3499984741211,79.54000091552734,78.1500015258789,79.41999816894531,79.69000244140625,77.66999816894531,77.80000305175781,76.13999938964844,77.44999694824219,77.52999877929688,76.33999633789062,75.94000244140625,75.69999694824219,73.58999633789062,73.77999877929688,74.77999877929688,75.9000015258789,74.55000305175781,74.94000244140625,74.72000122070312,75.19999694824219,78.51000213623047,79.61000061035156,77.62999725341797,76.69000244140625,77.23999786376953,75.27999877929688,74.95999908447266,76.55999755859375,77.3499984741211,78.6500015258789,79.23999786376953,79.08999633789062,79.16999816894531,79.58000183105469,78.80999755859375,77.20999908447266,74.47000122070312,73.62000274658203,74.86000061035156,75.54000091552734,76.37000274658203,75.30000305175781,77.12000274658203,75.7300033569336,75.70999908447266,75.76000213623047,77.19000244140625,77.38999938964844,77.05000305175781,76.48999786376953,75.6500015258789,76.13999938964844,77.25,76.9800033569336,81.12999725341797,81.08999633789062,80.58000183105469,77.12000274658203,77.11000061035156,77.29000091552734,78.69000244140625,78.7699966430664,80.33999633789062,80.68000030517578,80.94000244140625,81.31999969482422,82.5199966430664,82.58999633789062,84.12000274658203,83.93000030517578,84.5,84.36000061035156,84.94000244140625,84.47000122070312,84.05999755859375,85.87000274658203,85.62000274658203,85.68000030517578,86.47000122070312,87.58000183105469,87.69000244140625,88.33000183105469,88.31999969482422,87.25,90.62000274658203,92.91000366210938,92.63999938964842,92.12000274658203,91.12999725341797,91.45999908447266,92.56999969482422,92.91999816894531,92.48999786376953,92.88999938964842,92.30000305175781,93.95999908447266,95.12999725341797,96.15000152587889,95.73000335693358,95.62999725341795,96.01999664306639,94.11000061035155,94.20999908447266,94.3000030517578,92.83999633789061,90.4800033569336,90.58000183105469,86.56999969482422,84.48999786376953,86.05000305175781,86.62000274658203,86.55999755859375,87.77999877929688,87.0199966430664,85.4800033569336,86.91000366210938,87.86000061035156,87.08000183105469,87.77999877929688,88.2699966430664,88.08000183105469,85.81999969482422,88.2699966430664,89.0,90.16000366210938,91.05999755859375,91.73000335693358,92.20999908447264,92.05999755859374,93.36000061035156,93.70999908447264,94.52999877929686,93.97000122070312,96.12000274658203,97.0199966430664,96.11000061035156,97.76000213623047,98.5699996948242,98.77999877929686,98.70999908447264,98.08999633789062,96.76000213623047,94.76000213623045,94.33000183105467,93.69000244140624,94.69000244140624,96.29000091552734,96.58999633789062,98.19000244140625,98.86000061035156,99.98999786376952,100.66000366210936,98.79000091552734,98.09999847412108,98.91999816894531,100.95999908447266,99.59999847412108,99.05999755859375,101.69000244140624,100.83000183105467,101.62000274658203,102.76000213623045,99.99999999999999,99.3000030517578,99.12999725341797,99.68000030517578,101.91000366210936,105.19000244140625,104.55000305175781,105.87000274658202,107.7699966430664,109.20999908447266,108.31999969482422,108.75,106.30999755859375,107.4800033569336,109.74999999999999,109.93000030517577,108.1500015258789,108.05999755859374,104.05999755859374,105.38999938964844,104.91000366210938,110.08000183105469,110.33000183105467,111.95999908447266,113.98999786376952,117.20999908447266,113.86000061035156,108.08000183105469,109.70999908447264,110.80999755859374,112.77999877929688,111.44999694824217,111.88999938964842,113.16000366210938,116.73999786376952,118.25,117.66999816894531,119.30000305175781,120.95999908447264,123.95999908447266,126.76000213623047,123.23999786376952,126.00000000000001,122.33000183105469,117.94000244140624,116.38999938964844,114.86000061035156,118.95999908447266,116.83000183105469,113.12000274658202,115.23999786376952,116.76999664306639,118.68000030517578,114.8199996948242,115.23000335693358,107.83000183105467,110.33000183105467,109.76999664306639,108.65000152587889],\"type\":\"scatter\"},{\"mode\":\"lines\",\"name\":\"Predicted\",\"x\":[\"2018-01-02\",\"2018-01-03\",\"2018-01-04\",\"2018-01-05\",\"2018-01-08\",\"2018-01-09\",\"2018-01-10\",\"2018-01-11\",\"2018-01-12\",\"2018-01-16\",\"2018-01-17\",\"2018-01-18\",\"2018-01-19\",\"2018-01-22\",\"2018-01-23\",\"2018-01-24\",\"2018-01-25\",\"2018-01-26\",\"2018-01-29\",\"2018-01-30\",\"2018-01-31\",\"2018-02-01\",\"2018-02-02\",\"2018-02-05\",\"2018-02-06\",\"2018-02-07\",\"2018-02-08\",\"2018-02-09\",\"2018-02-12\",\"2018-02-13\",\"2018-02-14\",\"2018-02-15\",\"2018-02-16\",\"2018-02-20\",\"2018-02-21\",\"2018-02-22\",\"2018-02-23\",\"2018-02-26\",\"2018-02-27\",\"2018-02-28\",\"2018-03-01\",\"2018-03-02\",\"2018-03-05\",\"2018-03-06\",\"2018-03-07\",\"2018-03-08\",\"2018-03-09\",\"2018-03-12\",\"2018-03-13\",\"2018-03-14\",\"2018-03-15\",\"2018-03-16\",\"2018-03-19\",\"2018-03-20\",\"2018-03-21\",\"2018-03-22\",\"2018-03-23\",\"2018-03-26\",\"2018-03-27\",\"2018-03-28\",\"2018-03-29\",\"2018-04-02\",\"2018-04-03\",\"2018-04-04\",\"2018-04-05\",\"2018-04-06\",\"2018-04-09\",\"2018-04-10\",\"2018-04-11\",\"2018-04-12\",\"2018-04-13\",\"2018-04-16\",\"2018-04-17\",\"2018-04-18\",\"2018-04-19\",\"2018-04-20\",\"2018-04-23\",\"2018-04-24\",\"2018-04-25\",\"2018-04-26\",\"2018-04-27\",\"2018-04-30\",\"2018-05-01\",\"2018-05-02\",\"2018-05-03\",\"2018-05-04\",\"2018-05-07\",\"2018-05-08\",\"2018-05-09\",\"2018-05-10\",\"2018-05-11\",\"2018-05-14\",\"2018-05-15\",\"2018-05-16\",\"2018-05-17\",\"2018-05-18\",\"2018-05-21\",\"2018-05-22\",\"2018-05-23\",\"2018-05-24\",\"2018-05-25\",\"2018-05-29\",\"2018-05-30\",\"2018-05-31\",\"2018-06-01\",\"2018-06-04\",\"2018-06-05\",\"2018-06-06\",\"2018-06-07\",\"2018-06-08\",\"2018-06-11\",\"2018-06-12\",\"2018-06-13\",\"2018-06-14\",\"2018-06-15\",\"2018-06-18\",\"2018-06-19\",\"2018-06-20\",\"2018-06-21\",\"2018-06-22\",\"2018-06-25\",\"2018-06-26\",\"2018-06-27\",\"2018-06-28\",\"2018-06-29\",\"2018-07-02\",\"2018-07-03\",\"2018-07-05\",\"2018-07-06\",\"2018-07-09\",\"2018-07-10\",\"2018-07-11\",\"2018-07-12\",\"2018-07-13\",\"2018-07-16\",\"2018-07-17\",\"2018-07-18\",\"2018-07-19\",\"2018-07-20\",\"2018-07-23\",\"2018-07-24\",\"2018-07-25\",\"2018-07-26\",\"2018-07-27\",\"2018-07-30\",\"2018-07-31\",\"2018-08-01\",\"2018-08-02\",\"2018-08-03\",\"2018-08-06\",\"2018-08-07\",\"2018-08-08\",\"2018-08-09\",\"2018-08-10\",\"2018-08-13\",\"2018-08-14\",\"2018-08-15\",\"2018-08-16\",\"2018-08-17\",\"2018-08-20\",\"2018-08-21\",\"2018-08-22\",\"2018-08-23\",\"2018-08-24\",\"2018-08-27\",\"2018-08-28\",\"2018-08-29\",\"2018-08-30\",\"2018-08-31\",\"2018-09-04\",\"2018-09-05\",\"2018-09-06\",\"2018-09-07\",\"2018-09-10\",\"2018-09-11\",\"2018-09-12\",\"2018-09-13\",\"2018-09-14\",\"2018-09-17\",\"2018-09-18\",\"2018-09-19\",\"2018-09-20\",\"2018-09-21\",\"2018-09-24\",\"2018-09-25\",\"2018-09-26\",\"2018-09-27\",\"2018-09-28\",\"2018-10-01\",\"2018-10-02\",\"2018-10-03\",\"2018-10-04\",\"2018-10-05\",\"2018-10-08\",\"2018-10-09\",\"2018-10-10\",\"2018-10-11\",\"2018-10-12\",\"2018-10-15\",\"2018-10-16\",\"2018-10-17\",\"2018-10-18\",\"2018-10-19\",\"2018-10-22\",\"2018-10-23\",\"2018-10-24\",\"2018-10-25\",\"2018-10-26\",\"2018-10-29\",\"2018-10-30\",\"2018-10-31\",\"2018-11-01\",\"2018-11-02\",\"2018-11-05\",\"2018-11-06\",\"2018-11-07\",\"2018-11-08\",\"2018-11-09\",\"2018-11-12\",\"2018-11-13\",\"2018-11-14\",\"2018-11-15\",\"2018-11-16\",\"2018-11-19\",\"2018-11-20\",\"2018-11-21\",\"2018-11-23\",\"2018-11-26\",\"2018-11-27\",\"2018-11-28\",\"2018-11-29\",\"2018-11-30\",\"2018-12-03\",\"2018-12-04\",\"2018-12-06\",\"2018-12-07\",\"2018-12-10\",\"2018-12-11\",\"2018-12-12\",\"2018-12-13\",\"2018-12-14\",\"2018-12-17\",\"2018-12-18\",\"2018-12-19\",\"2018-12-20\",\"2018-12-21\",\"2018-12-24\",\"2018-12-26\",\"2018-12-27\",\"2018-12-28\",\"2018-12-31\",\"2019-01-02\",\"2019-01-03\",\"2019-01-04\",\"2019-01-07\",\"2019-01-08\",\"2019-01-09\",\"2019-01-10\",\"2019-01-11\",\"2019-01-14\",\"2019-01-15\",\"2019-01-16\",\"2019-01-17\",\"2019-01-18\",\"2019-01-22\",\"2019-01-23\",\"2019-01-24\",\"2019-01-25\",\"2019-01-28\",\"2019-01-29\",\"2019-01-30\",\"2019-01-31\",\"2019-02-01\",\"2019-02-04\",\"2019-02-05\",\"2019-02-06\",\"2019-02-07\",\"2019-02-08\",\"2019-02-11\",\"2019-02-12\",\"2019-02-13\",\"2019-02-14\",\"2019-02-15\",\"2019-02-19\",\"2019-02-20\",\"2019-02-21\",\"2019-02-22\",\"2019-02-25\",\"2019-02-26\",\"2019-02-27\",\"2019-02-28\",\"2019-03-01\",\"2019-03-04\",\"2019-03-05\",\"2019-03-06\",\"2019-03-07\",\"2019-03-08\",\"2019-03-11\",\"2019-03-12\",\"2019-03-13\",\"2019-03-14\",\"2019-03-15\",\"2019-03-18\",\"2019-03-19\",\"2019-03-20\",\"2019-03-21\",\"2019-03-22\",\"2019-03-25\",\"2019-03-26\",\"2019-03-27\",\"2019-03-28\",\"2019-03-29\",\"2019-04-01\",\"2019-04-02\",\"2019-04-03\",\"2019-04-04\",\"2019-04-05\",\"2019-04-08\",\"2019-04-09\",\"2019-04-10\",\"2019-04-11\",\"2019-04-12\",\"2019-04-15\",\"2019-04-16\",\"2019-04-17\",\"2019-04-18\",\"2019-04-22\",\"2019-04-23\",\"2019-04-24\",\"2019-04-25\",\"2019-04-26\",\"2019-04-29\",\"2019-04-30\",\"2019-05-01\",\"2019-05-02\",\"2019-05-03\",\"2019-05-06\",\"2019-05-07\",\"2019-05-08\",\"2019-05-09\",\"2019-05-10\",\"2019-05-13\",\"2019-05-14\",\"2019-05-15\",\"2019-05-16\",\"2019-05-17\",\"2019-05-20\",\"2019-05-21\",\"2019-05-22\",\"2019-05-23\",\"2019-05-24\",\"2019-05-28\",\"2019-05-29\",\"2019-05-30\",\"2019-05-31\",\"2019-06-03\",\"2019-06-04\",\"2019-06-05\",\"2019-06-06\",\"2019-06-07\",\"2019-06-10\",\"2019-06-11\",\"2019-06-12\",\"2019-06-13\",\"2019-06-14\",\"2019-06-17\",\"2019-06-18\",\"2019-06-19\",\"2019-06-20\",\"2019-06-21\",\"2019-06-24\",\"2019-06-25\",\"2019-06-26\",\"2019-06-27\",\"2019-06-28\",\"2019-07-01\",\"2019-07-02\",\"2019-07-03\",\"2019-07-05\",\"2019-07-08\",\"2019-07-09\",\"2019-07-10\",\"2019-07-11\",\"2019-07-12\",\"2019-07-15\",\"2019-07-16\",\"2019-07-17\",\"2019-07-18\",\"2019-07-19\",\"2019-07-22\",\"2019-07-23\",\"2019-07-24\",\"2019-07-25\",\"2019-07-26\",\"2019-07-29\",\"2019-07-30\",\"2019-07-31\",\"2019-08-01\",\"2019-08-02\",\"2019-08-05\",\"2019-08-06\",\"2019-08-07\",\"2019-08-08\",\"2019-08-09\",\"2019-08-12\",\"2019-08-13\",\"2019-08-14\",\"2019-08-15\",\"2019-08-16\",\"2019-08-19\",\"2019-08-20\",\"2019-08-21\",\"2019-08-22\",\"2019-08-23\",\"2019-08-26\",\"2019-08-27\",\"2019-08-28\",\"2019-08-29\",\"2019-08-30\",\"2019-09-03\",\"2019-09-04\",\"2019-09-05\",\"2019-09-06\",\"2019-09-09\",\"2019-09-10\",\"2019-09-11\",\"2019-09-12\",\"2019-09-13\",\"2019-09-16\",\"2019-09-17\",\"2019-09-18\",\"2019-09-19\",\"2019-09-20\",\"2019-09-23\",\"2019-09-24\",\"2019-09-25\",\"2019-09-26\",\"2019-09-27\",\"2019-09-30\",\"2019-10-01\",\"2019-10-02\",\"2019-10-03\",\"2019-10-04\",\"2019-10-07\",\"2019-10-08\",\"2019-10-09\",\"2019-10-10\",\"2019-10-11\",\"2019-10-14\",\"2019-10-15\",\"2019-10-16\",\"2019-10-17\",\"2019-10-18\",\"2019-10-21\",\"2019-10-22\",\"2019-10-23\",\"2019-10-24\",\"2019-10-25\",\"2019-10-28\",\"2019-10-29\",\"2019-10-30\",\"2019-10-31\",\"2019-11-01\",\"2019-11-04\",\"2019-11-05\",\"2019-11-06\",\"2019-11-07\",\"2019-11-08\",\"2019-11-11\",\"2019-11-12\",\"2019-11-13\",\"2019-11-14\",\"2019-11-15\",\"2019-11-18\",\"2019-11-19\",\"2019-11-20\",\"2019-11-21\",\"2019-11-22\",\"2019-11-25\",\"2019-11-26\",\"2019-11-27\",\"2019-11-29\",\"2019-12-02\",\"2019-12-03\",\"2019-12-04\",\"2019-12-05\",\"2019-12-06\",\"2019-12-09\",\"2019-12-10\",\"2019-12-11\",\"2019-12-12\",\"2019-12-13\",\"2019-12-16\",\"2019-12-17\",\"2019-12-18\",\"2019-12-19\",\"2019-12-20\",\"2019-12-23\",\"2019-12-24\",\"2019-12-26\",\"2019-12-27\",\"2019-12-30\",\"2019-12-31\",\"2020-01-02\",\"2020-01-03\",\"2020-01-06\",\"2020-01-07\",\"2020-01-08\",\"2020-01-09\",\"2020-01-10\",\"2020-01-13\",\"2020-01-14\",\"2020-01-15\",\"2020-01-16\",\"2020-01-17\",\"2020-01-21\",\"2020-01-22\",\"2020-01-23\",\"2020-01-24\",\"2020-01-27\",\"2020-01-28\",\"2020-01-29\",\"2020-01-30\",\"2020-01-31\",\"2020-02-03\",\"2020-02-04\",\"2020-02-05\",\"2020-02-06\",\"2020-02-07\",\"2020-02-10\",\"2020-02-11\",\"2020-02-12\",\"2020-02-13\",\"2020-02-14\",\"2020-02-18\",\"2020-02-19\",\"2020-02-20\",\"2020-02-21\",\"2020-02-24\",\"2020-02-25\",\"2020-02-26\",\"2020-02-27\",\"2020-02-28\",\"2020-03-02\",\"2020-03-03\",\"2020-03-04\",\"2020-03-05\",\"2020-03-06\",\"2020-03-09\",\"2020-03-10\",\"2020-03-11\",\"2020-03-12\",\"2020-03-13\",\"2020-03-16\",\"2020-03-17\",\"2020-03-18\",\"2020-03-19\",\"2020-03-20\",\"2020-03-23\",\"2020-03-24\",\"2020-03-25\",\"2020-03-26\",\"2020-03-27\",\"2020-03-30\",\"2020-03-31\",\"2020-04-01\",\"2020-04-02\",\"2020-04-03\",\"2020-04-06\",\"2020-04-07\",\"2020-04-08\",\"2020-04-09\",\"2020-04-13\",\"2020-04-14\",\"2020-04-15\",\"2020-04-16\",\"2020-04-17\",\"2020-04-20\",\"2020-04-21\",\"2020-04-22\",\"2020-04-23\",\"2020-04-24\",\"2020-04-27\",\"2020-04-28\",\"2020-04-29\",\"2020-04-30\",\"2020-05-01\",\"2020-05-04\",\"2020-05-05\",\"2020-05-06\",\"2020-05-07\",\"2020-05-08\",\"2020-05-11\",\"2020-05-12\",\"2020-05-13\",\"2020-05-14\",\"2020-05-15\",\"2020-05-18\",\"2020-05-19\",\"2020-05-20\",\"2020-05-21\",\"2020-05-22\",\"2020-05-26\",\"2020-05-27\",\"2020-05-28\",\"2020-05-29\",\"2020-06-01\",\"2020-06-02\",\"2020-06-03\",\"2020-06-04\",\"2020-06-05\",\"2020-06-08\",\"2020-06-09\",\"2020-06-10\",\"2020-06-11\",\"2020-06-12\",\"2020-06-15\",\"2020-06-16\",\"2020-06-17\",\"2020-06-18\",\"2020-06-19\",\"2020-06-22\",\"2020-06-23\",\"2020-06-24\",\"2020-06-25\",\"2020-06-26\",\"2020-06-29\",\"2020-06-30\",\"2020-07-01\",\"2020-07-02\",\"2020-07-06\",\"2020-07-07\",\"2020-07-08\",\"2020-07-09\",\"2020-07-10\",\"2020-07-13\",\"2020-07-14\",\"2020-07-15\",\"2020-07-16\",\"2020-07-17\",\"2020-07-20\",\"2020-07-21\",\"2020-07-22\",\"2020-07-23\",\"2020-07-24\",\"2020-07-27\",\"2020-07-28\",\"2020-07-29\",\"2020-07-30\",\"2020-07-31\",\"2020-08-03\",\"2020-08-04\",\"2020-08-05\",\"2020-08-06\",\"2020-08-07\",\"2020-08-10\",\"2020-08-11\",\"2020-08-12\",\"2020-08-13\",\"2020-08-14\",\"2020-08-17\",\"2020-08-18\",\"2020-08-19\",\"2020-08-20\",\"2020-08-21\",\"2020-08-24\",\"2020-08-25\",\"2020-08-26\",\"2020-08-27\",\"2020-08-28\",\"2020-08-31\",\"2020-09-01\",\"2020-09-02\",\"2020-09-03\",\"2020-09-04\",\"2020-09-08\",\"2020-09-09\",\"2020-09-10\",\"2020-09-11\",\"2020-09-14\",\"2020-09-15\",\"2020-09-16\",\"2020-09-17\",\"2020-09-18\",\"2020-09-21\",\"2020-09-22\",\"2020-09-23\",\"2020-09-24\",\"2020-09-25\",\"2020-09-28\",\"2020-09-29\",\"2020-09-30\",\"2020-10-01\",\"2020-10-02\",\"2020-10-05\",\"2020-10-06\",\"2020-10-07\",\"2020-10-08\",\"2020-10-09\",\"2020-10-12\",\"2020-10-13\",\"2020-10-14\",\"2020-10-15\",\"2020-10-16\",\"2020-10-19\",\"2020-10-20\",\"2020-10-21\",\"2020-10-22\",\"2020-10-23\",\"2020-10-26\",\"2020-10-27\",\"2020-10-28\",\"2020-10-29\",\"2020-10-30\",\"2020-11-02\",\"2020-11-03\",\"2020-11-04\",\"2020-11-05\",\"2020-11-06\",\"2020-11-09\",\"2020-11-10\",\"2020-11-11\",\"2020-11-12\",\"2020-11-13\",\"2020-11-16\",\"2020-11-17\",\"2020-11-18\",\"2020-11-19\",\"2020-11-20\",\"2020-11-23\",\"2020-11-24\",\"2020-11-25\",\"2020-11-27\",\"2020-11-30\",\"2020-12-01\",\"2020-12-02\",\"2020-12-03\",\"2020-12-04\",\"2020-12-07\",\"2020-12-08\",\"2020-12-09\",\"2020-12-10\",\"2020-12-11\",\"2020-12-14\",\"2020-12-15\",\"2020-12-16\",\"2020-12-17\",\"2020-12-18\",\"2020-12-21\",\"2020-12-22\",\"2020-12-23\",\"2020-12-24\",\"2020-12-28\",\"2020-12-29\",\"2020-12-30\",\"2020-12-31\",\"2021-01-04\",\"2021-01-05\",\"2021-01-06\",\"2021-01-07\",\"2021-01-08\",\"2021-01-11\",\"2021-01-12\",\"2021-01-13\",\"2021-01-14\",\"2021-01-15\",\"2021-01-19\",\"2021-01-20\",\"2021-01-21\",\"2021-01-22\",\"2021-01-25\",\"2021-01-26\",\"2021-01-27\",\"2021-01-28\",\"2021-01-29\",\"2021-02-01\",\"2021-02-02\",\"2021-02-03\",\"2021-02-04\",\"2021-02-05\",\"2021-02-08\",\"2021-02-09\",\"2021-02-10\",\"2021-02-11\",\"2021-02-12\",\"2021-02-16\",\"2021-02-17\",\"2021-02-18\",\"2021-02-19\",\"2021-02-22\",\"2021-02-23\",\"2021-02-24\",\"2021-02-25\",\"2021-02-26\",\"2021-03-01\",\"2021-03-02\",\"2021-03-03\",\"2021-03-04\",\"2021-03-05\",\"2021-03-08\",\"2021-03-09\",\"2021-03-10\",\"2021-03-11\",\"2021-03-12\",\"2021-03-15\",\"2021-03-16\",\"2021-03-17\",\"2021-03-18\",\"2021-03-19\",\"2021-03-22\",\"2021-03-23\",\"2021-03-24\",\"2021-03-25\",\"2021-03-26\",\"2021-03-29\",\"2021-03-30\",\"2021-03-31\",\"2021-04-01\",\"2021-04-05\",\"2021-04-06\",\"2021-04-07\",\"2021-04-08\",\"2021-04-09\",\"2021-04-12\",\"2021-04-13\",\"2021-04-14\",\"2021-04-15\",\"2021-04-16\",\"2021-04-19\",\"2021-04-20\",\"2021-04-21\",\"2021-04-22\",\"2021-04-23\",\"2021-04-26\",\"2021-04-27\",\"2021-04-28\",\"2021-04-29\",\"2021-04-30\",\"2021-05-03\",\"2021-05-04\",\"2021-05-05\",\"2021-05-06\",\"2021-05-07\",\"2021-05-10\",\"2021-05-11\",\"2021-05-12\",\"2021-05-13\",\"2021-05-14\",\"2021-05-17\",\"2021-05-18\",\"2021-05-19\",\"2021-05-20\",\"2021-05-21\",\"2021-05-24\",\"2021-05-25\",\"2021-05-26\",\"2021-05-27\",\"2021-05-28\",\"2021-06-01\",\"2021-06-02\",\"2021-06-03\",\"2021-06-04\",\"2021-06-07\",\"2021-06-08\",\"2021-06-09\",\"2021-06-10\",\"2021-06-11\",\"2021-06-14\",\"2021-06-15\",\"2021-06-16\",\"2021-06-17\",\"2021-06-18\",\"2021-06-21\",\"2021-06-22\",\"2021-06-23\",\"2021-06-24\",\"2021-06-25\",\"2021-06-28\",\"2021-06-29\",\"2021-06-30\",\"2021-07-01\",\"2021-07-02\",\"2021-07-06\",\"2021-07-07\",\"2021-07-08\",\"2021-07-09\",\"2021-07-12\",\"2021-07-13\",\"2021-07-14\",\"2021-07-15\",\"2021-07-16\",\"2021-07-19\",\"2021-07-20\",\"2021-07-21\",\"2021-07-22\",\"2021-07-23\",\"2021-07-26\",\"2021-07-27\",\"2021-07-28\",\"2021-07-29\",\"2021-07-30\",\"2021-08-02\",\"2021-08-03\",\"2021-08-04\",\"2021-08-05\",\"2021-08-06\",\"2021-08-09\",\"2021-08-10\",\"2021-08-11\",\"2021-08-12\",\"2021-08-13\",\"2021-08-16\",\"2021-08-17\",\"2021-08-18\",\"2021-08-19\",\"2021-08-20\",\"2021-08-23\",\"2021-08-24\",\"2021-08-25\",\"2021-08-26\",\"2021-08-27\",\"2021-08-30\",\"2021-08-31\",\"2021-09-01\",\"2021-09-02\",\"2021-09-03\",\"2021-09-07\",\"2021-09-08\",\"2021-09-09\",\"2021-09-10\",\"2021-09-13\",\"2021-09-14\",\"2021-09-15\",\"2021-09-16\",\"2021-09-17\",\"2021-09-20\",\"2021-09-21\",\"2021-09-22\",\"2021-09-23\",\"2021-09-24\",\"2021-09-27\",\"2021-09-28\",\"2021-09-29\",\"2021-09-30\",\"2021-10-01\",\"2021-10-04\",\"2021-10-05\",\"2021-10-06\",\"2021-10-07\",\"2021-10-08\",\"2021-10-11\",\"2021-10-12\",\"2021-10-13\",\"2021-10-14\",\"2021-10-15\",\"2021-10-18\",\"2021-10-19\",\"2021-10-20\",\"2021-10-21\",\"2021-10-22\",\"2021-10-25\",\"2021-10-26\",\"2021-10-27\",\"2021-10-28\",\"2021-10-29\",\"2021-11-01\",\"2021-11-02\",\"2021-11-03\",\"2021-11-04\",\"2021-11-05\",\"2021-11-08\",\"2021-11-09\",\"2021-11-10\",\"2021-11-11\",\"2021-11-12\",\"2021-11-15\",\"2021-11-16\",\"2021-11-17\",\"2021-11-18\",\"2021-11-19\",\"2021-11-22\",\"2021-11-23\",\"2021-11-24\",\"2021-11-26\",\"2021-11-29\",\"2021-11-30\",\"2021-12-01\",\"2021-12-02\",\"2021-12-03\",\"2021-12-06\",\"2021-12-07\",\"2021-12-08\",\"2021-12-09\",\"2021-12-10\",\"2021-12-13\",\"2021-12-14\",\"2021-12-15\",\"2021-12-16\",\"2021-12-17\",\"2021-12-20\",\"2021-12-21\",\"2021-12-22\",\"2021-12-23\",\"2021-12-27\",\"2021-12-28\",\"2021-12-29\",\"2021-12-30\",\"2021-12-31\",\"2022-01-03\",\"2022-01-04\",\"2022-01-05\",\"2022-01-06\",\"2022-01-07\",\"2022-01-10\",\"2022-01-11\",\"2022-01-12\",\"2022-01-13\",\"2022-01-14\",\"2022-01-18\",\"2022-01-19\",\"2022-01-20\",\"2022-01-21\",\"2022-01-24\",\"2022-01-25\",\"2022-01-26\",\"2022-01-27\",\"2022-01-28\",\"2022-01-31\",\"2022-02-01\",\"2022-02-02\",\"2022-02-03\",\"2022-02-04\",\"2022-02-07\",\"2022-02-08\",\"2022-02-09\",\"2022-02-10\",\"2022-02-11\",\"2022-02-14\",\"2022-02-15\",\"2022-02-16\",\"2022-02-17\",\"2022-02-18\",\"2022-02-22\",\"2022-02-23\",\"2022-02-24\",\"2022-02-25\",\"2022-02-28\",\"2022-03-01\",\"2022-03-02\",\"2022-03-03\",\"2022-03-04\",\"2022-03-07\",\"2022-03-08\",\"2022-03-09\",\"2022-03-10\",\"2022-03-11\",\"2022-03-14\",\"2022-03-15\",\"2022-03-16\",\"2022-03-17\",\"2022-03-18\",\"2022-03-21\",\"2022-03-22\",\"2022-03-23\",\"2022-03-24\",\"2022-03-25\",\"2022-03-28\",\"2022-03-29\",\"2022-03-30\",\"2022-03-31\",\"2022-04-01\",\"2022-04-04\",\"2022-04-05\",\"2022-04-06\",\"2022-04-07\",\"2022-04-08\",\"2022-04-11\",\"2022-04-12\",\"2022-04-13\",\"2022-04-14\",\"2022-04-18\",\"2022-04-19\",\"2022-04-20\",\"2022-04-21\",\"2022-04-22\",\"2022-04-25\",\"2022-04-26\",\"2022-04-27\",\"2022-04-28\",\"2022-04-29\",\"2022-05-02\",\"2022-05-03\",\"2022-05-04\",\"2022-05-05\",\"2022-05-06\",\"2022-05-09\",\"2022-05-10\",\"2022-05-11\",\"2022-05-12\"],\"y\":[74.7535171508789,74.69952392578125,74.53299713134766,74.32149505615234,74.1117172241211,73.94990539550781,73.79981994628906,73.65181732177734,73.53789520263672,73.44017791748047,73.37000274658203,73.45833587646484,73.47434997558594,73.48560333251953,73.4653091430664,73.47418212890625,73.3640365600586,73.26649475097656,73.1287841796875,72.99242401123047,72.88206481933594,72.69532012939453,72.57017517089844,72.43424987792969,72.29634857177734,72.16969299316406,72.06485748291016,71.95249938964844,71.87974548339844,71.86884307861328,71.82415771484375,71.87382507324219,71.98946380615234,72.04447937011719,72.12835693359375,72.1814956665039,72.20773315429688,72.2253646850586,72.266845703125,72.32662200927734,72.3903579711914,72.43474578857422,72.50167083740234,72.61031341552734,72.64302825927734,72.59185791015625,72.49903869628906,72.41246795654297,72.29683685302734,72.187744140625,72.07600402832031,71.9688949584961,71.97169494628906,71.85381317138672,71.63983154296875,71.37779235839844,71.13335418701172,70.91352844238281,70.76029968261719,70.63835906982422,70.55281066894531,70.49581909179688,70.43869018554688,70.39067840576172,70.32596588134766,70.26536560058594,70.19744873046875,70.13920593261719,70.0965576171875,70.06653594970703,70.03639221191406,70.0372543334961,70.0240249633789,69.99169158935547,69.97439575195312,69.99372863769531,69.99900817871094,70.00150299072266,69.92194366455078,69.87117004394531,69.82643127441406,69.94288635253906,69.9296875,69.92633819580078,69.92254638671875,69.99900817871094,69.98524475097656,69.9938735961914,70.01524353027344,70.0541763305664,70.0632553100586,70.03782653808594,69.98922729492188,69.94563293457031,69.88957977294922,69.81483459472656,69.78620910644531,69.7279052734375,69.66536712646484,69.66405487060547,69.64701080322266,69.6020736694336,69.5426254272461,69.45197296142578,69.40352630615234,69.33470916748047,69.2637939453125,69.20895385742188,69.15330505371094,69.13035583496094,69.08058166503906,69.04241943359375,68.98892211914062,68.97599029541016,69.01799774169922,69.0008316040039,68.88545989990234,68.7207260131836,68.57389068603516,68.4888687133789,68.3604965209961,68.2228775024414,68.03884887695312,67.80792236328125,67.5030517578125,67.2088851928711,66.96331787109375,66.77178955078125,66.6343994140625,66.51045227050781,66.36329650878906,66.23309326171875,66.1918716430664,66.18570709228516,66.19921112060547,66.25211334228516,66.27742767333984,66.32844543457031,66.3062515258789,66.2916488647461,66.25737762451172,66.26068115234375,66.21356201171875,66.18869018554688,66.14990234375,66.11673736572266,66.13589477539062,66.18553924560547,66.21463775634766,66.2870864868164,66.41739654541016,66.59075927734375,66.6849136352539,66.82064056396484,66.97201538085938,67.18722534179688,67.36323547363281,67.44805908203125,67.59564971923828,67.747802734375,67.87307739257812,68.0396957397461,68.25926208496094,68.39933776855469,68.4355239868164,68.42314910888672,68.38866424560547,68.38804626464844,68.43074798583984,68.47248077392578,68.48900604248047,68.4779281616211,68.4355239868164,68.42188262939453,68.32949829101562,68.2651596069336,68.17932891845703,68.09668731689453,68.15877532958984,68.09183502197266,67.78894805908203,67.46817016601562,67.16072845458984,66.92505645751953,66.69762420654297,66.46499633789062,66.27009582519531,66.06488037109375,65.88912963867188,65.67700958251953,65.43143463134766,65.15843200683594,64.87017822265625,64.60013580322266,64.35516357421875,64.08264923095703,63.90922164916992,63.75912094116211,63.62207794189453,63.49285125732422,63.3758659362793,63.328697204589844,63.27085876464844,63.189449310302734,63.16954803466797,63.20625305175781,63.11249923706055,63.08589172363281,63.04058837890625,62.99422073364258,62.93216323852539,62.8595085144043,62.7625617980957,62.56494903564453,62.316688537597656,61.97753143310547,61.73613739013672,61.48283386230469,61.237064361572266,61.04160690307617,60.869232177734375,60.71852493286133,60.64392852783203,60.66618347167969,60.647056579589844,60.739036560058594,60.78171920776367,60.79638671875,60.778804779052734,60.73246383666992,60.675209045410156,60.51082229614258,60.36414337158203,60.1818962097168,60.028114318847656,59.89860534667969,59.76869201660156,59.71137237548828,59.64292907714844,59.633426666259766,59.6785774230957,59.72720718383789,59.76536560058594,59.807071685791016,59.842613220214844,59.874107360839844,59.87607192993164,59.861324310302734,59.863037109375,59.85426330566406,59.82383346557617,59.79149627685547,59.76558303833008,59.766876220703125,59.88418197631836,59.775901794433594,59.716758728027344,59.62472915649414,59.53144454956055,59.45161437988281,59.34809112548828,59.27504348754883,59.21802520751953,59.10343933105469,59.01612854003906,58.79594421386719,58.68756103515625,58.582881927490234,58.52065658569336,58.462825775146484,58.500572204589844,58.482398986816406,58.433135986328125,58.35894012451172,58.3527946472168,58.35541915893555,58.351463317871094,58.31505584716797,58.29816436767578,58.302669525146484,58.376441955566406,58.441287994384766,58.49369430541992,58.53567123413086,58.636348724365234,58.75435256958008,58.866886138916016,58.95592498779297,59.005271911621094,59.05229949951172,59.097537994384766,59.16032409667969,59.13825607299805,59.09407424926758,59.046775817871094,59.001399993896484,58.950531005859375,58.9102668762207,58.794883728027344,58.62438201904297,58.490196228027344,58.46453094482422,58.427711486816406,58.37168884277344,58.311439514160156,58.259254455566406,58.197113037109375,58.320621490478516,58.3848762512207,58.49283218383789,58.534976959228516,58.58679962158203,58.676429748535156,58.762943267822266,58.83547592163086,58.868778228759766,58.916542053222656,58.927024841308594,58.90708923339844,58.838138580322266,58.79240417480469,58.77341079711914,58.71139144897461,58.72327423095703,58.83842849731445,58.9466667175293,59.054752349853516,59.20620346069336,59.39776611328125,59.61663818359375,59.79145812988281,60.0072135925293,60.2020378112793,60.433929443359375,60.64888381958008,60.8936882019043,61.11220932006836,61.236263275146484,61.39397048950195,61.47357940673828,61.5108528137207,61.47920608520508,61.44214630126953,61.43564987182617,61.42058181762695,61.41790771484375,61.434749603271484,61.46365737915039,61.52238464355469,61.60073471069336,61.687034606933594,61.71663284301758,61.7739372253418,61.82045364379883,61.82997131347656,61.820369720458984,61.81349563598633,61.78814697265625,61.81399917602539,61.8384895324707,61.86650085449219,61.894901275634766,61.92563247680664,61.943321228027344,61.95425796508789,62.06340026855469,62.12060546875,62.11980056762695,62.064666748046875,62.022274017333984,61.97793197631836,62.03073501586914,62.0241584777832,61.8874626159668,61.73504638671875,61.56134033203125,61.39850616455078,61.28783416748047,61.198638916015625,61.087711334228516,61.017822265625,60.9647102355957,60.861515045166016,60.7732048034668,60.65925216674805,60.530826568603516,60.41423034667969,60.339054107666016,60.262699127197266,60.227787017822266,60.258445739746094,60.32956314086914,60.47970199584961,60.635555267333984,60.824275970458984,60.995384216308594,61.17409133911133,61.321434020996094,61.419429779052734,61.52418518066406,61.578311920166016,61.64400100708008,61.655029296875,61.646968841552734,61.649227142333984,61.68159484863281,61.69180679321289,61.72180938720703,61.74754333496094,61.73147964477539,61.71315383911133,61.717674255371094,61.698055267333984,61.63020324707031,61.573585510253906,61.540855407714844,61.55330276489258,61.58242416381836,61.62710952758789,61.608924865722656,61.569488525390625,61.5185546875,61.47159957885742,61.4450798034668,61.41328048706055,61.35095977783203,61.32162857055664,61.313270568847656,61.35904312133789,61.283416748046875,61.193260192871094,61.11103057861328,61.11719512939453,61.109004974365234,61.080657958984375,61.07203674316406,61.08570098876953,61.11410903930664,61.143165588378906,61.14811706542969,61.16394805908203,61.2171516418457,61.19800567626953,61.23279571533203,61.25433349609375,61.205047607421875,61.135337829589844,61.07142639160156,60.984649658203125,60.89499282836914,60.79594802856445,60.71928405761719,60.62687301635742,60.545448303222656,60.486328125,60.43659210205078,60.38789749145508,60.41409683227539,60.456565856933594,60.536277770996094,60.621612548828125,60.72047805786133,60.817481994628906,60.92319107055664,60.998077392578125,61.17704772949219,61.26438522338867,61.348793029785156,61.46589279174805,61.57758331298828,61.67832565307617,61.79509735107422,61.90140914916992,62.021583557128906,62.13234329223633,62.182151794433594,62.20002746582031,62.184993743896484,62.14289093017578,62.10157012939453,62.049678802490234,61.98270034790039,61.960044860839844,61.953636169433594,61.93800735473633,61.89840316772461,61.84469223022461,61.74881362915039,61.563751220703125,61.350460052490234,61.07976150512695,60.8802375793457,60.69594192504883,60.54526901245117,60.4119987487793,60.361610412597656,60.298744201660156,60.27222442626953,60.29751205444336,60.34041213989258,60.41301727294922,60.4797477722168,60.448036193847656,60.391578674316406,60.34602355957031,60.30891036987305,60.24530029296875,60.19841384887695,60.062442779541016,59.897560119628906,59.62052917480469,59.30438232421875,59.04451370239258,58.756431579589844,58.55845642089844,58.3110466003418,58.038604736328125,57.65679931640625,57.23554611206055,56.68452072143555,56.00246810913086,55.35776901245117,54.533912658691406,53.82515335083008,52.91666030883789,52.132568359375,51.35796356201172,50.673274993896484,50.14790344238281,49.78054428100586,49.51851272583008,49.2710075378418,49.23252868652344,49.31207275390625,49.30832290649414,49.35618209838867,49.32771301269531,49.36640548706055,49.397884368896484,49.50131607055664,49.663333892822266,49.74817657470703,49.869956970214844,49.877593994140625,49.91383361816406,50.03242874145508,50.07600784301758,50.00883865356445,50.00475311279297,50.04107666015625,50.107444763183594,50.20634078979492,50.31709289550781,50.48564147949219,50.575496673583984,50.582096099853516,50.58174514770508,50.5540771484375,50.46973419189453,50.3133659362793,50.11679458618164,49.8665771484375,49.61017990112305,49.36836624145508,49.15021514892578,48.93434143066406,48.797889709472656,48.64998245239258,48.548954010009766,48.4688606262207,48.404109954833984,48.486900329589844,48.647430419921875,48.73871612548828,48.90773391723633,49.025814056396484,49.2004508972168,49.43059539794922,49.64561080932617,49.939552307128906,50.28956985473633,50.568973541259766,50.74602508544922,50.84547805786133,50.90212631225586,50.9404411315918,51.0254020690918,51.07977294921875,51.178733825683594,51.2741813659668,51.308868408203125,51.37576675415039,51.46984100341797,51.57929229736328,51.58584213256836,51.57256317138672,51.59074401855469,51.58668518066406,51.55908203125,51.5443000793457,51.4903678894043,51.42168426513672,51.316097259521484,51.28788375854492,51.30080795288086,51.37594223022461,51.54710388183594,51.673301696777344,51.812599182128906,51.91099166870117,52.05425262451172,52.20272445678711,52.4218635559082,52.604000091552734,52.81819152832031,53.00968933105469,53.24821090698242,53.405941009521484,53.487281799316406,53.56734848022461,53.64216232299805,53.73720932006836,53.81092071533203,53.918216705322266,54.09501266479492,54.25432205200195,54.41554260253906,54.55906677246094,54.66843795776367,54.78449630737305,54.880836486816406,54.995628356933594,55.072208404541016,55.172454833984375,55.2605094909668,55.35161590576172,55.41355895996094,55.452816009521484,55.51203918457031,55.52402877807617,55.503196716308594,55.527076721191406,55.519691467285156,55.53398513793945,55.50400161743164,55.48478317260742,55.447486877441406,55.427616119384766,55.44493865966797,55.4742431640625,55.49049377441406,55.55488204956055,55.706153869628906,55.639495849609375,55.58130645751953,55.47909164428711,55.37913131713867,55.34973907470703,55.31770324707031,55.238826751708984,55.202354431152344,55.167686462402344,55.171669006347656,55.23005294799805,55.321781158447266,55.487632751464844,55.65045928955078,55.87200927734375,56.10664367675781,56.334171295166016,56.62069320678711,57.02035140991211,57.36635208129883,57.706024169921875,58.0347785949707,58.3468017578125,58.7160530090332,59.029754638671875,59.298072814941406,59.55470275878906,59.95468521118164,60.24024200439453,60.43407440185547,60.65079116821289,60.79736328125,60.89999771118164,61.075714111328125,61.20760726928711,61.322322845458984,61.483428955078125,61.63310241699219,61.74192428588867,61.8939208984375,62.12425994873047,62.286354064941406,62.3959846496582,62.49265670776367,62.575889587402344,62.728729248046875,63.00395965576172,63.202205657958984,63.323280334472656,63.412506103515625,63.47753143310547,63.496192932128906,63.583194732666016,63.70307922363281,63.78443145751953,63.8955192565918,64.11241149902344,64.35054779052734,64.63800048828125,64.80725860595703,65.02696228027344,65.20417022705078,65.36266326904297,65.5587158203125,65.70317077636719,65.8098373413086,65.9081802368164,65.9911117553711,66.06969451904297,66.11882019042969,66.2255859375,66.35052490234375,66.48833465576172,66.68617248535156,67.03649139404297,67.27656555175781,67.53701782226562,67.78131103515625,68.00204467773438,68.27816009521484,68.58159637451172,68.7990951538086,69.00504302978516,69.17777252197266,69.25186157226562,69.299072265625,69.30488586425781,69.23040771484375,69.0555191040039,68.94087219238281,68.75526428222656,68.66023254394531,68.6796875,68.75962829589844,68.87815856933594,69.14073181152344,69.38145446777344,69.71764373779297,70.0525131225586,70.33027648925781,70.70255279541016,71.10120391845703,71.4498062133789,71.64408874511719,71.84728240966797,72.12464141845703,72.34727478027344,72.50608825683594,72.56499481201172,72.70684814453125,72.89659881591797,73.08380126953125,73.25515747070312,73.33892822265625,73.4340591430664,73.55169677734375,73.68253326416016,73.88180541992188,74.11605834960938,74.32452392578125,74.44740295410156,74.54925537109375,74.6432113647461,74.70663452148438,74.76812744140625,74.75688171386719,74.66598510742188,74.56523895263672,74.53520965576172,74.56201934814453,74.55354309082031,74.6281509399414,74.68294525146484,74.7772216796875,74.81397247314453,74.8753433227539,74.89615631103516,74.92877197265625,74.97941589355469,75.02531433105469,75.01165008544922,75.09784698486328,75.22259521484375,75.45034790039062,75.65447235107422,75.7773208618164,75.96189880371094,76.15079498291016,76.39285278320312,76.67085266113281,77.04740142822266,77.27269744873047,77.46992492675781,77.6117172241211,77.81597137451172,78.06002807617188,78.34464263916016,78.5761947631836,78.90973663330078,79.19097900390625,79.4736328125,79.65225219726562,79.82384490966797,80.03999328613281,80.21025848388672,80.29056549072266,80.27969360351562,80.24018859863281,80.2125244140625,80.14926147460938,80.11997985839844,80.11995697021484,80.1183853149414,80.07023620605469,80.12655639648438,80.15473937988281,80.19631958007812,80.24250030517578,80.31974792480469,80.41527557373047,80.45649719238281,80.4405517578125,80.34595489501953,80.14862823486328,79.87666320800781,79.54805755615234,79.1778335571289,78.74629974365234,78.34441375732422,77.93830108642578,77.57322692871094,77.2610092163086,76.99088287353516,76.71536254882812,76.48766326904297,76.22799682617188,76.05479431152344,75.90940856933594,75.72605895996094,75.57853698730469,75.34817504882812,75.18965148925781,75.04695129394531,74.8712158203125,74.7052993774414,74.53518676757812,74.30783081054688,74.10538482666016,73.9217758178711,73.818359375,73.65225219726562,73.5050277709961,73.38188171386719,73.29619598388672,73.3959732055664,73.49237060546875,73.53634643554688,73.55142211914062,73.59392547607422,73.56549835205078,73.505126953125,73.50613403320312,73.54801940917969,73.64736938476562,73.7890853881836,73.92344665527344,74.06722259521484,74.22733306884766,74.3600082397461,74.40228271484375,74.3458251953125,74.23385620117188,74.13030242919922,74.04046630859375,73.98706817626953,73.89881896972656,73.89971160888672,73.84663391113281,73.81958770751953,73.77875518798828,73.80923461914062,73.8384780883789,73.88684844970703,73.90435791015625,73.87110900878906,73.84519958496094,73.87342834472656,73.89385223388672,74.10636901855469,74.28876495361328,74.48660278320312,74.50189208984375,74.50050354003906,74.52781677246094,74.55354309082031,74.59574890136719,74.70651245117188,74.8387680053711,74.96793365478516,75.13247680664062,75.32904052734375,75.52267456054688,75.79432678222656,76.0289077758789,76.2661361694336,76.48764038085938,76.73097229003906,76.93902587890625,77.12533569335938,77.35717010498047,77.55744171142578,77.74420166015625,77.949462890625,78.20079803466797,78.43093872070312,78.6731185913086,78.90452575683594,79.08787536621094,79.40605926513672,79.77734375,80.0925521850586,80.37769317626953,80.5899429321289,80.81452178955078,81.03732299804688,81.25987243652344,81.4386978149414,81.6312484741211,81.79632568359375,81.99309539794922,82.22683715820312,82.49069213867188,82.73092651367188,82.9555892944336,83.1602783203125,83.28174591064453,83.39178466796875,83.47337341308594,83.49468994140625,83.41339874267578,83.31476593017578,83.09483337402344,82.7109146118164,82.38278198242188,82.0810317993164,81.77277374267578,81.52359771728516,81.27579498291016,81.01261138916016,80.82343292236328,80.6954574584961,80.55388641357422,80.45532989501953,80.40784454345703,80.37911224365234,80.26567077636719,80.25425720214844,80.27677154541016,80.338623046875,80.45455169677734,80.61442565917969,80.80233764648438,80.98637390136719,81.21878051757812,81.46441650390625,81.74694061279297,81.98867797851562,82.29430389404297,82.60761260986328,82.87954711914062,83.19844055175781,83.53018951416016,83.8241958618164,84.11390686035156,84.35857391357422,84.53263092041016,84.61599731445312,84.64274597167969,84.63005828857422,84.60436248779297,84.61861419677734,84.64885711669922,84.72897338867188,84.84962463378906,85.03519439697266,85.23018646240234,85.3393783569336,85.41446685791016,85.5091552734375,85.69825744628906,85.8400650024414,85.92437744140625,86.0919189453125,86.2291030883789,86.36705780029297,86.54276275634766,86.62938690185547,86.63906860351562,86.62550354003906,86.64998626708984,86.76008605957031,86.96949005126953,87.18299102783203,87.40741729736328,87.6865234375,88.0153579711914,88.3076400756836,88.63612365722656,88.83003997802734,89.00309753417969,89.25834655761719,89.49049377441406,89.66241455078125,89.81011199951172,89.85138702392578,89.84801483154297,89.81973266601562,89.980712890625,90.11038208007812,90.28170013427734,90.56348419189453,90.98784637451172,91.26378631591797,91.37592315673828,91.43993377685547,91.53816223144531,91.68878936767578,91.78594970703125,91.91167449951172,92.0999755859375,92.39765930175781,92.71478271484375,93.03263092041016,93.37886810302734,93.77574920654297,94.26605224609375,94.87812042236328,95.32704162597656,95.82779693603516,96.1529541015625,96.33423614501953,96.34579467773438,96.26932525634766,96.30311584472656,96.22491455078125,95.9817886352539,95.82012939453125,95.70201110839844,95.69037628173828,95.52847290039062,95.41009521484375,95.05128479003906,94.7604751586914,94.45889282226562],\"type\":\"scatter\"}],                        {\"template\":{\"data\":{\"bar\":[{\"error_x\":{\"color\":\"#2a3f5f\"},\"error_y\":{\"color\":\"#2a3f5f\"},\"marker\":{\"line\":{\"color\":\"#E5ECF6\",\"width\":0.5},\"pattern\":{\"fillmode\":\"overlay\",\"size\":10,\"solidity\":0.2}},\"type\":\"bar\"}],\"barpolar\":[{\"marker\":{\"line\":{\"color\":\"#E5ECF6\",\"width\":0.5},\"pattern\":{\"fillmode\":\"overlay\",\"size\":10,\"solidity\":0.2}},\"type\":\"barpolar\"}],\"carpet\":[{\"aaxis\":{\"endlinecolor\":\"#2a3f5f\",\"gridcolor\":\"white\",\"linecolor\":\"white\",\"minorgridcolor\":\"white\",\"startlinecolor\":\"#2a3f5f\"},\"baxis\":{\"endlinecolor\":\"#2a3f5f\",\"gridcolor\":\"white\",\"linecolor\":\"white\",\"minorgridcolor\":\"white\",\"startlinecolor\":\"#2a3f5f\"},\"type\":\"carpet\"}],\"choropleth\":[{\"colorbar\":{\"outlinewidth\":0,\"ticks\":\"\"},\"type\":\"choropleth\"}],\"contour\":[{\"colorbar\":{\"outlinewidth\":0,\"ticks\":\"\"},\"colorscale\":[[0.0,\"#0d0887\"],[0.1111111111111111,\"#46039f\"],[0.2222222222222222,\"#7201a8\"],[0.3333333333333333,\"#9c179e\"],[0.4444444444444444,\"#bd3786\"],[0.5555555555555556,\"#d8576b\"],[0.6666666666666666,\"#ed7953\"],[0.7777777777777778,\"#fb9f3a\"],[0.8888888888888888,\"#fdca26\"],[1.0,\"#f0f921\"]],\"type\":\"contour\"}],\"contourcarpet\":[{\"colorbar\":{\"outlinewidth\":0,\"ticks\":\"\"},\"type\":\"contourcarpet\"}],\"heatmap\":[{\"colorbar\":{\"outlinewidth\":0,\"ticks\":\"\"},\"colorscale\":[[0.0,\"#0d0887\"],[0.1111111111111111,\"#46039f\"],[0.2222222222222222,\"#7201a8\"],[0.3333333333333333,\"#9c179e\"],[0.4444444444444444,\"#bd3786\"],[0.5555555555555556,\"#d8576b\"],[0.6666666666666666,\"#ed7953\"],[0.7777777777777778,\"#fb9f3a\"],[0.8888888888888888,\"#fdca26\"],[1.0,\"#f0f921\"]],\"type\":\"heatmap\"}],\"heatmapgl\":[{\"colorbar\":{\"outlinewidth\":0,\"ticks\":\"\"},\"colorscale\":[[0.0,\"#0d0887\"],[0.1111111111111111,\"#46039f\"],[0.2222222222222222,\"#7201a8\"],[0.3333333333333333,\"#9c179e\"],[0.4444444444444444,\"#bd3786\"],[0.5555555555555556,\"#d8576b\"],[0.6666666666666666,\"#ed7953\"],[0.7777777777777778,\"#fb9f3a\"],[0.8888888888888888,\"#fdca26\"],[1.0,\"#f0f921\"]],\"type\":\"heatmapgl\"}],\"histogram\":[{\"marker\":{\"pattern\":{\"fillmode\":\"overlay\",\"size\":10,\"solidity\":0.2}},\"type\":\"histogram\"}],\"histogram2d\":[{\"colorbar\":{\"outlinewidth\":0,\"ticks\":\"\"},\"colorscale\":[[0.0,\"#0d0887\"],[0.1111111111111111,\"#46039f\"],[0.2222222222222222,\"#7201a8\"],[0.3333333333333333,\"#9c179e\"],[0.4444444444444444,\"#bd3786\"],[0.5555555555555556,\"#d8576b\"],[0.6666666666666666,\"#ed7953\"],[0.7777777777777778,\"#fb9f3a\"],[0.8888888888888888,\"#fdca26\"],[1.0,\"#f0f921\"]],\"type\":\"histogram2d\"}],\"histogram2dcontour\":[{\"colorbar\":{\"outlinewidth\":0,\"ticks\":\"\"},\"colorscale\":[[0.0,\"#0d0887\"],[0.1111111111111111,\"#46039f\"],[0.2222222222222222,\"#7201a8\"],[0.3333333333333333,\"#9c179e\"],[0.4444444444444444,\"#bd3786\"],[0.5555555555555556,\"#d8576b\"],[0.6666666666666666,\"#ed7953\"],[0.7777777777777778,\"#fb9f3a\"],[0.8888888888888888,\"#fdca26\"],[1.0,\"#f0f921\"]],\"type\":\"histogram2dcontour\"}],\"mesh3d\":[{\"colorbar\":{\"outlinewidth\":0,\"ticks\":\"\"},\"type\":\"mesh3d\"}],\"parcoords\":[{\"line\":{\"colorbar\":{\"outlinewidth\":0,\"ticks\":\"\"}},\"type\":\"parcoords\"}],\"pie\":[{\"automargin\":true,\"type\":\"pie\"}],\"scatter\":[{\"marker\":{\"colorbar\":{\"outlinewidth\":0,\"ticks\":\"\"}},\"type\":\"scatter\"}],\"scatter3d\":[{\"line\":{\"colorbar\":{\"outlinewidth\":0,\"ticks\":\"\"}},\"marker\":{\"colorbar\":{\"outlinewidth\":0,\"ticks\":\"\"}},\"type\":\"scatter3d\"}],\"scattercarpet\":[{\"marker\":{\"colorbar\":{\"outlinewidth\":0,\"ticks\":\"\"}},\"type\":\"scattercarpet\"}],\"scattergeo\":[{\"marker\":{\"colorbar\":{\"outlinewidth\":0,\"ticks\":\"\"}},\"type\":\"scattergeo\"}],\"scattergl\":[{\"marker\":{\"colorbar\":{\"outlinewidth\":0,\"ticks\":\"\"}},\"type\":\"scattergl\"}],\"scattermapbox\":[{\"marker\":{\"colorbar\":{\"outlinewidth\":0,\"ticks\":\"\"}},\"type\":\"scattermapbox\"}],\"scatterpolar\":[{\"marker\":{\"colorbar\":{\"outlinewidth\":0,\"ticks\":\"\"}},\"type\":\"scatterpolar\"}],\"scatterpolargl\":[{\"marker\":{\"colorbar\":{\"outlinewidth\":0,\"ticks\":\"\"}},\"type\":\"scatterpolargl\"}],\"scatterternary\":[{\"marker\":{\"colorbar\":{\"outlinewidth\":0,\"ticks\":\"\"}},\"type\":\"scatterternary\"}],\"surface\":[{\"colorbar\":{\"outlinewidth\":0,\"ticks\":\"\"},\"colorscale\":[[0.0,\"#0d0887\"],[0.1111111111111111,\"#46039f\"],[0.2222222222222222,\"#7201a8\"],[0.3333333333333333,\"#9c179e\"],[0.4444444444444444,\"#bd3786\"],[0.5555555555555556,\"#d8576b\"],[0.6666666666666666,\"#ed7953\"],[0.7777777777777778,\"#fb9f3a\"],[0.8888888888888888,\"#fdca26\"],[1.0,\"#f0f921\"]],\"type\":\"surface\"}],\"table\":[{\"cells\":{\"fill\":{\"color\":\"#EBF0F8\"},\"line\":{\"color\":\"white\"}},\"header\":{\"fill\":{\"color\":\"#C8D4E3\"},\"line\":{\"color\":\"white\"}},\"type\":\"table\"}]},\"layout\":{\"annotationdefaults\":{\"arrowcolor\":\"#2a3f5f\",\"arrowhead\":0,\"arrowwidth\":1},\"autotypenumbers\":\"strict\",\"coloraxis\":{\"colorbar\":{\"outlinewidth\":0,\"ticks\":\"\"}},\"colorscale\":{\"diverging\":[[0,\"#8e0152\"],[0.1,\"#c51b7d\"],[0.2,\"#de77ae\"],[0.3,\"#f1b6da\"],[0.4,\"#fde0ef\"],[0.5,\"#f7f7f7\"],[0.6,\"#e6f5d0\"],[0.7,\"#b8e186\"],[0.8,\"#7fbc41\"],[0.9,\"#4d9221\"],[1,\"#276419\"]],\"sequential\":[[0.0,\"#0d0887\"],[0.1111111111111111,\"#46039f\"],[0.2222222222222222,\"#7201a8\"],[0.3333333333333333,\"#9c179e\"],[0.4444444444444444,\"#bd3786\"],[0.5555555555555556,\"#d8576b\"],[0.6666666666666666,\"#ed7953\"],[0.7777777777777778,\"#fb9f3a\"],[0.8888888888888888,\"#fdca26\"],[1.0,\"#f0f921\"]],\"sequentialminus\":[[0.0,\"#0d0887\"],[0.1111111111111111,\"#46039f\"],[0.2222222222222222,\"#7201a8\"],[0.3333333333333333,\"#9c179e\"],[0.4444444444444444,\"#bd3786\"],[0.5555555555555556,\"#d8576b\"],[0.6666666666666666,\"#ed7953\"],[0.7777777777777778,\"#fb9f3a\"],[0.8888888888888888,\"#fdca26\"],[1.0,\"#f0f921\"]]},\"colorway\":[\"#636efa\",\"#EF553B\",\"#00cc96\",\"#ab63fa\",\"#FFA15A\",\"#19d3f3\",\"#FF6692\",\"#B6E880\",\"#FF97FF\",\"#FECB52\"],\"font\":{\"color\":\"#2a3f5f\"},\"geo\":{\"bgcolor\":\"white\",\"lakecolor\":\"white\",\"landcolor\":\"#E5ECF6\",\"showlakes\":true,\"showland\":true,\"subunitcolor\":\"white\"},\"hoverlabel\":{\"align\":\"left\"},\"hovermode\":\"closest\",\"mapbox\":{\"style\":\"light\"},\"paper_bgcolor\":\"white\",\"plot_bgcolor\":\"#E5ECF6\",\"polar\":{\"angularaxis\":{\"gridcolor\":\"white\",\"linecolor\":\"white\",\"ticks\":\"\"},\"bgcolor\":\"#E5ECF6\",\"radialaxis\":{\"gridcolor\":\"white\",\"linecolor\":\"white\",\"ticks\":\"\"}},\"scene\":{\"xaxis\":{\"backgroundcolor\":\"#E5ECF6\",\"gridcolor\":\"white\",\"gridwidth\":2,\"linecolor\":\"white\",\"showbackground\":true,\"ticks\":\"\",\"zerolinecolor\":\"white\"},\"yaxis\":{\"backgroundcolor\":\"#E5ECF6\",\"gridcolor\":\"white\",\"gridwidth\":2,\"linecolor\":\"white\",\"showbackground\":true,\"ticks\":\"\",\"zerolinecolor\":\"white\"},\"zaxis\":{\"backgroundcolor\":\"#E5ECF6\",\"gridcolor\":\"white\",\"gridwidth\":2,\"linecolor\":\"white\",\"showbackground\":true,\"ticks\":\"\",\"zerolinecolor\":\"white\"}},\"shapedefaults\":{\"line\":{\"color\":\"#2a3f5f\"}},\"ternary\":{\"aaxis\":{\"gridcolor\":\"white\",\"linecolor\":\"white\",\"ticks\":\"\"},\"baxis\":{\"gridcolor\":\"white\",\"linecolor\":\"white\",\"ticks\":\"\"},\"bgcolor\":\"#E5ECF6\",\"caxis\":{\"gridcolor\":\"white\",\"linecolor\":\"white\",\"ticks\":\"\"}},\"title\":{\"x\":0.05},\"xaxis\":{\"automargin\":true,\"gridcolor\":\"white\",\"linecolor\":\"white\",\"ticks\":\"\",\"title\":{\"standoff\":15},\"zerolinecolor\":\"white\",\"zerolinewidth\":2},\"yaxis\":{\"automargin\":true,\"gridcolor\":\"white\",\"linecolor\":\"white\",\"ticks\":\"\",\"title\":{\"standoff\":15},\"zerolinecolor\":\"white\",\"zerolinewidth\":2}}}},                        {\"responsive\": true}                    ).then(function(){\n",
              "                            \n",
              "var gd = document.getElementById('19112017-c822-43fa-807f-8f506e9476ff');\n",
              "var x = new MutationObserver(function (mutations, observer) {{\n",
              "        var display = window.getComputedStyle(gd).display;\n",
              "        if (!display || display === 'none') {{\n",
              "            console.log([gd, 'removed!']);\n",
              "            Plotly.purge(gd);\n",
              "            observer.disconnect();\n",
              "        }}\n",
              "}});\n",
              "\n",
              "// Listen for the removal of the full notebook cells\n",
              "var notebookContainer = gd.closest('#notebook-container');\n",
              "if (notebookContainer) {{\n",
              "    x.observe(notebookContainer, {childList: true});\n",
              "}}\n",
              "\n",
              "// Listen for the clearing of the current output cell\n",
              "var outputEl = gd.closest('.output');\n",
              "if (outputEl) {{\n",
              "    x.observe(outputEl, {childList: true});\n",
              "}}\n",
              "\n",
              "                        })                };                            </script>        </div>\n",
              "</body>\n",
              "</html>"
            ]
          },
          "metadata": {}
        }
      ]
    },
    {
      "cell_type": "code",
      "metadata": {
        "id": "dfBEHahfBQbc",
        "colab": {
          "base_uri": "https://localhost:8080/"
        },
        "outputId": "483a493f-1925-4090-9b90-11d5378f9277"
      },
      "source": [
        "model.save(\"Model.h5\")\n",
        "loaded_model = tf.keras.models.load_model(\"Model.h5\")"
      ],
      "execution_count": null,
      "outputs": [
        {
          "output_type": "stream",
          "name": "stdout",
          "text": [
            "WARNING:tensorflow:Layer lstm_2 will not use cuDNN kernels since it doesn't meet the criteria. It will use a generic GPU kernel as fallback when running on GPU.\n",
            "WARNING:tensorflow:Layer lstm_2 will not use cuDNN kernels since it doesn't meet the criteria. It will use a generic GPU kernel as fallback when running on GPU.\n",
            "WARNING:tensorflow:Layer lstm_2 will not use cuDNN kernels since it doesn't meet the criteria. It will use a generic GPU kernel as fallback when running on GPU.\n",
            "WARNING:tensorflow:Layer lstm_3 will not use cuDNN kernels since it doesn't meet the criteria. It will use a generic GPU kernel as fallback when running on GPU.\n"
          ]
        }
      ]
    },
    {
      "cell_type": "code",
      "source": [
        "import math\n",
        "\n",
        "\n",
        " \n",
        "MSE = np.square(np.subtract(Actual.tolist(),Predictions.tolist())).mean() \n",
        " \n",
        "RMSE = math.sqrt(MSE)\n",
        "RMSE"
      ],
      "metadata": {
        "colab": {
          "base_uri": "https://localhost:8080/"
        },
        "id": "Zk-sks09Tdti",
        "outputId": "b124184e-c378-41f4-8d8f-f5e01d597ea2"
      },
      "execution_count": null,
      "outputs": [
        {
          "output_type": "execute_result",
          "data": {
            "text/plain": [
              "8.448500779827567"
            ]
          },
          "metadata": {},
          "execution_count": 120
        }
      ]
    },
    {
      "cell_type": "markdown",
      "metadata": {
        "id": "AP4NeSfMBG8a"
      },
      "source": [
        "Realtime Prediction"
      ]
    },
    {
      "cell_type": "code",
      "metadata": {
        "id": "9WAMRg8bBJU0"
      },
      "source": [
        "def PredictStockPrice(Model , DataFrame , PreviousDate , feature_length = 32):\n",
        "    idx_location = DataFrame.index.get_loc(PreviousDate)\n",
        "    Features = DataFrame.iloc[idx_location - feature_length : idx_location,:].values\n",
        "    Features = np.expand_dims(Features , axis = 0)\n",
        "    Features = Feature_Scaler.transform(Features)\n",
        "    Prediction = Model.predict(Features)\n",
        "    Prediction = Target_Scaler.inverse_transform(Prediction)\n",
        "    return Prediction[0][0]"
      ],
      "execution_count": null,
      "outputs": []
    },
    {
      "cell_type": "code",
      "metadata": {
        "id": "fVUWRVsHfTh9",
        "colab": {
          "base_uri": "https://localhost:8080/"
        },
        "outputId": "3f1c26e7-ce99-4dfd-c3f2-67b020d3bdc5"
      },
      "source": [
        "PredictStockPrice(loaded_model , data , '2021-01-14')"
      ],
      "execution_count": null,
      "outputs": [
        {
          "output_type": "execute_result",
          "data": {
            "text/plain": [
              "68.27816"
            ]
          },
          "metadata": {},
          "execution_count": 122
        }
      ]
    },
    {
      "cell_type": "code",
      "source": [
        ""
      ],
      "metadata": {
        "id": "5ziPXHPiAFHj"
      },
      "execution_count": null,
      "outputs": []
    }
  ]
}